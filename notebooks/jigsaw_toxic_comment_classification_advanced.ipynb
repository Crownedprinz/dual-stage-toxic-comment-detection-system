{
  "cells": [
    {
      "cell_type": "code",
      "source": [
        "!pip uninstall numpy gensim -y\n",
        "!pip install numpy gensim"
      ],
      "metadata": {
        "id": "YrXdtj1Ld4zy",
        "outputId": "ca3c1f56-40a3-493f-fe03-19d2043facd4",
        "colab": {
          "base_uri": "https://localhost:8080/"
        }
      },
      "id": "YrXdtj1Ld4zy",
      "execution_count": 1,
      "outputs": [
        {
          "output_type": "stream",
          "name": "stdout",
          "text": [
            "Found existing installation: numpy 1.26.4\n",
            "Uninstalling numpy-1.26.4:\n",
            "  Successfully uninstalled numpy-1.26.4\n",
            "Found existing installation: gensim 4.3.3\n",
            "Uninstalling gensim-4.3.3:\n",
            "  Successfully uninstalled gensim-4.3.3\n",
            "Collecting numpy\n",
            "  Using cached numpy-2.2.5-cp311-cp311-manylinux_2_17_x86_64.manylinux2014_x86_64.whl.metadata (62 kB)\n",
            "Collecting gensim\n",
            "  Using cached gensim-4.3.3-cp311-cp311-manylinux_2_17_x86_64.manylinux2014_x86_64.whl.metadata (8.1 kB)\n",
            "Collecting numpy\n",
            "  Using cached numpy-1.26.4-cp311-cp311-manylinux_2_17_x86_64.manylinux2014_x86_64.whl.metadata (61 kB)\n",
            "Requirement already satisfied: scipy<1.14.0,>=1.7.0 in /usr/local/lib/python3.11/dist-packages (from gensim) (1.13.1)\n",
            "Requirement already satisfied: smart-open>=1.8.1 in /usr/local/lib/python3.11/dist-packages (from gensim) (7.1.0)\n",
            "Requirement already satisfied: wrapt in /usr/local/lib/python3.11/dist-packages (from smart-open>=1.8.1->gensim) (1.17.2)\n",
            "Using cached gensim-4.3.3-cp311-cp311-manylinux_2_17_x86_64.manylinux2014_x86_64.whl (26.7 MB)\n",
            "Using cached numpy-1.26.4-cp311-cp311-manylinux_2_17_x86_64.manylinux2014_x86_64.whl (18.3 MB)\n",
            "Installing collected packages: numpy, gensim\n",
            "\u001b[31mERROR: pip's dependency resolver does not currently take into account all the packages that are installed. This behaviour is the source of the following dependency conflicts.\n",
            "thinc 8.3.6 requires numpy<3.0.0,>=2.0.0, but you have numpy 1.26.4 which is incompatible.\u001b[0m\u001b[31m\n",
            "\u001b[0mSuccessfully installed gensim-4.3.3 numpy-1.26.4\n"
          ]
        }
      ]
    },
    {
      "cell_type": "code",
      "source": [
        "!pip install tensorflow"
      ],
      "metadata": {
        "id": "LuNcMIw-eLQO",
        "outputId": "65f83557-41e1-49f7-a85f-2acf38f3df20",
        "colab": {
          "base_uri": "https://localhost:8080/"
        }
      },
      "id": "LuNcMIw-eLQO",
      "execution_count": 2,
      "outputs": [
        {
          "output_type": "stream",
          "name": "stdout",
          "text": [
            "Requirement already satisfied: tensorflow in /usr/local/lib/python3.11/dist-packages (2.19.0)\n",
            "Requirement already satisfied: absl-py>=1.0.0 in /usr/local/lib/python3.11/dist-packages (from tensorflow) (1.4.0)\n",
            "Requirement already satisfied: astunparse>=1.6.0 in /usr/local/lib/python3.11/dist-packages (from tensorflow) (1.6.3)\n",
            "Requirement already satisfied: flatbuffers>=24.3.25 in /usr/local/lib/python3.11/dist-packages (from tensorflow) (25.2.10)\n",
            "Requirement already satisfied: gast!=0.5.0,!=0.5.1,!=0.5.2,>=0.2.1 in /usr/local/lib/python3.11/dist-packages (from tensorflow) (0.6.0)\n",
            "Requirement already satisfied: google-pasta>=0.1.1 in /usr/local/lib/python3.11/dist-packages (from tensorflow) (0.2.0)\n",
            "Requirement already satisfied: libclang>=13.0.0 in /usr/local/lib/python3.11/dist-packages (from tensorflow) (18.1.1)\n",
            "Requirement already satisfied: opt-einsum>=2.3.2 in /usr/local/lib/python3.11/dist-packages (from tensorflow) (3.4.0)\n",
            "Requirement already satisfied: packaging in /usr/local/lib/python3.11/dist-packages (from tensorflow) (25.0)\n",
            "Requirement already satisfied: protobuf!=4.21.0,!=4.21.1,!=4.21.2,!=4.21.3,!=4.21.4,!=4.21.5,<6.0.0dev,>=3.20.3 in /usr/local/lib/python3.11/dist-packages (from tensorflow) (5.29.4)\n",
            "Requirement already satisfied: requests<3,>=2.21.0 in /usr/local/lib/python3.11/dist-packages (from tensorflow) (2.32.3)\n",
            "Requirement already satisfied: setuptools in /usr/local/lib/python3.11/dist-packages (from tensorflow) (75.2.0)\n",
            "Requirement already satisfied: six>=1.12.0 in /usr/local/lib/python3.11/dist-packages (from tensorflow) (1.17.0)\n",
            "Requirement already satisfied: termcolor>=1.1.0 in /usr/local/lib/python3.11/dist-packages (from tensorflow) (3.0.1)\n",
            "Requirement already satisfied: typing-extensions>=3.6.6 in /usr/local/lib/python3.11/dist-packages (from tensorflow) (4.13.2)\n",
            "Requirement already satisfied: wrapt>=1.11.0 in /usr/local/lib/python3.11/dist-packages (from tensorflow) (1.17.2)\n",
            "Requirement already satisfied: grpcio<2.0,>=1.24.3 in /usr/local/lib/python3.11/dist-packages (from tensorflow) (1.71.0)\n",
            "Requirement already satisfied: tensorboard~=2.19.0 in /usr/local/lib/python3.11/dist-packages (from tensorflow) (2.19.0)\n",
            "Requirement already satisfied: keras>=3.5.0 in /usr/local/lib/python3.11/dist-packages (from tensorflow) (3.8.0)\n",
            "Requirement already satisfied: numpy<2.2.0,>=1.26.0 in /usr/local/lib/python3.11/dist-packages (from tensorflow) (1.26.4)\n",
            "Requirement already satisfied: h5py>=3.11.0 in /usr/local/lib/python3.11/dist-packages (from tensorflow) (3.13.0)\n",
            "Requirement already satisfied: ml-dtypes<1.0.0,>=0.5.1 in /usr/local/lib/python3.11/dist-packages (from tensorflow) (0.5.1)\n",
            "Requirement already satisfied: tensorflow-io-gcs-filesystem>=0.23.1 in /usr/local/lib/python3.11/dist-packages (from tensorflow) (0.37.1)\n",
            "Requirement already satisfied: wheel<1.0,>=0.23.0 in /usr/local/lib/python3.11/dist-packages (from astunparse>=1.6.0->tensorflow) (0.45.1)\n",
            "Requirement already satisfied: rich in /usr/local/lib/python3.11/dist-packages (from keras>=3.5.0->tensorflow) (14.0.0)\n",
            "Requirement already satisfied: namex in /usr/local/lib/python3.11/dist-packages (from keras>=3.5.0->tensorflow) (0.0.9)\n",
            "Requirement already satisfied: optree in /usr/local/lib/python3.11/dist-packages (from keras>=3.5.0->tensorflow) (0.15.0)\n",
            "Requirement already satisfied: charset-normalizer<4,>=2 in /usr/local/lib/python3.11/dist-packages (from requests<3,>=2.21.0->tensorflow) (3.4.1)\n",
            "Requirement already satisfied: idna<4,>=2.5 in /usr/local/lib/python3.11/dist-packages (from requests<3,>=2.21.0->tensorflow) (3.10)\n",
            "Requirement already satisfied: urllib3<3,>=1.21.1 in /usr/local/lib/python3.11/dist-packages (from requests<3,>=2.21.0->tensorflow) (2.4.0)\n",
            "Requirement already satisfied: certifi>=2017.4.17 in /usr/local/lib/python3.11/dist-packages (from requests<3,>=2.21.0->tensorflow) (2025.1.31)\n",
            "Requirement already satisfied: markdown>=2.6.8 in /usr/lib/python3/dist-packages (from tensorboard~=2.19.0->tensorflow) (3.3.6)\n",
            "Requirement already satisfied: tensorboard-data-server<0.8.0,>=0.7.0 in /usr/local/lib/python3.11/dist-packages (from tensorboard~=2.19.0->tensorflow) (0.7.2)\n",
            "Requirement already satisfied: werkzeug>=1.0.1 in /usr/local/lib/python3.11/dist-packages (from tensorboard~=2.19.0->tensorflow) (3.1.3)\n",
            "Requirement already satisfied: MarkupSafe>=2.1.1 in /usr/local/lib/python3.11/dist-packages (from werkzeug>=1.0.1->tensorboard~=2.19.0->tensorflow) (3.0.2)\n",
            "Requirement already satisfied: markdown-it-py>=2.2.0 in /usr/local/lib/python3.11/dist-packages (from rich->keras>=3.5.0->tensorflow) (3.0.0)\n",
            "Requirement already satisfied: pygments<3.0.0,>=2.13.0 in /usr/local/lib/python3.11/dist-packages (from rich->keras>=3.5.0->tensorflow) (2.19.1)\n",
            "Requirement already satisfied: mdurl~=0.1 in /usr/local/lib/python3.11/dist-packages (from markdown-it-py>=2.2.0->rich->keras>=3.5.0->tensorflow) (0.1.2)\n"
          ]
        }
      ]
    },
    {
      "cell_type": "code",
      "execution_count": 3,
      "metadata": {
        "vscode": {
          "languageId": "plaintext"
        },
        "id": "32ce764a"
      },
      "outputs": [],
      "source": [
        "import numpy as np\n",
        "import pandas as pd\n",
        "import spacy\n",
        "import re\n",
        "import string\n",
        "from tqdm import tqdm\n",
        "import matplotlib.pyplot as plt\n",
        "import seaborn as sns\n",
        "import gensim.downloader as api\n",
        "import tensorflow as tf\n",
        "from sklearn.model_selection import train_test_split\n",
        "from sklearn.preprocessing import StandardScaler, MinMaxScaler\n",
        "from sklearn.compose import ColumnTransformer\n",
        "from sklearn.pipeline import Pipeline\n",
        "from sklearn.impute import SimpleImputer\n",
        "from scipy import sparse\n",
        "import keras"
      ],
      "id": "32ce764a"
    },
    {
      "cell_type": "code",
      "source": [
        "train_df = pd.read_csv(r\"/content/combined_toxic_comments.csv\")"
      ],
      "metadata": {
        "colab": {
          "base_uri": "https://localhost:8080/"
        },
        "id": "a1Xbvp-dkhZc",
        "outputId": "6a338352-8070-428f-e48e-93981e532707"
      },
      "execution_count": null,
      "outputs": [
        {
          "output_type": "stream",
          "name": "stderr",
          "text": [
            "<ipython-input-2-4a5e5dc20330>:1: DtypeWarning: Columns (0) have mixed types. Specify dtype option on import or set low_memory=False.\n",
            "  train_df = pd.read_csv(r\"/content/combined_toxic_comments.csv\")\n"
          ]
        }
      ],
      "id": "a1Xbvp-dkhZc"
    },
    {
      "cell_type": "code",
      "source": [
        "train_df.head(25)"
      ],
      "metadata": {
        "colab": {
          "base_uri": "https://localhost:8080/",
          "height": 833
        },
        "id": "qqdq3XlZlJc3",
        "outputId": "c6d4a77e-f273-4c66-8120-ffd850773593"
      },
      "execution_count": null,
      "outputs": [
        {
          "output_type": "execute_result",
          "data": {
            "text/plain": [
              "                  id                                       comment_text  \\\n",
              "0   0000997932d777bf  Explanation\\nWhy the edits made under my usern...   \n",
              "1   000103f0d9cfb60f  D'aww! He matches this background colour I'm s...   \n",
              "2   000113f07ec002fd  Hey man, I'm really not trying to edit war. It...   \n",
              "3   0001b41b1c6bb37e  \"\\nMore\\nI can't make any real suggestions on ...   \n",
              "4   0001d958c54c6e35  You, sir, are my hero. Any chance you remember...   \n",
              "5   00025465d4725e87  \"\\n\\nCongratulations from me as well, use the ...   \n",
              "6   0002bcb3da6cb337       COCKSUCKER BEFORE YOU PISS AROUND ON MY WORK   \n",
              "7   00031b1e95af7921  Your vandalism to the Matt Shirvington article...   \n",
              "8   00037261f536c51d  Sorry if the word 'nonsense' was offensive to ...   \n",
              "9   00040093b2687caa  alignment on this subject and which are contra...   \n",
              "10  0005300084f90edc  \"\\nFair use rationale for Image:Wonju.jpg\\n\\nT...   \n",
              "11  00054a5e18b50dd4  bbq \\n\\nbe a man and lets discuss it-maybe ove...   \n",
              "12  0005c987bdfc9d4b  Hey... what is it..\\n@ | talk .\\nWhat is it......   \n",
              "13  0006f16e4e9f292e  Before you start throwing accusations and warn...   \n",
              "14  00070ef96486d6f9  Oh, and the girl above started her arguments w...   \n",
              "15  00078f8ce7eb276d  \"\\n\\nJuelz Santanas Age\\n\\nIn 2002, Juelz Sant...   \n",
              "16  0007e25b2121310b  Bye! \\n\\nDon't look, come or think of comming ...   \n",
              "17  000897889268bc93   REDIRECT Talk:Voydan Pop Georgiev- Chernodrinski   \n",
              "18  0009801bd85e5806  The Mitsurugi point made no sense - why not ar...   \n",
              "19  0009eaea3325de8c  Don't mean to bother you \\n\\nI see that you're...   \n",
              "20  000b08c464718505  \"\\n\\n Regarding your recent edits \\n\\nOnce aga...   \n",
              "21  000bfd0867774845  \"\\nGood to know. About me, yeah, I'm studying ...   \n",
              "22  000c0dfd995809fa  \"\\n\\n Snowflakes are NOT always symmetrical! \\...   \n",
              "23  000c6a3f0cd3ba8e  \"\\n\\n The Signpost: 24 September 2012 \\n\\n Rea...   \n",
              "24  000cfee90f50d471  \"\\n\\nRe-considering 1st paragraph edit?\\nI don...   \n",
              "\n",
              "    toxic  severe_toxic  obscene  threat  insult  identity_hate    source  \n",
              "0     0.0           0.0      0.0     0.0     0.0            0.0  original  \n",
              "1     0.0           0.0      0.0     0.0     0.0            0.0  original  \n",
              "2     0.0           0.0      0.0     0.0     0.0            0.0  original  \n",
              "3     0.0           0.0      0.0     0.0     0.0            0.0  original  \n",
              "4     0.0           0.0      0.0     0.0     0.0            0.0  original  \n",
              "5     0.0           0.0      0.0     0.0     0.0            0.0  original  \n",
              "6     1.0           1.0      1.0     0.0     1.0            0.0  original  \n",
              "7     0.0           0.0      0.0     0.0     0.0            0.0  original  \n",
              "8     0.0           0.0      0.0     0.0     0.0            0.0  original  \n",
              "9     0.0           0.0      0.0     0.0     0.0            0.0  original  \n",
              "10    0.0           0.0      0.0     0.0     0.0            0.0  original  \n",
              "11    0.0           0.0      0.0     0.0     0.0            0.0  original  \n",
              "12    1.0           0.0      0.0     0.0     0.0            0.0  original  \n",
              "13    0.0           0.0      0.0     0.0     0.0            0.0  original  \n",
              "14    0.0           0.0      0.0     0.0     0.0            0.0  original  \n",
              "15    0.0           0.0      0.0     0.0     0.0            0.0  original  \n",
              "16    1.0           0.0      0.0     0.0     0.0            0.0  original  \n",
              "17    0.0           0.0      0.0     0.0     0.0            0.0  original  \n",
              "18    0.0           0.0      0.0     0.0     0.0            0.0  original  \n",
              "19    0.0           0.0      0.0     0.0     0.0            0.0  original  \n",
              "20    0.0           0.0      0.0     0.0     0.0            0.0  original  \n",
              "21    0.0           0.0      0.0     0.0     0.0            0.0  original  \n",
              "22    0.0           0.0      0.0     0.0     0.0            0.0  original  \n",
              "23    0.0           0.0      0.0     0.0     0.0            0.0  original  \n",
              "24    0.0           0.0      0.0     0.0     0.0            0.0  original  "
            ],
            "text/html": [
              "\n",
              "  <div id=\"df-965d5162-cfb7-4ef9-a93a-411f6aee0262\" class=\"colab-df-container\">\n",
              "    <div>\n",
              "<style scoped>\n",
              "    .dataframe tbody tr th:only-of-type {\n",
              "        vertical-align: middle;\n",
              "    }\n",
              "\n",
              "    .dataframe tbody tr th {\n",
              "        vertical-align: top;\n",
              "    }\n",
              "\n",
              "    .dataframe thead th {\n",
              "        text-align: right;\n",
              "    }\n",
              "</style>\n",
              "<table border=\"1\" class=\"dataframe\">\n",
              "  <thead>\n",
              "    <tr style=\"text-align: right;\">\n",
              "      <th></th>\n",
              "      <th>id</th>\n",
              "      <th>comment_text</th>\n",
              "      <th>toxic</th>\n",
              "      <th>severe_toxic</th>\n",
              "      <th>obscene</th>\n",
              "      <th>threat</th>\n",
              "      <th>insult</th>\n",
              "      <th>identity_hate</th>\n",
              "      <th>source</th>\n",
              "    </tr>\n",
              "  </thead>\n",
              "  <tbody>\n",
              "    <tr>\n",
              "      <th>0</th>\n",
              "      <td>0000997932d777bf</td>\n",
              "      <td>Explanation\\nWhy the edits made under my usern...</td>\n",
              "      <td>0.0</td>\n",
              "      <td>0.0</td>\n",
              "      <td>0.0</td>\n",
              "      <td>0.0</td>\n",
              "      <td>0.0</td>\n",
              "      <td>0.0</td>\n",
              "      <td>original</td>\n",
              "    </tr>\n",
              "    <tr>\n",
              "      <th>1</th>\n",
              "      <td>000103f0d9cfb60f</td>\n",
              "      <td>D'aww! He matches this background colour I'm s...</td>\n",
              "      <td>0.0</td>\n",
              "      <td>0.0</td>\n",
              "      <td>0.0</td>\n",
              "      <td>0.0</td>\n",
              "      <td>0.0</td>\n",
              "      <td>0.0</td>\n",
              "      <td>original</td>\n",
              "    </tr>\n",
              "    <tr>\n",
              "      <th>2</th>\n",
              "      <td>000113f07ec002fd</td>\n",
              "      <td>Hey man, I'm really not trying to edit war. It...</td>\n",
              "      <td>0.0</td>\n",
              "      <td>0.0</td>\n",
              "      <td>0.0</td>\n",
              "      <td>0.0</td>\n",
              "      <td>0.0</td>\n",
              "      <td>0.0</td>\n",
              "      <td>original</td>\n",
              "    </tr>\n",
              "    <tr>\n",
              "      <th>3</th>\n",
              "      <td>0001b41b1c6bb37e</td>\n",
              "      <td>\"\\nMore\\nI can't make any real suggestions on ...</td>\n",
              "      <td>0.0</td>\n",
              "      <td>0.0</td>\n",
              "      <td>0.0</td>\n",
              "      <td>0.0</td>\n",
              "      <td>0.0</td>\n",
              "      <td>0.0</td>\n",
              "      <td>original</td>\n",
              "    </tr>\n",
              "    <tr>\n",
              "      <th>4</th>\n",
              "      <td>0001d958c54c6e35</td>\n",
              "      <td>You, sir, are my hero. Any chance you remember...</td>\n",
              "      <td>0.0</td>\n",
              "      <td>0.0</td>\n",
              "      <td>0.0</td>\n",
              "      <td>0.0</td>\n",
              "      <td>0.0</td>\n",
              "      <td>0.0</td>\n",
              "      <td>original</td>\n",
              "    </tr>\n",
              "    <tr>\n",
              "      <th>5</th>\n",
              "      <td>00025465d4725e87</td>\n",
              "      <td>\"\\n\\nCongratulations from me as well, use the ...</td>\n",
              "      <td>0.0</td>\n",
              "      <td>0.0</td>\n",
              "      <td>0.0</td>\n",
              "      <td>0.0</td>\n",
              "      <td>0.0</td>\n",
              "      <td>0.0</td>\n",
              "      <td>original</td>\n",
              "    </tr>\n",
              "    <tr>\n",
              "      <th>6</th>\n",
              "      <td>0002bcb3da6cb337</td>\n",
              "      <td>COCKSUCKER BEFORE YOU PISS AROUND ON MY WORK</td>\n",
              "      <td>1.0</td>\n",
              "      <td>1.0</td>\n",
              "      <td>1.0</td>\n",
              "      <td>0.0</td>\n",
              "      <td>1.0</td>\n",
              "      <td>0.0</td>\n",
              "      <td>original</td>\n",
              "    </tr>\n",
              "    <tr>\n",
              "      <th>7</th>\n",
              "      <td>00031b1e95af7921</td>\n",
              "      <td>Your vandalism to the Matt Shirvington article...</td>\n",
              "      <td>0.0</td>\n",
              "      <td>0.0</td>\n",
              "      <td>0.0</td>\n",
              "      <td>0.0</td>\n",
              "      <td>0.0</td>\n",
              "      <td>0.0</td>\n",
              "      <td>original</td>\n",
              "    </tr>\n",
              "    <tr>\n",
              "      <th>8</th>\n",
              "      <td>00037261f536c51d</td>\n",
              "      <td>Sorry if the word 'nonsense' was offensive to ...</td>\n",
              "      <td>0.0</td>\n",
              "      <td>0.0</td>\n",
              "      <td>0.0</td>\n",
              "      <td>0.0</td>\n",
              "      <td>0.0</td>\n",
              "      <td>0.0</td>\n",
              "      <td>original</td>\n",
              "    </tr>\n",
              "    <tr>\n",
              "      <th>9</th>\n",
              "      <td>00040093b2687caa</td>\n",
              "      <td>alignment on this subject and which are contra...</td>\n",
              "      <td>0.0</td>\n",
              "      <td>0.0</td>\n",
              "      <td>0.0</td>\n",
              "      <td>0.0</td>\n",
              "      <td>0.0</td>\n",
              "      <td>0.0</td>\n",
              "      <td>original</td>\n",
              "    </tr>\n",
              "    <tr>\n",
              "      <th>10</th>\n",
              "      <td>0005300084f90edc</td>\n",
              "      <td>\"\\nFair use rationale for Image:Wonju.jpg\\n\\nT...</td>\n",
              "      <td>0.0</td>\n",
              "      <td>0.0</td>\n",
              "      <td>0.0</td>\n",
              "      <td>0.0</td>\n",
              "      <td>0.0</td>\n",
              "      <td>0.0</td>\n",
              "      <td>original</td>\n",
              "    </tr>\n",
              "    <tr>\n",
              "      <th>11</th>\n",
              "      <td>00054a5e18b50dd4</td>\n",
              "      <td>bbq \\n\\nbe a man and lets discuss it-maybe ove...</td>\n",
              "      <td>0.0</td>\n",
              "      <td>0.0</td>\n",
              "      <td>0.0</td>\n",
              "      <td>0.0</td>\n",
              "      <td>0.0</td>\n",
              "      <td>0.0</td>\n",
              "      <td>original</td>\n",
              "    </tr>\n",
              "    <tr>\n",
              "      <th>12</th>\n",
              "      <td>0005c987bdfc9d4b</td>\n",
              "      <td>Hey... what is it..\\n@ | talk .\\nWhat is it......</td>\n",
              "      <td>1.0</td>\n",
              "      <td>0.0</td>\n",
              "      <td>0.0</td>\n",
              "      <td>0.0</td>\n",
              "      <td>0.0</td>\n",
              "      <td>0.0</td>\n",
              "      <td>original</td>\n",
              "    </tr>\n",
              "    <tr>\n",
              "      <th>13</th>\n",
              "      <td>0006f16e4e9f292e</td>\n",
              "      <td>Before you start throwing accusations and warn...</td>\n",
              "      <td>0.0</td>\n",
              "      <td>0.0</td>\n",
              "      <td>0.0</td>\n",
              "      <td>0.0</td>\n",
              "      <td>0.0</td>\n",
              "      <td>0.0</td>\n",
              "      <td>original</td>\n",
              "    </tr>\n",
              "    <tr>\n",
              "      <th>14</th>\n",
              "      <td>00070ef96486d6f9</td>\n",
              "      <td>Oh, and the girl above started her arguments w...</td>\n",
              "      <td>0.0</td>\n",
              "      <td>0.0</td>\n",
              "      <td>0.0</td>\n",
              "      <td>0.0</td>\n",
              "      <td>0.0</td>\n",
              "      <td>0.0</td>\n",
              "      <td>original</td>\n",
              "    </tr>\n",
              "    <tr>\n",
              "      <th>15</th>\n",
              "      <td>00078f8ce7eb276d</td>\n",
              "      <td>\"\\n\\nJuelz Santanas Age\\n\\nIn 2002, Juelz Sant...</td>\n",
              "      <td>0.0</td>\n",
              "      <td>0.0</td>\n",
              "      <td>0.0</td>\n",
              "      <td>0.0</td>\n",
              "      <td>0.0</td>\n",
              "      <td>0.0</td>\n",
              "      <td>original</td>\n",
              "    </tr>\n",
              "    <tr>\n",
              "      <th>16</th>\n",
              "      <td>0007e25b2121310b</td>\n",
              "      <td>Bye! \\n\\nDon't look, come or think of comming ...</td>\n",
              "      <td>1.0</td>\n",
              "      <td>0.0</td>\n",
              "      <td>0.0</td>\n",
              "      <td>0.0</td>\n",
              "      <td>0.0</td>\n",
              "      <td>0.0</td>\n",
              "      <td>original</td>\n",
              "    </tr>\n",
              "    <tr>\n",
              "      <th>17</th>\n",
              "      <td>000897889268bc93</td>\n",
              "      <td>REDIRECT Talk:Voydan Pop Georgiev- Chernodrinski</td>\n",
              "      <td>0.0</td>\n",
              "      <td>0.0</td>\n",
              "      <td>0.0</td>\n",
              "      <td>0.0</td>\n",
              "      <td>0.0</td>\n",
              "      <td>0.0</td>\n",
              "      <td>original</td>\n",
              "    </tr>\n",
              "    <tr>\n",
              "      <th>18</th>\n",
              "      <td>0009801bd85e5806</td>\n",
              "      <td>The Mitsurugi point made no sense - why not ar...</td>\n",
              "      <td>0.0</td>\n",
              "      <td>0.0</td>\n",
              "      <td>0.0</td>\n",
              "      <td>0.0</td>\n",
              "      <td>0.0</td>\n",
              "      <td>0.0</td>\n",
              "      <td>original</td>\n",
              "    </tr>\n",
              "    <tr>\n",
              "      <th>19</th>\n",
              "      <td>0009eaea3325de8c</td>\n",
              "      <td>Don't mean to bother you \\n\\nI see that you're...</td>\n",
              "      <td>0.0</td>\n",
              "      <td>0.0</td>\n",
              "      <td>0.0</td>\n",
              "      <td>0.0</td>\n",
              "      <td>0.0</td>\n",
              "      <td>0.0</td>\n",
              "      <td>original</td>\n",
              "    </tr>\n",
              "    <tr>\n",
              "      <th>20</th>\n",
              "      <td>000b08c464718505</td>\n",
              "      <td>\"\\n\\n Regarding your recent edits \\n\\nOnce aga...</td>\n",
              "      <td>0.0</td>\n",
              "      <td>0.0</td>\n",
              "      <td>0.0</td>\n",
              "      <td>0.0</td>\n",
              "      <td>0.0</td>\n",
              "      <td>0.0</td>\n",
              "      <td>original</td>\n",
              "    </tr>\n",
              "    <tr>\n",
              "      <th>21</th>\n",
              "      <td>000bfd0867774845</td>\n",
              "      <td>\"\\nGood to know. About me, yeah, I'm studying ...</td>\n",
              "      <td>0.0</td>\n",
              "      <td>0.0</td>\n",
              "      <td>0.0</td>\n",
              "      <td>0.0</td>\n",
              "      <td>0.0</td>\n",
              "      <td>0.0</td>\n",
              "      <td>original</td>\n",
              "    </tr>\n",
              "    <tr>\n",
              "      <th>22</th>\n",
              "      <td>000c0dfd995809fa</td>\n",
              "      <td>\"\\n\\n Snowflakes are NOT always symmetrical! \\...</td>\n",
              "      <td>0.0</td>\n",
              "      <td>0.0</td>\n",
              "      <td>0.0</td>\n",
              "      <td>0.0</td>\n",
              "      <td>0.0</td>\n",
              "      <td>0.0</td>\n",
              "      <td>original</td>\n",
              "    </tr>\n",
              "    <tr>\n",
              "      <th>23</th>\n",
              "      <td>000c6a3f0cd3ba8e</td>\n",
              "      <td>\"\\n\\n The Signpost: 24 September 2012 \\n\\n Rea...</td>\n",
              "      <td>0.0</td>\n",
              "      <td>0.0</td>\n",
              "      <td>0.0</td>\n",
              "      <td>0.0</td>\n",
              "      <td>0.0</td>\n",
              "      <td>0.0</td>\n",
              "      <td>original</td>\n",
              "    </tr>\n",
              "    <tr>\n",
              "      <th>24</th>\n",
              "      <td>000cfee90f50d471</td>\n",
              "      <td>\"\\n\\nRe-considering 1st paragraph edit?\\nI don...</td>\n",
              "      <td>0.0</td>\n",
              "      <td>0.0</td>\n",
              "      <td>0.0</td>\n",
              "      <td>0.0</td>\n",
              "      <td>0.0</td>\n",
              "      <td>0.0</td>\n",
              "      <td>original</td>\n",
              "    </tr>\n",
              "  </tbody>\n",
              "</table>\n",
              "</div>\n",
              "    <div class=\"colab-df-buttons\">\n",
              "\n",
              "  <div class=\"colab-df-container\">\n",
              "    <button class=\"colab-df-convert\" onclick=\"convertToInteractive('df-965d5162-cfb7-4ef9-a93a-411f6aee0262')\"\n",
              "            title=\"Convert this dataframe to an interactive table.\"\n",
              "            style=\"display:none;\">\n",
              "\n",
              "  <svg xmlns=\"http://www.w3.org/2000/svg\" height=\"24px\" viewBox=\"0 -960 960 960\">\n",
              "    <path d=\"M120-120v-720h720v720H120Zm60-500h600v-160H180v160Zm220 220h160v-160H400v160Zm0 220h160v-160H400v160ZM180-400h160v-160H180v160Zm440 0h160v-160H620v160ZM180-180h160v-160H180v160Zm440 0h160v-160H620v160Z\"/>\n",
              "  </svg>\n",
              "    </button>\n",
              "\n",
              "  <style>\n",
              "    .colab-df-container {\n",
              "      display:flex;\n",
              "      gap: 12px;\n",
              "    }\n",
              "\n",
              "    .colab-df-convert {\n",
              "      background-color: #E8F0FE;\n",
              "      border: none;\n",
              "      border-radius: 50%;\n",
              "      cursor: pointer;\n",
              "      display: none;\n",
              "      fill: #1967D2;\n",
              "      height: 32px;\n",
              "      padding: 0 0 0 0;\n",
              "      width: 32px;\n",
              "    }\n",
              "\n",
              "    .colab-df-convert:hover {\n",
              "      background-color: #E2EBFA;\n",
              "      box-shadow: 0px 1px 2px rgba(60, 64, 67, 0.3), 0px 1px 3px 1px rgba(60, 64, 67, 0.15);\n",
              "      fill: #174EA6;\n",
              "    }\n",
              "\n",
              "    .colab-df-buttons div {\n",
              "      margin-bottom: 4px;\n",
              "    }\n",
              "\n",
              "    [theme=dark] .colab-df-convert {\n",
              "      background-color: #3B4455;\n",
              "      fill: #D2E3FC;\n",
              "    }\n",
              "\n",
              "    [theme=dark] .colab-df-convert:hover {\n",
              "      background-color: #434B5C;\n",
              "      box-shadow: 0px 1px 3px 1px rgba(0, 0, 0, 0.15);\n",
              "      filter: drop-shadow(0px 1px 2px rgba(0, 0, 0, 0.3));\n",
              "      fill: #FFFFFF;\n",
              "    }\n",
              "  </style>\n",
              "\n",
              "    <script>\n",
              "      const buttonEl =\n",
              "        document.querySelector('#df-965d5162-cfb7-4ef9-a93a-411f6aee0262 button.colab-df-convert');\n",
              "      buttonEl.style.display =\n",
              "        google.colab.kernel.accessAllowed ? 'block' : 'none';\n",
              "\n",
              "      async function convertToInteractive(key) {\n",
              "        const element = document.querySelector('#df-965d5162-cfb7-4ef9-a93a-411f6aee0262');\n",
              "        const dataTable =\n",
              "          await google.colab.kernel.invokeFunction('convertToInteractive',\n",
              "                                                    [key], {});\n",
              "        if (!dataTable) return;\n",
              "\n",
              "        const docLinkHtml = 'Like what you see? Visit the ' +\n",
              "          '<a target=\"_blank\" href=https://colab.research.google.com/notebooks/data_table.ipynb>data table notebook</a>'\n",
              "          + ' to learn more about interactive tables.';\n",
              "        element.innerHTML = '';\n",
              "        dataTable['output_type'] = 'display_data';\n",
              "        await google.colab.output.renderOutput(dataTable, element);\n",
              "        const docLink = document.createElement('div');\n",
              "        docLink.innerHTML = docLinkHtml;\n",
              "        element.appendChild(docLink);\n",
              "      }\n",
              "    </script>\n",
              "  </div>\n",
              "\n",
              "\n",
              "<div id=\"df-4e793c89-33c8-40c1-9128-6267bc5ded69\">\n",
              "  <button class=\"colab-df-quickchart\" onclick=\"quickchart('df-4e793c89-33c8-40c1-9128-6267bc5ded69')\"\n",
              "            title=\"Suggest charts\"\n",
              "            style=\"display:none;\">\n",
              "\n",
              "<svg xmlns=\"http://www.w3.org/2000/svg\" height=\"24px\"viewBox=\"0 0 24 24\"\n",
              "     width=\"24px\">\n",
              "    <g>\n",
              "        <path d=\"M19 3H5c-1.1 0-2 .9-2 2v14c0 1.1.9 2 2 2h14c1.1 0 2-.9 2-2V5c0-1.1-.9-2-2-2zM9 17H7v-7h2v7zm4 0h-2V7h2v10zm4 0h-2v-4h2v4z\"/>\n",
              "    </g>\n",
              "</svg>\n",
              "  </button>\n",
              "\n",
              "<style>\n",
              "  .colab-df-quickchart {\n",
              "      --bg-color: #E8F0FE;\n",
              "      --fill-color: #1967D2;\n",
              "      --hover-bg-color: #E2EBFA;\n",
              "      --hover-fill-color: #174EA6;\n",
              "      --disabled-fill-color: #AAA;\n",
              "      --disabled-bg-color: #DDD;\n",
              "  }\n",
              "\n",
              "  [theme=dark] .colab-df-quickchart {\n",
              "      --bg-color: #3B4455;\n",
              "      --fill-color: #D2E3FC;\n",
              "      --hover-bg-color: #434B5C;\n",
              "      --hover-fill-color: #FFFFFF;\n",
              "      --disabled-bg-color: #3B4455;\n",
              "      --disabled-fill-color: #666;\n",
              "  }\n",
              "\n",
              "  .colab-df-quickchart {\n",
              "    background-color: var(--bg-color);\n",
              "    border: none;\n",
              "    border-radius: 50%;\n",
              "    cursor: pointer;\n",
              "    display: none;\n",
              "    fill: var(--fill-color);\n",
              "    height: 32px;\n",
              "    padding: 0;\n",
              "    width: 32px;\n",
              "  }\n",
              "\n",
              "  .colab-df-quickchart:hover {\n",
              "    background-color: var(--hover-bg-color);\n",
              "    box-shadow: 0 1px 2px rgba(60, 64, 67, 0.3), 0 1px 3px 1px rgba(60, 64, 67, 0.15);\n",
              "    fill: var(--button-hover-fill-color);\n",
              "  }\n",
              "\n",
              "  .colab-df-quickchart-complete:disabled,\n",
              "  .colab-df-quickchart-complete:disabled:hover {\n",
              "    background-color: var(--disabled-bg-color);\n",
              "    fill: var(--disabled-fill-color);\n",
              "    box-shadow: none;\n",
              "  }\n",
              "\n",
              "  .colab-df-spinner {\n",
              "    border: 2px solid var(--fill-color);\n",
              "    border-color: transparent;\n",
              "    border-bottom-color: var(--fill-color);\n",
              "    animation:\n",
              "      spin 1s steps(1) infinite;\n",
              "  }\n",
              "\n",
              "  @keyframes spin {\n",
              "    0% {\n",
              "      border-color: transparent;\n",
              "      border-bottom-color: var(--fill-color);\n",
              "      border-left-color: var(--fill-color);\n",
              "    }\n",
              "    20% {\n",
              "      border-color: transparent;\n",
              "      border-left-color: var(--fill-color);\n",
              "      border-top-color: var(--fill-color);\n",
              "    }\n",
              "    30% {\n",
              "      border-color: transparent;\n",
              "      border-left-color: var(--fill-color);\n",
              "      border-top-color: var(--fill-color);\n",
              "      border-right-color: var(--fill-color);\n",
              "    }\n",
              "    40% {\n",
              "      border-color: transparent;\n",
              "      border-right-color: var(--fill-color);\n",
              "      border-top-color: var(--fill-color);\n",
              "    }\n",
              "    60% {\n",
              "      border-color: transparent;\n",
              "      border-right-color: var(--fill-color);\n",
              "    }\n",
              "    80% {\n",
              "      border-color: transparent;\n",
              "      border-right-color: var(--fill-color);\n",
              "      border-bottom-color: var(--fill-color);\n",
              "    }\n",
              "    90% {\n",
              "      border-color: transparent;\n",
              "      border-bottom-color: var(--fill-color);\n",
              "    }\n",
              "  }\n",
              "</style>\n",
              "\n",
              "  <script>\n",
              "    async function quickchart(key) {\n",
              "      const quickchartButtonEl =\n",
              "        document.querySelector('#' + key + ' button');\n",
              "      quickchartButtonEl.disabled = true;  // To prevent multiple clicks.\n",
              "      quickchartButtonEl.classList.add('colab-df-spinner');\n",
              "      try {\n",
              "        const charts = await google.colab.kernel.invokeFunction(\n",
              "            'suggestCharts', [key], {});\n",
              "      } catch (error) {\n",
              "        console.error('Error during call to suggestCharts:', error);\n",
              "      }\n",
              "      quickchartButtonEl.classList.remove('colab-df-spinner');\n",
              "      quickchartButtonEl.classList.add('colab-df-quickchart-complete');\n",
              "    }\n",
              "    (() => {\n",
              "      let quickchartButtonEl =\n",
              "        document.querySelector('#df-4e793c89-33c8-40c1-9128-6267bc5ded69 button');\n",
              "      quickchartButtonEl.style.display =\n",
              "        google.colab.kernel.accessAllowed ? 'block' : 'none';\n",
              "    })();\n",
              "  </script>\n",
              "</div>\n",
              "\n",
              "    </div>\n",
              "  </div>\n"
            ],
            "application/vnd.google.colaboratory.intrinsic+json": {
              "type": "dataframe",
              "variable_name": "train_df"
            }
          },
          "metadata": {},
          "execution_count": 3
        }
      ],
      "id": "qqdq3XlZlJc3"
    },
    {
      "cell_type": "code",
      "source": [
        "filter_ = ~train_df['source'].isin(['cleaned'])\n",
        "filter_cleaned = train_df['source'].isin(['cleaned'])\n",
        "df_filtered = train_df[filter_]\n",
        "df_cleaned = train_df[filter_cleaned]\n",
        "print(df_filtered)"
      ],
      "metadata": {
        "colab": {
          "base_uri": "https://localhost:8080/"
        },
        "id": "fB9TJEPcnw0t",
        "outputId": "cfe20896-4273-4f4f-9595-311c21083874"
      },
      "execution_count": null,
      "outputs": [
        {
          "output_type": "stream",
          "name": "stdout",
          "text": [
            "                      id                                       comment_text  \\\n",
            "0       0000997932d777bf  Explanation\\nWhy the edits made under my usern...   \n",
            "1       000103f0d9cfb60f  D'aww! He matches this background colour I'm s...   \n",
            "2       000113f07ec002fd  Hey man, I'm really not trying to edit war. It...   \n",
            "3       0001b41b1c6bb37e  \"\\nMore\\nI can't make any real suggestions on ...   \n",
            "4       0001d958c54c6e35  You, sir, are my hero. Any chance you remember...   \n",
            "...                  ...                                                ...   \n",
            "159566  ffe987279560d7ff  \":::::And for the second time of asking, when ...   \n",
            "159567  ffea4adeee384e90  You should be ashamed of yourself \\n\\nThat is ...   \n",
            "159568  ffee36eab5c267c9  Spitzer \\n\\nUmm, theres no actual article for ...   \n",
            "159569  fff125370e4aaaf3  And it looks like it was actually you who put ...   \n",
            "159570  fff46fc426af1f9a  \"\\nAnd ... I really don't think you understand...   \n",
            "\n",
            "        toxic  severe_toxic  obscene  threat  insult  identity_hate    source  \n",
            "0         0.0           0.0      0.0     0.0     0.0            0.0  original  \n",
            "1         0.0           0.0      0.0     0.0     0.0            0.0  original  \n",
            "2         0.0           0.0      0.0     0.0     0.0            0.0  original  \n",
            "3         0.0           0.0      0.0     0.0     0.0            0.0  original  \n",
            "4         0.0           0.0      0.0     0.0     0.0            0.0  original  \n",
            "...       ...           ...      ...     ...     ...            ...       ...  \n",
            "159566    0.0           0.0      0.0     0.0     0.0            0.0  original  \n",
            "159567    0.0           0.0      0.0     0.0     0.0            0.0  original  \n",
            "159568    0.0           0.0      0.0     0.0     0.0            0.0  original  \n",
            "159569    0.0           0.0      0.0     0.0     0.0            0.0  original  \n",
            "159570    0.0           0.0      0.0     0.0     0.0            0.0  original  \n",
            "\n",
            "[159571 rows x 9 columns]\n"
          ]
        }
      ],
      "id": "fB9TJEPcnw0t"
    },
    {
      "cell_type": "code",
      "source": [
        "df_filtered.to_csv('original_comments.csv', index=False)"
      ],
      "metadata": {
        "id": "p8xXKjnk7t8C"
      },
      "execution_count": null,
      "outputs": [],
      "id": "p8xXKjnk7t8C"
    },
    {
      "cell_type": "code",
      "source": [
        "!python -m spacy download en_core_web_sm"
      ],
      "metadata": {
        "id": "dHgYi6tdabAR",
        "outputId": "90a63cac-48b8-431c-bb99-d97850bb0ee1",
        "colab": {
          "base_uri": "https://localhost:8080/"
        }
      },
      "id": "dHgYi6tdabAR",
      "execution_count": null,
      "outputs": [
        {
          "output_type": "stream",
          "name": "stdout",
          "text": [
            "Collecting en-core-web-sm==3.8.0\n",
            "  Downloading https://github.com/explosion/spacy-models/releases/download/en_core_web_sm-3.8.0/en_core_web_sm-3.8.0-py3-none-any.whl (12.8 MB)\n",
            "\u001b[2K     \u001b[90m━━━━━━━━━━━━━━━━━━━━━━━━━━━━━━━━━━━━━━━━\u001b[0m \u001b[32m12.8/12.8 MB\u001b[0m \u001b[31m15.6 MB/s\u001b[0m eta \u001b[36m0:00:00\u001b[0m\n",
            "\u001b[?25h\u001b[38;5;2m✔ Download and installation successful\u001b[0m\n",
            "You can now load the package via spacy.load('en_core_web_sm')\n",
            "\u001b[38;5;3m⚠ Restart to reload dependencies\u001b[0m\n",
            "If you are in a Jupyter or Colab notebook, you may need to restart Python in\n",
            "order to load all the package's dependencies. You can do this by selecting the\n",
            "'Restart kernel' or 'Restart runtime' option.\n"
          ]
        }
      ]
    },
    {
      "cell_type": "code",
      "source": [
        "# Load spaCy model (make sure to run: python -m spacy download en_core_web_sm)\n",
        "nlp = spacy.load(\"en_core_web_sm\", disable=[\"parser\", \"ner\", \"textcat\"])\n",
        "\n",
        "def vectorized_clean(series):\n",
        "    \"\"\"\n",
        "    Use vectorized operations to lowercase and remove punctuation.\n",
        "    \"\"\"\n",
        "    pattern = f\"[{re.escape(string.punctuation)}]\"\n",
        "    return series.str.lower().str.replace(pattern, '', regex=True)\n",
        "\n",
        "def spacy_tokenize(texts, batch_size=500):\n",
        "    \"\"\"\n",
        "    Use spaCy's nlp.pipe to tokenize text in batches.\n",
        "    \"\"\"\n",
        "    clean_texts = []\n",
        "    for doc in tqdm(nlp.pipe(texts, batch_size=batch_size, n_process=1), total=len(texts)):\n",
        "        tokens = [token.text for token in doc if not token.is_space]\n",
        "        clean_texts.append(\" \".join(tokens))\n",
        "    return clean_texts"
      ],
      "metadata": {
        "id": "ePk-hPdE0JQR"
      },
      "execution_count": null,
      "outputs": [],
      "id": "ePk-hPdE0JQR"
    },
    {
      "cell_type": "code",
      "source": [
        "chunk_size = 10**6  # Adjust based on your memory capacity\n",
        "processed_chunks = []\n",
        "\n",
        "for chunk in pd.read_csv('/content/original_comments.csv', chunksize=chunk_size):\n",
        "    # Remove duplicates and fill missing values\n",
        "    chunk.drop_duplicates(inplace=True)\n",
        "    chunk.fillna('', inplace=True)\n",
        "\n",
        "    if 'comment_text' in chunk.columns:\n",
        "        # Vectorized cleaning: lowercase & remove punctuation\n",
        "        chunk['comment_text'] = vectorized_clean(chunk['comment_text'])\n",
        "\n",
        "        # Option 1: If tokenization isn't strictly needed here, comment out the next block.\n",
        "        # Option 2: If tokenization is needed, use spaCy's nlp.pipe for improved performance.\n",
        "        texts = chunk['comment_text'].tolist()\n",
        "        chunk['comment_text'] = spacy_tokenize(texts, batch_size=500)\n",
        "\n",
        "    processed_chunks.append(chunk)\n",
        "\n",
        "# Concatenate all processed chunks and save the cleaned data\n",
        "cleaned_original_df = pd.concat(processed_chunks)"
      ],
      "metadata": {
        "colab": {
          "base_uri": "https://localhost:8080/"
        },
        "id": "6suomOPL9lca",
        "outputId": "838eb55a-5cbc-4b1b-f02b-3c9a1282a206"
      },
      "execution_count": null,
      "outputs": [
        {
          "output_type": "stream",
          "name": "stderr",
          "text": [
            "100%|██████████| 159571/159571 [10:02<00:00, 265.04it/s]\n"
          ]
        }
      ],
      "id": "6suomOPL9lca"
    },
    {
      "cell_type": "code",
      "source": [
        "# Combine the two DataFrames\n",
        "combined_df = pd.concat([cleaned_original_df, df_cleaned], ignore_index=True)"
      ],
      "metadata": {
        "id": "yfqYnti4BtJl"
      },
      "execution_count": null,
      "outputs": [],
      "id": "yfqYnti4BtJl"
    },
    {
      "cell_type": "code",
      "source": [
        "combined_df.head()"
      ],
      "metadata": {
        "id": "ynmJe0u8Cffq",
        "outputId": "e425a1b9-2885-4427-86b8-533b8d378b55",
        "colab": {
          "base_uri": "https://localhost:8080/",
          "height": 206
        }
      },
      "execution_count": null,
      "outputs": [
        {
          "output_type": "execute_result",
          "data": {
            "text/plain": [
              "                 id                                       comment_text  toxic  \\\n",
              "0  0000997932d777bf  explanation why the edits made under my userna...    0.0   \n",
              "1  000103f0d9cfb60f  daww he matches this background colour i m see...    0.0   \n",
              "2  000113f07ec002fd  hey man i m really not trying to edit war its ...    0.0   \n",
              "3  0001b41b1c6bb37e  more i ca nt make any real suggestions on impr...    0.0   \n",
              "4  0001d958c54c6e35  you sir are my hero any chance you remember wh...    0.0   \n",
              "\n",
              "   severe_toxic  obscene  threat  insult  identity_hate    source  \n",
              "0           0.0      0.0     0.0     0.0            0.0  original  \n",
              "1           0.0      0.0     0.0     0.0            0.0  original  \n",
              "2           0.0      0.0     0.0     0.0            0.0  original  \n",
              "3           0.0      0.0     0.0     0.0            0.0  original  \n",
              "4           0.0      0.0     0.0     0.0            0.0  original  "
            ],
            "text/html": [
              "\n",
              "  <div id=\"df-224250ea-aa7f-49b1-8d99-4edee0c4442d\" class=\"colab-df-container\">\n",
              "    <div>\n",
              "<style scoped>\n",
              "    .dataframe tbody tr th:only-of-type {\n",
              "        vertical-align: middle;\n",
              "    }\n",
              "\n",
              "    .dataframe tbody tr th {\n",
              "        vertical-align: top;\n",
              "    }\n",
              "\n",
              "    .dataframe thead th {\n",
              "        text-align: right;\n",
              "    }\n",
              "</style>\n",
              "<table border=\"1\" class=\"dataframe\">\n",
              "  <thead>\n",
              "    <tr style=\"text-align: right;\">\n",
              "      <th></th>\n",
              "      <th>id</th>\n",
              "      <th>comment_text</th>\n",
              "      <th>toxic</th>\n",
              "      <th>severe_toxic</th>\n",
              "      <th>obscene</th>\n",
              "      <th>threat</th>\n",
              "      <th>insult</th>\n",
              "      <th>identity_hate</th>\n",
              "      <th>source</th>\n",
              "    </tr>\n",
              "  </thead>\n",
              "  <tbody>\n",
              "    <tr>\n",
              "      <th>0</th>\n",
              "      <td>0000997932d777bf</td>\n",
              "      <td>explanation why the edits made under my userna...</td>\n",
              "      <td>0.0</td>\n",
              "      <td>0.0</td>\n",
              "      <td>0.0</td>\n",
              "      <td>0.0</td>\n",
              "      <td>0.0</td>\n",
              "      <td>0.0</td>\n",
              "      <td>original</td>\n",
              "    </tr>\n",
              "    <tr>\n",
              "      <th>1</th>\n",
              "      <td>000103f0d9cfb60f</td>\n",
              "      <td>daww he matches this background colour i m see...</td>\n",
              "      <td>0.0</td>\n",
              "      <td>0.0</td>\n",
              "      <td>0.0</td>\n",
              "      <td>0.0</td>\n",
              "      <td>0.0</td>\n",
              "      <td>0.0</td>\n",
              "      <td>original</td>\n",
              "    </tr>\n",
              "    <tr>\n",
              "      <th>2</th>\n",
              "      <td>000113f07ec002fd</td>\n",
              "      <td>hey man i m really not trying to edit war its ...</td>\n",
              "      <td>0.0</td>\n",
              "      <td>0.0</td>\n",
              "      <td>0.0</td>\n",
              "      <td>0.0</td>\n",
              "      <td>0.0</td>\n",
              "      <td>0.0</td>\n",
              "      <td>original</td>\n",
              "    </tr>\n",
              "    <tr>\n",
              "      <th>3</th>\n",
              "      <td>0001b41b1c6bb37e</td>\n",
              "      <td>more i ca nt make any real suggestions on impr...</td>\n",
              "      <td>0.0</td>\n",
              "      <td>0.0</td>\n",
              "      <td>0.0</td>\n",
              "      <td>0.0</td>\n",
              "      <td>0.0</td>\n",
              "      <td>0.0</td>\n",
              "      <td>original</td>\n",
              "    </tr>\n",
              "    <tr>\n",
              "      <th>4</th>\n",
              "      <td>0001d958c54c6e35</td>\n",
              "      <td>you sir are my hero any chance you remember wh...</td>\n",
              "      <td>0.0</td>\n",
              "      <td>0.0</td>\n",
              "      <td>0.0</td>\n",
              "      <td>0.0</td>\n",
              "      <td>0.0</td>\n",
              "      <td>0.0</td>\n",
              "      <td>original</td>\n",
              "    </tr>\n",
              "  </tbody>\n",
              "</table>\n",
              "</div>\n",
              "    <div class=\"colab-df-buttons\">\n",
              "\n",
              "  <div class=\"colab-df-container\">\n",
              "    <button class=\"colab-df-convert\" onclick=\"convertToInteractive('df-224250ea-aa7f-49b1-8d99-4edee0c4442d')\"\n",
              "            title=\"Convert this dataframe to an interactive table.\"\n",
              "            style=\"display:none;\">\n",
              "\n",
              "  <svg xmlns=\"http://www.w3.org/2000/svg\" height=\"24px\" viewBox=\"0 -960 960 960\">\n",
              "    <path d=\"M120-120v-720h720v720H120Zm60-500h600v-160H180v160Zm220 220h160v-160H400v160Zm0 220h160v-160H400v160ZM180-400h160v-160H180v160Zm440 0h160v-160H620v160ZM180-180h160v-160H180v160Zm440 0h160v-160H620v160Z\"/>\n",
              "  </svg>\n",
              "    </button>\n",
              "\n",
              "  <style>\n",
              "    .colab-df-container {\n",
              "      display:flex;\n",
              "      gap: 12px;\n",
              "    }\n",
              "\n",
              "    .colab-df-convert {\n",
              "      background-color: #E8F0FE;\n",
              "      border: none;\n",
              "      border-radius: 50%;\n",
              "      cursor: pointer;\n",
              "      display: none;\n",
              "      fill: #1967D2;\n",
              "      height: 32px;\n",
              "      padding: 0 0 0 0;\n",
              "      width: 32px;\n",
              "    }\n",
              "\n",
              "    .colab-df-convert:hover {\n",
              "      background-color: #E2EBFA;\n",
              "      box-shadow: 0px 1px 2px rgba(60, 64, 67, 0.3), 0px 1px 3px 1px rgba(60, 64, 67, 0.15);\n",
              "      fill: #174EA6;\n",
              "    }\n",
              "\n",
              "    .colab-df-buttons div {\n",
              "      margin-bottom: 4px;\n",
              "    }\n",
              "\n",
              "    [theme=dark] .colab-df-convert {\n",
              "      background-color: #3B4455;\n",
              "      fill: #D2E3FC;\n",
              "    }\n",
              "\n",
              "    [theme=dark] .colab-df-convert:hover {\n",
              "      background-color: #434B5C;\n",
              "      box-shadow: 0px 1px 3px 1px rgba(0, 0, 0, 0.15);\n",
              "      filter: drop-shadow(0px 1px 2px rgba(0, 0, 0, 0.3));\n",
              "      fill: #FFFFFF;\n",
              "    }\n",
              "  </style>\n",
              "\n",
              "    <script>\n",
              "      const buttonEl =\n",
              "        document.querySelector('#df-224250ea-aa7f-49b1-8d99-4edee0c4442d button.colab-df-convert');\n",
              "      buttonEl.style.display =\n",
              "        google.colab.kernel.accessAllowed ? 'block' : 'none';\n",
              "\n",
              "      async function convertToInteractive(key) {\n",
              "        const element = document.querySelector('#df-224250ea-aa7f-49b1-8d99-4edee0c4442d');\n",
              "        const dataTable =\n",
              "          await google.colab.kernel.invokeFunction('convertToInteractive',\n",
              "                                                    [key], {});\n",
              "        if (!dataTable) return;\n",
              "\n",
              "        const docLinkHtml = 'Like what you see? Visit the ' +\n",
              "          '<a target=\"_blank\" href=https://colab.research.google.com/notebooks/data_table.ipynb>data table notebook</a>'\n",
              "          + ' to learn more about interactive tables.';\n",
              "        element.innerHTML = '';\n",
              "        dataTable['output_type'] = 'display_data';\n",
              "        await google.colab.output.renderOutput(dataTable, element);\n",
              "        const docLink = document.createElement('div');\n",
              "        docLink.innerHTML = docLinkHtml;\n",
              "        element.appendChild(docLink);\n",
              "      }\n",
              "    </script>\n",
              "  </div>\n",
              "\n",
              "\n",
              "<div id=\"df-73a807b2-9772-4c02-9909-7bee6fb913ec\">\n",
              "  <button class=\"colab-df-quickchart\" onclick=\"quickchart('df-73a807b2-9772-4c02-9909-7bee6fb913ec')\"\n",
              "            title=\"Suggest charts\"\n",
              "            style=\"display:none;\">\n",
              "\n",
              "<svg xmlns=\"http://www.w3.org/2000/svg\" height=\"24px\"viewBox=\"0 0 24 24\"\n",
              "     width=\"24px\">\n",
              "    <g>\n",
              "        <path d=\"M19 3H5c-1.1 0-2 .9-2 2v14c0 1.1.9 2 2 2h14c1.1 0 2-.9 2-2V5c0-1.1-.9-2-2-2zM9 17H7v-7h2v7zm4 0h-2V7h2v10zm4 0h-2v-4h2v4z\"/>\n",
              "    </g>\n",
              "</svg>\n",
              "  </button>\n",
              "\n",
              "<style>\n",
              "  .colab-df-quickchart {\n",
              "      --bg-color: #E8F0FE;\n",
              "      --fill-color: #1967D2;\n",
              "      --hover-bg-color: #E2EBFA;\n",
              "      --hover-fill-color: #174EA6;\n",
              "      --disabled-fill-color: #AAA;\n",
              "      --disabled-bg-color: #DDD;\n",
              "  }\n",
              "\n",
              "  [theme=dark] .colab-df-quickchart {\n",
              "      --bg-color: #3B4455;\n",
              "      --fill-color: #D2E3FC;\n",
              "      --hover-bg-color: #434B5C;\n",
              "      --hover-fill-color: #FFFFFF;\n",
              "      --disabled-bg-color: #3B4455;\n",
              "      --disabled-fill-color: #666;\n",
              "  }\n",
              "\n",
              "  .colab-df-quickchart {\n",
              "    background-color: var(--bg-color);\n",
              "    border: none;\n",
              "    border-radius: 50%;\n",
              "    cursor: pointer;\n",
              "    display: none;\n",
              "    fill: var(--fill-color);\n",
              "    height: 32px;\n",
              "    padding: 0;\n",
              "    width: 32px;\n",
              "  }\n",
              "\n",
              "  .colab-df-quickchart:hover {\n",
              "    background-color: var(--hover-bg-color);\n",
              "    box-shadow: 0 1px 2px rgba(60, 64, 67, 0.3), 0 1px 3px 1px rgba(60, 64, 67, 0.15);\n",
              "    fill: var(--button-hover-fill-color);\n",
              "  }\n",
              "\n",
              "  .colab-df-quickchart-complete:disabled,\n",
              "  .colab-df-quickchart-complete:disabled:hover {\n",
              "    background-color: var(--disabled-bg-color);\n",
              "    fill: var(--disabled-fill-color);\n",
              "    box-shadow: none;\n",
              "  }\n",
              "\n",
              "  .colab-df-spinner {\n",
              "    border: 2px solid var(--fill-color);\n",
              "    border-color: transparent;\n",
              "    border-bottom-color: var(--fill-color);\n",
              "    animation:\n",
              "      spin 1s steps(1) infinite;\n",
              "  }\n",
              "\n",
              "  @keyframes spin {\n",
              "    0% {\n",
              "      border-color: transparent;\n",
              "      border-bottom-color: var(--fill-color);\n",
              "      border-left-color: var(--fill-color);\n",
              "    }\n",
              "    20% {\n",
              "      border-color: transparent;\n",
              "      border-left-color: var(--fill-color);\n",
              "      border-top-color: var(--fill-color);\n",
              "    }\n",
              "    30% {\n",
              "      border-color: transparent;\n",
              "      border-left-color: var(--fill-color);\n",
              "      border-top-color: var(--fill-color);\n",
              "      border-right-color: var(--fill-color);\n",
              "    }\n",
              "    40% {\n",
              "      border-color: transparent;\n",
              "      border-right-color: var(--fill-color);\n",
              "      border-top-color: var(--fill-color);\n",
              "    }\n",
              "    60% {\n",
              "      border-color: transparent;\n",
              "      border-right-color: var(--fill-color);\n",
              "    }\n",
              "    80% {\n",
              "      border-color: transparent;\n",
              "      border-right-color: var(--fill-color);\n",
              "      border-bottom-color: var(--fill-color);\n",
              "    }\n",
              "    90% {\n",
              "      border-color: transparent;\n",
              "      border-bottom-color: var(--fill-color);\n",
              "    }\n",
              "  }\n",
              "</style>\n",
              "\n",
              "  <script>\n",
              "    async function quickchart(key) {\n",
              "      const quickchartButtonEl =\n",
              "        document.querySelector('#' + key + ' button');\n",
              "      quickchartButtonEl.disabled = true;  // To prevent multiple clicks.\n",
              "      quickchartButtonEl.classList.add('colab-df-spinner');\n",
              "      try {\n",
              "        const charts = await google.colab.kernel.invokeFunction(\n",
              "            'suggestCharts', [key], {});\n",
              "      } catch (error) {\n",
              "        console.error('Error during call to suggestCharts:', error);\n",
              "      }\n",
              "      quickchartButtonEl.classList.remove('colab-df-spinner');\n",
              "      quickchartButtonEl.classList.add('colab-df-quickchart-complete');\n",
              "    }\n",
              "    (() => {\n",
              "      let quickchartButtonEl =\n",
              "        document.querySelector('#df-73a807b2-9772-4c02-9909-7bee6fb913ec button');\n",
              "      quickchartButtonEl.style.display =\n",
              "        google.colab.kernel.accessAllowed ? 'block' : 'none';\n",
              "    })();\n",
              "  </script>\n",
              "</div>\n",
              "\n",
              "    </div>\n",
              "  </div>\n"
            ],
            "application/vnd.google.colaboratory.intrinsic+json": {
              "type": "dataframe",
              "variable_name": "combined_df"
            }
          },
          "metadata": {},
          "execution_count": 9
        }
      ],
      "id": "ynmJe0u8Cffq"
    },
    {
      "cell_type": "code",
      "source": [
        "# Check for missing values, data types, and unique values\n",
        "print(combined_df.isnull().sum())\n",
        "print(combined_df.dtypes)\n",
        "print(combined_df.nunique())"
      ],
      "metadata": {
        "id": "2auZ4lIeBvfu",
        "outputId": "faa9951c-352d-4fb2-f3fa-c84f06562a71",
        "colab": {
          "base_uri": "https://localhost:8080/"
        }
      },
      "execution_count": null,
      "outputs": [
        {
          "output_type": "stream",
          "name": "stdout",
          "text": [
            "id                 0\n",
            "comment_text     223\n",
            "toxic              0\n",
            "severe_toxic       0\n",
            "obscene            0\n",
            "threat             0\n",
            "insult             0\n",
            "identity_hate      0\n",
            "source             0\n",
            "dtype: int64\n",
            "id                object\n",
            "comment_text      object\n",
            "toxic            float64\n",
            "severe_toxic     float64\n",
            "obscene          float64\n",
            "threat           float64\n",
            "insult           float64\n",
            "identity_hate    float64\n",
            "source            object\n",
            "dtype: object\n",
            "id               1964445\n",
            "comment_text     1927936\n",
            "toxic               2913\n",
            "severe_toxic        1460\n",
            "obscene             2417\n",
            "threat              2053\n",
            "insult              3042\n",
            "identity_hate       2294\n",
            "source                 2\n",
            "dtype: int64\n"
          ]
        }
      ],
      "id": "2auZ4lIeBvfu"
    },
    {
      "cell_type": "code",
      "source": [
        "# Fill missing values\n",
        "combined_df[\"comment_text\"] = combined_df[\"comment_text\"].fillna(\"\")\n",
        "\n",
        "# Word count, character count, average word length\n",
        "combined_df[\"word_count\"] = combined_df[\"comment_text\"].apply(lambda x: len(str(x).split()))\n",
        "combined_df[\"char_count\"] = combined_df[\"comment_text\"].apply(lambda x: len(str(x)))\n",
        "combined_df[\"avg_word_length\"] = combined_df[\"char_count\"] / combined_df[\"word_count\"].replace(0, 1)\n",
        "\n",
        "# Count punctuation marks\n",
        "combined_df[\"punctuation_count\"] = combined_df[\"comment_text\"].apply(\n",
        "    lambda x: sum(1 for char in str(x) if char in string.punctuation)\n",
        ")\n",
        "\n",
        "# Count uppercase words\n",
        "combined_df[\"uppercase_word_count\"] = combined_df[\"comment_text\"].apply(\n",
        "    lambda x: sum(1 for word in str(x).split() if word.isupper())\n",
        ")\n",
        "\n",
        "# Count titlecase words\n",
        "combined_df[\"titlecase_word_count\"] = combined_df[\"comment_text\"].apply(\n",
        "    lambda x: sum(1 for word in str(x).split() if word.istitle())\n",
        ")\n",
        "\n",
        "# Calculate % of unique words\n",
        "combined_df[\"unique_word_count\"] = combined_df[\"comment_text\"].apply(lambda x: len(set(str(x).split())))\n",
        "combined_df[\"word_unique_percent\"] = combined_df[\"unique_word_count\"] * 100 / combined_df[\"word_count\"].replace(0, 1)\n",
        "\n",
        "# Calculate % of punctuation characters\n",
        "combined_df[\"punct_percent\"] = combined_df[\"punctuation_count\"] * 100 / combined_df[\"word_count\"].replace(0, 1)"
      ],
      "metadata": {
        "id": "-cmOf0C5Dg_A"
      },
      "execution_count": null,
      "outputs": [],
      "id": "-cmOf0C5Dg_A"
    },
    {
      "cell_type": "code",
      "source": [
        "print(combined_df.head())"
      ],
      "metadata": {
        "id": "S0UmXdTMDj3U",
        "outputId": "801c7435-dcb5-4a66-bb78-a0bf78ec55ad",
        "colab": {
          "base_uri": "https://localhost:8080/"
        }
      },
      "execution_count": null,
      "outputs": [
        {
          "output_type": "stream",
          "name": "stdout",
          "text": [
            "                 id                                       comment_text  toxic  \\\n",
            "0  0000997932d777bf  explanation why the edits made under my userna...    0.0   \n",
            "1  000103f0d9cfb60f  daww he matches this background colour i m see...    0.0   \n",
            "2  000113f07ec002fd  hey man i m really not trying to edit war its ...    0.0   \n",
            "3  0001b41b1c6bb37e  more i ca nt make any real suggestions on impr...    0.0   \n",
            "4  0001d958c54c6e35  you sir are my hero any chance you remember wh...    0.0   \n",
            "\n",
            "   severe_toxic  obscene  threat  insult  identity_hate    source  word_count  \\\n",
            "0           0.0      0.0     0.0     0.0            0.0  original          46   \n",
            "1           0.0      0.0     0.0     0.0            0.0  original          18   \n",
            "2           0.0      0.0     0.0     0.0            0.0  original          43   \n",
            "3           0.0      0.0     0.0     0.0            0.0  original         110   \n",
            "4           0.0      0.0     0.0     0.0            0.0  original          14   \n",
            "\n",
            "   char_count  avg_word_length  punctuation_count  uppercase_word_count  \\\n",
            "0         257         5.586957                  0                     0   \n",
            "1         100         5.555556                  0                     0   \n",
            "2         228         5.302326                  0                     0   \n",
            "3         595         5.409091                  0                     0   \n",
            "4          63         4.500000                  0                     0   \n",
            "\n",
            "   titlecase_word_count  unique_word_count  word_unique_percent  punct_percent  \n",
            "0                     0                 41            89.130435            0.0  \n",
            "1                     0                 18           100.000000            0.0  \n",
            "2                     0                 40            93.023256            0.0  \n",
            "3                     0                 78            70.909091            0.0  \n",
            "4                     0                 13            92.857143            0.0  \n"
          ]
        }
      ],
      "id": "S0UmXdTMDj3U"
    },
    {
      "cell_type": "code",
      "source": [
        "# Calculate label sums\n",
        "label_cols = ['toxic', 'severe_toxic', 'obscene', 'threat', 'insult', 'identity_hate']\n",
        "label_sums = combined_df[label_cols].sum().sort_values(ascending=False)\n",
        "\n",
        "# Plot\n",
        "plt.figure(figsize=(10, 5))\n",
        "sns.barplot(x=label_sums.index, y=label_sums.values, palette=\"viridis\")\n",
        "plt.title(\"Distribution of Toxicity Labels in Combined Dataset\")\n",
        "plt.ylabel(\"Number of Comments\")\n",
        "plt.xlabel(\"Toxicity Category\")\n",
        "plt.grid(axis='y')\n",
        "plt.tight_layout()\n",
        "plt.show()"
      ],
      "metadata": {
        "id": "QmIBLIjKGs2G",
        "outputId": "62065910-8bbc-4286-8239-7227ab3a429a",
        "colab": {
          "base_uri": "https://localhost:8080/",
          "height": 614
        }
      },
      "execution_count": null,
      "outputs": [
        {
          "output_type": "stream",
          "name": "stderr",
          "text": [
            "<ipython-input-13-a75ba738a141>:7: FutureWarning: \n",
            "\n",
            "Passing `palette` without assigning `hue` is deprecated and will be removed in v0.14.0. Assign the `x` variable to `hue` and set `legend=False` for the same effect.\n",
            "\n",
            "  sns.barplot(x=label_sums.index, y=label_sums.values, palette=\"viridis\")\n"
          ]
        },
        {
          "output_type": "display_data",
          "data": {
            "text/plain": [
              "<Figure size 1000x500 with 1 Axes>"
            ],
            "image/png": "[encoded data removed]"
          },
          "metadata": {}
        }
      ],
      "id": "QmIBLIjKGs2G"
    },
    {
      "cell_type": "markdown",
      "source": [
        "### Insights:\n",
        "\n",
        "*   \"Toxic\", \"Insult\" and \"identity_hate\" appear most frequently — common in both datasets.\n",
        "\n",
        "*   \"obscene\", \"Threat\", and \"Severe Toxic\" are rarer — showing class imbalance.\n",
        "\n"
      ],
      "metadata": {
        "id": "PbTpY4N1G-qO"
      },
      "id": "PbTpY4N1G-qO"
    },
    {
      "cell_type": "code",
      "source": [
        "binary_combined_labels_df = pd.DataFrame()\n",
        "\n",
        "# Convert float labels to binary (threshold = 0.5)\n",
        "binary_combined_labels_df[label_cols] = (combined_df[label_cols] >= 0.5).astype(int)\n",
        "\n",
        "# Count number of labels per row\n",
        "binary_combined_labels_df['num_labels'] = binary_combined_labels_df[label_cols].sum(axis=1)\n",
        "\n",
        "# Plot distribution of number of toxic tags per comment\n",
        "plt.figure(figsize=(8, 5))\n",
        "sns.countplot(x='num_labels', data=binary_combined_labels_df, palette=\"magma\")\n",
        "plt.title(\"Number of Toxic Tags per Comment\")\n",
        "plt.xlabel(\"# of Toxic Labels\")\n",
        "plt.ylabel(\"Number of Comments\")\n",
        "plt.grid(axis='y')\n",
        "plt.tight_layout()\n",
        "plt.show()"
      ],
      "metadata": {
        "id": "iZFWv409Hw9i",
        "outputId": "68350926-5924-4009-880d-651b86436173",
        "colab": {
          "base_uri": "https://localhost:8080/",
          "height": 614
        }
      },
      "execution_count": null,
      "outputs": [
        {
          "output_type": "stream",
          "name": "stderr",
          "text": [
            "<ipython-input-14-3abbfecad325>:11: FutureWarning: \n",
            "\n",
            "Passing `palette` without assigning `hue` is deprecated and will be removed in v0.14.0. Assign the `x` variable to `hue` and set `legend=False` for the same effect.\n",
            "\n",
            "  sns.countplot(x='num_labels', data=binary_combined_labels_df, palette=\"magma\")\n"
          ]
        },
        {
          "output_type": "display_data",
          "data": {
            "text/plain": [
              "<Figure size 800x500 with 1 Axes>"
            ],
            "image/png": "[encoded data removed]"
          },
          "metadata": {}
        }
      ],
      "id": "iZFWv409Hw9i"
    },
    {
      "cell_type": "markdown",
      "source": [
        "# Tags\tInterpretation\n",
        "*   0 :\tMajority (~90%) of comments are clean (not labeled with any toxic tag).\n",
        "*   1-2 :\tA decent number have 1–2 toxic traits — e.g., just \"toxic\", or \"toxic + insult\".\n",
        "*   3+ :\tFewer comments have multiple layers of toxicity (e.g., \"toxic + obscene + threat\").\n",
        "\n",
        "**What This Means for Your Modeling:**\n",
        "\n",
        "*   Imbalanced dataset: Heavy skew towards non-toxic (0-label) comments.\n",
        "*   Multi-label learning is required, not just binary classification.\n",
        "\n",
        "**Performance metrics should include:**\n",
        "\n",
        "*   Macro F1 (accounts for minority classes)\n",
        "*   Subgroup analysis (e.g., 2+ labels vs 0–1)"
      ],
      "metadata": {
        "id": "Cx5gwF6qQZiy"
      },
      "id": "Cx5gwF6qQZiy"
    },
    {
      "cell_type": "code",
      "source": [
        "# Calculate Pearson correlation between label columns\n",
        "correlation = combined_df[label_cols].corr()\n",
        "\n",
        "# Plot heatmap\n",
        "plt.figure(figsize=(8, 6))\n",
        "sns.heatmap(correlation, annot=True, cmap=\"YlGnBu\", fmt=\".2f\")\n",
        "plt.title(\"Correlation Between Toxic Labels\")\n",
        "plt.tight_layout()\n",
        "plt.show()"
      ],
      "metadata": {
        "id": "23iayceFIab5",
        "outputId": "f78d4320-ca4c-48ae-cfb9-0707d11e46e4",
        "colab": {
          "base_uri": "https://localhost:8080/",
          "height": 607
        }
      },
      "execution_count": null,
      "outputs": [
        {
          "output_type": "display_data",
          "data": {
            "text/plain": [
              "<Figure size 800x600 with 2 Axes>"
            ],
            "image/png": "[encoded data removed]"
          },
          "metadata": {}
        }
      ],
      "id": "23iayceFIab5"
    },
    {
      "cell_type": "markdown",
      "source": [
        "### Strong Correlations\n",
        "\n",
        "*   Toxic ↔ Insult: 0.89\n",
        "Indicates that most \"insult\" comments are also labeled \"toxic\". A model learning to predict \"toxic\" might already capture a lot of \"insult\" signal.\n",
        "*   Toxic ↔ Obscene: 0.51\n",
        "Often used together — offensive language usually overlaps with toxicity.\n",
        "*   Toxic ↔ Severe Toxic: 0.32\n",
        "Every \"severe toxic\" comment is by definition \"toxic\", which this reflects."
      ],
      "metadata": {
        "id": "8pJ2c8P3MZBW"
      },
      "id": "8pJ2c8P3MZBW"
    },
    {
      "cell_type": "code",
      "source": [
        "print(binary_combined_labels_df.head())"
      ],
      "metadata": {
        "id": "RZNQIVTlJ30F",
        "outputId": "642dad25-09cb-41bc-ebd1-e253c1b77988",
        "colab": {
          "base_uri": "https://localhost:8080/"
        }
      },
      "execution_count": null,
      "outputs": [
        {
          "output_type": "stream",
          "name": "stdout",
          "text": [
            "   toxic  severe_toxic  obscene  threat  insult  identity_hate  num_labels\n",
            "0      0             0        0       0       0              0           0\n",
            "1      0             0        0       0       0              0           0\n",
            "2      0             0        0       0       0              0           0\n",
            "3      0             0        0       0       0              0           0\n",
            "4      0             0        0       0       0              0           0\n"
          ]
        }
      ],
      "id": "RZNQIVTlJ30F"
    },
    {
      "cell_type": "code",
      "source": [
        "# Add the label column based on binary_combined_labels_df\n",
        "combined_df[\"label\"] = (binary_combined_labels_df[\"num_labels\"] > 0).astype(int)"
      ],
      "metadata": {
        "id": "UcFIkguQTMjv"
      },
      "execution_count": null,
      "outputs": [],
      "id": "UcFIkguQTMjv"
    },
    {
      "cell_type": "code",
      "source": [
        "print(combined_df.head())"
      ],
      "metadata": {
        "id": "Kc3qlr4ZYL9v",
        "outputId": "98ab3b27-e18e-41c9-cdd8-235fa17caadb",
        "colab": {
          "base_uri": "https://localhost:8080/"
        }
      },
      "execution_count": null,
      "outputs": [
        {
          "output_type": "stream",
          "name": "stdout",
          "text": [
            "                 id                                       comment_text  toxic  \\\n",
            "0  0000997932d777bf  explanation why the edits made under my userna...    0.0   \n",
            "1  000103f0d9cfb60f  daww he matches this background colour i m see...    0.0   \n",
            "2  000113f07ec002fd  hey man i m really not trying to edit war its ...    0.0   \n",
            "3  0001b41b1c6bb37e  more i ca nt make any real suggestions on impr...    0.0   \n",
            "4  0001d958c54c6e35  you sir are my hero any chance you remember wh...    0.0   \n",
            "\n",
            "   severe_toxic  obscene  threat  insult  identity_hate    source  word_count  \\\n",
            "0           0.0      0.0     0.0     0.0            0.0  original          46   \n",
            "1           0.0      0.0     0.0     0.0            0.0  original          18   \n",
            "2           0.0      0.0     0.0     0.0            0.0  original          43   \n",
            "3           0.0      0.0     0.0     0.0            0.0  original         110   \n",
            "4           0.0      0.0     0.0     0.0            0.0  original          14   \n",
            "\n",
            "   char_count  avg_word_length  punctuation_count  uppercase_word_count  \\\n",
            "0         257         5.586957                  0                     0   \n",
            "1         100         5.555556                  0                     0   \n",
            "2         228         5.302326                  0                     0   \n",
            "3         595         5.409091                  0                     0   \n",
            "4          63         4.500000                  0                     0   \n",
            "\n",
            "   titlecase_word_count  unique_word_count  word_unique_percent  \\\n",
            "0                     0                 41            89.130435   \n",
            "1                     0                 18           100.000000   \n",
            "2                     0                 40            93.023256   \n",
            "3                     0                 78            70.909091   \n",
            "4                     0                 13            92.857143   \n",
            "\n",
            "   punct_percent  label  \n",
            "0            0.0      0  \n",
            "1            0.0      0  \n",
            "2            0.0      0  \n",
            "3            0.0      0  \n",
            "4            0.0      0  \n"
          ]
        }
      ],
      "id": "Kc3qlr4ZYL9v"
    },
    {
      "cell_type": "code",
      "source": [
        "combined_df.to_csv(\"merged_dataset.csv\", index=False)"
      ],
      "metadata": {
        "id": "2e96kAksduUz"
      },
      "id": "2e96kAksduUz",
      "execution_count": null,
      "outputs": []
    },
    {
      "cell_type": "code",
      "source": [
        "combined_df = pd.read_csv(\"merged_dataset.csv\")"
      ],
      "metadata": {
        "id": "zC3RZVbhdzzc",
        "outputId": "3db40f9a-7809-4506-d5da-96aad4e26edd",
        "colab": {
          "base_uri": "https://localhost:8080/"
        }
      },
      "id": "zC3RZVbhdzzc",
      "execution_count": 5,
      "outputs": [
        {
          "output_type": "stream",
          "name": "stderr",
          "text": [
            "<ipython-input-5-dd732b4a6332>:1: DtypeWarning: Columns (0) have mixed types. Specify dtype option on import or set low_memory=False.\n",
            "  combined_df = pd.read_csv(\"merged_dataset.csv\")\n"
          ]
        }
      ]
    },
    {
      "cell_type": "code",
      "source": [
        "# Load GloVe vectors\n",
        "glove = api.load(\"glove-wiki-gigaword-300\")\n"
      ],
      "metadata": {
        "id": "tvTnAMoDZsWe",
        "outputId": "48b25a47-9165-4532-9d75-59c90a962a8a",
        "colab": {
          "base_uri": "https://localhost:8080/"
        }
      },
      "id": "tvTnAMoDZsWe",
      "execution_count": 6,
      "outputs": [
        {
          "output_type": "stream",
          "name": "stdout",
          "text": [
            "[==================================================] 100.0% 376.1/376.1MB downloaded\n"
          ]
        }
      ]
    },
    {
      "cell_type": "code",
      "source": [
        "def avg_glove(text):\n",
        "    words = [w for w in str(text).split() if w in glove]\n",
        "    return np.mean([glove[w] for w in words], axis=0) if words else np.zeros(300)\n",
        "\n",
        "# Apply it to ALL rows in combined_df\n",
        "X_glove = np.vstack(combined_df[\"comment_text\"].apply(avg_glove))"
      ],
      "metadata": {
        "id": "fZLOaC-PfcxT"
      },
      "id": "fZLOaC-PfcxT",
      "execution_count": 7,
      "outputs": []
    },
    {
      "cell_type": "code",
      "source": [
        "# Define engineered feature columns\n",
        "engineered_cols = [\n",
        "    'word_count',\n",
        "    'char_count',\n",
        "    'avg_word_length',\n",
        "    'punctuation_count',\n",
        "    'uppercase_word_count',\n",
        "    'titlecase_word_count',\n",
        "    'word_unique_percent',\n",
        "    'punct_percent'\n",
        "]"
      ],
      "metadata": {
        "id": "Lk4rrPpo82bn"
      },
      "execution_count": 8,
      "outputs": [],
      "id": "Lk4rrPpo82bn"
    },
    {
      "cell_type": "code",
      "source": [
        "# Extract engineered features\n",
        "X_features = combined_df[engineered_cols].values\n",
        "\n",
        "# Scale both sets of features\n",
        "glove_scaler = StandardScaler()\n",
        "feature_scaler = MinMaxScaler()\n",
        "\n",
        "X_glove_scaled = glove_scaler.fit_transform(X_glove)\n",
        "X_feat_scaled = feature_scaler.fit_transform(X_features)\n",
        "\n",
        "# Combine GloVe + Engineered Features\n",
        "X_combined = np.hstack((X_glove_scaled, X_feat_scaled))\n",
        "\n",
        "# Binary label\n",
        "y = combined_df[\"label\"].values"
      ],
      "metadata": {
        "id": "c-ZCCm8z-4j-"
      },
      "execution_count": 9,
      "outputs": [],
      "id": "c-ZCCm8z-4j-"
    },
    {
      "cell_type": "code",
      "source": [
        "print(\"GloVe shape:\", X_glove.shape)\n",
        "print(\"Engineered features shape:\", X_features.shape)\n",
        "print(\"combined_df shape:\", combined_df.shape)"
      ],
      "metadata": {
        "id": "pVjI7bjkfGM8",
        "outputId": "db259e2f-fa5a-41a1-cd53-bf8e883bb356",
        "colab": {
          "base_uri": "https://localhost:8080/"
        }
      },
      "id": "pVjI7bjkfGM8",
      "execution_count": 10,
      "outputs": [
        {
          "output_type": "stream",
          "name": "stdout",
          "text": [
            "GloVe shape: (1964445, 300)\n",
            "Engineered features shape: (1964445, 8)\n",
            "combined_df shape: (1964445, 19)\n"
          ]
        }
      ]
    },
    {
      "cell_type": "code",
      "source": [
        "# Train-test split\n",
        "X_train, X_val, y_train, y_val = train_test_split(\n",
        "    X_combined, y, test_size=0.2, stratify=y, random_state=42\n",
        ")"
      ],
      "metadata": {
        "id": "e4CxZ59VDFBG"
      },
      "execution_count": null,
      "outputs": [],
      "id": "e4CxZ59VDFBG"
    },
    {
      "cell_type": "markdown",
      "source": [
        "# Deep Neural Networks"
      ],
      "metadata": {
        "id": "WpnD8HpMqrue"
      },
      "id": "WpnD8HpMqrue"
    },
    {
      "cell_type": "markdown",
      "source": [
        "## Binary Classification"
      ],
      "metadata": {
        "id": "Z7aRdWkpqvnI"
      },
      "id": "Z7aRdWkpqvnI"
    },
    {
      "cell_type": "code",
      "source": [
        "from sklearn.metrics import precision_recall_curve, classification_report, confusion_matrix, accuracy_score, precision_score, recall_score, f1_score\n",
        "from sklearn.utils.class_weight import compute_class_weight\n",
        "\n",
        "def train_and_evaluate(X_train, y_train, X_val, y_val, use_class_weight=False):\n",
        "    print(f\"\\n{'='*30}\\nTraining with class_weight = {use_class_weight}\\n{'='*30}\")\n",
        "\n",
        "    # Build model\n",
        "    model = tf.keras.Sequential([\n",
        "        tf.keras.layers.Input(shape=(X_train.shape[1],)),\n",
        "        tf.keras.layers.Dense(128, activation='relu'),\n",
        "        tf.keras.layers.Dropout(0.3),\n",
        "        tf.keras.layers.Dense(64, activation='relu'),\n",
        "        tf.keras.layers.Dropout(0.3),\n",
        "        tf.keras.layers.Dense(1, activation='sigmoid')\n",
        "    ])\n",
        "\n",
        "    model.compile(loss='binary_crossentropy', optimizer='adam', metrics=['accuracy'])\n",
        "\n",
        "    # Handle class imbalance\n",
        "    class_weight = None\n",
        "    if use_class_weight:\n",
        "        weights = compute_class_weight(class_weight='balanced', classes=np.unique(y_train), y=y_train)\n",
        "        class_weight = dict(enumerate(weights))\n",
        "\n",
        "    # Train\n",
        "    history = model.fit(X_train, y_train, validation_data=(X_val, y_val), epochs=10, batch_size=64, verbose=0, class_weight=class_weight)\n",
        "\n",
        "    # Predict probabilities\n",
        "    y_val_probs = model.predict(X_val).ravel()\n",
        "\n",
        "    # Find best threshold for F1\n",
        "    precision, recall, thresholds = precision_recall_curve(y_val, y_val_probs)\n",
        "    f1_scores = 2 * (precision * recall) / (precision + recall + 1e-8)\n",
        "    best_idx = np.argmax(f1_scores)\n",
        "    best_thresh = thresholds[best_idx]\n",
        "\n",
        "    # Final predictions\n",
        "    y_pred = (y_val_probs >= best_thresh).astype(int)\n",
        "\n",
        "    # Evaluation\n",
        "    acc = accuracy_score(y_val, y_pred)\n",
        "    prec = precision_score(y_val, y_pred)\n",
        "    rec = recall_score(y_val, y_pred)\n",
        "    f1 = f1_score(y_val, y_pred)\n",
        "    cm = confusion_matrix(y_val, y_pred)\n",
        "\n",
        "    print(f\"\\n Best Threshold: {best_thresh:.4f}\")\n",
        "    print(f\"Accuracy   : {acc:.4f}\")\n",
        "    print(f\"Precision  : {prec:.4f}\")\n",
        "    print(f\"Recall     : {rec:.4f}\")\n",
        "    print(f\"F1 Score   : {f1:.4f}\")\n",
        "    print(\"Confusion Matrix:\")\n",
        "    print(cm)\n",
        "\n",
        "    return {\n",
        "        \"model\": model,\n",
        "        \"acc\": acc,\n",
        "        \"precision\": prec,\n",
        "        \"recall\": rec,\n",
        "        \"f1\": f1,\n",
        "        \"threshold\": best_thresh,\n",
        "        \"conf_matrix\": cm\n",
        "    }"
      ],
      "metadata": {
        "id": "ThZ2eqSFGHHE"
      },
      "execution_count": null,
      "outputs": [],
      "id": "ThZ2eqSFGHHE"
    },
    {
      "cell_type": "code",
      "source": [
        "# Assuming X_train, y_train, X_val, y_val are already defined\n",
        "\n",
        "result_no_weight = train_and_evaluate(X_train, y_train, X_val, y_val, use_class_weight=False)\n",
        "result_with_weight = train_and_evaluate(X_train, y_train, X_val, y_val, use_class_weight=True)"
      ],
      "metadata": {
        "colab": {
          "base_uri": "https://localhost:8080/"
        },
        "id": "kvTNK63ZGNVT",
        "outputId": "caf7b496-3d15-470e-87cc-7a271f0e6cfd"
      },
      "execution_count": null,
      "outputs": [
        {
          "output_type": "stream",
          "name": "stdout",
          "text": [
            "\n",
            "==============================\n",
            "Training with class_weight = False\n",
            "==============================\n",
            "\u001b[1m12278/12278\u001b[0m \u001b[32m━━━━━━━━━━━━━━━━━━━━\u001b[0m\u001b[37m\u001b[0m \u001b[1m12s\u001b[0m 958us/step\n",
            "\n",
            " Best Threshold: 0.2399\n",
            "Accuracy   : 0.9190\n",
            "Precision  : 0.5143\n",
            "Recall     : 0.5530\n",
            "F1 Score   : 0.5330\n",
            "Confusion Matrix:\n",
            "[[342903  17148]\n",
            " [ 14679  18159]]\n",
            "\n",
            "==============================\n",
            "Training with class_weight = True\n",
            "==============================\n",
            "\u001b[1m12278/12278\u001b[0m \u001b[32m━━━━━━━━━━━━━━━━━━━━\u001b[0m\u001b[37m\u001b[0m \u001b[1m13s\u001b[0m 1ms/step\n",
            "\n",
            " Best Threshold: 0.7122\n",
            "Accuracy   : 0.9199\n",
            "Precision  : 0.5205\n",
            "Recall     : 0.5370\n",
            "F1 Score   : 0.5286\n",
            "Confusion Matrix:\n",
            "[[343802  16249]\n",
            " [ 15203  17635]]\n"
          ]
        }
      ],
      "id": "kvTNK63ZGNVT"
    },
    {
      "cell_type": "markdown",
      "source": [
        "## Multi-label Classification"
      ],
      "metadata": {
        "id": "lc85-KyUcqFy"
      },
      "id": "lc85-KyUcqFy"
    },
    {
      "cell_type": "code",
      "source": [
        "# Labels for multi-label task\n",
        "label_cols = ['toxic', 'severe_toxic', 'obscene', 'threat', 'insult', 'identity_hate']\n",
        "y_multi = combined_df[label_cols].values"
      ],
      "metadata": {
        "id": "NgzndR0ZcvVe"
      },
      "id": "NgzndR0ZcvVe",
      "execution_count": 11,
      "outputs": []
    },
    {
      "cell_type": "code",
      "source": [
        "# Split data\n",
        "X_train, X_val, y_train, y_val = train_test_split(X_combined, y_multi, test_size=0.2, random_state=42)"
      ],
      "metadata": {
        "id": "oGYPx7SOiko2"
      },
      "id": "oGYPx7SOiko2",
      "execution_count": 12,
      "outputs": []
    },
    {
      "cell_type": "code",
      "source": [
        "# Build model\n",
        "model = tf.keras.Sequential([\n",
        "    tf.keras.layers.Input(shape=(X_combined.shape[1],)),\n",
        "    tf.keras.layers.Dense(128, activation='relu'),\n",
        "    tf.keras.layers.Dropout(0.3),\n",
        "    tf.keras.layers.Dense(64, activation='relu'),\n",
        "    tf.keras.layers.Dropout(0.3),\n",
        "    tf.keras.layers.Dense(len(label_cols), activation='sigmoid')  # One output per label\n",
        "])"
      ],
      "metadata": {
        "id": "7ymPa0RCiucu"
      },
      "id": "7ymPa0RCiucu",
      "execution_count": 13,
      "outputs": []
    },
    {
      "cell_type": "code",
      "source": [
        "model.compile(\n",
        "    optimizer='adam',\n",
        "    loss='binary_crossentropy',\n",
        "    metrics=['accuracy']\n",
        ")"
      ],
      "metadata": {
        "id": "hDuDYwbNiymO"
      },
      "id": "hDuDYwbNiymO",
      "execution_count": 14,
      "outputs": []
    },
    {
      "cell_type": "code",
      "source": [
        "# Train\n",
        "history = model.fit(\n",
        "    X_train, y_train,\n",
        "    validation_data=(X_val, y_val),\n",
        "    epochs=10,\n",
        "    batch_size=64\n",
        ")"
      ],
      "metadata": {
        "id": "D5Lbhsp4i22L",
        "outputId": "6218a955-1d64-405f-8a2e-9f3beeafa340",
        "colab": {
          "base_uri": "https://localhost:8080/"
        }
      },
      "id": "D5Lbhsp4i22L",
      "execution_count": 15,
      "outputs": [
        {
          "output_type": "stream",
          "name": "stdout",
          "text": [
            "Epoch 1/10\n",
            "\u001b[1m24556/24556\u001b[0m \u001b[32m━━━━━━━━━━━━━━━━━━━━\u001b[0m\u001b[37m\u001b[0m \u001b[1m73s\u001b[0m 3ms/step - accuracy: 0.9010 - loss: 0.1277 - val_accuracy: 0.9587 - val_loss: 0.1153\n",
            "Epoch 2/10\n",
            "\u001b[1m24556/24556\u001b[0m \u001b[32m━━━━━━━━━━━━━━━━━━━━\u001b[0m\u001b[37m\u001b[0m \u001b[1m72s\u001b[0m 3ms/step - accuracy: 0.9348 - loss: 0.1177 - val_accuracy: 0.9632 - val_loss: 0.1147\n",
            "Epoch 3/10\n",
            "\u001b[1m24556/24556\u001b[0m \u001b[32m━━━━━━━━━━━━━━━━━━━━\u001b[0m\u001b[37m\u001b[0m \u001b[1m71s\u001b[0m 3ms/step - accuracy: 0.9300 - loss: 0.1169 - val_accuracy: 0.9664 - val_loss: 0.1146\n",
            "Epoch 4/10\n",
            "\u001b[1m24556/24556\u001b[0m \u001b[32m━━━━━━━━━━━━━━━━━━━━\u001b[0m\u001b[37m\u001b[0m \u001b[1m70s\u001b[0m 3ms/step - accuracy: 0.9267 - loss: 0.1164 - val_accuracy: 0.9566 - val_loss: 0.1144\n",
            "Epoch 5/10\n",
            "\u001b[1m24556/24556\u001b[0m \u001b[32m━━━━━━━━━━━━━━━━━━━━\u001b[0m\u001b[37m\u001b[0m \u001b[1m69s\u001b[0m 3ms/step - accuracy: 0.9290 - loss: 0.1162 - val_accuracy: 0.9548 - val_loss: 0.1146\n",
            "Epoch 6/10\n",
            "\u001b[1m24556/24556\u001b[0m \u001b[32m━━━━━━━━━━━━━━━━━━━━\u001b[0m\u001b[37m\u001b[0m \u001b[1m71s\u001b[0m 3ms/step - accuracy: 0.9280 - loss: 0.1162 - val_accuracy: 0.9662 - val_loss: 0.1140\n",
            "Epoch 7/10\n",
            "\u001b[1m24556/24556\u001b[0m \u001b[32m━━━━━━━━━━━━━━━━━━━━\u001b[0m\u001b[37m\u001b[0m \u001b[1m70s\u001b[0m 3ms/step - accuracy: 0.9284 - loss: 0.1161 - val_accuracy: 0.9634 - val_loss: 0.1144\n",
            "Epoch 8/10\n",
            "\u001b[1m24556/24556\u001b[0m \u001b[32m━━━━━━━━━━━━━━━━━━━━\u001b[0m\u001b[37m\u001b[0m \u001b[1m71s\u001b[0m 3ms/step - accuracy: 0.9295 - loss: 0.1158 - val_accuracy: 0.9616 - val_loss: 0.1142\n",
            "Epoch 9/10\n",
            "\u001b[1m24556/24556\u001b[0m \u001b[32m━━━━━━━━━━━━━━━━━━━━\u001b[0m\u001b[37m\u001b[0m \u001b[1m72s\u001b[0m 3ms/step - accuracy: 0.9334 - loss: 0.1156 - val_accuracy: 0.9673 - val_loss: 0.1137\n",
            "Epoch 10/10\n",
            "\u001b[1m24556/24556\u001b[0m \u001b[32m━━━━━━━━━━━━━━━━━━━━\u001b[0m\u001b[37m\u001b[0m \u001b[1m69s\u001b[0m 3ms/step - accuracy: 0.9330 - loss: 0.1155 - val_accuracy: 0.9571 - val_loss: 0.1141\n"
          ]
        }
      ]
    },
    {
      "cell_type": "code",
      "source": [
        "from sklearn.metrics import classification_report, hamming_loss\n",
        "\n",
        "# Ensure y_val is int\n",
        "y_val_binary = y_val.astype(int)\n",
        "\n",
        "# Predict (use threshold of 0.5)\n",
        "y_pred_prob = model.predict(X_val)\n",
        "y_pred = (y_pred_prob >= 0.5).astype(int)\n",
        "\n",
        "# Evaluation per label\n",
        "print(\"Classification Report (per label):\")\n",
        "print(classification_report(\n",
        "    y_val_binary, y_pred,\n",
        "    target_names=label_cols,\n",
        "    digits=4,\n",
        "    zero_division=0\n",
        "))\n",
        "\n",
        "# Hamming loss (multi-label error rate)\n",
        "print(\"Hamming Loss:\", hamming_loss(y_val_binary, y_pred))"
      ],
      "metadata": {
        "id": "r5Q56csQjAcB",
        "outputId": "2e5541d6-3785-4d1b-e808-7ed0c0fcd0fb",
        "colab": {
          "base_uri": "https://localhost:8080/"
        }
      },
      "id": "r5Q56csQjAcB",
      "execution_count": 18,
      "outputs": [
        {
          "output_type": "stream",
          "name": "stdout",
          "text": [
            "\u001b[1m12278/12278\u001b[0m \u001b[32m━━━━━━━━━━━━━━━━━━━━\u001b[0m\u001b[37m\u001b[0m \u001b[1m12s\u001b[0m 988us/step\n",
            "Classification Report (per label):\n",
            "               precision    recall  f1-score   support\n",
            "\n",
            "        toxic     0.2001    0.3821    0.2626      3913\n",
            " severe_toxic     0.4545    0.0152    0.0293       330\n",
            "      obscene     0.8278    0.4436    0.5776      1745\n",
            "       threat     0.0867    0.1140    0.0985       114\n",
            "       insult     0.1591    0.3843    0.2250      2316\n",
            "identity_hate     0.3488    0.0898    0.1429       334\n",
            "\n",
            "    micro avg     0.2251    0.3664    0.2789      8752\n",
            "    macro avg     0.3462    0.2382    0.2227      8752\n",
            " weighted avg     0.3282    0.3664    0.3000      8752\n",
            "  samples avg     0.0035    0.0030    0.0031      8752\n",
            "\n",
            "Hamming Loss: 0.007035914299797992\n"
          ]
        }
      ]
    },
    {
      "cell_type": "code",
      "source": [
        "from sklearn.metrics import accuracy_score\n",
        "\n",
        "exact_match = accuracy_score(y_val_binary, y_pred)\n",
        "print(f\"Exact Match Accuracy: {exact_match:.4f}\")"
      ],
      "metadata": {
        "id": "R7p7J9m-nSoQ",
        "outputId": "a299d75e-9959-44f6-c5a4-6d04ee568182",
        "colab": {
          "base_uri": "https://localhost:8080/"
        }
      },
      "id": "R7p7J9m-nSoQ",
      "execution_count": 20,
      "outputs": [
        {
          "output_type": "stream",
          "name": "stdout",
          "text": [
            "Exact Match Accuracy: 0.9754\n"
          ]
        }
      ]
    },
    {
      "cell_type": "code",
      "source": [
        "sample_accuracy = (y_val_binary == y_pred).mean(axis=1).mean()\n",
        "print(f\"Sample-wise Mean Accuracy: {sample_accuracy:.4f}\")"
      ],
      "metadata": {
        "id": "iq8xy_RGnUxW",
        "outputId": "2d035451-49f7-46f9-cbba-174b3a100786",
        "colab": {
          "base_uri": "https://localhost:8080/"
        }
      },
      "id": "iq8xy_RGnUxW",
      "execution_count": 21,
      "outputs": [
        {
          "output_type": "stream",
          "name": "stdout",
          "text": [
            "Sample-wise Mean Accuracy: 0.9930\n"
          ]
        }
      ]
    },
    {
      "cell_type": "code",
      "source": [
        "for idx, label in enumerate(label_cols):\n",
        "    label_acc = accuracy_score(y_val_binary[:, idx], y_pred[:, idx])\n",
        "    print(f\"Accuracy for {label:<15}: {label_acc:.4f}\")"
      ],
      "metadata": {
        "id": "Tul-2DVzngUC",
        "outputId": "6c7bd8e0-749a-4c47-846b-ca659d86d03b",
        "colab": {
          "base_uri": "https://localhost:8080/"
        }
      },
      "id": "Tul-2DVzngUC",
      "execution_count": 22,
      "outputs": [
        {
          "output_type": "stream",
          "name": "stdout",
          "text": [
            "Accuracy for toxic          : 0.9786\n",
            "Accuracy for severe_toxic   : 0.9992\n",
            "Accuracy for obscene        : 0.9971\n",
            "Accuracy for threat         : 0.9994\n",
            "Accuracy for insult         : 0.9844\n",
            "Accuracy for identity_hate  : 0.9991\n"
          ]
        }
      ]
    }
  ],
  "metadata": {
    "language_info": {
      "name": "python"
    },
    "colab": {
      "provenance": [],
      "gpuType": "V28"
    },
    "kernelspec": {
      "name": "python3",
      "display_name": "Python 3"
    },
    "accelerator": "TPU"
  },
  "nbformat": 4,
  "nbformat_minor": 5
}