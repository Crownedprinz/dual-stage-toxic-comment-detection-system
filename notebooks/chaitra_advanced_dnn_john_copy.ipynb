{
  "cells": [
    {
      "cell_type": "code",
      "execution_count": null,
      "id": "egY8O3kItYJO",
      "metadata": {
        "colab": {
          "base_uri": "https://localhost:8080/"
        },
        "id": "egY8O3kItYJO",
        "outputId": "8456967b-6aaf-4c10-af21-97220e53e899"
      },
      "outputs": [
        {
          "output_type": "stream",
          "name": "stdout",
          "text": [
            "Requirement already satisfied: gensim in /usr/local/lib/python3.11/dist-packages (4.3.3)\n",
            "Requirement already satisfied: numpy<2.0,>=1.18.5 in /usr/local/lib/python3.11/dist-packages (from gensim) (1.26.4)\n",
            "Requirement already satisfied: scipy<1.14.0,>=1.7.0 in /usr/local/lib/python3.11/dist-packages (from gensim) (1.13.1)\n",
            "Requirement already satisfied: smart-open>=1.8.1 in /usr/local/lib/python3.11/dist-packages (from gensim) (7.1.0)\n",
            "Requirement already satisfied: wrapt in /usr/local/lib/python3.11/dist-packages (from smart-open>=1.8.1->gensim) (1.17.2)\n",
            "Requirement already satisfied: tensorflow in /usr/local/lib/python3.11/dist-packages (2.18.0)\n",
            "Requirement already satisfied: absl-py>=1.0.0 in /usr/local/lib/python3.11/dist-packages (from tensorflow) (1.4.0)\n",
            "Requirement already satisfied: astunparse>=1.6.0 in /usr/local/lib/python3.11/dist-packages (from tensorflow) (1.6.3)\n",
            "Requirement already satisfied: flatbuffers>=24.3.25 in /usr/local/lib/python3.11/dist-packages (from tensorflow) (25.2.10)\n",
            "Requirement already satisfied: gast!=0.5.0,!=0.5.1,!=0.5.2,>=0.2.1 in /usr/local/lib/python3.11/dist-packages (from tensorflow) (0.6.0)\n",
            "Requirement already satisfied: google-pasta>=0.1.1 in /usr/local/lib/python3.11/dist-packages (from tensorflow) (0.2.0)\n",
            "Requirement already satisfied: libclang>=13.0.0 in /usr/local/lib/python3.11/dist-packages (from tensorflow) (18.1.1)\n",
            "Requirement already satisfied: opt-einsum>=2.3.2 in /usr/local/lib/python3.11/dist-packages (from tensorflow) (3.4.0)\n",
            "Requirement already satisfied: packaging in /usr/local/lib/python3.11/dist-packages (from tensorflow) (24.2)\n",
            "Requirement already satisfied: protobuf!=4.21.0,!=4.21.1,!=4.21.2,!=4.21.3,!=4.21.4,!=4.21.5,<6.0.0dev,>=3.20.3 in /usr/local/lib/python3.11/dist-packages (from tensorflow) (5.29.4)\n",
            "Requirement already satisfied: requests<3,>=2.21.0 in /usr/local/lib/python3.11/dist-packages (from tensorflow) (2.32.3)\n",
            "Requirement already satisfied: setuptools in /usr/local/lib/python3.11/dist-packages (from tensorflow) (75.2.0)\n",
            "Requirement already satisfied: six>=1.12.0 in /usr/local/lib/python3.11/dist-packages (from tensorflow) (1.17.0)\n",
            "Requirement already satisfied: termcolor>=1.1.0 in /usr/local/lib/python3.11/dist-packages (from tensorflow) (3.0.1)\n",
            "Requirement already satisfied: typing-extensions>=3.6.6 in /usr/local/lib/python3.11/dist-packages (from tensorflow) (4.13.2)\n",
            "Requirement already satisfied: wrapt>=1.11.0 in /usr/local/lib/python3.11/dist-packages (from tensorflow) (1.17.2)\n",
            "Requirement already satisfied: grpcio<2.0,>=1.24.3 in /usr/local/lib/python3.11/dist-packages (from tensorflow) (1.71.0)\n",
            "Requirement already satisfied: tensorboard<2.19,>=2.18 in /usr/local/lib/python3.11/dist-packages (from tensorflow) (2.18.0)\n",
            "Requirement already satisfied: keras>=3.5.0 in /usr/local/lib/python3.11/dist-packages (from tensorflow) (3.8.0)\n",
            "Requirement already satisfied: numpy<2.1.0,>=1.26.0 in /usr/local/lib/python3.11/dist-packages (from tensorflow) (1.26.4)\n",
            "Requirement already satisfied: h5py>=3.11.0 in /usr/local/lib/python3.11/dist-packages (from tensorflow) (3.13.0)\n",
            "Requirement already satisfied: ml-dtypes<0.5.0,>=0.4.0 in /usr/local/lib/python3.11/dist-packages (from tensorflow) (0.4.1)\n",
            "Requirement already satisfied: tensorflow-io-gcs-filesystem>=0.23.1 in /usr/local/lib/python3.11/dist-packages (from tensorflow) (0.37.1)\n",
            "Requirement already satisfied: wheel<1.0,>=0.23.0 in /usr/local/lib/python3.11/dist-packages (from astunparse>=1.6.0->tensorflow) (0.45.1)\n",
            "Requirement already satisfied: rich in /usr/local/lib/python3.11/dist-packages (from keras>=3.5.0->tensorflow) (13.9.4)\n",
            "Requirement already satisfied: namex in /usr/local/lib/python3.11/dist-packages (from keras>=3.5.0->tensorflow) (0.0.9)\n",
            "Requirement already satisfied: optree in /usr/local/lib/python3.11/dist-packages (from keras>=3.5.0->tensorflow) (0.15.0)\n",
            "Requirement already satisfied: charset-normalizer<4,>=2 in /usr/local/lib/python3.11/dist-packages (from requests<3,>=2.21.0->tensorflow) (3.4.1)\n",
            "Requirement already satisfied: idna<4,>=2.5 in /usr/local/lib/python3.11/dist-packages (from requests<3,>=2.21.0->tensorflow) (3.10)\n",
            "Requirement already satisfied: urllib3<3,>=1.21.1 in /usr/local/lib/python3.11/dist-packages (from requests<3,>=2.21.0->tensorflow) (2.4.0)\n",
            "Requirement already satisfied: certifi>=2017.4.17 in /usr/local/lib/python3.11/dist-packages (from requests<3,>=2.21.0->tensorflow) (2025.1.31)\n",
            "Requirement already satisfied: markdown>=2.6.8 in /usr/local/lib/python3.11/dist-packages (from tensorboard<2.19,>=2.18->tensorflow) (3.8)\n",
            "Requirement already satisfied: tensorboard-data-server<0.8.0,>=0.7.0 in /usr/local/lib/python3.11/dist-packages (from tensorboard<2.19,>=2.18->tensorflow) (0.7.2)\n",
            "Requirement already satisfied: werkzeug>=1.0.1 in /usr/local/lib/python3.11/dist-packages (from tensorboard<2.19,>=2.18->tensorflow) (3.1.3)\n",
            "Requirement already satisfied: MarkupSafe>=2.1.1 in /usr/local/lib/python3.11/dist-packages (from werkzeug>=1.0.1->tensorboard<2.19,>=2.18->tensorflow) (3.0.2)\n",
            "Requirement already satisfied: markdown-it-py>=2.2.0 in /usr/local/lib/python3.11/dist-packages (from rich->keras>=3.5.0->tensorflow) (3.0.0)\n",
            "Requirement already satisfied: pygments<3.0.0,>=2.13.0 in /usr/local/lib/python3.11/dist-packages (from rich->keras>=3.5.0->tensorflow) (2.19.1)\n",
            "Requirement already satisfied: mdurl~=0.1 in /usr/local/lib/python3.11/dist-packages (from markdown-it-py>=2.2.0->rich->keras>=3.5.0->tensorflow) (0.1.2)\n"
          ]
        }
      ],
      "source": [
        "!pip install gensim\n",
        "!pip install tensorflow"
      ]
    },
    {
      "cell_type": "code",
      "execution_count": null,
      "id": "32ce764a",
      "metadata": {
        "id": "32ce764a"
      },
      "outputs": [],
      "source": [
        "import numpy as np\n",
        "import pandas as pd\n",
        "import spacy\n",
        "import re\n",
        "import string\n",
        "from tqdm import tqdm\n",
        "import matplotlib.pyplot as plt\n",
        "import seaborn as sns\n",
        "import gensim.downloader as api\n",
        "import tensorflow as tf\n",
        "from sklearn.model_selection import train_test_split\n",
        "from sklearn.preprocessing import StandardScaler, MinMaxScaler\n",
        "from sklearn.compose import ColumnTransformer\n",
        "from sklearn.pipeline import Pipeline\n",
        "from sklearn.impute import SimpleImputer\n",
        "from scipy import sparse\n",
        "import keras"
      ]
    },
    {
      "cell_type": "code",
      "execution_count": null,
      "id": "a1Xbvp-dkhZc",
      "metadata": {
        "colab": {
          "base_uri": "https://localhost:8080/"
        },
        "id": "a1Xbvp-dkhZc",
        "outputId": "ecdde0c7-3f6d-4046-9058-f9b132aa7b64"
      },
      "outputs": [
        {
          "name": "stderr",
          "output_type": "stream",
          "text": [
            "<ipython-input-3-4a5e5dc20330>:1: DtypeWarning: Columns (0) have mixed types. Specify dtype option on import or set low_memory=False.\n",
            "  train_df = pd.read_csv(r\"/content/combined_toxic_comments.csv\")\n"
          ]
        }
      ],
      "source": [
        "train_df = pd.read_csv(r\"/content/combined_toxic_comments.csv\")"
      ]
    },
    {
      "cell_type": "code",
      "execution_count": null,
      "id": "qqdq3XlZlJc3",
      "metadata": {
        "colab": {
          "base_uri": "https://localhost:8080/",
          "height": 833
        },
        "id": "qqdq3XlZlJc3",
        "outputId": "6e9888a1-e938-42f0-c93e-974480877d33"
      },
      "outputs": [
        {
          "data": {
            "application/vnd.google.colaboratory.intrinsic+json": {
              "type": "dataframe",
              "variable_name": "train_df"
            },
            "text/html": [
              "\n",
              "  <div id=\"df-b58057ac-1296-4039-9876-c015587059f1\" class=\"colab-df-container\">\n",
              "    <div>\n",
              "<style scoped>\n",
              "    .dataframe tbody tr th:only-of-type {\n",
              "        vertical-align: middle;\n",
              "    }\n",
              "\n",
              "    .dataframe tbody tr th {\n",
              "        vertical-align: top;\n",
              "    }\n",
              "\n",
              "    .dataframe thead th {\n",
              "        text-align: right;\n",
              "    }\n",
              "</style>\n",
              "<table border=\"1\" class=\"dataframe\">\n",
              "  <thead>\n",
              "    <tr style=\"text-align: right;\">\n",
              "      <th></th>\n",
              "      <th>id</th>\n",
              "      <th>comment_text</th>\n",
              "      <th>toxic</th>\n",
              "      <th>severe_toxic</th>\n",
              "      <th>obscene</th>\n",
              "      <th>threat</th>\n",
              "      <th>insult</th>\n",
              "      <th>identity_hate</th>\n",
              "      <th>source</th>\n",
              "    </tr>\n",
              "  </thead>\n",
              "  <tbody>\n",
              "    <tr>\n",
              "      <th>0</th>\n",
              "      <td>0000997932d777bf</td>\n",
              "      <td>Explanation\\nWhy the edits made under my usern...</td>\n",
              "      <td>0.0</td>\n",
              "      <td>0.0</td>\n",
              "      <td>0.0</td>\n",
              "      <td>0.0</td>\n",
              "      <td>0.0</td>\n",
              "      <td>0.0</td>\n",
              "      <td>original</td>\n",
              "    </tr>\n",
              "    <tr>\n",
              "      <th>1</th>\n",
              "      <td>000103f0d9cfb60f</td>\n",
              "      <td>D'aww! He matches this background colour I'm s...</td>\n",
              "      <td>0.0</td>\n",
              "      <td>0.0</td>\n",
              "      <td>0.0</td>\n",
              "      <td>0.0</td>\n",
              "      <td>0.0</td>\n",
              "      <td>0.0</td>\n",
              "      <td>original</td>\n",
              "    </tr>\n",
              "    <tr>\n",
              "      <th>2</th>\n",
              "      <td>000113f07ec002fd</td>\n",
              "      <td>Hey man, I'm really not trying to edit war. It...</td>\n",
              "      <td>0.0</td>\n",
              "      <td>0.0</td>\n",
              "      <td>0.0</td>\n",
              "      <td>0.0</td>\n",
              "      <td>0.0</td>\n",
              "      <td>0.0</td>\n",
              "      <td>original</td>\n",
              "    </tr>\n",
              "    <tr>\n",
              "      <th>3</th>\n",
              "      <td>0001b41b1c6bb37e</td>\n",
              "      <td>\"\\nMore\\nI can't make any real suggestions on ...</td>\n",
              "      <td>0.0</td>\n",
              "      <td>0.0</td>\n",
              "      <td>0.0</td>\n",
              "      <td>0.0</td>\n",
              "      <td>0.0</td>\n",
              "      <td>0.0</td>\n",
              "      <td>original</td>\n",
              "    </tr>\n",
              "    <tr>\n",
              "      <th>4</th>\n",
              "      <td>0001d958c54c6e35</td>\n",
              "      <td>You, sir, are my hero. Any chance you remember...</td>\n",
              "      <td>0.0</td>\n",
              "      <td>0.0</td>\n",
              "      <td>0.0</td>\n",
              "      <td>0.0</td>\n",
              "      <td>0.0</td>\n",
              "      <td>0.0</td>\n",
              "      <td>original</td>\n",
              "    </tr>\n",
              "    <tr>\n",
              "      <th>5</th>\n",
              "      <td>00025465d4725e87</td>\n",
              "      <td>\"\\n\\nCongratulations from me as well, use the ...</td>\n",
              "      <td>0.0</td>\n",
              "      <td>0.0</td>\n",
              "      <td>0.0</td>\n",
              "      <td>0.0</td>\n",
              "      <td>0.0</td>\n",
              "      <td>0.0</td>\n",
              "      <td>original</td>\n",
              "    </tr>\n",
              "    <tr>\n",
              "      <th>6</th>\n",
              "      <td>0002bcb3da6cb337</td>\n",
              "      <td>COCKSUCKER BEFORE YOU PISS AROUND ON MY WORK</td>\n",
              "      <td>1.0</td>\n",
              "      <td>1.0</td>\n",
              "      <td>1.0</td>\n",
              "      <td>0.0</td>\n",
              "      <td>1.0</td>\n",
              "      <td>0.0</td>\n",
              "      <td>original</td>\n",
              "    </tr>\n",
              "    <tr>\n",
              "      <th>7</th>\n",
              "      <td>00031b1e95af7921</td>\n",
              "      <td>Your vandalism to the Matt Shirvington article...</td>\n",
              "      <td>0.0</td>\n",
              "      <td>0.0</td>\n",
              "      <td>0.0</td>\n",
              "      <td>0.0</td>\n",
              "      <td>0.0</td>\n",
              "      <td>0.0</td>\n",
              "      <td>original</td>\n",
              "    </tr>\n",
              "    <tr>\n",
              "      <th>8</th>\n",
              "      <td>00037261f536c51d</td>\n",
              "      <td>Sorry if the word 'nonsense' was offensive to ...</td>\n",
              "      <td>0.0</td>\n",
              "      <td>0.0</td>\n",
              "      <td>0.0</td>\n",
              "      <td>0.0</td>\n",
              "      <td>0.0</td>\n",
              "      <td>0.0</td>\n",
              "      <td>original</td>\n",
              "    </tr>\n",
              "    <tr>\n",
              "      <th>9</th>\n",
              "      <td>00040093b2687caa</td>\n",
              "      <td>alignment on this subject and which are contra...</td>\n",
              "      <td>0.0</td>\n",
              "      <td>0.0</td>\n",
              "      <td>0.0</td>\n",
              "      <td>0.0</td>\n",
              "      <td>0.0</td>\n",
              "      <td>0.0</td>\n",
              "      <td>original</td>\n",
              "    </tr>\n",
              "    <tr>\n",
              "      <th>10</th>\n",
              "      <td>0005300084f90edc</td>\n",
              "      <td>\"\\nFair use rationale for Image:Wonju.jpg\\n\\nT...</td>\n",
              "      <td>0.0</td>\n",
              "      <td>0.0</td>\n",
              "      <td>0.0</td>\n",
              "      <td>0.0</td>\n",
              "      <td>0.0</td>\n",
              "      <td>0.0</td>\n",
              "      <td>original</td>\n",
              "    </tr>\n",
              "    <tr>\n",
              "      <th>11</th>\n",
              "      <td>00054a5e18b50dd4</td>\n",
              "      <td>bbq \\n\\nbe a man and lets discuss it-maybe ove...</td>\n",
              "      <td>0.0</td>\n",
              "      <td>0.0</td>\n",
              "      <td>0.0</td>\n",
              "      <td>0.0</td>\n",
              "      <td>0.0</td>\n",
              "      <td>0.0</td>\n",
              "      <td>original</td>\n",
              "    </tr>\n",
              "    <tr>\n",
              "      <th>12</th>\n",
              "      <td>0005c987bdfc9d4b</td>\n",
              "      <td>Hey... what is it..\\n@ | talk .\\nWhat is it......</td>\n",
              "      <td>1.0</td>\n",
              "      <td>0.0</td>\n",
              "      <td>0.0</td>\n",
              "      <td>0.0</td>\n",
              "      <td>0.0</td>\n",
              "      <td>0.0</td>\n",
              "      <td>original</td>\n",
              "    </tr>\n",
              "    <tr>\n",
              "      <th>13</th>\n",
              "      <td>0006f16e4e9f292e</td>\n",
              "      <td>Before you start throwing accusations and warn...</td>\n",
              "      <td>0.0</td>\n",
              "      <td>0.0</td>\n",
              "      <td>0.0</td>\n",
              "      <td>0.0</td>\n",
              "      <td>0.0</td>\n",
              "      <td>0.0</td>\n",
              "      <td>original</td>\n",
              "    </tr>\n",
              "    <tr>\n",
              "      <th>14</th>\n",
              "      <td>00070ef96486d6f9</td>\n",
              "      <td>Oh, and the girl above started her arguments w...</td>\n",
              "      <td>0.0</td>\n",
              "      <td>0.0</td>\n",
              "      <td>0.0</td>\n",
              "      <td>0.0</td>\n",
              "      <td>0.0</td>\n",
              "      <td>0.0</td>\n",
              "      <td>original</td>\n",
              "    </tr>\n",
              "    <tr>\n",
              "      <th>15</th>\n",
              "      <td>00078f8ce7eb276d</td>\n",
              "      <td>\"\\n\\nJuelz Santanas Age\\n\\nIn 2002, Juelz Sant...</td>\n",
              "      <td>0.0</td>\n",
              "      <td>0.0</td>\n",
              "      <td>0.0</td>\n",
              "      <td>0.0</td>\n",
              "      <td>0.0</td>\n",
              "      <td>0.0</td>\n",
              "      <td>original</td>\n",
              "    </tr>\n",
              "    <tr>\n",
              "      <th>16</th>\n",
              "      <td>0007e25b2121310b</td>\n",
              "      <td>Bye! \\n\\nDon't look, come or think of comming ...</td>\n",
              "      <td>1.0</td>\n",
              "      <td>0.0</td>\n",
              "      <td>0.0</td>\n",
              "      <td>0.0</td>\n",
              "      <td>0.0</td>\n",
              "      <td>0.0</td>\n",
              "      <td>original</td>\n",
              "    </tr>\n",
              "    <tr>\n",
              "      <th>17</th>\n",
              "      <td>000897889268bc93</td>\n",
              "      <td>REDIRECT Talk:Voydan Pop Georgiev- Chernodrinski</td>\n",
              "      <td>0.0</td>\n",
              "      <td>0.0</td>\n",
              "      <td>0.0</td>\n",
              "      <td>0.0</td>\n",
              "      <td>0.0</td>\n",
              "      <td>0.0</td>\n",
              "      <td>original</td>\n",
              "    </tr>\n",
              "    <tr>\n",
              "      <th>18</th>\n",
              "      <td>0009801bd85e5806</td>\n",
              "      <td>The Mitsurugi point made no sense - why not ar...</td>\n",
              "      <td>0.0</td>\n",
              "      <td>0.0</td>\n",
              "      <td>0.0</td>\n",
              "      <td>0.0</td>\n",
              "      <td>0.0</td>\n",
              "      <td>0.0</td>\n",
              "      <td>original</td>\n",
              "    </tr>\n",
              "    <tr>\n",
              "      <th>19</th>\n",
              "      <td>0009eaea3325de8c</td>\n",
              "      <td>Don't mean to bother you \\n\\nI see that you're...</td>\n",
              "      <td>0.0</td>\n",
              "      <td>0.0</td>\n",
              "      <td>0.0</td>\n",
              "      <td>0.0</td>\n",
              "      <td>0.0</td>\n",
              "      <td>0.0</td>\n",
              "      <td>original</td>\n",
              "    </tr>\n",
              "    <tr>\n",
              "      <th>20</th>\n",
              "      <td>000b08c464718505</td>\n",
              "      <td>\"\\n\\n Regarding your recent edits \\n\\nOnce aga...</td>\n",
              "      <td>0.0</td>\n",
              "      <td>0.0</td>\n",
              "      <td>0.0</td>\n",
              "      <td>0.0</td>\n",
              "      <td>0.0</td>\n",
              "      <td>0.0</td>\n",
              "      <td>original</td>\n",
              "    </tr>\n",
              "    <tr>\n",
              "      <th>21</th>\n",
              "      <td>000bfd0867774845</td>\n",
              "      <td>\"\\nGood to know. About me, yeah, I'm studying ...</td>\n",
              "      <td>0.0</td>\n",
              "      <td>0.0</td>\n",
              "      <td>0.0</td>\n",
              "      <td>0.0</td>\n",
              "      <td>0.0</td>\n",
              "      <td>0.0</td>\n",
              "      <td>original</td>\n",
              "    </tr>\n",
              "    <tr>\n",
              "      <th>22</th>\n",
              "      <td>000c0dfd995809fa</td>\n",
              "      <td>\"\\n\\n Snowflakes are NOT always symmetrical! \\...</td>\n",
              "      <td>0.0</td>\n",
              "      <td>0.0</td>\n",
              "      <td>0.0</td>\n",
              "      <td>0.0</td>\n",
              "      <td>0.0</td>\n",
              "      <td>0.0</td>\n",
              "      <td>original</td>\n",
              "    </tr>\n",
              "    <tr>\n",
              "      <th>23</th>\n",
              "      <td>000c6a3f0cd3ba8e</td>\n",
              "      <td>\"\\n\\n The Signpost: 24 September 2012 \\n\\n Rea...</td>\n",
              "      <td>0.0</td>\n",
              "      <td>0.0</td>\n",
              "      <td>0.0</td>\n",
              "      <td>0.0</td>\n",
              "      <td>0.0</td>\n",
              "      <td>0.0</td>\n",
              "      <td>original</td>\n",
              "    </tr>\n",
              "    <tr>\n",
              "      <th>24</th>\n",
              "      <td>000cfee90f50d471</td>\n",
              "      <td>\"\\n\\nRe-considering 1st paragraph edit?\\nI don...</td>\n",
              "      <td>0.0</td>\n",
              "      <td>0.0</td>\n",
              "      <td>0.0</td>\n",
              "      <td>0.0</td>\n",
              "      <td>0.0</td>\n",
              "      <td>0.0</td>\n",
              "      <td>original</td>\n",
              "    </tr>\n",
              "  </tbody>\n",
              "</table>\n",
              "</div>\n",
              "    <div class=\"colab-df-buttons\">\n",
              "\n",
              "  <div class=\"colab-df-container\">\n",
              "    <button class=\"colab-df-convert\" onclick=\"convertToInteractive('df-b58057ac-1296-4039-9876-c015587059f1')\"\n",
              "            title=\"Convert this dataframe to an interactive table.\"\n",
              "            style=\"display:none;\">\n",
              "\n",
              "  <svg xmlns=\"http://www.w3.org/2000/svg\" height=\"24px\" viewBox=\"0 -960 960 960\">\n",
              "    <path d=\"M120-120v-720h720v720H120Zm60-500h600v-160H180v160Zm220 220h160v-160H400v160Zm0 220h160v-160H400v160ZM180-400h160v-160H180v160Zm440 0h160v-160H620v160ZM180-180h160v-160H180v160Zm440 0h160v-160H620v160Z\"/>\n",
              "  </svg>\n",
              "    </button>\n",
              "\n",
              "  <style>\n",
              "    .colab-df-container {\n",
              "      display:flex;\n",
              "      gap: 12px;\n",
              "    }\n",
              "\n",
              "    .colab-df-convert {\n",
              "      background-color: #E8F0FE;\n",
              "      border: none;\n",
              "      border-radius: 50%;\n",
              "      cursor: pointer;\n",
              "      display: none;\n",
              "      fill: #1967D2;\n",
              "      height: 32px;\n",
              "      padding: 0 0 0 0;\n",
              "      width: 32px;\n",
              "    }\n",
              "\n",
              "    .colab-df-convert:hover {\n",
              "      background-color: #E2EBFA;\n",
              "      box-shadow: 0px 1px 2px rgba(60, 64, 67, 0.3), 0px 1px 3px 1px rgba(60, 64, 67, 0.15);\n",
              "      fill: #174EA6;\n",
              "    }\n",
              "\n",
              "    .colab-df-buttons div {\n",
              "      margin-bottom: 4px;\n",
              "    }\n",
              "\n",
              "    [theme=dark] .colab-df-convert {\n",
              "      background-color: #3B4455;\n",
              "      fill: #D2E3FC;\n",
              "    }\n",
              "\n",
              "    [theme=dark] .colab-df-convert:hover {\n",
              "      background-color: #434B5C;\n",
              "      box-shadow: 0px 1px 3px 1px rgba(0, 0, 0, 0.15);\n",
              "      filter: drop-shadow(0px 1px 2px rgba(0, 0, 0, 0.3));\n",
              "      fill: #FFFFFF;\n",
              "    }\n",
              "  </style>\n",
              "\n",
              "    <script>\n",
              "      const buttonEl =\n",
              "        document.querySelector('#df-b58057ac-1296-4039-9876-c015587059f1 button.colab-df-convert');\n",
              "      buttonEl.style.display =\n",
              "        google.colab.kernel.accessAllowed ? 'block' : 'none';\n",
              "\n",
              "      async function convertToInteractive(key) {\n",
              "        const element = document.querySelector('#df-b58057ac-1296-4039-9876-c015587059f1');\n",
              "        const dataTable =\n",
              "          await google.colab.kernel.invokeFunction('convertToInteractive',\n",
              "                                                    [key], {});\n",
              "        if (!dataTable) return;\n",
              "\n",
              "        const docLinkHtml = 'Like what you see? Visit the ' +\n",
              "          '<a target=\"_blank\" href=https://colab.research.google.com/notebooks/data_table.ipynb>data table notebook</a>'\n",
              "          + ' to learn more about interactive tables.';\n",
              "        element.innerHTML = '';\n",
              "        dataTable['output_type'] = 'display_data';\n",
              "        await google.colab.output.renderOutput(dataTable, element);\n",
              "        const docLink = document.createElement('div');\n",
              "        docLink.innerHTML = docLinkHtml;\n",
              "        element.appendChild(docLink);\n",
              "      }\n",
              "    </script>\n",
              "  </div>\n",
              "\n",
              "\n",
              "    <div id=\"df-e32ea8b2-3059-426a-8035-3c6b5770c79c\">\n",
              "      <button class=\"colab-df-quickchart\" onclick=\"quickchart('df-e32ea8b2-3059-426a-8035-3c6b5770c79c')\"\n",
              "                title=\"Suggest charts\"\n",
              "                style=\"display:none;\">\n",
              "\n",
              "<svg xmlns=\"http://www.w3.org/2000/svg\" height=\"24px\"viewBox=\"0 0 24 24\"\n",
              "     width=\"24px\">\n",
              "    <g>\n",
              "        <path d=\"M19 3H5c-1.1 0-2 .9-2 2v14c0 1.1.9 2 2 2h14c1.1 0 2-.9 2-2V5c0-1.1-.9-2-2-2zM9 17H7v-7h2v7zm4 0h-2V7h2v10zm4 0h-2v-4h2v4z\"/>\n",
              "    </g>\n",
              "</svg>\n",
              "      </button>\n",
              "\n",
              "<style>\n",
              "  .colab-df-quickchart {\n",
              "      --bg-color: #E8F0FE;\n",
              "      --fill-color: #1967D2;\n",
              "      --hover-bg-color: #E2EBFA;\n",
              "      --hover-fill-color: #174EA6;\n",
              "      --disabled-fill-color: #AAA;\n",
              "      --disabled-bg-color: #DDD;\n",
              "  }\n",
              "\n",
              "  [theme=dark] .colab-df-quickchart {\n",
              "      --bg-color: #3B4455;\n",
              "      --fill-color: #D2E3FC;\n",
              "      --hover-bg-color: #434B5C;\n",
              "      --hover-fill-color: #FFFFFF;\n",
              "      --disabled-bg-color: #3B4455;\n",
              "      --disabled-fill-color: #666;\n",
              "  }\n",
              "\n",
              "  .colab-df-quickchart {\n",
              "    background-color: var(--bg-color);\n",
              "    border: none;\n",
              "    border-radius: 50%;\n",
              "    cursor: pointer;\n",
              "    display: none;\n",
              "    fill: var(--fill-color);\n",
              "    height: 32px;\n",
              "    padding: 0;\n",
              "    width: 32px;\n",
              "  }\n",
              "\n",
              "  .colab-df-quickchart:hover {\n",
              "    background-color: var(--hover-bg-color);\n",
              "    box-shadow: 0 1px 2px rgba(60, 64, 67, 0.3), 0 1px 3px 1px rgba(60, 64, 67, 0.15);\n",
              "    fill: var(--button-hover-fill-color);\n",
              "  }\n",
              "\n",
              "  .colab-df-quickchart-complete:disabled,\n",
              "  .colab-df-quickchart-complete:disabled:hover {\n",
              "    background-color: var(--disabled-bg-color);\n",
              "    fill: var(--disabled-fill-color);\n",
              "    box-shadow: none;\n",
              "  }\n",
              "\n",
              "  .colab-df-spinner {\n",
              "    border: 2px solid var(--fill-color);\n",
              "    border-color: transparent;\n",
              "    border-bottom-color: var(--fill-color);\n",
              "    animation:\n",
              "      spin 1s steps(1) infinite;\n",
              "  }\n",
              "\n",
              "  @keyframes spin {\n",
              "    0% {\n",
              "      border-color: transparent;\n",
              "      border-bottom-color: var(--fill-color);\n",
              "      border-left-color: var(--fill-color);\n",
              "    }\n",
              "    20% {\n",
              "      border-color: transparent;\n",
              "      border-left-color: var(--fill-color);\n",
              "      border-top-color: var(--fill-color);\n",
              "    }\n",
              "    30% {\n",
              "      border-color: transparent;\n",
              "      border-left-color: var(--fill-color);\n",
              "      border-top-color: var(--fill-color);\n",
              "      border-right-color: var(--fill-color);\n",
              "    }\n",
              "    40% {\n",
              "      border-color: transparent;\n",
              "      border-right-color: var(--fill-color);\n",
              "      border-top-color: var(--fill-color);\n",
              "    }\n",
              "    60% {\n",
              "      border-color: transparent;\n",
              "      border-right-color: var(--fill-color);\n",
              "    }\n",
              "    80% {\n",
              "      border-color: transparent;\n",
              "      border-right-color: var(--fill-color);\n",
              "      border-bottom-color: var(--fill-color);\n",
              "    }\n",
              "    90% {\n",
              "      border-color: transparent;\n",
              "      border-bottom-color: var(--fill-color);\n",
              "    }\n",
              "  }\n",
              "</style>\n",
              "\n",
              "      <script>\n",
              "        async function quickchart(key) {\n",
              "          const quickchartButtonEl =\n",
              "            document.querySelector('#' + key + ' button');\n",
              "          quickchartButtonEl.disabled = true;  // To prevent multiple clicks.\n",
              "          quickchartButtonEl.classList.add('colab-df-spinner');\n",
              "          try {\n",
              "            const charts = await google.colab.kernel.invokeFunction(\n",
              "                'suggestCharts', [key], {});\n",
              "          } catch (error) {\n",
              "            console.error('Error during call to suggestCharts:', error);\n",
              "          }\n",
              "          quickchartButtonEl.classList.remove('colab-df-spinner');\n",
              "          quickchartButtonEl.classList.add('colab-df-quickchart-complete');\n",
              "        }\n",
              "        (() => {\n",
              "          let quickchartButtonEl =\n",
              "            document.querySelector('#df-e32ea8b2-3059-426a-8035-3c6b5770c79c button');\n",
              "          quickchartButtonEl.style.display =\n",
              "            google.colab.kernel.accessAllowed ? 'block' : 'none';\n",
              "        })();\n",
              "      </script>\n",
              "    </div>\n",
              "\n",
              "    </div>\n",
              "  </div>\n"
            ],
            "text/plain": [
              "                  id                                       comment_text  \\\n",
              "0   0000997932d777bf  Explanation\\nWhy the edits made under my usern...   \n",
              "1   000103f0d9cfb60f  D'aww! He matches this background colour I'm s...   \n",
              "2   000113f07ec002fd  Hey man, I'm really not trying to edit war. It...   \n",
              "3   0001b41b1c6bb37e  \"\\nMore\\nI can't make any real suggestions on ...   \n",
              "4   0001d958c54c6e35  You, sir, are my hero. Any chance you remember...   \n",
              "5   00025465d4725e87  \"\\n\\nCongratulations from me as well, use the ...   \n",
              "6   0002bcb3da6cb337       COCKSUCKER BEFORE YOU PISS AROUND ON MY WORK   \n",
              "7   00031b1e95af7921  Your vandalism to the Matt Shirvington article...   \n",
              "8   00037261f536c51d  Sorry if the word 'nonsense' was offensive to ...   \n",
              "9   00040093b2687caa  alignment on this subject and which are contra...   \n",
              "10  0005300084f90edc  \"\\nFair use rationale for Image:Wonju.jpg\\n\\nT...   \n",
              "11  00054a5e18b50dd4  bbq \\n\\nbe a man and lets discuss it-maybe ove...   \n",
              "12  0005c987bdfc9d4b  Hey... what is it..\\n@ | talk .\\nWhat is it......   \n",
              "13  0006f16e4e9f292e  Before you start throwing accusations and warn...   \n",
              "14  00070ef96486d6f9  Oh, and the girl above started her arguments w...   \n",
              "15  00078f8ce7eb276d  \"\\n\\nJuelz Santanas Age\\n\\nIn 2002, Juelz Sant...   \n",
              "16  0007e25b2121310b  Bye! \\n\\nDon't look, come or think of comming ...   \n",
              "17  000897889268bc93   REDIRECT Talk:Voydan Pop Georgiev- Chernodrinski   \n",
              "18  0009801bd85e5806  The Mitsurugi point made no sense - why not ar...   \n",
              "19  0009eaea3325de8c  Don't mean to bother you \\n\\nI see that you're...   \n",
              "20  000b08c464718505  \"\\n\\n Regarding your recent edits \\n\\nOnce aga...   \n",
              "21  000bfd0867774845  \"\\nGood to know. About me, yeah, I'm studying ...   \n",
              "22  000c0dfd995809fa  \"\\n\\n Snowflakes are NOT always symmetrical! \\...   \n",
              "23  000c6a3f0cd3ba8e  \"\\n\\n The Signpost: 24 September 2012 \\n\\n Rea...   \n",
              "24  000cfee90f50d471  \"\\n\\nRe-considering 1st paragraph edit?\\nI don...   \n",
              "\n",
              "    toxic  severe_toxic  obscene  threat  insult  identity_hate    source  \n",
              "0     0.0           0.0      0.0     0.0     0.0            0.0  original  \n",
              "1     0.0           0.0      0.0     0.0     0.0            0.0  original  \n",
              "2     0.0           0.0      0.0     0.0     0.0            0.0  original  \n",
              "3     0.0           0.0      0.0     0.0     0.0            0.0  original  \n",
              "4     0.0           0.0      0.0     0.0     0.0            0.0  original  \n",
              "5     0.0           0.0      0.0     0.0     0.0            0.0  original  \n",
              "6     1.0           1.0      1.0     0.0     1.0            0.0  original  \n",
              "7     0.0           0.0      0.0     0.0     0.0            0.0  original  \n",
              "8     0.0           0.0      0.0     0.0     0.0            0.0  original  \n",
              "9     0.0           0.0      0.0     0.0     0.0            0.0  original  \n",
              "10    0.0           0.0      0.0     0.0     0.0            0.0  original  \n",
              "11    0.0           0.0      0.0     0.0     0.0            0.0  original  \n",
              "12    1.0           0.0      0.0     0.0     0.0            0.0  original  \n",
              "13    0.0           0.0      0.0     0.0     0.0            0.0  original  \n",
              "14    0.0           0.0      0.0     0.0     0.0            0.0  original  \n",
              "15    0.0           0.0      0.0     0.0     0.0            0.0  original  \n",
              "16    1.0           0.0      0.0     0.0     0.0            0.0  original  \n",
              "17    0.0           0.0      0.0     0.0     0.0            0.0  original  \n",
              "18    0.0           0.0      0.0     0.0     0.0            0.0  original  \n",
              "19    0.0           0.0      0.0     0.0     0.0            0.0  original  \n",
              "20    0.0           0.0      0.0     0.0     0.0            0.0  original  \n",
              "21    0.0           0.0      0.0     0.0     0.0            0.0  original  \n",
              "22    0.0           0.0      0.0     0.0     0.0            0.0  original  \n",
              "23    0.0           0.0      0.0     0.0     0.0            0.0  original  \n",
              "24    0.0           0.0      0.0     0.0     0.0            0.0  original  "
            ]
          },
          "execution_count": 4,
          "metadata": {},
          "output_type": "execute_result"
        }
      ],
      "source": [
        "train_df.head(25)"
      ]
    },
    {
      "cell_type": "code",
      "execution_count": null,
      "id": "fB9TJEPcnw0t",
      "metadata": {
        "colab": {
          "base_uri": "https://localhost:8080/"
        },
        "id": "fB9TJEPcnw0t",
        "outputId": "6eebd42c-5797-41da-e203-22dba295d44c"
      },
      "outputs": [
        {
          "name": "stdout",
          "output_type": "stream",
          "text": [
            "                      id                                       comment_text  \\\n",
            "0       0000997932d777bf  Explanation\\nWhy the edits made under my usern...   \n",
            "1       000103f0d9cfb60f  D'aww! He matches this background colour I'm s...   \n",
            "2       000113f07ec002fd  Hey man, I'm really not trying to edit war. It...   \n",
            "3       0001b41b1c6bb37e  \"\\nMore\\nI can't make any real suggestions on ...   \n",
            "4       0001d958c54c6e35  You, sir, are my hero. Any chance you remember...   \n",
            "...                  ...                                                ...   \n",
            "159567  ffea4adeee384e90  You should be ashamed of yourself \\n\\nThat is ...   \n",
            "159568  ffee36eab5c267c9  Spitzer \\n\\nUmm, theres no actual article for ...   \n",
            "159569  fff125370e4aaaf3  And it looks like it was actually you who put ...   \n",
            "159570  fff46fc426af1f9a  \"\\nAnd ... I really don't think you understand...   \n",
            "339024            461010  larry this grant was specifically for this it ...   \n",
            "\n",
            "        toxic  severe_toxic  obscene  threat  insult  identity_hate    source  \n",
            "0         0.0           0.0      0.0     0.0     0.0            0.0  original  \n",
            "1         0.0           0.0      0.0     0.0     0.0            0.0  original  \n",
            "2         0.0           0.0      0.0     0.0     0.0            0.0  original  \n",
            "3         0.0           0.0      0.0     0.0     0.0            0.0  original  \n",
            "4         0.0           0.0      0.0     0.0     0.0            0.0  original  \n",
            "...       ...           ...      ...     ...     ...            ...       ...  \n",
            "159567    0.0           0.0      0.0     0.0     0.0            0.0  original  \n",
            "159568    0.0           0.0      0.0     0.0     0.0            0.0  original  \n",
            "159569    0.0           0.0      0.0     0.0     0.0            0.0  original  \n",
            "159570    0.0           0.0      0.0     0.0     0.0            0.0  original  \n",
            "339024    NaN           NaN      NaN     NaN     NaN            NaN       NaN  \n",
            "\n",
            "[159572 rows x 9 columns]\n"
          ]
        }
      ],
      "source": [
        "filter_ = ~train_df['source'].isin(['cleaned'])\n",
        "filter_cleaned = train_df['source'].isin(['cleaned'])\n",
        "df_filtered = train_df[filter_]\n",
        "df_cleaned = train_df[filter_cleaned]\n",
        "print(df_filtered)"
      ]
    },
    {
      "cell_type": "code",
      "execution_count": null,
      "id": "p8xXKjnk7t8C",
      "metadata": {
        "id": "p8xXKjnk7t8C"
      },
      "outputs": [],
      "source": [
        "df_filtered.to_csv('original_comments.csv', index=False)"
      ]
    },
    {
      "cell_type": "code",
      "execution_count": null,
      "id": "dHgYi6tdabAR",
      "metadata": {
        "colab": {
          "base_uri": "https://localhost:8080/"
        },
        "id": "dHgYi6tdabAR",
        "outputId": "dab5ec7d-147a-4970-8fcd-05e6f1fd9660"
      },
      "outputs": [
        {
          "name": "stdout",
          "output_type": "stream",
          "text": [
            "Collecting en-core-web-sm==3.8.0\n",
            "  Downloading https://github.com/explosion/spacy-models/releases/download/en_core_web_sm-3.8.0/en_core_web_sm-3.8.0-py3-none-any.whl (12.8 MB)\n",
            "\u001b[2K     \u001b[90m━━━━━━━━━━━━━━━━━━━━━━━━━━━━━━━━━━━━━━━━\u001b[0m \u001b[32m12.8/12.8 MB\u001b[0m \u001b[31m37.7 MB/s\u001b[0m eta \u001b[36m0:00:00\u001b[0m\n",
            "\u001b[?25h\u001b[38;5;2m✔ Download and installation successful\u001b[0m\n",
            "You can now load the package via spacy.load('en_core_web_sm')\n",
            "\u001b[38;5;3m⚠ Restart to reload dependencies\u001b[0m\n",
            "If you are in a Jupyter or Colab notebook, you may need to restart Python in\n",
            "order to load all the package's dependencies. You can do this by selecting the\n",
            "'Restart kernel' or 'Restart runtime' option.\n"
          ]
        }
      ],
      "source": [
        "!python -m spacy download en_core_web_sm"
      ]
    },
    {
      "cell_type": "code",
      "execution_count": null,
      "id": "ePk-hPdE0JQR",
      "metadata": {
        "id": "ePk-hPdE0JQR"
      },
      "outputs": [],
      "source": [
        "# Load spaCy model (make sure to run: python -m spacy download en_core_web_sm)\n",
        "nlp = spacy.load(\"en_core_web_sm\", disable=[\"parser\", \"ner\", \"textcat\"])\n",
        "\n",
        "def vectorized_clean(series):\n",
        "    \"\"\"\n",
        "    Use vectorized operations to lowercase and remove punctuation.\n",
        "    \"\"\"\n",
        "    pattern = f\"[{re.escape(string.punctuation)}]\"\n",
        "    return series.str.lower().str.replace(pattern, '', regex=True)\n",
        "\n",
        "def spacy_tokenize(texts, batch_size=500):\n",
        "    \"\"\"\n",
        "    Use spaCy's nlp.pipe to tokenize text in batches.\n",
        "    \"\"\"\n",
        "    clean_texts = []\n",
        "    for doc in tqdm(nlp.pipe(texts, batch_size=batch_size, n_process=1), total=len(texts)):\n",
        "        tokens = [token.text for token in doc if not token.is_space]\n",
        "        clean_texts.append(\" \".join(tokens))\n",
        "    return clean_texts"
      ]
    },
    {
      "cell_type": "code",
      "execution_count": null,
      "id": "6suomOPL9lca",
      "metadata": {
        "colab": {
          "base_uri": "https://localhost:8080/"
        },
        "id": "6suomOPL9lca",
        "outputId": "a8dbe5a6-09fb-4a67-e81e-4c9ed993c1c4"
      },
      "outputs": [
        {
          "name": "stderr",
          "output_type": "stream",
          "text": [
            "<ipython-input-9-de79188fcc86>:4: DtypeWarning: Columns (0) have mixed types. Specify dtype option on import or set low_memory=False.\n",
            "  for chunk in pd.read_csv('/content/combined_toxic_comments.csv', chunksize=chunk_size):\n",
            "<ipython-input-9-de79188fcc86>:7: FutureWarning: Setting an item of incompatible dtype is deprecated and will raise an error in a future version of pandas. Value '' has dtype incompatible with float64, please explicitly cast to a compatible dtype first.\n",
            "  chunk.fillna('', inplace=True)\n",
            "100%|██████████| 940649/940649 [1:03:53<00:00, 245.40it/s]\n"
          ]
        }
      ],
      "source": [
        "chunk_size = 10**6  # Adjust based on your memory capacity\n",
        "processed_chunks = []\n",
        "\n",
        "for chunk in pd.read_csv('/content/combined_toxic_comments.csv', chunksize=chunk_size):\n",
        "    # Remove duplicates and fill missing values\n",
        "    chunk.drop_duplicates(inplace=True)\n",
        "    chunk.fillna('', inplace=True)\n",
        "\n",
        "    if 'comment_text' in chunk.columns:\n",
        "        # Vectorized cleaning: lowercase & remove punctuation\n",
        "        chunk['comment_text'] = vectorized_clean(chunk['comment_text'])\n",
        "\n",
        "        # Option 1: If tokenization isn't strictly needed here, comment out the next block.\n",
        "        # Option 2: If tokenization is needed, use spaCy's nlp.pipe for improved performance.\n",
        "        texts = chunk['comment_text'].tolist()\n",
        "        chunk['comment_text'] = spacy_tokenize(texts, batch_size=500)\n",
        "\n",
        "    processed_chunks.append(chunk)\n",
        "\n",
        "# Concatenate all processed chunks and save the cleaned data\n",
        "cleaned_original_df = pd.concat(processed_chunks)"
      ]
    },
    {
      "cell_type": "code",
      "execution_count": null,
      "id": "hu4N_YVnhr_7",
      "metadata": {
        "id": "hu4N_YVnhr_7"
      },
      "outputs": [],
      "source": [
        "cleaned_original_df = df_filtered.copy()"
      ]
    },
    {
      "cell_type": "code",
      "execution_count": null,
      "id": "yfqYnti4BtJl",
      "metadata": {
        "id": "yfqYnti4BtJl"
      },
      "outputs": [],
      "source": [
        "# Combine the two DataFrames\n",
        "combined_df = pd.concat([cleaned_original_df, df_cleaned], ignore_index=True)"
      ]
    },
    {
      "cell_type": "code",
      "execution_count": null,
      "id": "ynmJe0u8Cffq",
      "metadata": {
        "colab": {
          "base_uri": "https://localhost:8080/",
          "height": 206
        },
        "id": "ynmJe0u8Cffq",
        "outputId": "a2571d16-d7f6-4a52-9e26-01d41afd0943"
      },
      "outputs": [
        {
          "data": {
            "application/vnd.google.colaboratory.intrinsic+json": {
              "type": "dataframe",
              "variable_name": "combined_df"
            },
            "text/html": [
              "\n",
              "  <div id=\"df-8da91fbb-2c66-402c-bfab-4b2f542b6d82\" class=\"colab-df-container\">\n",
              "    <div>\n",
              "<style scoped>\n",
              "    .dataframe tbody tr th:only-of-type {\n",
              "        vertical-align: middle;\n",
              "    }\n",
              "\n",
              "    .dataframe tbody tr th {\n",
              "        vertical-align: top;\n",
              "    }\n",
              "\n",
              "    .dataframe thead th {\n",
              "        text-align: right;\n",
              "    }\n",
              "</style>\n",
              "<table border=\"1\" class=\"dataframe\">\n",
              "  <thead>\n",
              "    <tr style=\"text-align: right;\">\n",
              "      <th></th>\n",
              "      <th>id</th>\n",
              "      <th>comment_text</th>\n",
              "      <th>toxic</th>\n",
              "      <th>severe_toxic</th>\n",
              "      <th>obscene</th>\n",
              "      <th>threat</th>\n",
              "      <th>insult</th>\n",
              "      <th>identity_hate</th>\n",
              "      <th>source</th>\n",
              "    </tr>\n",
              "  </thead>\n",
              "  <tbody>\n",
              "    <tr>\n",
              "      <th>0</th>\n",
              "      <td>0000997932d777bf</td>\n",
              "      <td>Explanation\\nWhy the edits made under my usern...</td>\n",
              "      <td>0.0</td>\n",
              "      <td>0.0</td>\n",
              "      <td>0.0</td>\n",
              "      <td>0.0</td>\n",
              "      <td>0.0</td>\n",
              "      <td>0.0</td>\n",
              "      <td>original</td>\n",
              "    </tr>\n",
              "    <tr>\n",
              "      <th>1</th>\n",
              "      <td>000103f0d9cfb60f</td>\n",
              "      <td>D'aww! He matches this background colour I'm s...</td>\n",
              "      <td>0.0</td>\n",
              "      <td>0.0</td>\n",
              "      <td>0.0</td>\n",
              "      <td>0.0</td>\n",
              "      <td>0.0</td>\n",
              "      <td>0.0</td>\n",
              "      <td>original</td>\n",
              "    </tr>\n",
              "    <tr>\n",
              "      <th>2</th>\n",
              "      <td>000113f07ec002fd</td>\n",
              "      <td>Hey man, I'm really not trying to edit war. It...</td>\n",
              "      <td>0.0</td>\n",
              "      <td>0.0</td>\n",
              "      <td>0.0</td>\n",
              "      <td>0.0</td>\n",
              "      <td>0.0</td>\n",
              "      <td>0.0</td>\n",
              "      <td>original</td>\n",
              "    </tr>\n",
              "    <tr>\n",
              "      <th>3</th>\n",
              "      <td>0001b41b1c6bb37e</td>\n",
              "      <td>\"\\nMore\\nI can't make any real suggestions on ...</td>\n",
              "      <td>0.0</td>\n",
              "      <td>0.0</td>\n",
              "      <td>0.0</td>\n",
              "      <td>0.0</td>\n",
              "      <td>0.0</td>\n",
              "      <td>0.0</td>\n",
              "      <td>original</td>\n",
              "    </tr>\n",
              "    <tr>\n",
              "      <th>4</th>\n",
              "      <td>0001d958c54c6e35</td>\n",
              "      <td>You, sir, are my hero. Any chance you remember...</td>\n",
              "      <td>0.0</td>\n",
              "      <td>0.0</td>\n",
              "      <td>0.0</td>\n",
              "      <td>0.0</td>\n",
              "      <td>0.0</td>\n",
              "      <td>0.0</td>\n",
              "      <td>original</td>\n",
              "    </tr>\n",
              "  </tbody>\n",
              "</table>\n",
              "</div>\n",
              "    <div class=\"colab-df-buttons\">\n",
              "\n",
              "  <div class=\"colab-df-container\">\n",
              "    <button class=\"colab-df-convert\" onclick=\"convertToInteractive('df-8da91fbb-2c66-402c-bfab-4b2f542b6d82')\"\n",
              "            title=\"Convert this dataframe to an interactive table.\"\n",
              "            style=\"display:none;\">\n",
              "\n",
              "  <svg xmlns=\"http://www.w3.org/2000/svg\" height=\"24px\" viewBox=\"0 -960 960 960\">\n",
              "    <path d=\"M120-120v-720h720v720H120Zm60-500h600v-160H180v160Zm220 220h160v-160H400v160Zm0 220h160v-160H400v160ZM180-400h160v-160H180v160Zm440 0h160v-160H620v160ZM180-180h160v-160H180v160Zm440 0h160v-160H620v160Z\"/>\n",
              "  </svg>\n",
              "    </button>\n",
              "\n",
              "  <style>\n",
              "    .colab-df-container {\n",
              "      display:flex;\n",
              "      gap: 12px;\n",
              "    }\n",
              "\n",
              "    .colab-df-convert {\n",
              "      background-color: #E8F0FE;\n",
              "      border: none;\n",
              "      border-radius: 50%;\n",
              "      cursor: pointer;\n",
              "      display: none;\n",
              "      fill: #1967D2;\n",
              "      height: 32px;\n",
              "      padding: 0 0 0 0;\n",
              "      width: 32px;\n",
              "    }\n",
              "\n",
              "    .colab-df-convert:hover {\n",
              "      background-color: #E2EBFA;\n",
              "      box-shadow: 0px 1px 2px rgba(60, 64, 67, 0.3), 0px 1px 3px 1px rgba(60, 64, 67, 0.15);\n",
              "      fill: #174EA6;\n",
              "    }\n",
              "\n",
              "    .colab-df-buttons div {\n",
              "      margin-bottom: 4px;\n",
              "    }\n",
              "\n",
              "    [theme=dark] .colab-df-convert {\n",
              "      background-color: #3B4455;\n",
              "      fill: #D2E3FC;\n",
              "    }\n",
              "\n",
              "    [theme=dark] .colab-df-convert:hover {\n",
              "      background-color: #434B5C;\n",
              "      box-shadow: 0px 1px 3px 1px rgba(0, 0, 0, 0.15);\n",
              "      filter: drop-shadow(0px 1px 2px rgba(0, 0, 0, 0.3));\n",
              "      fill: #FFFFFF;\n",
              "    }\n",
              "  </style>\n",
              "\n",
              "    <script>\n",
              "      const buttonEl =\n",
              "        document.querySelector('#df-8da91fbb-2c66-402c-bfab-4b2f542b6d82 button.colab-df-convert');\n",
              "      buttonEl.style.display =\n",
              "        google.colab.kernel.accessAllowed ? 'block' : 'none';\n",
              "\n",
              "      async function convertToInteractive(key) {\n",
              "        const element = document.querySelector('#df-8da91fbb-2c66-402c-bfab-4b2f542b6d82');\n",
              "        const dataTable =\n",
              "          await google.colab.kernel.invokeFunction('convertToInteractive',\n",
              "                                                    [key], {});\n",
              "        if (!dataTable) return;\n",
              "\n",
              "        const docLinkHtml = 'Like what you see? Visit the ' +\n",
              "          '<a target=\"_blank\" href=https://colab.research.google.com/notebooks/data_table.ipynb>data table notebook</a>'\n",
              "          + ' to learn more about interactive tables.';\n",
              "        element.innerHTML = '';\n",
              "        dataTable['output_type'] = 'display_data';\n",
              "        await google.colab.output.renderOutput(dataTable, element);\n",
              "        const docLink = document.createElement('div');\n",
              "        docLink.innerHTML = docLinkHtml;\n",
              "        element.appendChild(docLink);\n",
              "      }\n",
              "    </script>\n",
              "  </div>\n",
              "\n",
              "\n",
              "    <div id=\"df-e6e907ed-b34f-4c13-aa31-1747e312dc37\">\n",
              "      <button class=\"colab-df-quickchart\" onclick=\"quickchart('df-e6e907ed-b34f-4c13-aa31-1747e312dc37')\"\n",
              "                title=\"Suggest charts\"\n",
              "                style=\"display:none;\">\n",
              "\n",
              "<svg xmlns=\"http://www.w3.org/2000/svg\" height=\"24px\"viewBox=\"0 0 24 24\"\n",
              "     width=\"24px\">\n",
              "    <g>\n",
              "        <path d=\"M19 3H5c-1.1 0-2 .9-2 2v14c0 1.1.9 2 2 2h14c1.1 0 2-.9 2-2V5c0-1.1-.9-2-2-2zM9 17H7v-7h2v7zm4 0h-2V7h2v10zm4 0h-2v-4h2v4z\"/>\n",
              "    </g>\n",
              "</svg>\n",
              "      </button>\n",
              "\n",
              "<style>\n",
              "  .colab-df-quickchart {\n",
              "      --bg-color: #E8F0FE;\n",
              "      --fill-color: #1967D2;\n",
              "      --hover-bg-color: #E2EBFA;\n",
              "      --hover-fill-color: #174EA6;\n",
              "      --disabled-fill-color: #AAA;\n",
              "      --disabled-bg-color: #DDD;\n",
              "  }\n",
              "\n",
              "  [theme=dark] .colab-df-quickchart {\n",
              "      --bg-color: #3B4455;\n",
              "      --fill-color: #D2E3FC;\n",
              "      --hover-bg-color: #434B5C;\n",
              "      --hover-fill-color: #FFFFFF;\n",
              "      --disabled-bg-color: #3B4455;\n",
              "      --disabled-fill-color: #666;\n",
              "  }\n",
              "\n",
              "  .colab-df-quickchart {\n",
              "    background-color: var(--bg-color);\n",
              "    border: none;\n",
              "    border-radius: 50%;\n",
              "    cursor: pointer;\n",
              "    display: none;\n",
              "    fill: var(--fill-color);\n",
              "    height: 32px;\n",
              "    padding: 0;\n",
              "    width: 32px;\n",
              "  }\n",
              "\n",
              "  .colab-df-quickchart:hover {\n",
              "    background-color: var(--hover-bg-color);\n",
              "    box-shadow: 0 1px 2px rgba(60, 64, 67, 0.3), 0 1px 3px 1px rgba(60, 64, 67, 0.15);\n",
              "    fill: var(--button-hover-fill-color);\n",
              "  }\n",
              "\n",
              "  .colab-df-quickchart-complete:disabled,\n",
              "  .colab-df-quickchart-complete:disabled:hover {\n",
              "    background-color: var(--disabled-bg-color);\n",
              "    fill: var(--disabled-fill-color);\n",
              "    box-shadow: none;\n",
              "  }\n",
              "\n",
              "  .colab-df-spinner {\n",
              "    border: 2px solid var(--fill-color);\n",
              "    border-color: transparent;\n",
              "    border-bottom-color: var(--fill-color);\n",
              "    animation:\n",
              "      spin 1s steps(1) infinite;\n",
              "  }\n",
              "\n",
              "  @keyframes spin {\n",
              "    0% {\n",
              "      border-color: transparent;\n",
              "      border-bottom-color: var(--fill-color);\n",
              "      border-left-color: var(--fill-color);\n",
              "    }\n",
              "    20% {\n",
              "      border-color: transparent;\n",
              "      border-left-color: var(--fill-color);\n",
              "      border-top-color: var(--fill-color);\n",
              "    }\n",
              "    30% {\n",
              "      border-color: transparent;\n",
              "      border-left-color: var(--fill-color);\n",
              "      border-top-color: var(--fill-color);\n",
              "      border-right-color: var(--fill-color);\n",
              "    }\n",
              "    40% {\n",
              "      border-color: transparent;\n",
              "      border-right-color: var(--fill-color);\n",
              "      border-top-color: var(--fill-color);\n",
              "    }\n",
              "    60% {\n",
              "      border-color: transparent;\n",
              "      border-right-color: var(--fill-color);\n",
              "    }\n",
              "    80% {\n",
              "      border-color: transparent;\n",
              "      border-right-color: var(--fill-color);\n",
              "      border-bottom-color: var(--fill-color);\n",
              "    }\n",
              "    90% {\n",
              "      border-color: transparent;\n",
              "      border-bottom-color: var(--fill-color);\n",
              "    }\n",
              "  }\n",
              "</style>\n",
              "\n",
              "      <script>\n",
              "        async function quickchart(key) {\n",
              "          const quickchartButtonEl =\n",
              "            document.querySelector('#' + key + ' button');\n",
              "          quickchartButtonEl.disabled = true;  // To prevent multiple clicks.\n",
              "          quickchartButtonEl.classList.add('colab-df-spinner');\n",
              "          try {\n",
              "            const charts = await google.colab.kernel.invokeFunction(\n",
              "                'suggestCharts', [key], {});\n",
              "          } catch (error) {\n",
              "            console.error('Error during call to suggestCharts:', error);\n",
              "          }\n",
              "          quickchartButtonEl.classList.remove('colab-df-spinner');\n",
              "          quickchartButtonEl.classList.add('colab-df-quickchart-complete');\n",
              "        }\n",
              "        (() => {\n",
              "          let quickchartButtonEl =\n",
              "            document.querySelector('#df-e6e907ed-b34f-4c13-aa31-1747e312dc37 button');\n",
              "          quickchartButtonEl.style.display =\n",
              "            google.colab.kernel.accessAllowed ? 'block' : 'none';\n",
              "        })();\n",
              "      </script>\n",
              "    </div>\n",
              "\n",
              "    </div>\n",
              "  </div>\n"
            ],
            "text/plain": [
              "                 id                                       comment_text  toxic  \\\n",
              "0  0000997932d777bf  Explanation\\nWhy the edits made under my usern...    0.0   \n",
              "1  000103f0d9cfb60f  D'aww! He matches this background colour I'm s...    0.0   \n",
              "2  000113f07ec002fd  Hey man, I'm really not trying to edit war. It...    0.0   \n",
              "3  0001b41b1c6bb37e  \"\\nMore\\nI can't make any real suggestions on ...    0.0   \n",
              "4  0001d958c54c6e35  You, sir, are my hero. Any chance you remember...    0.0   \n",
              "\n",
              "   severe_toxic  obscene  threat  insult  identity_hate    source  \n",
              "0           0.0      0.0     0.0     0.0            0.0  original  \n",
              "1           0.0      0.0     0.0     0.0            0.0  original  \n",
              "2           0.0      0.0     0.0     0.0            0.0  original  \n",
              "3           0.0      0.0     0.0     0.0            0.0  original  \n",
              "4           0.0      0.0     0.0     0.0            0.0  original  "
            ]
          },
          "execution_count": 12,
          "metadata": {},
          "output_type": "execute_result"
        }
      ],
      "source": [
        "combined_df.head()"
      ]
    },
    {
      "cell_type": "code",
      "execution_count": null,
      "id": "2auZ4lIeBvfu",
      "metadata": {
        "colab": {
          "base_uri": "https://localhost:8080/"
        },
        "id": "2auZ4lIeBvfu",
        "outputId": "4b088f7b-e7ae-480b-945f-c2725fb72ef8"
      },
      "outputs": [
        {
          "name": "stdout",
          "output_type": "stream",
          "text": [
            "id                0\n",
            "comment_text     19\n",
            "toxic             1\n",
            "severe_toxic      1\n",
            "obscene           1\n",
            "threat            1\n",
            "insult            1\n",
            "identity_hate     1\n",
            "source            1\n",
            "dtype: int64\n",
            "id                object\n",
            "comment_text      object\n",
            "toxic            float64\n",
            "severe_toxic     float64\n",
            "obscene          float64\n",
            "threat           float64\n",
            "insult           float64\n",
            "identity_hate    float64\n",
            "source            object\n",
            "dtype: object\n",
            "id               339025\n",
            "comment_text     335677\n",
            "toxic              1343\n",
            "severe_toxic        402\n",
            "obscene            1011\n",
            "threat              640\n",
            "insult             1502\n",
            "identity_hate       758\n",
            "source                2\n",
            "dtype: int64\n"
          ]
        }
      ],
      "source": [
        "# Check for missing values, data types, and unique values\n",
        "print(combined_df.isnull().sum())\n",
        "print(combined_df.dtypes)\n",
        "print(combined_df.nunique())"
      ]
    },
    {
      "cell_type": "code",
      "execution_count": null,
      "id": "-cmOf0C5Dg_A",
      "metadata": {
        "id": "-cmOf0C5Dg_A"
      },
      "outputs": [],
      "source": [
        "# Fill missing values\n",
        "combined_df[\"comment_text\"] = combined_df[\"comment_text\"].fillna(\"\")\n",
        "\n",
        "# Word count, character count, average word length\n",
        "combined_df[\"word_count\"] = combined_df[\"comment_text\"].apply(lambda x: len(str(x).split()))\n",
        "combined_df[\"char_count\"] = combined_df[\"comment_text\"].apply(lambda x: len(str(x)))\n",
        "combined_df[\"avg_word_length\"] = combined_df[\"char_count\"] / combined_df[\"word_count\"].replace(0, 1)\n",
        "\n",
        "# Count punctuation marks\n",
        "combined_df[\"punctuation_count\"] = combined_df[\"comment_text\"].apply(\n",
        "    lambda x: sum(1 for char in str(x) if char in string.punctuation)\n",
        ")\n",
        "\n",
        "# Count uppercase words\n",
        "combined_df[\"uppercase_word_count\"] = combined_df[\"comment_text\"].apply(\n",
        "    lambda x: sum(1 for word in str(x).split() if word.isupper())\n",
        ")\n",
        "\n",
        "# Count titlecase words\n",
        "combined_df[\"titlecase_word_count\"] = combined_df[\"comment_text\"].apply(\n",
        "    lambda x: sum(1 for word in str(x).split() if word.istitle())\n",
        ")\n",
        "\n",
        "# Calculate % of unique words\n",
        "combined_df[\"unique_word_count\"] = combined_df[\"comment_text\"].apply(lambda x: len(set(str(x).split())))\n",
        "combined_df[\"word_unique_percent\"] = combined_df[\"unique_word_count\"] * 100 / combined_df[\"word_count\"].replace(0, 1)\n",
        "\n",
        "# Calculate % of punctuation characters\n",
        "combined_df[\"punct_percent\"] = combined_df[\"punctuation_count\"] * 100 / combined_df[\"word_count\"].replace(0, 1)"
      ]
    },
    {
      "cell_type": "code",
      "execution_count": null,
      "id": "S0UmXdTMDj3U",
      "metadata": {
        "colab": {
          "base_uri": "https://localhost:8080/"
        },
        "id": "S0UmXdTMDj3U",
        "outputId": "f9f06658-43de-484e-af3e-ae228bd46d15"
      },
      "outputs": [
        {
          "name": "stdout",
          "output_type": "stream",
          "text": [
            "                 id                                       comment_text  toxic  \\\n",
            "0  0000997932d777bf  Explanation\\nWhy the edits made under my usern...    0.0   \n",
            "1  000103f0d9cfb60f  D'aww! He matches this background colour I'm s...    0.0   \n",
            "2  000113f07ec002fd  Hey man, I'm really not trying to edit war. It...    0.0   \n",
            "3  0001b41b1c6bb37e  \"\\nMore\\nI can't make any real suggestions on ...    0.0   \n",
            "4  0001d958c54c6e35  You, sir, are my hero. Any chance you remember...    0.0   \n",
            "\n",
            "   severe_toxic  obscene  threat  insult  identity_hate    source  word_count  \\\n",
            "0           0.0      0.0     0.0     0.0            0.0  original          43   \n",
            "1           0.0      0.0     0.0     0.0            0.0  original          17   \n",
            "2           0.0      0.0     0.0     0.0            0.0  original          42   \n",
            "3           0.0      0.0     0.0     0.0            0.0  original         113   \n",
            "4           0.0      0.0     0.0     0.0            0.0  original          13   \n",
            "\n",
            "   char_count  avg_word_length  punctuation_count  uppercase_word_count  \\\n",
            "0         264         6.139535                 10                     2   \n",
            "1         112         6.588235                 12                     1   \n",
            "2         233         5.547619                  6                     0   \n",
            "3         622         5.504425                 21                     5   \n",
            "4          67         5.153846                  5                     0   \n",
            "\n",
            "   titlecase_word_count  unique_word_count  word_unique_percent  punct_percent  \n",
            "0                    11                 41            95.348837      23.255814  \n",
            "1                     3                 17           100.000000      70.588235  \n",
            "2                     2                 39            92.857143      14.285714  \n",
            "3                     7                 82            72.566372      18.584071  \n",
            "4                     2                 13           100.000000      38.461538  \n"
          ]
        }
      ],
      "source": [
        "print(combined_df.head())"
      ]
    },
    {
      "cell_type": "code",
      "execution_count": null,
      "id": "QmIBLIjKGs2G",
      "metadata": {
        "colab": {
          "background_save": true
        },
        "id": "QmIBLIjKGs2G",
        "outputId": "c50e8991-fcb2-4f06-f481-72599fe01632"
      },
      "outputs": [
        {
          "name": "stderr",
          "output_type": "stream",
          "text": [
            "<ipython-input-16-80a841910237>:14: FutureWarning: \n",
            "\n",
            "Passing `palette` without assigning `hue` is deprecated and will be removed in v0.14.0. Assign the `x` variable to `hue` and set `legend=False` for the same effect.\n",
            "\n",
            "  sns.barplot(x=label_sums.index, y=label_sums.values, palette=\"viridis\")\n"
          ]
        },
        {
          "data": {
            "image/png": "[encoded data removed]",
            "text/plain": [
              "<Figure size 1000x500 with 1 Axes>"
            ]
          },
          "metadata": {},
          "output_type": "display_data"
        }
      ],
      "source": [
        "# Calculate label sums\n",
        "# First, convert label columns to numeric type\n",
        "label_cols = ['toxic', 'severe_toxic', 'obscene', 'threat', 'insult', 'identity_hate']\n",
        "\n",
        "# Convert columns to numeric, replacing any non-numeric values with NaN\n",
        "for col in label_cols:\n",
        "    combined_df[col] = pd.to_numeric(combined_df[col], errors='coerce')\n",
        "\n",
        "# Now calculate the sums\n",
        "label_sums = combined_df[label_cols].sum().sort_values(ascending=False)\n",
        "\n",
        "# Plot\n",
        "plt.figure(figsize=(10, 5))\n",
        "sns.barplot(x=label_sums.index, y=label_sums.values, palette=\"viridis\")\n",
        "plt.title(\"Distribution of Toxicity Labels in Combined Dataset\")\n",
        "plt.ylabel(\"Number of Comments\")\n",
        "plt.xlabel(\"Toxicity Category\")\n",
        "plt.grid(axis='y')\n",
        "plt.tight_layout()\n",
        "plt.show()"
      ]
    },
    {
      "cell_type": "code",
      "execution_count": null,
      "id": "q3DcYDK3iZ-5",
      "metadata": {
        "id": "q3DcYDK3iZ-5",
        "colab": {
          "base_uri": "https://localhost:8080/"
        },
        "outputId": "55857b39-50d3-41d1-bc5e-c12546fce6cf"
      },
      "outputs": [
        {
          "output_type": "stream",
          "name": "stdout",
          "text": [
            "toxic            float64\n",
            "severe_toxic     float64\n",
            "obscene          float64\n",
            "threat           float64\n",
            "insult           float64\n",
            "identity_hate    float64\n",
            "dtype: object\n"
          ]
        }
      ],
      "source": [
        "print(combined_df[label_cols].dtypes)"
      ]
    },
    {
      "cell_type": "markdown",
      "id": "PbTpY4N1G-qO",
      "metadata": {
        "id": "PbTpY4N1G-qO"
      },
      "source": [
        "### Insights:\n",
        "\n",
        "*   \"Toxic\", \"Insult\" and \"identity_hate\" appear most frequently — common in both datasets.\n",
        "\n",
        "*   \"obscene\", \"Threat\", and \"Severe Toxic\" are rarer — showing class imbalance.\n",
        "\n"
      ]
    },
    {
      "cell_type": "code",
      "execution_count": null,
      "id": "iZFWv409Hw9i",
      "metadata": {
        "colab": {
          "base_uri": "https://localhost:8080/",
          "height": 594
        },
        "id": "iZFWv409Hw9i",
        "outputId": "aa24dc13-9703-4580-aeef-4e50f4b133ed"
      },
      "outputs": [
        {
          "output_type": "stream",
          "name": "stderr",
          "text": [
            "<ipython-input-18-3abbfecad325>:11: FutureWarning: \n",
            "\n",
            "Passing `palette` without assigning `hue` is deprecated and will be removed in v0.14.0. Assign the `x` variable to `hue` and set `legend=False` for the same effect.\n",
            "\n",
            "  sns.countplot(x='num_labels', data=binary_combined_labels_df, palette=\"magma\")\n"
          ]
        },
        {
          "output_type": "display_data",
          "data": {
            "text/plain": [
              "<Figure size 800x500 with 1 Axes>"
            ],
            "image/png": "[encoded data removed]"
          },
          "metadata": {}
        }
      ],
      "source": [
        "binary_combined_labels_df = pd.DataFrame()\n",
        "\n",
        "# Convert float labels to binary (threshold = 0.5)\n",
        "binary_combined_labels_df[label_cols] = (combined_df[label_cols] >= 0.5).astype(int)\n",
        "\n",
        "# Count number of labels per row\n",
        "binary_combined_labels_df['num_labels'] = binary_combined_labels_df[label_cols].sum(axis=1)\n",
        "\n",
        "# Plot distribution of number of toxic tags per comment\n",
        "plt.figure(figsize=(8, 5))\n",
        "sns.countplot(x='num_labels', data=binary_combined_labels_df, palette=\"magma\")\n",
        "plt.title(\"Number of Toxic Tags per Comment\")\n",
        "plt.xlabel(\"# of Toxic Labels\")\n",
        "plt.ylabel(\"Number of Comments\")\n",
        "plt.grid(axis='y')\n",
        "plt.tight_layout()\n",
        "plt.show()"
      ]
    },
    {
      "cell_type": "markdown",
      "id": "Cx5gwF6qQZiy",
      "metadata": {
        "id": "Cx5gwF6qQZiy"
      },
      "source": [
        "# Tags\tInterpretation\n",
        "*   0 :\tMajority (~90%) of comments are clean (not labeled with any toxic tag).\n",
        "*   1-2 :\tA decent number have 1–2 toxic traits — e.g., just \"toxic\", or \"toxic + insult\".\n",
        "*   3+ :\tFewer comments have multiple layers of toxicity (e.g., \"toxic + obscene + threat\").\n",
        "\n",
        "**What This Means for Your Modeling:**\n",
        "\n",
        "*   Imbalanced dataset: Heavy skew towards non-toxic (0-label) comments.\n",
        "*   Multi-label learning is required, not just binary classification.\n",
        "\n",
        "**Performance metrics should include:**\n",
        "\n",
        "*   Macro F1 (accounts for minority classes)\n",
        "*   Subgroup analysis (e.g., 2+ labels vs 0–1)"
      ]
    },
    {
      "cell_type": "code",
      "execution_count": null,
      "id": "23iayceFIab5",
      "metadata": {
        "colab": {
          "base_uri": "https://localhost:8080/",
          "height": 607
        },
        "id": "23iayceFIab5",
        "outputId": "f398fd01-b1f9-419d-e370-5f417c190a7e"
      },
      "outputs": [
        {
          "output_type": "display_data",
          "data": {
            "text/plain": [
              "<Figure size 800x600 with 2 Axes>"
            ],
            "image/png": "[encoded data removed]"
          },
          "metadata": {}
        }
      ],
      "source": [
        "# Calculate Pearson correlation between label columns\n",
        "correlation = combined_df[label_cols].corr()\n",
        "\n",
        "# Plot heatmap\n",
        "plt.figure(figsize=(8, 6))\n",
        "sns.heatmap(correlation, annot=True, cmap=\"YlGnBu\", fmt=\".2f\")\n",
        "plt.title(\"Correlation Between Toxic Labels\")\n",
        "plt.tight_layout()\n",
        "plt.show()"
      ]
    },
    {
      "cell_type": "markdown",
      "id": "8pJ2c8P3MZBW",
      "metadata": {
        "id": "8pJ2c8P3MZBW"
      },
      "source": [
        "### Strong Correlations\n",
        "\n",
        "*   Toxic ↔ Insult: 0.89\n",
        "Indicates that most \"insult\" comments are also labeled \"toxic\". A model learning to predict \"toxic\" might already capture a lot of \"insult\" signal.\n",
        "*   Toxic ↔ Obscene: 0.51\n",
        "Often used together — offensive language usually overlaps with toxicity.\n",
        "*   Toxic ↔ Severe Toxic: 0.32\n",
        "Every \"severe toxic\" comment is by definition \"toxic\", which this reflects."
      ]
    },
    {
      "cell_type": "code",
      "execution_count": null,
      "id": "RZNQIVTlJ30F",
      "metadata": {
        "colab": {
          "base_uri": "https://localhost:8080/"
        },
        "id": "RZNQIVTlJ30F",
        "outputId": "a1c1f841-fd8f-4c51-d480-f94d7f0af504"
      },
      "outputs": [
        {
          "output_type": "stream",
          "name": "stdout",
          "text": [
            "   toxic  severe_toxic  obscene  threat  insult  identity_hate  num_labels\n",
            "0      0             0        0       0       0              0           0\n",
            "1      0             0        0       0       0              0           0\n",
            "2      0             0        0       0       0              0           0\n",
            "3      0             0        0       0       0              0           0\n",
            "4      0             0        0       0       0              0           0\n"
          ]
        }
      ],
      "source": [
        "print(binary_combined_labels_df.head())"
      ]
    },
    {
      "cell_type": "code",
      "execution_count": null,
      "id": "UcFIkguQTMjv",
      "metadata": {
        "id": "UcFIkguQTMjv"
      },
      "outputs": [],
      "source": [
        "# Add the label column based on binary_combined_labels_df\n",
        "combined_df[\"label\"] = (binary_combined_labels_df[\"num_labels\"] > 0).astype(int)"
      ]
    },
    {
      "cell_type": "code",
      "execution_count": null,
      "id": "Kc3qlr4ZYL9v",
      "metadata": {
        "colab": {
          "base_uri": "https://localhost:8080/"
        },
        "id": "Kc3qlr4ZYL9v",
        "outputId": "afa79428-8bef-4ca6-c147-fdbeadd31f47"
      },
      "outputs": [
        {
          "output_type": "stream",
          "name": "stdout",
          "text": [
            "                 id                                       comment_text  toxic  \\\n",
            "0  0000997932d777bf  Explanation\\nWhy the edits made under my usern...    0.0   \n",
            "1  000103f0d9cfb60f  D'aww! He matches this background colour I'm s...    0.0   \n",
            "2  000113f07ec002fd  Hey man, I'm really not trying to edit war. It...    0.0   \n",
            "3  0001b41b1c6bb37e  \"\\nMore\\nI can't make any real suggestions on ...    0.0   \n",
            "4  0001d958c54c6e35  You, sir, are my hero. Any chance you remember...    0.0   \n",
            "\n",
            "   severe_toxic  obscene  threat  insult  identity_hate    source  word_count  \\\n",
            "0           0.0      0.0     0.0     0.0            0.0  original          43   \n",
            "1           0.0      0.0     0.0     0.0            0.0  original          17   \n",
            "2           0.0      0.0     0.0     0.0            0.0  original          42   \n",
            "3           0.0      0.0     0.0     0.0            0.0  original         113   \n",
            "4           0.0      0.0     0.0     0.0            0.0  original          13   \n",
            "\n",
            "   char_count  avg_word_length  punctuation_count  uppercase_word_count  \\\n",
            "0         264         6.139535                 10                     2   \n",
            "1         112         6.588235                 12                     1   \n",
            "2         233         5.547619                  6                     0   \n",
            "3         622         5.504425                 21                     5   \n",
            "4          67         5.153846                  5                     0   \n",
            "\n",
            "   titlecase_word_count  unique_word_count  word_unique_percent  \\\n",
            "0                    11                 41            95.348837   \n",
            "1                     3                 17           100.000000   \n",
            "2                     2                 39            92.857143   \n",
            "3                     7                 82            72.566372   \n",
            "4                     2                 13           100.000000   \n",
            "\n",
            "   punct_percent  label  \n",
            "0      23.255814      0  \n",
            "1      70.588235      0  \n",
            "2      14.285714      0  \n",
            "3      18.584071      0  \n",
            "4      38.461538      0  \n"
          ]
        }
      ],
      "source": [
        "print(combined_df.head())"
      ]
    },
    {
      "cell_type": "code",
      "execution_count": null,
      "id": "2e96kAksduUz",
      "metadata": {
        "id": "2e96kAksduUz"
      },
      "outputs": [],
      "source": [
        "combined_df.to_csv(\"merged_dataset.csv\", index=False)"
      ]
    },
    {
      "cell_type": "code",
      "execution_count": null,
      "id": "0kcHmqp7ZxFZ",
      "metadata": {
        "colab": {
          "base_uri": "https://localhost:8080/"
        },
        "id": "0kcHmqp7ZxFZ",
        "outputId": "3c693a84-b378-46bb-f6a5-e63bc922d9e9"
      },
      "outputs": [
        {
          "output_type": "stream",
          "name": "stdout",
          "text": [
            "\u001b[31mERROR: Ignored the following versions that require a different python version: 1.21.2 Requires-Python >=3.7,<3.11; 1.21.3 Requires-Python >=3.7,<3.11; 1.21.4 Requires-Python >=3.7,<3.11; 1.21.5 Requires-Python >=3.7,<3.11; 1.21.6 Requires-Python >=3.7,<3.11\u001b[0m\u001b[31m\n",
            "\u001b[0m\u001b[31mERROR: Could not find a version that satisfies the requirement numpy==2.24.0 (from versions: 1.3.0, 1.4.1, 1.5.0, 1.5.1, 1.6.0, 1.6.1, 1.6.2, 1.7.0, 1.7.1, 1.7.2, 1.8.0, 1.8.1, 1.8.2, 1.9.0, 1.9.1, 1.9.2, 1.9.3, 1.10.0.post2, 1.10.1, 1.10.2, 1.10.4, 1.11.0, 1.11.1, 1.11.2, 1.11.3, 1.12.0, 1.12.1, 1.13.0, 1.13.1, 1.13.3, 1.14.0, 1.14.1, 1.14.2, 1.14.3, 1.14.4, 1.14.5, 1.14.6, 1.15.0, 1.15.1, 1.15.2, 1.15.3, 1.15.4, 1.16.0, 1.16.1, 1.16.2, 1.16.3, 1.16.4, 1.16.5, 1.16.6, 1.17.0, 1.17.1, 1.17.2, 1.17.3, 1.17.4, 1.17.5, 1.18.0, 1.18.1, 1.18.2, 1.18.3, 1.18.4, 1.18.5, 1.19.0, 1.19.1, 1.19.2, 1.19.3, 1.19.4, 1.19.5, 1.20.0, 1.20.1, 1.20.2, 1.20.3, 1.21.0, 1.21.1, 1.22.0, 1.22.1, 1.22.2, 1.22.3, 1.22.4, 1.23.0, 1.23.1, 1.23.2, 1.23.3, 1.23.4, 1.23.5, 1.24.0, 1.24.1, 1.24.2, 1.24.3, 1.24.4, 1.25.0, 1.25.1, 1.25.2, 1.26.0, 1.26.1, 1.26.2, 1.26.3, 1.26.4, 2.0.0, 2.0.1, 2.0.2, 2.1.0rc1, 2.1.0, 2.1.1, 2.1.2, 2.1.3, 2.2.0rc1, 2.2.0, 2.2.1, 2.2.2, 2.2.3, 2.2.4, 2.2.5)\u001b[0m\u001b[31m\n",
            "\u001b[0m\u001b[31mERROR: No matching distribution found for numpy==2.24.0\u001b[0m\u001b[31m\n",
            "\u001b[0m"
          ]
        }
      ],
      "source": [
        "!pip install numpy==2.24.0"
      ]
    },
    {
      "cell_type": "code",
      "execution_count": null,
      "id": "5a7563NTaHxq",
      "metadata": {
        "colab": {
          "base_uri": "https://localhost:8080/"
        },
        "id": "5a7563NTaHxq",
        "outputId": "c8a67eb0-b5b3-4b80-d6bf-ce3e65a9cf4a"
      },
      "outputs": [
        {
          "output_type": "stream",
          "name": "stdout",
          "text": [
            "Requirement already satisfied: tensorflow in /usr/local/lib/python3.11/dist-packages (2.18.0)\n",
            "Requirement already satisfied: absl-py>=1.0.0 in /usr/local/lib/python3.11/dist-packages (from tensorflow) (1.4.0)\n",
            "Requirement already satisfied: astunparse>=1.6.0 in /usr/local/lib/python3.11/dist-packages (from tensorflow) (1.6.3)\n",
            "Requirement already satisfied: flatbuffers>=24.3.25 in /usr/local/lib/python3.11/dist-packages (from tensorflow) (25.2.10)\n",
            "Requirement already satisfied: gast!=0.5.0,!=0.5.1,!=0.5.2,>=0.2.1 in /usr/local/lib/python3.11/dist-packages (from tensorflow) (0.6.0)\n",
            "Requirement already satisfied: google-pasta>=0.1.1 in /usr/local/lib/python3.11/dist-packages (from tensorflow) (0.2.0)\n",
            "Requirement already satisfied: libclang>=13.0.0 in /usr/local/lib/python3.11/dist-packages (from tensorflow) (18.1.1)\n",
            "Requirement already satisfied: opt-einsum>=2.3.2 in /usr/local/lib/python3.11/dist-packages (from tensorflow) (3.4.0)\n",
            "Requirement already satisfied: packaging in /usr/local/lib/python3.11/dist-packages (from tensorflow) (24.2)\n",
            "Requirement already satisfied: protobuf!=4.21.0,!=4.21.1,!=4.21.2,!=4.21.3,!=4.21.4,!=4.21.5,<6.0.0dev,>=3.20.3 in /usr/local/lib/python3.11/dist-packages (from tensorflow) (5.29.4)\n",
            "Requirement already satisfied: requests<3,>=2.21.0 in /usr/local/lib/python3.11/dist-packages (from tensorflow) (2.32.3)\n",
            "Requirement already satisfied: setuptools in /usr/local/lib/python3.11/dist-packages (from tensorflow) (75.2.0)\n",
            "Requirement already satisfied: six>=1.12.0 in /usr/local/lib/python3.11/dist-packages (from tensorflow) (1.17.0)\n",
            "Requirement already satisfied: termcolor>=1.1.0 in /usr/local/lib/python3.11/dist-packages (from tensorflow) (3.0.1)\n",
            "Requirement already satisfied: typing-extensions>=3.6.6 in /usr/local/lib/python3.11/dist-packages (from tensorflow) (4.13.2)\n",
            "Requirement already satisfied: wrapt>=1.11.0 in /usr/local/lib/python3.11/dist-packages (from tensorflow) (1.17.2)\n",
            "Requirement already satisfied: grpcio<2.0,>=1.24.3 in /usr/local/lib/python3.11/dist-packages (from tensorflow) (1.71.0)\n",
            "Requirement already satisfied: tensorboard<2.19,>=2.18 in /usr/local/lib/python3.11/dist-packages (from tensorflow) (2.18.0)\n",
            "Requirement already satisfied: keras>=3.5.0 in /usr/local/lib/python3.11/dist-packages (from tensorflow) (3.8.0)\n",
            "Requirement already satisfied: numpy<2.1.0,>=1.26.0 in /usr/local/lib/python3.11/dist-packages (from tensorflow) (1.26.4)\n",
            "Requirement already satisfied: h5py>=3.11.0 in /usr/local/lib/python3.11/dist-packages (from tensorflow) (3.13.0)\n",
            "Requirement already satisfied: ml-dtypes<0.5.0,>=0.4.0 in /usr/local/lib/python3.11/dist-packages (from tensorflow) (0.4.1)\n",
            "Requirement already satisfied: tensorflow-io-gcs-filesystem>=0.23.1 in /usr/local/lib/python3.11/dist-packages (from tensorflow) (0.37.1)\n",
            "Requirement already satisfied: wheel<1.0,>=0.23.0 in /usr/local/lib/python3.11/dist-packages (from astunparse>=1.6.0->tensorflow) (0.45.1)\n",
            "Requirement already satisfied: rich in /usr/local/lib/python3.11/dist-packages (from keras>=3.5.0->tensorflow) (13.9.4)\n",
            "Requirement already satisfied: namex in /usr/local/lib/python3.11/dist-packages (from keras>=3.5.0->tensorflow) (0.0.9)\n",
            "Requirement already satisfied: optree in /usr/local/lib/python3.11/dist-packages (from keras>=3.5.0->tensorflow) (0.15.0)\n",
            "Requirement already satisfied: charset-normalizer<4,>=2 in /usr/local/lib/python3.11/dist-packages (from requests<3,>=2.21.0->tensorflow) (3.4.1)\n",
            "Requirement already satisfied: idna<4,>=2.5 in /usr/local/lib/python3.11/dist-packages (from requests<3,>=2.21.0->tensorflow) (3.10)\n",
            "Requirement already satisfied: urllib3<3,>=1.21.1 in /usr/local/lib/python3.11/dist-packages (from requests<3,>=2.21.0->tensorflow) (2.4.0)\n",
            "Requirement already satisfied: certifi>=2017.4.17 in /usr/local/lib/python3.11/dist-packages (from requests<3,>=2.21.0->tensorflow) (2025.1.31)\n",
            "Requirement already satisfied: markdown>=2.6.8 in /usr/local/lib/python3.11/dist-packages (from tensorboard<2.19,>=2.18->tensorflow) (3.8)\n",
            "Requirement already satisfied: tensorboard-data-server<0.8.0,>=0.7.0 in /usr/local/lib/python3.11/dist-packages (from tensorboard<2.19,>=2.18->tensorflow) (0.7.2)\n",
            "Requirement already satisfied: werkzeug>=1.0.1 in /usr/local/lib/python3.11/dist-packages (from tensorboard<2.19,>=2.18->tensorflow) (3.1.3)\n",
            "Requirement already satisfied: MarkupSafe>=2.1.1 in /usr/local/lib/python3.11/dist-packages (from werkzeug>=1.0.1->tensorboard<2.19,>=2.18->tensorflow) (3.0.2)\n",
            "Requirement already satisfied: markdown-it-py>=2.2.0 in /usr/local/lib/python3.11/dist-packages (from rich->keras>=3.5.0->tensorflow) (3.0.0)\n",
            "Requirement already satisfied: pygments<3.0.0,>=2.13.0 in /usr/local/lib/python3.11/dist-packages (from rich->keras>=3.5.0->tensorflow) (2.19.1)\n",
            "Requirement already satisfied: mdurl~=0.1 in /usr/local/lib/python3.11/dist-packages (from markdown-it-py>=2.2.0->rich->keras>=3.5.0->tensorflow) (0.1.2)\n"
          ]
        }
      ],
      "source": [
        "!pip install tensorflow"
      ]
    },
    {
      "cell_type": "code",
      "execution_count": null,
      "id": "GpXxeFCxaMoK",
      "metadata": {
        "colab": {
          "base_uri": "https://localhost:8080/"
        },
        "id": "GpXxeFCxaMoK",
        "outputId": "3214e06e-4472-4f74-d1b8-590216abf140"
      },
      "outputs": [
        {
          "output_type": "stream",
          "name": "stdout",
          "text": [
            "Requirement already satisfied: gensim in /usr/local/lib/python3.11/dist-packages (4.3.3)\n",
            "Requirement already satisfied: numpy<2.0,>=1.18.5 in /usr/local/lib/python3.11/dist-packages (from gensim) (1.26.4)\n",
            "Requirement already satisfied: scipy<1.14.0,>=1.7.0 in /usr/local/lib/python3.11/dist-packages (from gensim) (1.13.1)\n",
            "Requirement already satisfied: smart-open>=1.8.1 in /usr/local/lib/python3.11/dist-packages (from gensim) (7.1.0)\n",
            "Requirement already satisfied: wrapt in /usr/local/lib/python3.11/dist-packages (from smart-open>=1.8.1->gensim) (1.17.2)\n"
          ]
        }
      ],
      "source": [
        "!pip install gensim"
      ]
    },
    {
      "cell_type": "code",
      "execution_count": null,
      "id": "tvTnAMoDZsWe",
      "metadata": {
        "colab": {
          "base_uri": "https://localhost:8080/"
        },
        "id": "tvTnAMoDZsWe",
        "outputId": "06981902-127b-4db8-f960-9a363a5886e2"
      },
      "outputs": [
        {
          "output_type": "stream",
          "name": "stdout",
          "text": [
            "[==================================================] 100.0% 376.1/376.1MB downloaded\n"
          ]
        }
      ],
      "source": [
        "# Load GloVe vectors\n",
        "glove = api.load(\"glove-wiki-gigaword-300\")\n"
      ]
    },
    {
      "cell_type": "code",
      "execution_count": null,
      "id": "fZLOaC-PfcxT",
      "metadata": {
        "id": "fZLOaC-PfcxT"
      },
      "outputs": [],
      "source": [
        "def avg_glove(text):\n",
        "    words = [w for w in str(text).split() if w in glove]\n",
        "    return np.mean([glove[w] for w in words], axis=0) if words else np.zeros(300)\n",
        "\n",
        "# Apply it to ALL rows in combined_df\n",
        "X_glove = np.vstack(combined_df[\"comment_text\"].apply(avg_glove))"
      ]
    },
    {
      "cell_type": "code",
      "execution_count": null,
      "id": "Lk4rrPpo82bn",
      "metadata": {
        "id": "Lk4rrPpo82bn"
      },
      "outputs": [],
      "source": [
        "# Define engineered feature columns\n",
        "engineered_cols = [\n",
        "    'word_count',\n",
        "    'char_count',\n",
        "    'avg_word_length',\n",
        "    'punctuation_count',\n",
        "    'uppercase_word_count',\n",
        "    'titlecase_word_count',\n",
        "    'word_unique_percent',\n",
        "    'punct_percent'\n",
        "]"
      ]
    },
    {
      "cell_type": "code",
      "execution_count": null,
      "id": "c-ZCCm8z-4j-",
      "metadata": {
        "id": "c-ZCCm8z-4j-"
      },
      "outputs": [],
      "source": [
        "# Extract engineered features\n",
        "X_features = combined_df[engineered_cols].values\n",
        "\n",
        "# Scale both sets of features\n",
        "glove_scaler = StandardScaler()\n",
        "feature_scaler = MinMaxScaler()\n",
        "\n",
        "X_glove_scaled = glove_scaler.fit_transform(X_glove)\n",
        "X_feat_scaled = feature_scaler.fit_transform(X_features)\n",
        "\n",
        "# Combine GloVe + Engineered Features\n",
        "X_combined = np.hstack((X_glove_scaled, X_feat_scaled))\n",
        "\n",
        "# Binary label\n",
        "y = combined_df[\"label\"].values"
      ]
    },
    {
      "cell_type": "code",
      "execution_count": null,
      "id": "pVjI7bjkfGM8",
      "metadata": {
        "colab": {
          "base_uri": "https://localhost:8080/"
        },
        "id": "pVjI7bjkfGM8",
        "outputId": "515abcfa-55e1-403d-9b8c-7f78fb134518"
      },
      "outputs": [
        {
          "output_type": "stream",
          "name": "stdout",
          "text": [
            "GloVe shape: (339025, 300)\n",
            "Engineered features shape: (339025, 8)\n",
            "combined_df shape: (339025, 19)\n"
          ]
        }
      ],
      "source": [
        "print(\"GloVe shape:\", X_glove.shape)\n",
        "print(\"Engineered features shape:\", X_features.shape)\n",
        "print(\"combined_df shape:\", combined_df.shape)"
      ]
    },
    {
      "cell_type": "code",
      "execution_count": null,
      "id": "e4CxZ59VDFBG",
      "metadata": {
        "id": "e4CxZ59VDFBG"
      },
      "outputs": [],
      "source": [
        "# Train-test split\n",
        "X_train, X_val, y_train, y_val = train_test_split(\n",
        "    X_combined, y, test_size=0.2, stratify=y, random_state=42\n",
        ")"
      ]
    },
    {
      "cell_type": "code",
      "execution_count": null,
      "id": "ThZ2eqSFGHHE",
      "metadata": {
        "id": "ThZ2eqSFGHHE"
      },
      "outputs": [],
      "source": [
        "from sklearn.metrics import precision_recall_curve, classification_report, confusion_matrix, accuracy_score, precision_score, recall_score, f1_score\n",
        "from sklearn.utils.class_weight import compute_class_weight\n",
        "\n",
        "def train_and_evaluate(X_train, y_train, X_val, y_val, use_class_weight=False):\n",
        "    print(f\"\\n{'='*30}\\nTraining with class_weight = {use_class_weight}\\n{'='*30}\")\n",
        "\n",
        "    # Build model\n",
        "    model = tf.keras.Sequential([\n",
        "        tf.keras.layers.Input(shape=(X_train.shape[1],)),\n",
        "        tf.keras.layers.Dense(128, activation='relu'),\n",
        "        tf.keras.layers.Dropout(0.3),\n",
        "        tf.keras.layers.Dense(64, activation='relu'),\n",
        "        tf.keras.layers.Dropout(0.3),\n",
        "        tf.keras.layers.Dense(1, activation='sigmoid')\n",
        "    ])\n",
        "\n",
        "    model.compile(loss='binary_crossentropy', optimizer='adam', metrics=['accuracy'])\n",
        "\n",
        "    # Handle class imbalance\n",
        "    class_weight = None\n",
        "    if use_class_weight:\n",
        "        weights = compute_class_weight(class_weight='balanced', classes=np.unique(y_train), y=y_train)\n",
        "        class_weight = dict(enumerate(weights))\n",
        "\n",
        "    # Train\n",
        "    history = model.fit(X_train, y_train, validation_data=(X_val, y_val), epochs=10, batch_size=64, verbose=0, class_weight=class_weight)\n",
        "\n",
        "    # Predict probabilities\n",
        "    y_val_probs = model.predict(X_val).ravel()\n",
        "\n",
        "    # Find best threshold for F1\n",
        "    precision, recall, thresholds = precision_recall_curve(y_val, y_val_probs)\n",
        "    f1_scores = 2 * (precision * recall) / (precision + recall + 1e-8)\n",
        "    best_idx = np.argmax(f1_scores)\n",
        "    best_thresh = thresholds[best_idx]\n",
        "\n",
        "    # Final predictions\n",
        "    y_pred = (y_val_probs >= best_thresh).astype(int)\n",
        "\n",
        "    # Evaluation\n",
        "    acc = accuracy_score(y_val, y_pred)\n",
        "    prec = precision_score(y_val, y_pred)\n",
        "    rec = recall_score(y_val, y_pred)\n",
        "    f1 = f1_score(y_val, y_pred)\n",
        "    cm = confusion_matrix(y_val, y_pred)\n",
        "\n",
        "    print(f\"\\n Best Threshold: {best_thresh:.4f}\")\n",
        "    print(f\"Accuracy   : {acc:.4f}\")\n",
        "    print(f\"Precision  : {prec:.4f}\")\n",
        "    print(f\"Recall     : {rec:.4f}\")\n",
        "    print(f\"F1 Score   : {f1:.4f}\")\n",
        "    print(\"Confusion Matrix:\")\n",
        "    print(cm)\n",
        "\n",
        "    return {\n",
        "        \"model\": model,\n",
        "        \"acc\": acc,\n",
        "        \"precision\": prec,\n",
        "        \"recall\": rec,\n",
        "        \"f1\": f1,\n",
        "        \"threshold\": best_thresh,\n",
        "        \"conf_matrix\": cm\n",
        "    }"
      ]
    },
    {
      "cell_type": "code",
      "execution_count": null,
      "id": "kvTNK63ZGNVT",
      "metadata": {
        "id": "kvTNK63ZGNVT",
        "colab": {
          "base_uri": "https://localhost:8080/"
        },
        "outputId": "47458e86-5ae2-4710-9761-f1f30368a4f3"
      },
      "outputs": [
        {
          "output_type": "stream",
          "name": "stdout",
          "text": [
            "\n",
            "==============================\n",
            "Training with class_weight = False\n",
            "==============================\n",
            "\u001b[1m2119/2119\u001b[0m \u001b[32m━━━━━━━━━━━━━━━━━━━━\u001b[0m\u001b[37m\u001b[0m \u001b[1m4s\u001b[0m 2ms/step\n",
            "\n",
            " Best Threshold: 0.2406\n",
            "Accuracy   : 0.9263\n",
            "Precision  : 0.5987\n",
            "Recall     : 0.5147\n",
            "F1 Score   : 0.5535\n",
            "Confusion Matrix:\n",
            "[[59712  2076]\n",
            " [ 2920  3097]]\n",
            "\n",
            "==============================\n",
            "Training with class_weight = True\n",
            "==============================\n",
            "\u001b[1m2119/2119\u001b[0m \u001b[32m━━━━━━━━━━━━━━━━━━━━\u001b[0m\u001b[37m\u001b[0m \u001b[1m4s\u001b[0m 2ms/step\n",
            "\n",
            " Best Threshold: 0.7905\n",
            "Accuracy   : 0.9241\n",
            "Precision  : 0.5822\n",
            "Recall     : 0.5114\n",
            "F1 Score   : 0.5445\n",
            "Confusion Matrix:\n",
            "[[59580  2208]\n",
            " [ 2940  3077]]\n"
          ]
        }
      ],
      "source": [
        "# Assuming X_train, y_train, X_val, y_val are already defined\n",
        "\n",
        "result_no_weight = train_and_evaluate(X_train, y_train, X_val, y_val, use_class_weight=False)\n",
        "result_with_weight = train_and_evaluate(X_train, y_train, X_val, y_val, use_class_weight=True)\n",
        "result_with_weight['model'].save('dnnModel.keras')"
      ]
    },
    {
      "cell_type": "code",
      "source": [
        "# Install and import SMOTE from imblearn if not already available\n",
        "!pip install -q imbalanced-learn  # (if running in a new environment like Colab)\n",
        "\n",
        "from imblearn.over_sampling import SMOTE\n",
        "from collections import Counter\n"
      ],
      "metadata": {
        "id": "y4YTPkBSIgrs"
      },
      "id": "y4YTPkBSIgrs",
      "execution_count": null,
      "outputs": []
    },
    {
      "cell_type": "code",
      "source": [
        "# Assume X_train, y_train are the original training features/labels after train_test_split\n",
        "print(\"Original training class distribution:\", Counter(y_train))  # e.g., {0: 1440000, 1: 160000}\n",
        "\n",
        "# Apply SMOTE to oversample the minority (toxic) class to 50/50\n",
        "smote = SMOTE(sampling_strategy=1.0, random_state=42)  # 1.0 = balance classes evenly\n",
        "X_train_res, y_train_res = smote.fit_resample(X_train, y_train)\n",
        "\n",
        "# Verify the class balance after SMOTE\n",
        "print(\"Training set size before SMOTE:\", X_train.shape)\n",
        "print(\"Training set size after SMOTE :\", X_train_res.shape)\n",
        "print(\"Class distribution after SMOTE:\", Counter(y_train_res))  # Now roughly equal counts of 0 and 1\n",
        "\n",
        "# Shuffle the oversampled training data to mix synthetic and original samples\n",
        "shuffle_idx = np.random.permutation(len(y_train_res))\n",
        "X_train_res = X_train_res[shuffle_idx]\n",
        "y_train_res = y_train_res[shuffle_idx]"
      ],
      "metadata": {
        "id": "JSVRAFaMIlJb",
        "colab": {
          "base_uri": "https://localhost:8080/"
        },
        "outputId": "6f4bfe9e-df4c-4824-9249-e713e908b47f"
      },
      "id": "JSVRAFaMIlJb",
      "execution_count": null,
      "outputs": [
        {
          "output_type": "stream",
          "name": "stdout",
          "text": [
            "Original training class distribution: Counter({0: 247152, 1: 24068})\n",
            "Training set size before SMOTE: (271220, 308)\n",
            "Training set size after SMOTE : (494304, 308)\n",
            "Class distribution after SMOTE: Counter({0: 247152, 1: 247152})\n"
          ]
        }
      ]
    },
    {
      "cell_type": "code",
      "source": [
        "import tensorflow as tf\n",
        "\n",
        "# Define the deeper neural network architecture\n",
        "model = tf.keras.Sequential([\n",
        "    tf.keras.layers.Input(shape=(X_train_res.shape[1],)),  # Input layer for 308-dim features\n",
        "    tf.keras.layers.Dense(256, activation='relu'),        # 1st hidden layer with 256 neurons\n",
        "    tf.keras.layers.Dropout(0.3),                         # Dropout 30% to regularize\n",
        "    tf.keras.layers.Dense(128, activation='relu'),        # 2nd hidden layer with 128 neurons\n",
        "    tf.keras.layers.Dropout(0.3),                         # Dropout 30% to regularize\n",
        "    tf.keras.layers.Dense(64, activation='relu'),         # 3rd hidden layer with 64 neurons\n",
        "    tf.keras.layers.Dense(1, activation='sigmoid')        # Output layer for binary classification\n",
        "])\n",
        "\n",
        "# Compile the model with Adam optimizer, binary crossentropy loss, and desired metrics\n",
        "model.compile(optimizer=tf.keras.optimizers.Adam(learning_rate=0.001),\n",
        "              loss='binary_crossentropy',\n",
        "              metrics=['accuracy', tf.keras.metrics.AUC(name='auc')])\n",
        "\n",
        "# Set up Early Stopping callback (monitor validation loss, patience 2)\n",
        "early_stop = tf.keras.callbacks.EarlyStopping(monitor='val_loss', patience=2, restore_best_weights=True)\n",
        "\n",
        "# (Optional) Set a random seed for reproducibility\n",
        "tf.random.set_seed(42)\n",
        "np.random.seed(42)\n",
        "\n",
        "# Train the model on the oversampled training set, validate on the untouched validation set\n",
        "history = model.fit(X_train_res, y_train_res,\n",
        "                    validation_data=(X_val, y_val),\n",
        "                    epochs=10, batch_size=64,\n",
        "                    callbacks=[early_stop],\n",
        "                    verbose=1)\n"
      ],
      "metadata": {
        "colab": {
          "base_uri": "https://localhost:8080/"
        },
        "id": "h7SPxHcrOZ0m",
        "outputId": "51687830-84fb-4df0-d204-4122c01835a3"
      },
      "id": "h7SPxHcrOZ0m",
      "execution_count": null,
      "outputs": [
        {
          "output_type": "stream",
          "name": "stdout",
          "text": [
            "Epoch 1/10\n",
            "\u001b[1m7724/7724\u001b[0m \u001b[32m━━━━━━━━━━━━━━━━━━━━\u001b[0m\u001b[37m\u001b[0m \u001b[1m60s\u001b[0m 7ms/step - accuracy: 0.8332 - auc: 0.9082 - loss: 0.3867 - val_accuracy: 0.8711 - val_auc: 0.8773 - val_loss: 0.3104\n",
            "Epoch 2/10\n",
            "\u001b[1m7724/7724\u001b[0m \u001b[32m━━━━━━━━━━━━━━━━━━━━\u001b[0m\u001b[37m\u001b[0m \u001b[1m87s\u001b[0m 8ms/step - accuracy: 0.8699 - auc: 0.9429 - loss: 0.3060 - val_accuracy: 0.8689 - val_auc: 0.8804 - val_loss: 0.3033\n",
            "Epoch 3/10\n",
            "\u001b[1m7724/7724\u001b[0m \u001b[32m━━━━━━━━━━━━━━━━━━━━\u001b[0m\u001b[37m\u001b[0m \u001b[1m84s\u001b[0m 8ms/step - accuracy: 0.8827 - auc: 0.9523 - loss: 0.2795 - val_accuracy: 0.8745 - val_auc: 0.8784 - val_loss: 0.3017\n",
            "Epoch 4/10\n",
            "\u001b[1m7724/7724\u001b[0m \u001b[32m━━━━━━━━━━━━━━━━━━━━\u001b[0m\u001b[37m\u001b[0m \u001b[1m78s\u001b[0m 8ms/step - accuracy: 0.8905 - auc: 0.9584 - loss: 0.2609 - val_accuracy: 0.8814 - val_auc: 0.8786 - val_loss: 0.2928\n",
            "Epoch 5/10\n",
            "\u001b[1m7724/7724\u001b[0m \u001b[32m━━━━━━━━━━━━━━━━━━━━\u001b[0m\u001b[37m\u001b[0m \u001b[1m61s\u001b[0m 8ms/step - accuracy: 0.8976 - auc: 0.9629 - loss: 0.2462 - val_accuracy: 0.8756 - val_auc: 0.8778 - val_loss: 0.3008\n",
            "Epoch 6/10\n",
            "\u001b[1m7724/7724\u001b[0m \u001b[32m━━━━━━━━━━━━━━━━━━━━\u001b[0m\u001b[37m\u001b[0m \u001b[1m58s\u001b[0m 8ms/step - accuracy: 0.9032 - auc: 0.9663 - loss: 0.2345 - val_accuracy: 0.8786 - val_auc: 0.8783 - val_loss: 0.2893\n",
            "Epoch 7/10\n",
            "\u001b[1m7724/7724\u001b[0m \u001b[32m━━━━━━━━━━━━━━━━━━━━\u001b[0m\u001b[37m\u001b[0m \u001b[1m82s\u001b[0m 8ms/step - accuracy: 0.9075 - auc: 0.9689 - loss: 0.2248 - val_accuracy: 0.8816 - val_auc: 0.8745 - val_loss: 0.2908\n",
            "Epoch 8/10\n",
            "\u001b[1m7724/7724\u001b[0m \u001b[32m━━━━━━━━━━━━━━━━━━━━\u001b[0m\u001b[37m\u001b[0m \u001b[1m61s\u001b[0m 8ms/step - accuracy: 0.9107 - auc: 0.9706 - loss: 0.2185 - val_accuracy: 0.8822 - val_auc: 0.8740 - val_loss: 0.2892\n",
            "Epoch 9/10\n",
            "\u001b[1m7724/7724\u001b[0m \u001b[32m━━━━━━━━━━━━━━━━━━━━\u001b[0m\u001b[37m\u001b[0m \u001b[1m58s\u001b[0m 8ms/step - accuracy: 0.9136 - auc: 0.9722 - loss: 0.2121 - val_accuracy: 0.8814 - val_auc: 0.8729 - val_loss: 0.2923\n",
            "Epoch 10/10\n",
            "\u001b[1m7724/7724\u001b[0m \u001b[32m━━━━━━━━━━━━━━━━━━━━\u001b[0m\u001b[37m\u001b[0m \u001b[1m80s\u001b[0m 7ms/step - accuracy: 0.9162 - auc: 0.9737 - loss: 0.2061 - val_accuracy: 0.8819 - val_auc: 0.8719 - val_loss: 0.2928\n"
          ]
        }
      ]
    },
    {
      "cell_type": "code",
      "source": [
        "from sklearn.metrics import accuracy_score, precision_score, recall_score, roc_auc_score\n",
        "\n",
        "# Predict probabilities on the validation set\n",
        "val_probs = model.predict(X_val, verbose=0).ravel()  # probability of toxic class for each comment\n",
        "# Convert probabilities to binary predictions (toxic if >= 0.5)\n",
        "val_preds = (val_probs >= 0.5).astype(int)\n",
        "\n",
        "# Calculate evaluation metrics\n",
        "acc = accuracy_score(y_val, val_preds)\n",
        "auc = roc_auc_score(y_val, val_probs)\n",
        "recall = recall_score(y_val, val_preds)\n",
        "precision = precision_score(y_val, val_preds)\n",
        "\n",
        "print(f\"Accuracy:  {acc:.4f}\")\n",
        "print(f\"AUC:       {auc:.4f}\")\n",
        "print(f\"Recall:    {recall:.4f}\")\n",
        "print(f\"Precision: {precision:.4f}\")\n",
        "\n",
        "# Save the model to an HDF5 file\n",
        "model.save(\"toxic_comment_model.h5\")\n",
        "print(\"Trained model saved to 'toxic_comment_model.h5'.\")\n"
      ],
      "metadata": {
        "colab": {
          "base_uri": "https://localhost:8080/"
        },
        "id": "28Pn4mCuQnFk",
        "outputId": "f9af2850-d341-4711-bf81-ae8fcf4df4cc"
      },
      "id": "28Pn4mCuQnFk",
      "execution_count": null,
      "outputs": [
        {
          "output_type": "stream",
          "name": "stderr",
          "text": [
            "WARNING:absl:You are saving your model as an HDF5 file via `model.save()` or `keras.saving.save_model(model)`. This file format is considered legacy. We recommend using instead the native Keras format, e.g. `model.save('my_model.keras')` or `keras.saving.save_model(model, 'my_model.keras')`. \n"
          ]
        },
        {
          "output_type": "stream",
          "name": "stdout",
          "text": [
            "Accuracy:  0.8822\n",
            "AUC:       0.8753\n",
            "Recall:    0.6465\n",
            "Precision: 0.3989\n",
            "Trained model saved to 'toxic_comment_model.h5'.\n"
          ]
        }
      ]
    },
    {
      "cell_type": "markdown",
      "source": [
        "2. Optimal Threshold Calibration\n",
        "Rather than sticking with the default 0.5 cutoff, you can pick the threshold that maximizes F1 (or any metric you care about). Here’s a snippet to find and apply the best threshold on your validation set:"
      ],
      "metadata": {
        "id": "BDTx7TtKRsDX"
      },
      "id": "BDTx7TtKRsDX"
    },
    {
      "cell_type": "code",
      "source": [
        "import numpy as np\n",
        "from sklearn.metrics import f1_score\n",
        "\n",
        "# val_probs = model.predict(X_val).ravel()  # your probability outputs\n",
        "# y_val = true labels for validation\n",
        "\n",
        "thresholds = np.linspace(0.1, 0.9, 81)\n",
        "f1_scores = [f1_score(y_val, (val_probs >= t).astype(int)) for t in thresholds]\n",
        "best_idx = np.argmax(f1_scores)\n",
        "best_thr = thresholds[best_idx]\n",
        "best_f1  = f1_scores[best_idx]\n",
        "\n",
        "print(f\"Best threshold = {best_thr:.3f}, F1 = {best_f1:.4f}\")\n",
        "\n",
        "# Recompute metrics at best threshold\n",
        "from sklearn.metrics import accuracy_score, precision_score, recall_score, roc_auc_score, confusion_matrix\n",
        "\n",
        "y_pred_opt = (val_probs >= best_thr).astype(int)\n",
        "print(\"Accuracy  :\", accuracy_score(y_val, y_pred_opt))\n",
        "print(\"Recall    :\", recall_score(y_val, y_pred_opt))\n",
        "print(\"Precision :\", precision_score(y_val, y_pred_opt))\n",
        "print(\"F1        :\", best_f1)\n",
        "print(\"Confusion Matrix:\\n\", confusion_matrix(y_val, y_pred_opt))\n"
      ],
      "metadata": {
        "id": "-dIVFwZnRsy7",
        "colab": {
          "base_uri": "https://localhost:8080/"
        },
        "outputId": "41618507-a713-49ce-c8d5-cf813d57d848"
      },
      "id": "-dIVFwZnRsy7",
      "execution_count": 53,
      "outputs": [
        {
          "output_type": "stream",
          "name": "stdout",
          "text": [
            "Best threshold = 0.720, F1 = 0.5155\n",
            "Accuracy  : 0.9116584322690067\n",
            "Recall    : 0.529499750706332\n",
            "Precision : 0.502127659574468\n",
            "F1        : 0.5154505743407216\n",
            "Confusion Matrix:\n",
            " [[58629  3159]\n",
            " [ 2831  3186]]\n"
          ]
        }
      ]
    }
  ],
  "metadata": {
    "accelerator": "TPU",
    "colab": {
      "gpuType": "V28",
      "provenance": []
    },
    "kernelspec": {
      "display_name": "Python 3",
      "name": "python3"
    },
    "language_info": {
      "codemirror_mode": {
        "name": "ipython",
        "version": 3
      },
      "file_extension": ".py",
      "mimetype": "text/x-python",
      "name": "python",
      "nbconvert_exporter": "python",
      "pygments_lexer": "ipython3",
      "version": "3.12.0"
    }
  },
  "nbformat": 4,
  "nbformat_minor": 5
}