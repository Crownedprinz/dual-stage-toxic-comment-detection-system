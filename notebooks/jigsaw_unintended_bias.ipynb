{
 "cells": [
  {
   "cell_type": "markdown",
   "metadata": {},
   "source": [
    "For training your model you’ll typically use the labeled data. In this case, the main file to focus on is:\n",
    "\n",
    "train.csv (File #8)\n",
    "The other files may be used for:\n",
    "\n",
    "Evaluation or further analysis:\n",
    "For instance, the test files (Files #4, #5, and #6) can be used for testing or validation.\n",
    "\n",
    "Additional features or biases:\n",
    "Files #2 and #7 (identity_individual_annotations.csv and toxicity_individual_annotations.csv) can help address bias or incorporate additional features.\n",
    "\n",
    "Submission template:\n",
    "File #3 (sample_submission.csv) is usually for organizing your submission.\n",
    "\n",
    "Complete dataset:\n",
    "File #1 (all_data.csv) may offer more extensive coverage, depending on your intended use case."
   ]
  },
  {
   "cell_type": "code",
   "execution_count": null,
   "metadata": {},
   "outputs": [
    {
     "name": "stderr",
     "output_type": "stream",
     "text": [
      "[nltk_data] Downloading package punkt to\n",
      "[nltk_data]     /Users/crownedprinz/nltk_data...\n",
      "[nltk_data]   Package punkt is already up-to-date!\n"
     ]
    },
    {
     "name": "stdout",
     "output_type": "stream",
     "text": [
      "../raw_data/jigsaw_unintended/train.csv already exists; skipping download.\n"
     ]
    },
    {
     "name": "stderr",
     "output_type": "stream",
     "text": [
      "/var/folders/vn/v6spsf3n5453mb67l122q4qm0000gn/T/ipykernel_68527/3005651691.py:56: FutureWarning: Setting an item of incompatible dtype is deprecated and will raise an error in a future version of pandas. Value '' has dtype incompatible with float64, please explicitly cast to a compatible dtype first.\n",
      "  chunk.fillna('', inplace=True)\n"
     ]
    },
    {
     "data": {
      "application/vnd.jupyter.widget-view+json": {
       "model_id": "15b779d0179d49029da14dabbfb66b26",
       "version_major": 2,
       "version_minor": 0
      },
      "text/plain": [
       "  0%|          | 0/1000000 [00:00<?, ?it/s]"
      ]
     },
     "metadata": {},
     "output_type": "display_data"
    },
    {
     "name": "stderr",
     "output_type": "stream",
     "text": [
      "/var/folders/vn/v6spsf3n5453mb67l122q4qm0000gn/T/ipykernel_68527/3005651691.py:56: FutureWarning: Setting an item of incompatible dtype is deprecated and will raise an error in a future version of pandas. Value '' has dtype incompatible with float64, please explicitly cast to a compatible dtype first.\n",
      "  chunk.fillna('', inplace=True)\n"
     ]
    },
    {
     "data": {
      "application/vnd.jupyter.widget-view+json": {
       "model_id": "967cca37d4a64ba3a8271ad4595549db",
       "version_major": 2,
       "version_minor": 0
      },
      "text/plain": [
       "  0%|          | 0/804874 [00:00<?, ?it/s]"
      ]
     },
     "metadata": {},
     "output_type": "display_data"
    },
    {
     "name": "stdout",
     "output_type": "stream",
     "text": [
      "Cleaned data saved to ../processed_data/jigsaw_unintended/cleaned_train.csv\n"
     ]
    }
   ],
   "source": [
    "import os\n",
    "import pandas as pd\n",
    "import gdown\n",
    "import string\n",
    "import re\n",
    "import nltk\n",
    "import spacy\n",
    "from tqdm.notebook import tqdm\n",
    "\n",
    "# Download NLTK resources if not already available\n",
    "nltk.download('punkt')\n",
    "\n",
    "# Load spaCy model (make sure to run: python -m spacy download en_core_web_sm)\n",
    "nlp = spacy.load(\"en_core_web_sm\", disable=[\"parser\", \"ner\", \"textcat\"])\n",
    "\n",
    "def vectorized_clean(series):\n",
    "    \"\"\"\n",
    "    Use vectorized operations to lowercase and remove punctuation.\n",
    "    \"\"\"\n",
    "    pattern = f\"[{re.escape(string.punctuation)}]\"\n",
    "    return series.str.lower().str.replace(pattern, '', regex=True)\n",
    "\n",
    "def spacy_tokenize(texts, batch_size=500):\n",
    "    \"\"\"\n",
    "    Use spaCy's nlp.pipe to tokenize text in batches.\n",
    "    \"\"\"\n",
    "    clean_texts = []\n",
    "    for doc in tqdm(nlp.pipe(texts, batch_size=batch_size, n_process=1), total=len(texts)):\n",
    "        tokens = [token.text for token in doc if not token.is_space]\n",
    "        clean_texts.append(\" \".join(tokens))\n",
    "    return clean_texts\n",
    "\n",
    "# Create directories if they don't exist\n",
    "raw_dir = os.path.join(\"../raw_data\", \"jigsaw_unintended\")\n",
    "processed_dir = os.path.join(\"../processed_data\", \"jigsaw_unintended\")\n",
    "os.makedirs(raw_dir, exist_ok=True)\n",
    "os.makedirs(processed_dir, exist_ok=True)\n",
    "\n",
    "# Download train.csv using the direct download link\n",
    "train_url = 'https://drive.google.com/uc?export=download&id=1N-orSYsJCubW2SXLXVukT9zfFf8aAg-C'\n",
    "train_file = os.path.join(raw_dir, 'train.csv')\n",
    "cleaned_train = os.path.join(processed_dir, 'cleaned_train.csv')\n",
    "\n",
    "# Check if the file exists before downloading\n",
    "if not os.path.exists(train_file):\n",
    "    gdown.download(train_url, train_file, quiet=False)\n",
    "else:\n",
    "    print(f\"{train_file} already exists; skipping download.\")\n",
    "\n",
    "\n",
    "# Check if the cleaned file already exists\n",
    "if os.path.exists(cleaned_train):\n",
    "    print(f\"{cleaned_train} already exists; skipping processing.\")\n",
    "else:\n",
    "    # Process the file in chunks if it's too large\n",
    "    chunk_size = 10**6  # Adjust based on your memory capacity\n",
    "    processed_chunks = []\n",
    "\n",
    "    for chunk in pd.read_csv(train_file, chunksize=chunk_size):\n",
    "        # Remove duplicates and fill missing values\n",
    "        chunk.drop_duplicates(inplace=True)\n",
    "        chunk.fillna('', inplace=True)\n",
    "        \n",
    "        if 'comment_text' in chunk.columns:\n",
    "            # Vectorized cleaning: lowercase & remove punctuation\n",
    "            chunk['comment_text'] = vectorized_clean(chunk['comment_text'])\n",
    "            \n",
    "            # Option 1: If tokenization isn't strictly needed here, comment out the next block.\n",
    "            # Option 2: If tokenization is needed, use spaCy's nlp.pipe for improved performance.\n",
    "            texts = chunk['comment_text'].tolist()\n",
    "            chunk['comment_text'] = spacy_tokenize(texts, batch_size=500)\n",
    "        \n",
    "        processed_chunks.append(chunk)\n",
    "\n",
    "    # Concatenate all processed chunks and save the cleaned data\n",
    "    df = pd.concat(processed_chunks)\n",
    "    cleaned_train = os.path.join(processed_dir, 'cleaned_train.csv')\n",
    "    df.to_csv(cleaned_train, index=False)\n",
    "\n",
    "    print(f\"Cleaned data saved to {cleaned_train}\")"
   ]
  }
 ],
 "metadata": {
  "kernelspec": {
   "display_name": "Python 3",
   "language": "python",
   "name": "python3"
  },
  "language_info": {
   "codemirror_mode": {
    "name": "ipython",
    "version": 3
   },
   "file_extension": ".py",
   "mimetype": "text/x-python",
   "name": "python",
   "nbconvert_exporter": "python",
   "pygments_lexer": "ipython3",
   "version": "3.12.0"
  }
 },
 "nbformat": 4,
 "nbformat_minor": 2
}
