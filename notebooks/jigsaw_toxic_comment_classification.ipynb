{
  "cells": [
    {
      "cell_type": "code",
      "execution_count": 1,
      "metadata": {
        "id": "9KdxIzsB1Yy6"
      },
      "outputs": [],
      "source": [
        "import os"
      ]
    },
    {
      "cell_type": "markdown",
      "source": [
        "# Exploratory Data Analysis"
      ],
      "metadata": {
        "id": "9Qg9buCpEg7l"
      }
    },
    {
      "cell_type": "code",
      "execution_count": 2,
      "metadata": {
        "id": "ChqSPpbw6qB8"
      },
      "outputs": [],
      "source": [
        "import pandas as pd\n",
        "import numpy as np\n",
        "import matplotlib.pyplot as plt\n",
        "import seaborn as sns"
      ]
    },
    {
      "cell_type": "code",
      "execution_count": 3,
      "metadata": {
        "id": "iytF78o76qB-"
      },
      "outputs": [],
      "source": [
        "import nltk\n",
        "from nltk.corpus import stopwords"
      ]
    },
    {
      "cell_type": "code",
      "execution_count": 4,
      "metadata": {
        "id": "OXPDIRW96qB-",
        "outputId": "24b815d4-e0eb-4efa-cb5d-aed21f81fd6f",
        "colab": {
          "base_uri": "https://localhost:8080/"
        }
      },
      "outputs": [
        {
          "output_type": "stream",
          "name": "stderr",
          "text": [
            "[nltk_data] Downloading package stopwords to /root/nltk_data...\n",
            "[nltk_data]   Package stopwords is already up-to-date!\n"
          ]
        },
        {
          "output_type": "execute_result",
          "data": {
            "text/plain": [
              "True"
            ]
          },
          "metadata": {},
          "execution_count": 4
        }
      ],
      "source": [
        "nltk.download('stopwords')"
      ]
    },
    {
      "cell_type": "code",
      "execution_count": 5,
      "metadata": {
        "id": "vV73u_Ze6qB_"
      },
      "outputs": [],
      "source": [
        "train_df = pd.read_csv(r\"/content/dual-stage-toxic-comment-detection-system/raw_data/jigsaw-toxic-comment-classification-challenge/train/train.csv\")\n",
        "test_df = pd.read_csv(r\"/content/dual-stage-toxic-comment-detection-system/raw_data/jigsaw-toxic-comment-classification-challenge/test/test.csv\")"
      ]
    },
    {
      "cell_type": "code",
      "execution_count": 6,
      "metadata": {
        "id": "2d8GgtY_6qCA",
        "outputId": "98aeeb3e-f9bb-4b52-f767-a9ee97b51515",
        "colab": {
          "base_uri": "https://localhost:8080/",
          "height": 206
        }
      },
      "outputs": [
        {
          "output_type": "execute_result",
          "data": {
            "text/plain": [
              "                 id                                       comment_text  toxic  \\\n",
              "0  0000997932d777bf  Explanation\\nWhy the edits made under my usern...      0   \n",
              "1  000103f0d9cfb60f  D'aww! He matches this background colour I'm s...      0   \n",
              "2  000113f07ec002fd  Hey man, I'm really not trying to edit war. It...      0   \n",
              "3  0001b41b1c6bb37e  \"\\nMore\\nI can't make any real suggestions on ...      0   \n",
              "4  0001d958c54c6e35  You, sir, are my hero. Any chance you remember...      0   \n",
              "\n",
              "   severe_toxic  obscene  threat  insult  identity_hate  \n",
              "0             0        0       0       0              0  \n",
              "1             0        0       0       0              0  \n",
              "2             0        0       0       0              0  \n",
              "3             0        0       0       0              0  \n",
              "4             0        0       0       0              0  "
            ],
            "text/html": [
              "\n",
              "  <div id=\"df-f2e68170-c3cd-43d7-b8a7-e10ce43ded10\" class=\"colab-df-container\">\n",
              "    <div>\n",
              "<style scoped>\n",
              "    .dataframe tbody tr th:only-of-type {\n",
              "        vertical-align: middle;\n",
              "    }\n",
              "\n",
              "    .dataframe tbody tr th {\n",
              "        vertical-align: top;\n",
              "    }\n",
              "\n",
              "    .dataframe thead th {\n",
              "        text-align: right;\n",
              "    }\n",
              "</style>\n",
              "<table border=\"1\" class=\"dataframe\">\n",
              "  <thead>\n",
              "    <tr style=\"text-align: right;\">\n",
              "      <th></th>\n",
              "      <th>id</th>\n",
              "      <th>comment_text</th>\n",
              "      <th>toxic</th>\n",
              "      <th>severe_toxic</th>\n",
              "      <th>obscene</th>\n",
              "      <th>threat</th>\n",
              "      <th>insult</th>\n",
              "      <th>identity_hate</th>\n",
              "    </tr>\n",
              "  </thead>\n",
              "  <tbody>\n",
              "    <tr>\n",
              "      <th>0</th>\n",
              "      <td>0000997932d777bf</td>\n",
              "      <td>Explanation\\nWhy the edits made under my usern...</td>\n",
              "      <td>0</td>\n",
              "      <td>0</td>\n",
              "      <td>0</td>\n",
              "      <td>0</td>\n",
              "      <td>0</td>\n",
              "      <td>0</td>\n",
              "    </tr>\n",
              "    <tr>\n",
              "      <th>1</th>\n",
              "      <td>000103f0d9cfb60f</td>\n",
              "      <td>D'aww! He matches this background colour I'm s...</td>\n",
              "      <td>0</td>\n",
              "      <td>0</td>\n",
              "      <td>0</td>\n",
              "      <td>0</td>\n",
              "      <td>0</td>\n",
              "      <td>0</td>\n",
              "    </tr>\n",
              "    <tr>\n",
              "      <th>2</th>\n",
              "      <td>000113f07ec002fd</td>\n",
              "      <td>Hey man, I'm really not trying to edit war. It...</td>\n",
              "      <td>0</td>\n",
              "      <td>0</td>\n",
              "      <td>0</td>\n",
              "      <td>0</td>\n",
              "      <td>0</td>\n",
              "      <td>0</td>\n",
              "    </tr>\n",
              "    <tr>\n",
              "      <th>3</th>\n",
              "      <td>0001b41b1c6bb37e</td>\n",
              "      <td>\"\\nMore\\nI can't make any real suggestions on ...</td>\n",
              "      <td>0</td>\n",
              "      <td>0</td>\n",
              "      <td>0</td>\n",
              "      <td>0</td>\n",
              "      <td>0</td>\n",
              "      <td>0</td>\n",
              "    </tr>\n",
              "    <tr>\n",
              "      <th>4</th>\n",
              "      <td>0001d958c54c6e35</td>\n",
              "      <td>You, sir, are my hero. Any chance you remember...</td>\n",
              "      <td>0</td>\n",
              "      <td>0</td>\n",
              "      <td>0</td>\n",
              "      <td>0</td>\n",
              "      <td>0</td>\n",
              "      <td>0</td>\n",
              "    </tr>\n",
              "  </tbody>\n",
              "</table>\n",
              "</div>\n",
              "    <div class=\"colab-df-buttons\">\n",
              "\n",
              "  <div class=\"colab-df-container\">\n",
              "    <button class=\"colab-df-convert\" onclick=\"convertToInteractive('df-f2e68170-c3cd-43d7-b8a7-e10ce43ded10')\"\n",
              "            title=\"Convert this dataframe to an interactive table.\"\n",
              "            style=\"display:none;\">\n",
              "\n",
              "  <svg xmlns=\"http://www.w3.org/2000/svg\" height=\"24px\" viewBox=\"0 -960 960 960\">\n",
              "    <path d=\"M120-120v-720h720v720H120Zm60-500h600v-160H180v160Zm220 220h160v-160H400v160Zm0 220h160v-160H400v160ZM180-400h160v-160H180v160Zm440 0h160v-160H620v160ZM180-180h160v-160H180v160Zm440 0h160v-160H620v160Z\"/>\n",
              "  </svg>\n",
              "    </button>\n",
              "\n",
              "  <style>\n",
              "    .colab-df-container {\n",
              "      display:flex;\n",
              "      gap: 12px;\n",
              "    }\n",
              "\n",
              "    .colab-df-convert {\n",
              "      background-color: #E8F0FE;\n",
              "      border: none;\n",
              "      border-radius: 50%;\n",
              "      cursor: pointer;\n",
              "      display: none;\n",
              "      fill: #1967D2;\n",
              "      height: 32px;\n",
              "      padding: 0 0 0 0;\n",
              "      width: 32px;\n",
              "    }\n",
              "\n",
              "    .colab-df-convert:hover {\n",
              "      background-color: #E2EBFA;\n",
              "      box-shadow: 0px 1px 2px rgba(60, 64, 67, 0.3), 0px 1px 3px 1px rgba(60, 64, 67, 0.15);\n",
              "      fill: #174EA6;\n",
              "    }\n",
              "\n",
              "    .colab-df-buttons div {\n",
              "      margin-bottom: 4px;\n",
              "    }\n",
              "\n",
              "    [theme=dark] .colab-df-convert {\n",
              "      background-color: #3B4455;\n",
              "      fill: #D2E3FC;\n",
              "    }\n",
              "\n",
              "    [theme=dark] .colab-df-convert:hover {\n",
              "      background-color: #434B5C;\n",
              "      box-shadow: 0px 1px 3px 1px rgba(0, 0, 0, 0.15);\n",
              "      filter: drop-shadow(0px 1px 2px rgba(0, 0, 0, 0.3));\n",
              "      fill: #FFFFFF;\n",
              "    }\n",
              "  </style>\n",
              "\n",
              "    <script>\n",
              "      const buttonEl =\n",
              "        document.querySelector('#df-f2e68170-c3cd-43d7-b8a7-e10ce43ded10 button.colab-df-convert');\n",
              "      buttonEl.style.display =\n",
              "        google.colab.kernel.accessAllowed ? 'block' : 'none';\n",
              "\n",
              "      async function convertToInteractive(key) {\n",
              "        const element = document.querySelector('#df-f2e68170-c3cd-43d7-b8a7-e10ce43ded10');\n",
              "        const dataTable =\n",
              "          await google.colab.kernel.invokeFunction('convertToInteractive',\n",
              "                                                    [key], {});\n",
              "        if (!dataTable) return;\n",
              "\n",
              "        const docLinkHtml = 'Like what you see? Visit the ' +\n",
              "          '<a target=\"_blank\" href=https://colab.research.google.com/notebooks/data_table.ipynb>data table notebook</a>'\n",
              "          + ' to learn more about interactive tables.';\n",
              "        element.innerHTML = '';\n",
              "        dataTable['output_type'] = 'display_data';\n",
              "        await google.colab.output.renderOutput(dataTable, element);\n",
              "        const docLink = document.createElement('div');\n",
              "        docLink.innerHTML = docLinkHtml;\n",
              "        element.appendChild(docLink);\n",
              "      }\n",
              "    </script>\n",
              "  </div>\n",
              "\n",
              "\n",
              "<div id=\"df-f91c6f1b-76bc-45d9-8943-da8d419ae4ed\">\n",
              "  <button class=\"colab-df-quickchart\" onclick=\"quickchart('df-f91c6f1b-76bc-45d9-8943-da8d419ae4ed')\"\n",
              "            title=\"Suggest charts\"\n",
              "            style=\"display:none;\">\n",
              "\n",
              "<svg xmlns=\"http://www.w3.org/2000/svg\" height=\"24px\"viewBox=\"0 0 24 24\"\n",
              "     width=\"24px\">\n",
              "    <g>\n",
              "        <path d=\"M19 3H5c-1.1 0-2 .9-2 2v14c0 1.1.9 2 2 2h14c1.1 0 2-.9 2-2V5c0-1.1-.9-2-2-2zM9 17H7v-7h2v7zm4 0h-2V7h2v10zm4 0h-2v-4h2v4z\"/>\n",
              "    </g>\n",
              "</svg>\n",
              "  </button>\n",
              "\n",
              "<style>\n",
              "  .colab-df-quickchart {\n",
              "      --bg-color: #E8F0FE;\n",
              "      --fill-color: #1967D2;\n",
              "      --hover-bg-color: #E2EBFA;\n",
              "      --hover-fill-color: #174EA6;\n",
              "      --disabled-fill-color: #AAA;\n",
              "      --disabled-bg-color: #DDD;\n",
              "  }\n",
              "\n",
              "  [theme=dark] .colab-df-quickchart {\n",
              "      --bg-color: #3B4455;\n",
              "      --fill-color: #D2E3FC;\n",
              "      --hover-bg-color: #434B5C;\n",
              "      --hover-fill-color: #FFFFFF;\n",
              "      --disabled-bg-color: #3B4455;\n",
              "      --disabled-fill-color: #666;\n",
              "  }\n",
              "\n",
              "  .colab-df-quickchart {\n",
              "    background-color: var(--bg-color);\n",
              "    border: none;\n",
              "    border-radius: 50%;\n",
              "    cursor: pointer;\n",
              "    display: none;\n",
              "    fill: var(--fill-color);\n",
              "    height: 32px;\n",
              "    padding: 0;\n",
              "    width: 32px;\n",
              "  }\n",
              "\n",
              "  .colab-df-quickchart:hover {\n",
              "    background-color: var(--hover-bg-color);\n",
              "    box-shadow: 0 1px 2px rgba(60, 64, 67, 0.3), 0 1px 3px 1px rgba(60, 64, 67, 0.15);\n",
              "    fill: var(--button-hover-fill-color);\n",
              "  }\n",
              "\n",
              "  .colab-df-quickchart-complete:disabled,\n",
              "  .colab-df-quickchart-complete:disabled:hover {\n",
              "    background-color: var(--disabled-bg-color);\n",
              "    fill: var(--disabled-fill-color);\n",
              "    box-shadow: none;\n",
              "  }\n",
              "\n",
              "  .colab-df-spinner {\n",
              "    border: 2px solid var(--fill-color);\n",
              "    border-color: transparent;\n",
              "    border-bottom-color: var(--fill-color);\n",
              "    animation:\n",
              "      spin 1s steps(1) infinite;\n",
              "  }\n",
              "\n",
              "  @keyframes spin {\n",
              "    0% {\n",
              "      border-color: transparent;\n",
              "      border-bottom-color: var(--fill-color);\n",
              "      border-left-color: var(--fill-color);\n",
              "    }\n",
              "    20% {\n",
              "      border-color: transparent;\n",
              "      border-left-color: var(--fill-color);\n",
              "      border-top-color: var(--fill-color);\n",
              "    }\n",
              "    30% {\n",
              "      border-color: transparent;\n",
              "      border-left-color: var(--fill-color);\n",
              "      border-top-color: var(--fill-color);\n",
              "      border-right-color: var(--fill-color);\n",
              "    }\n",
              "    40% {\n",
              "      border-color: transparent;\n",
              "      border-right-color: var(--fill-color);\n",
              "      border-top-color: var(--fill-color);\n",
              "    }\n",
              "    60% {\n",
              "      border-color: transparent;\n",
              "      border-right-color: var(--fill-color);\n",
              "    }\n",
              "    80% {\n",
              "      border-color: transparent;\n",
              "      border-right-color: var(--fill-color);\n",
              "      border-bottom-color: var(--fill-color);\n",
              "    }\n",
              "    90% {\n",
              "      border-color: transparent;\n",
              "      border-bottom-color: var(--fill-color);\n",
              "    }\n",
              "  }\n",
              "</style>\n",
              "\n",
              "  <script>\n",
              "    async function quickchart(key) {\n",
              "      const quickchartButtonEl =\n",
              "        document.querySelector('#' + key + ' button');\n",
              "      quickchartButtonEl.disabled = true;  // To prevent multiple clicks.\n",
              "      quickchartButtonEl.classList.add('colab-df-spinner');\n",
              "      try {\n",
              "        const charts = await google.colab.kernel.invokeFunction(\n",
              "            'suggestCharts', [key], {});\n",
              "      } catch (error) {\n",
              "        console.error('Error during call to suggestCharts:', error);\n",
              "      }\n",
              "      quickchartButtonEl.classList.remove('colab-df-spinner');\n",
              "      quickchartButtonEl.classList.add('colab-df-quickchart-complete');\n",
              "    }\n",
              "    (() => {\n",
              "      let quickchartButtonEl =\n",
              "        document.querySelector('#df-f91c6f1b-76bc-45d9-8943-da8d419ae4ed button');\n",
              "      quickchartButtonEl.style.display =\n",
              "        google.colab.kernel.accessAllowed ? 'block' : 'none';\n",
              "    })();\n",
              "  </script>\n",
              "</div>\n",
              "\n",
              "    </div>\n",
              "  </div>\n"
            ],
            "application/vnd.google.colaboratory.intrinsic+json": {
              "type": "dataframe",
              "variable_name": "train_df"
            }
          },
          "metadata": {},
          "execution_count": 6
        }
      ],
      "source": [
        "train_df.head()"
      ]
    },
    {
      "cell_type": "code",
      "execution_count": 7,
      "metadata": {
        "id": "SvqFKgK46qCA",
        "outputId": "60bff170-7cd3-4651-a73d-9e19d1b040dd",
        "colab": {
          "base_uri": "https://localhost:8080/"
        }
      },
      "outputs": [
        {
          "output_type": "stream",
          "name": "stdout",
          "text": [
            "toxic            15294\n",
            "severe_toxic      1595\n",
            "obscene           8449\n",
            "threat             478\n",
            "insult            7877\n",
            "identity_hate     1405\n",
            "dtype: int64\n"
          ]
        }
      ],
      "source": [
        "sum_labels=train_df.iloc[:,2:].sum()\n",
        "print(sum_labels)"
      ]
    },
    {
      "cell_type": "markdown",
      "source": [
        "### Creation of Label feature"
      ],
      "metadata": {
        "id": "WyDzpB16FCRe"
      }
    },
    {
      "cell_type": "code",
      "execution_count": 8,
      "metadata": {
        "id": "6i-3qWB46qCA"
      },
      "outputs": [],
      "source": [
        "row_sum=train_df.iloc[:,2:].sum(axis=1)\n",
        "train_df['Label']=(row_sum==0)"
      ]
    },
    {
      "cell_type": "code",
      "execution_count": 9,
      "metadata": {
        "id": "Y7vuX5QH6qCB",
        "outputId": "6ba30b45-5b94-41eb-d147-1d23073045e1",
        "colab": {
          "base_uri": "https://localhost:8080/"
        }
      },
      "outputs": [
        {
          "output_type": "stream",
          "name": "stdout",
          "text": [
            "id               0\n",
            "comment_text     0\n",
            "toxic            0\n",
            "severe_toxic     0\n",
            "obscene          0\n",
            "threat           0\n",
            "insult           0\n",
            "identity_hate    0\n",
            "Label            0\n",
            "dtype: int64\n"
          ]
        }
      ],
      "source": [
        "print(train_df.isnull().sum())"
      ]
    },
    {
      "cell_type": "code",
      "execution_count": 10,
      "metadata": {
        "id": "ktuf09V66qCB",
        "outputId": "a9d62748-7f6a-428e-ba59-0d3dd41a6c54",
        "colab": {
          "base_uri": "https://localhost:8080/"
        }
      },
      "outputs": [
        {
          "output_type": "stream",
          "name": "stdout",
          "text": [
            "                      id                                       comment_text  \\\n",
            "6       0002bcb3da6cb337       COCKSUCKER BEFORE YOU PISS AROUND ON MY WORK   \n",
            "12      0005c987bdfc9d4b  Hey... what is it..\\n@ | talk .\\nWhat is it......   \n",
            "16      0007e25b2121310b  Bye! \\n\\nDon't look, come or think of comming ...   \n",
            "42      001810bf8c45bf5f  You are gay or antisemmitian? \\n\\nArchangel WH...   \n",
            "43      00190820581d90ce           FUCK YOUR FILTHY MOTHER IN THE ASS, DRY!   \n",
            "...                  ...                                                ...   \n",
            "159494  fef4cf7ba0012866  \"\\n\\n our previous conversation \\n\\nyou fuckin...   \n",
            "159514  ff39a2895fc3b40e                  YOU ARE A MISCHIEVIOUS PUBIC HAIR   \n",
            "159541  ffa33d3122b599d6  Your absurd edits \\n\\nYour absurd edits on gre...   \n",
            "159546  ffb47123b2d82762  \"\\n\\nHey listen don't you ever!!!! Delete my e...   \n",
            "159554  ffbdbb0483ed0841  and i'm going to keep posting the stuff u dele...   \n",
            "\n",
            "        toxic  severe_toxic  obscene  threat  insult  identity_hate  Label  \n",
            "6           1             1        1       0       1              0  False  \n",
            "12          1             0        0       0       0              0  False  \n",
            "16          1             0        0       0       0              0  False  \n",
            "42          1             0        1       0       1              1  False  \n",
            "43          1             0        1       0       1              0  False  \n",
            "...       ...           ...      ...     ...     ...            ...    ...  \n",
            "159494      1             0        1       0       1              1  False  \n",
            "159514      1             0        0       0       1              0  False  \n",
            "159541      1             0        1       0       1              0  False  \n",
            "159546      1             0        0       0       1              0  False  \n",
            "159554      1             0        1       0       1              0  False  \n",
            "\n",
            "[16225 rows x 9 columns]\n"
          ]
        }
      ],
      "source": [
        "print(train_df[train_df['Label'] == False])"
      ]
    },
    {
      "cell_type": "code",
      "execution_count": 11,
      "metadata": {
        "id": "7LbvaxI06qCB",
        "outputId": "82d2dad4-fa54-41a2-d607-9f292771d40b",
        "colab": {
          "base_uri": "https://localhost:8080/"
        }
      },
      "outputs": [
        {
          "output_type": "stream",
          "name": "stdout",
          "text": [
            "id              0\n",
            "comment_text    0\n",
            "dtype: int64\n"
          ]
        }
      ],
      "source": [
        "print(test_df.isnull().sum())"
      ]
    },
    {
      "cell_type": "code",
      "execution_count": 12,
      "metadata": {
        "id": "rlb_HU_O6qCB",
        "outputId": "a9bb5ad1-2793-4e21-8757-7fc285759780",
        "colab": {
          "base_uri": "https://localhost:8080/",
          "height": 414
        }
      },
      "outputs": [
        {
          "output_type": "display_data",
          "data": {
            "text/plain": [
              "<Figure size 800x400 with 1 Axes>"
            ],
            "image/png": "[encoded data removed]"
          },
          "metadata": {}
        }
      ],
      "source": [
        "#plot\n",
        "plt.figure(figsize=(8,4))\n",
        "ax = sns.barplot(x=sum_labels.index, y=sum_labels.values, alpha=0.8)\n",
        "plt.title(\"# per class\")\n",
        "plt.ylabel('# of Occurrences', fontsize=12)\n",
        "plt.xlabel('Type ', fontsize=12)\n",
        "#adding the text labels\n",
        "rects = ax.patches\n",
        "labels = sum_labels.values\n",
        "for rect, label in zip(rects, labels):\n",
        "    height = rect.get_height()\n",
        "    ax.text(rect.get_x() + rect.get_width()/2, height + 5, label, ha='center', va='bottom')\n",
        "\n",
        "plt.show()"
      ]
    },
    {
      "cell_type": "code",
      "execution_count": 13,
      "metadata": {
        "id": "4rSsd0qg6qCC",
        "outputId": "10f49efe-2744-4f15-dcbe-0cdc22b65caf",
        "colab": {
          "base_uri": "https://localhost:8080/",
          "height": 414
        }
      },
      "outputs": [
        {
          "output_type": "display_data",
          "data": {
            "text/plain": [
              "<Figure size 800x400 with 1 Axes>"
            ],
            "image/png": "[encoded data removed]"
          },
          "metadata": {}
        }
      ],
      "source": [
        "color = sns.color_palette()\n",
        "\n",
        "x=row_sum.value_counts()\n",
        "\n",
        "#plot\n",
        "plt.figure(figsize=(8,4))\n",
        "ax = sns.barplot(x=x.index, y=x.values, alpha=0.8,color=color[2])\n",
        "plt.title(\"Multiple tags per comment\")\n",
        "plt.ylabel('# of Occurrences', fontsize=12)\n",
        "plt.xlabel('# of tags ', fontsize=12)\n",
        "\n",
        "#adding the text labels\n",
        "rects = ax.patches\n",
        "labels = x.values\n",
        "for rect, label in zip(rects, labels):\n",
        "    height = rect.get_height()\n",
        "    ax.text(rect.get_x() + rect.get_width()/2, height + 5, label, ha='center', va='bottom')\n",
        "\n",
        "plt.show()"
      ]
    },
    {
      "cell_type": "code",
      "execution_count": 14,
      "metadata": {
        "id": "x-qW2Eke6qCD",
        "outputId": "50ef8fab-2ca9-44f5-a820-3fe7c20da16e",
        "colab": {
          "base_uri": "https://localhost:8080/",
          "height": 175
        }
      },
      "outputs": [
        {
          "output_type": "execute_result",
          "data": {
            "text/plain": [
              "<pandas.io.formats.style.Styler at 0x7cfb694f5a50>"
            ],
            "text/html": [
              "<style type=\"text/css\">\n",
              "#T_10713_row0_col1, #T_10713_row0_col3, #T_10713_row0_col5, #T_10713_row0_col7, #T_10713_row0_col9, #T_10713_row1_col0, #T_10713_row1_col2, #T_10713_row1_col4, #T_10713_row1_col6, #T_10713_row1_col8 {\n",
              "  background-color: yellow;\n",
              "}\n",
              "</style>\n",
              "<table id=\"T_10713\" class=\"dataframe\">\n",
              "  <thead>\n",
              "    <tr>\n",
              "      <th class=\"blank level0\" >&nbsp;</th>\n",
              "      <th id=\"T_10713_level0_col0\" class=\"col_heading level0 col0\" colspan=\"2\">severe_toxic</th>\n",
              "      <th id=\"T_10713_level0_col2\" class=\"col_heading level0 col2\" colspan=\"2\">obscene</th>\n",
              "      <th id=\"T_10713_level0_col4\" class=\"col_heading level0 col4\" colspan=\"2\">threat</th>\n",
              "      <th id=\"T_10713_level0_col6\" class=\"col_heading level0 col6\" colspan=\"2\">insult</th>\n",
              "      <th id=\"T_10713_level0_col8\" class=\"col_heading level0 col8\" colspan=\"2\">identity_hate</th>\n",
              "    </tr>\n",
              "    <tr>\n",
              "      <th class=\"index_name level1\" >severe_toxic</th>\n",
              "      <th id=\"T_10713_level1_col0\" class=\"col_heading level1 col0\" >0</th>\n",
              "      <th id=\"T_10713_level1_col1\" class=\"col_heading level1 col1\" >1</th>\n",
              "      <th id=\"T_10713_level1_col2\" class=\"col_heading level1 col2\" >0</th>\n",
              "      <th id=\"T_10713_level1_col3\" class=\"col_heading level1 col3\" >1</th>\n",
              "      <th id=\"T_10713_level1_col4\" class=\"col_heading level1 col4\" >0</th>\n",
              "      <th id=\"T_10713_level1_col5\" class=\"col_heading level1 col5\" >1</th>\n",
              "      <th id=\"T_10713_level1_col6\" class=\"col_heading level1 col6\" >0</th>\n",
              "      <th id=\"T_10713_level1_col7\" class=\"col_heading level1 col7\" >1</th>\n",
              "      <th id=\"T_10713_level1_col8\" class=\"col_heading level1 col8\" >0</th>\n",
              "      <th id=\"T_10713_level1_col9\" class=\"col_heading level1 col9\" >1</th>\n",
              "    </tr>\n",
              "    <tr>\n",
              "      <th class=\"index_name level0\" >toxic</th>\n",
              "      <th class=\"blank col0\" >&nbsp;</th>\n",
              "      <th class=\"blank col1\" >&nbsp;</th>\n",
              "      <th class=\"blank col2\" >&nbsp;</th>\n",
              "      <th class=\"blank col3\" >&nbsp;</th>\n",
              "      <th class=\"blank col4\" >&nbsp;</th>\n",
              "      <th class=\"blank col5\" >&nbsp;</th>\n",
              "      <th class=\"blank col6\" >&nbsp;</th>\n",
              "      <th class=\"blank col7\" >&nbsp;</th>\n",
              "      <th class=\"blank col8\" >&nbsp;</th>\n",
              "      <th class=\"blank col9\" >&nbsp;</th>\n",
              "    </tr>\n",
              "  </thead>\n",
              "  <tbody>\n",
              "    <tr>\n",
              "      <th id=\"T_10713_level0_row0\" class=\"row_heading level0 row0\" >0</th>\n",
              "      <td id=\"T_10713_row0_col0\" class=\"data row0 col0\" >144277</td>\n",
              "      <td id=\"T_10713_row0_col1\" class=\"data row0 col1\" >0</td>\n",
              "      <td id=\"T_10713_row0_col2\" class=\"data row0 col2\" >143754</td>\n",
              "      <td id=\"T_10713_row0_col3\" class=\"data row0 col3\" >523</td>\n",
              "      <td id=\"T_10713_row0_col4\" class=\"data row0 col4\" >144248</td>\n",
              "      <td id=\"T_10713_row0_col5\" class=\"data row0 col5\" >29</td>\n",
              "      <td id=\"T_10713_row0_col6\" class=\"data row0 col6\" >143744</td>\n",
              "      <td id=\"T_10713_row0_col7\" class=\"data row0 col7\" >533</td>\n",
              "      <td id=\"T_10713_row0_col8\" class=\"data row0 col8\" >144174</td>\n",
              "      <td id=\"T_10713_row0_col9\" class=\"data row0 col9\" >103</td>\n",
              "    </tr>\n",
              "    <tr>\n",
              "      <th id=\"T_10713_level0_row1\" class=\"row_heading level0 row1\" >1</th>\n",
              "      <td id=\"T_10713_row1_col0\" class=\"data row1 col0\" >13699</td>\n",
              "      <td id=\"T_10713_row1_col1\" class=\"data row1 col1\" >1595</td>\n",
              "      <td id=\"T_10713_row1_col2\" class=\"data row1 col2\" >7368</td>\n",
              "      <td id=\"T_10713_row1_col3\" class=\"data row1 col3\" >7926</td>\n",
              "      <td id=\"T_10713_row1_col4\" class=\"data row1 col4\" >14845</td>\n",
              "      <td id=\"T_10713_row1_col5\" class=\"data row1 col5\" >449</td>\n",
              "      <td id=\"T_10713_row1_col6\" class=\"data row1 col6\" >7950</td>\n",
              "      <td id=\"T_10713_row1_col7\" class=\"data row1 col7\" >7344</td>\n",
              "      <td id=\"T_10713_row1_col8\" class=\"data row1 col8\" >13992</td>\n",
              "      <td id=\"T_10713_row1_col9\" class=\"data row1 col9\" >1302</td>\n",
              "    </tr>\n",
              "  </tbody>\n",
              "</table>\n"
            ]
          },
          "metadata": {},
          "execution_count": 14
        }
      ],
      "source": [
        "temp_df=train_df.iloc[:,2:-1]\n",
        "\n",
        "# https://pandas.pydata.org/pandas-docs/stable/style.html\n",
        "def highlight_min(data, color='yellow'):\n",
        "    '''\n",
        "    highlight the maximum in a Series or DataFrame\n",
        "    '''\n",
        "    attr = 'background-color: {}'.format(color)\n",
        "    if data.ndim == 1:  # Series from .apply(axis=0) or axis=1\n",
        "        is_min = data == data.min()\n",
        "        return [attr if v else '' for v in is_min]\n",
        "    else:  # from .apply(axis=None)\n",
        "        is_max = data == data.min().min()\n",
        "        return pd.DataFrame(np.where(is_min, attr, ''),\n",
        "                            index=data.index, columns=data.columns)\n",
        "\n",
        "#Crosstab\n",
        "# Since technically a crosstab between all 6 classes is impossible to vizualize, lets take a\n",
        "# look at toxic with other tags\n",
        "main_col=\"toxic\"\n",
        "corr_mats=[]\n",
        "for other_col in temp_df.columns[1:]:\n",
        "    confusion_matrix = pd.crosstab(temp_df[main_col], temp_df[other_col])\n",
        "    corr_mats.append(confusion_matrix)\n",
        "out = pd.concat(corr_mats,axis=1,keys=temp_df.columns[1:])\n",
        "\n",
        "#cell highlighting\n",
        "out = out.style.apply(highlight_min,axis=0)\n",
        "out"
      ]
    },
    {
      "cell_type": "code",
      "execution_count": 15,
      "metadata": {
        "id": "eVyYUMMr6qCD"
      },
      "outputs": [],
      "source": [
        "stopwords = set(stopwords.words('english'))"
      ]
    },
    {
      "cell_type": "code",
      "execution_count": 16,
      "metadata": {
        "id": "QzSEI0rI6qCD"
      },
      "outputs": [],
      "source": [
        "combined_df = pd.concat([train_df.iloc[:, :2], test_df.iloc[:, :2]], axis=0)\n",
        "df = combined_df.reset_index(drop=True)"
      ]
    },
    {
      "cell_type": "code",
      "execution_count": 17,
      "metadata": {
        "id": "DRBmUltf6qCE",
        "outputId": "b7b345a4-3e74-40e8-c9b2-960aa9b34f83",
        "colab": {
          "base_uri": "https://localhost:8080/"
        }
      },
      "outputs": [
        {
          "output_type": "stream",
          "name": "stdout",
          "text": [
            "                      id                                       comment_text\n",
            "0       0000997932d777bf  Explanation\\nWhy the edits made under my usern...\n",
            "1       000103f0d9cfb60f  D'aww! He matches this background colour I'm s...\n",
            "2       000113f07ec002fd  Hey man, I'm really not trying to edit war. It...\n",
            "3       0001b41b1c6bb37e  \"\\nMore\\nI can't make any real suggestions on ...\n",
            "4       0001d958c54c6e35  You, sir, are my hero. Any chance you remember...\n",
            "...                  ...                                                ...\n",
            "153159  fffcd0960ee309b5  . \\n i totally agree, this stuff is nothing bu...\n",
            "153160  fffd7a9a6eb32c16  == Throw from out field to home plate. == \\n\\n...\n",
            "153161  fffda9e8d6fafa9e  \" \\n\\n == Okinotorishima categories == \\n\\n I ...\n",
            "153162  fffe8f1340a79fc2  \" \\n\\n == \"\"One of the founding nations of the...\n",
            "153163  ffffce3fb183ee80  \" \\n :::Stop already. Your bullshit is not wel...\n",
            "\n",
            "[312735 rows x 2 columns]\n"
          ]
        }
      ],
      "source": [
        "print(combined_df)"
      ]
    },
    {
      "cell_type": "code",
      "execution_count": 18,
      "metadata": {
        "id": "20YtGbOh6qCE",
        "outputId": "f8770b6d-4e11-4bc2-89fe-63011889f04b",
        "colab": {
          "base_uri": "https://localhost:8080/"
        }
      },
      "outputs": [
        {
          "output_type": "stream",
          "name": "stdout",
          "text": [
            "                      id                                       comment_text\n",
            "0       0000997932d777bf  Explanation\\nWhy the edits made under my usern...\n",
            "1       000103f0d9cfb60f  D'aww! He matches this background colour I'm s...\n",
            "2       000113f07ec002fd  Hey man, I'm really not trying to edit war. It...\n",
            "3       0001b41b1c6bb37e  \"\\nMore\\nI can't make any real suggestions on ...\n",
            "4       0001d958c54c6e35  You, sir, are my hero. Any chance you remember...\n",
            "...                  ...                                                ...\n",
            "312730  fffcd0960ee309b5  . \\n i totally agree, this stuff is nothing bu...\n",
            "312731  fffd7a9a6eb32c16  == Throw from out field to home plate. == \\n\\n...\n",
            "312732  fffda9e8d6fafa9e  \" \\n\\n == Okinotorishima categories == \\n\\n I ...\n",
            "312733  fffe8f1340a79fc2  \" \\n\\n == \"\"One of the founding nations of the...\n",
            "312734  ffffce3fb183ee80  \" \\n :::Stop already. Your bullshit is not wel...\n",
            "\n",
            "[312735 rows x 2 columns]\n"
          ]
        }
      ],
      "source": [
        "print(df)"
      ]
    },
    {
      "cell_type": "code",
      "execution_count": 19,
      "metadata": {
        "id": "u2_5lH2L6qCE"
      },
      "outputs": [],
      "source": [
        "import string"
      ]
    },
    {
      "cell_type": "markdown",
      "source": [
        "# Feature Engineering"
      ],
      "metadata": {
        "id": "KKTqKxhBFtSV"
      }
    },
    {
      "cell_type": "code",
      "execution_count": 20,
      "metadata": {
        "id": "6aXFiDMH6qCE"
      },
      "outputs": [],
      "source": [
        "# Indirect Textual Features\n",
        "\n",
        "# Count sentences based on newline characters in each comment\n",
        "df['sentence_count'] = df['comment_text'].apply(lambda text: str(text).count('\\n') + 1)\n",
        "\n",
        "# Count total words in each comment\n",
        "df['word_count'] = df['comment_text'].apply(lambda text: len(str(text).split()))\n",
        "\n",
        "# Count unique words in each comment\n",
        "df['unique_word_count'] = df['comment_text'].apply(lambda text: len(set(str(text).split())))\n",
        "\n",
        "# Count total letters (characters) in each comment\n",
        "df['letter_count'] = df['comment_text'].apply(lambda text: len(str(text)))\n",
        "\n",
        "# Count punctuation marks in each comment\n",
        "df['punctuation_count'] = df['comment_text'].apply(\n",
        "    lambda text: sum(1 for char in str(text) if char in string.punctuation)\n",
        ")\n",
        "\n",
        "# Count uppercase words in each comment\n",
        "df['uppercase_word_count'] = df['comment_text'].apply(\n",
        "    lambda text: sum(1 for word in str(text).split() if word.isupper())\n",
        ")\n",
        "\n",
        "# Count title-case words in each comment\n",
        "df['titlecase_word_count'] = df['comment_text'].apply(\n",
        "    lambda text: sum(1 for word in str(text).split() if word.istitle())\n",
        ")\n",
        "\n",
        "# Count stopwords in each comment\n",
        "df['stopword_count'] = df['comment_text'].apply(\n",
        "    lambda text: sum(1 for word in str(text).lower().split() if word in stopwords)\n",
        ")\n",
        "\n",
        "df['avg_word_length'] = df['comment_text'].apply(\n",
        "    lambda text: np.mean([len(word) for word in str(text).split()]) if str(text).split() else 0\n",
        ")\n"
      ]
    },
    {
      "cell_type": "code",
      "execution_count": 21,
      "metadata": {
        "id": "IWjyFW3h6qCF",
        "outputId": "6fe5df13-37e3-4b03-bea9-3d12eb618f4b",
        "colab": {
          "base_uri": "https://localhost:8080/"
        }
      },
      "outputs": [
        {
          "output_type": "stream",
          "name": "stdout",
          "text": [
            "                      id                                       comment_text  \\\n",
            "0       0000997932d777bf  Explanation\\nWhy the edits made under my usern...   \n",
            "1       000103f0d9cfb60f  D'aww! He matches this background colour I'm s...   \n",
            "2       000113f07ec002fd  Hey man, I'm really not trying to edit war. It...   \n",
            "3       0001b41b1c6bb37e  \"\\nMore\\nI can't make any real suggestions on ...   \n",
            "4       0001d958c54c6e35  You, sir, are my hero. Any chance you remember...   \n",
            "...                  ...                                                ...   \n",
            "312730  fffcd0960ee309b5  . \\n i totally agree, this stuff is nothing bu...   \n",
            "312731  fffd7a9a6eb32c16  == Throw from out field to home plate. == \\n\\n...   \n",
            "312732  fffda9e8d6fafa9e  \" \\n\\n == Okinotorishima categories == \\n\\n I ...   \n",
            "312733  fffe8f1340a79fc2  \" \\n\\n == \"\"One of the founding nations of the...   \n",
            "312734  ffffce3fb183ee80  \" \\n :::Stop already. Your bullshit is not wel...   \n",
            "\n",
            "        sentence_count  word_count  unique_word_count  letter_count  \\\n",
            "0                    2          43                 41           264   \n",
            "1                    1          17                 17           112   \n",
            "2                    1          42                 39           233   \n",
            "3                    5         113                 82           622   \n",
            "4                    1          13                 13            67   \n",
            "...                ...         ...                ...           ...   \n",
            "312730               2          10                 10            60   \n",
            "312731               5          38                 32           198   \n",
            "312732               9          64                 51           423   \n",
            "312733               5          89                 66           502   \n",
            "312734               2          26                 24           141   \n",
            "\n",
            "        punctuation_count  uppercase_word_count  titlecase_word_count  \\\n",
            "0                      10                     2                    11   \n",
            "1                      12                     1                     3   \n",
            "2                       6                     0                     2   \n",
            "3                      21                     5                     7   \n",
            "4                       5                     0                     2   \n",
            "...                   ...                   ...                   ...   \n",
            "312730                  4                     0                     0   \n",
            "312731                  7                     0                     5   \n",
            "312732                 36                     3                     7   \n",
            "312733                 32                     2                    14   \n",
            "312734                 11                     0                     2   \n",
            "\n",
            "        stopword_count  avg_word_length  \n",
            "0                   19         5.162791  \n",
            "1                    3         5.588235  \n",
            "2                   21         4.571429  \n",
            "3                   56         4.486726  \n",
            "4                    5         4.230769  \n",
            "...                ...              ...  \n",
            "312730               4         4.900000  \n",
            "312731              18         4.052632  \n",
            "312732              26         5.343750  \n",
            "312733              35         4.584270  \n",
            "312734              11         4.269231  \n",
            "\n",
            "[312735 rows x 11 columns]\n"
          ]
        }
      ],
      "source": [
        "print(df)"
      ]
    },
    {
      "cell_type": "code",
      "execution_count": 22,
      "metadata": {
        "id": "aijMbInn6qCF"
      },
      "outputs": [],
      "source": [
        "# Calculating the percentage of unique words per comment\n",
        "df['unique_word_ratio'] = (df['unique_word_count'] / df['word_count']) * 100\n",
        "\n",
        "# Calculating the percentage of punctuation marks per comment\n",
        "df['punctuation_ratio'] = (df['punctuation_count'] / df['word_count']) * 100\n"
      ]
    },
    {
      "cell_type": "code",
      "execution_count": 23,
      "metadata": {
        "id": "4jOYb8tU6qCF",
        "outputId": "aadbf71c-c0dd-441b-9ab9-edac6d3ee7bc",
        "colab": {
          "base_uri": "https://localhost:8080/"
        }
      },
      "outputs": [
        {
          "output_type": "stream",
          "name": "stdout",
          "text": [
            "                      id                                       comment_text  \\\n",
            "0       0000997932d777bf  Explanation\\nWhy the edits made under my usern...   \n",
            "1       000103f0d9cfb60f  D'aww! He matches this background colour I'm s...   \n",
            "2       000113f07ec002fd  Hey man, I'm really not trying to edit war. It...   \n",
            "3       0001b41b1c6bb37e  \"\\nMore\\nI can't make any real suggestions on ...   \n",
            "4       0001d958c54c6e35  You, sir, are my hero. Any chance you remember...   \n",
            "...                  ...                                                ...   \n",
            "159566  ffe987279560d7ff  \":::::And for the second time of asking, when ...   \n",
            "159567  ffea4adeee384e90  You should be ashamed of yourself \\n\\nThat is ...   \n",
            "159568  ffee36eab5c267c9  Spitzer \\n\\nUmm, theres no actual article for ...   \n",
            "159569  fff125370e4aaaf3  And it looks like it was actually you who put ...   \n",
            "159570  fff46fc426af1f9a  \"\\nAnd ... I really don't think you understand...   \n",
            "\n",
            "        sentence_count  word_count  unique_word_count  letter_count  \\\n",
            "0                    2          43                 41           264   \n",
            "1                    1          17                 17           112   \n",
            "2                    1          42                 39           233   \n",
            "3                    5         113                 82           622   \n",
            "4                    1          13                 13            67   \n",
            "...                ...         ...                ...           ...   \n",
            "159566               3          47                 44           295   \n",
            "159567               3          18                 18            99   \n",
            "159568               3          12                 12            81   \n",
            "159569               1          25                 23           116   \n",
            "159570               2          36                 32           189   \n",
            "\n",
            "        punctuation_count  uppercase_word_count  titlecase_word_count  \\\n",
            "0                      10                     2                    11   \n",
            "1                      12                     1                     3   \n",
            "2                       6                     0                     2   \n",
            "3                      21                     5                     7   \n",
            "4                       5                     0                     2   \n",
            "...                   ...                   ...                   ...   \n",
            "159566                 18                     0                     2   \n",
            "159567                  4                     0                     2   \n",
            "159568                  4                     0                     4   \n",
            "159569                  1                     1                     2   \n",
            "159570                 14                     2                     4   \n",
            "\n",
            "        stopword_count  avg_word_length  unique_word_ratio  punctuation_ratio  \n",
            "0                   19         5.162791          95.348837          23.255814  \n",
            "1                    3         5.588235         100.000000          70.588235  \n",
            "2                   21         4.571429          92.857143          14.285714  \n",
            "3                   56         4.486726          72.566372          18.584071  \n",
            "4                    5         4.230769         100.000000          38.461538  \n",
            "...                ...              ...                ...                ...  \n",
            "159566              19         5.212766          93.617021          38.297872  \n",
            "159567              11         4.388889         100.000000          22.222222  \n",
            "159568               2         5.583333         100.000000          33.333333  \n",
            "159569              15         3.680000          92.000000           4.000000  \n",
            "159570              13         4.166667          88.888889          38.888889  \n",
            "\n",
            "[159571 rows x 13 columns]\n"
          ]
        }
      ],
      "source": [
        "# Splitting dataset into training and testing feature sets\n",
        "train_data_features = df[:train_df.shape[0]].reset_index(drop=True)\n",
        "test_data_features = df[train_df.shape[0]:].reset_index(drop=True)\n",
        "\n",
        "print(train_data_features)"
      ]
    },
    {
      "cell_type": "code",
      "execution_count": 24,
      "metadata": {
        "id": "pGcGTSjz6qCG",
        "outputId": "85812c65-5ec8-409e-b37e-d65c93352351",
        "colab": {
          "base_uri": "https://localhost:8080/"
        }
      },
      "outputs": [
        {
          "output_type": "stream",
          "name": "stdout",
          "text": [
            "                      id                                       comment_text  \\\n",
            "0       00001cee341fdb12  Yo bitch Ja Rule is more succesful then you'll...   \n",
            "1       0000247867823ef7  == From RfC == \\n\\n The title is fine as it is...   \n",
            "2       00013b17ad220c46  \" \\n\\n == Sources == \\n\\n * Zawe Ashton on Lap...   \n",
            "3       00017563c3f7919a  :If you have a look back at the source, the in...   \n",
            "4       00017695ad8997eb          I don't anonymously edit articles at all.   \n",
            "...                  ...                                                ...   \n",
            "153159  fffcd0960ee309b5  . \\n i totally agree, this stuff is nothing bu...   \n",
            "153160  fffd7a9a6eb32c16  == Throw from out field to home plate. == \\n\\n...   \n",
            "153161  fffda9e8d6fafa9e  \" \\n\\n == Okinotorishima categories == \\n\\n I ...   \n",
            "153162  fffe8f1340a79fc2  \" \\n\\n == \"\"One of the founding nations of the...   \n",
            "153163  ffffce3fb183ee80  \" \\n :::Stop already. Your bullshit is not wel...   \n",
            "\n",
            "        sentence_count  word_count  unique_word_count  letter_count  \\\n",
            "0                    1          72                 61           367   \n",
            "1                    3          12                 11            50   \n",
            "2                    5          12                 10            54   \n",
            "3                    1          38                 30           205   \n",
            "4                    1           7                  7            41   \n",
            "...                ...         ...                ...           ...   \n",
            "153159               2          10                 10            60   \n",
            "153160               5          38                 32           198   \n",
            "153161               9          64                 51           423   \n",
            "153162               5          89                 66           502   \n",
            "153163               2          26                 24           141   \n",
            "\n",
            "        punctuation_count  uppercase_word_count  titlecase_word_count  \\\n",
            "0                      12                     0                     4   \n",
            "1                       6                     1                     2   \n",
            "2                       8                     0                     4   \n",
            "3                       6                     3                     4   \n",
            "4                       2                     1                     1   \n",
            "...                   ...                   ...                   ...   \n",
            "153159                  4                     0                     0   \n",
            "153160                  7                     0                     5   \n",
            "153161                 36                     3                     7   \n",
            "153162                 32                     2                    14   \n",
            "153163                 11                     0                     2   \n",
            "\n",
            "        stopword_count  avg_word_length  unique_word_ratio  punctuation_ratio  \n",
            "0                   26         4.111111          84.722222          16.666667  \n",
            "1                    5         3.000000          91.666667          50.000000  \n",
            "2                    1         2.916667          83.333333          66.666667  \n",
            "3                   22         4.421053          78.947368          15.789474  \n",
            "4                    3         5.000000         100.000000          28.571429  \n",
            "...                ...              ...                ...                ...  \n",
            "153159               4         4.900000         100.000000          40.000000  \n",
            "153160              18         4.052632          84.210526          18.421053  \n",
            "153161              26         5.343750          79.687500          56.250000  \n",
            "153162              35         4.584270          74.157303          35.955056  \n",
            "153163              11         4.269231          92.307692          42.307692  \n",
            "\n",
            "[153164 rows x 13 columns]\n"
          ]
        }
      ],
      "source": [
        "print(test_data_features)"
      ]
    },
    {
      "cell_type": "code",
      "execution_count": 25,
      "metadata": {
        "id": "eWQczvnC6qCG",
        "outputId": "b1e26814-cb02-46fa-88a2-f276788ee915",
        "colab": {
          "base_uri": "https://localhost:8080/"
        }
      },
      "outputs": [
        {
          "output_type": "stream",
          "name": "stdout",
          "text": [
            "        toxic  severe_toxic  obscene  threat  insult  identity_hate\n",
            "0           0             0        0       0       0              0\n",
            "1           0             0        0       0       0              0\n",
            "2           0             0        0       0       0              0\n",
            "3           0             0        0       0       0              0\n",
            "4           0             0        0       0       0              0\n",
            "...       ...           ...      ...     ...     ...            ...\n",
            "159566      0             0        0       0       0              0\n",
            "159567      0             0        0       0       0              0\n",
            "159568      0             0        0       0       0              0\n",
            "159569      0             0        0       0       0              0\n",
            "159570      0             0        0       0       0              0\n",
            "\n",
            "[159571 rows x 6 columns]\n"
          ]
        }
      ],
      "source": [
        "# Extracting labels from the training data\n",
        "label_columns = train_df.iloc[:, 2:8].reset_index(drop=True)\n",
        "\n",
        "print(label_columns)"
      ]
    },
    {
      "cell_type": "code",
      "source": [
        "# Combining training features and labels into a single DataFrame\n",
        "combined_training_data = pd.concat([train_data_features, label_columns], axis=1)"
      ],
      "metadata": {
        "id": "sLCPDBlDKBAy"
      },
      "execution_count": 26,
      "outputs": []
    },
    {
      "cell_type": "code",
      "execution_count": 27,
      "metadata": {
        "id": "tJzaYsN56qCG",
        "outputId": "b71906b3-4ced-48ef-c671-2dd6b6779509",
        "colab": {
          "base_uri": "https://localhost:8080/"
        }
      },
      "outputs": [
        {
          "output_type": "stream",
          "name": "stdout",
          "text": [
            "                      id                                       comment_text  \\\n",
            "0       0000997932d777bf  Explanation\\nWhy the edits made under my usern...   \n",
            "1       000103f0d9cfb60f  D'aww! He matches this background colour I'm s...   \n",
            "2       000113f07ec002fd  Hey man, I'm really not trying to edit war. It...   \n",
            "3       0001b41b1c6bb37e  \"\\nMore\\nI can't make any real suggestions on ...   \n",
            "4       0001d958c54c6e35  You, sir, are my hero. Any chance you remember...   \n",
            "...                  ...                                                ...   \n",
            "159566  ffe987279560d7ff  \":::::And for the second time of asking, when ...   \n",
            "159567  ffea4adeee384e90  You should be ashamed of yourself \\n\\nThat is ...   \n",
            "159568  ffee36eab5c267c9  Spitzer \\n\\nUmm, theres no actual article for ...   \n",
            "159569  fff125370e4aaaf3  And it looks like it was actually you who put ...   \n",
            "159570  fff46fc426af1f9a  \"\\nAnd ... I really don't think you understand...   \n",
            "\n",
            "        sentence_count  word_count  unique_word_count  letter_count  \\\n",
            "0                    2          43                 41           264   \n",
            "1                    1          17                 17           112   \n",
            "2                    1          42                 39           233   \n",
            "3                    5         113                 82           622   \n",
            "4                    1          13                 13            67   \n",
            "...                ...         ...                ...           ...   \n",
            "159566               3          47                 44           295   \n",
            "159567               3          18                 18            99   \n",
            "159568               3          12                 12            81   \n",
            "159569               1          25                 23           116   \n",
            "159570               2          36                 32           189   \n",
            "\n",
            "        punctuation_count  uppercase_word_count  titlecase_word_count  \\\n",
            "0                      10                     2                    11   \n",
            "1                      12                     1                     3   \n",
            "2                       6                     0                     2   \n",
            "3                      21                     5                     7   \n",
            "4                       5                     0                     2   \n",
            "...                   ...                   ...                   ...   \n",
            "159566                 18                     0                     2   \n",
            "159567                  4                     0                     2   \n",
            "159568                  4                     0                     4   \n",
            "159569                  1                     1                     2   \n",
            "159570                 14                     2                     4   \n",
            "\n",
            "        stopword_count  avg_word_length  unique_word_ratio  punctuation_ratio  \\\n",
            "0                   19         5.162791          95.348837          23.255814   \n",
            "1                    3         5.588235         100.000000          70.588235   \n",
            "2                   21         4.571429          92.857143          14.285714   \n",
            "3                   56         4.486726          72.566372          18.584071   \n",
            "4                    5         4.230769         100.000000          38.461538   \n",
            "...                ...              ...                ...                ...   \n",
            "159566              19         5.212766          93.617021          38.297872   \n",
            "159567              11         4.388889         100.000000          22.222222   \n",
            "159568               2         5.583333         100.000000          33.333333   \n",
            "159569              15         3.680000          92.000000           4.000000   \n",
            "159570              13         4.166667          88.888889          38.888889   \n",
            "\n",
            "        toxic  severe_toxic  obscene  threat  insult  identity_hate  \n",
            "0           0             0        0       0       0              0  \n",
            "1           0             0        0       0       0              0  \n",
            "2           0             0        0       0       0              0  \n",
            "3           0             0        0       0       0              0  \n",
            "4           0             0        0       0       0              0  \n",
            "...       ...           ...      ...     ...     ...            ...  \n",
            "159566      0             0        0       0       0              0  \n",
            "159567      0             0        0       0       0              0  \n",
            "159568      0             0        0       0       0              0  \n",
            "159569      0             0        0       0       0              0  \n",
            "159570      0             0        0       0       0              0  \n",
            "\n",
            "[159571 rows x 19 columns]\n"
          ]
        }
      ],
      "source": [
        "print(combined_training_data)"
      ]
    },
    {
      "cell_type": "markdown",
      "source": [
        "# Text Preprocessing"
      ],
      "metadata": {
        "id": "Ub-rbiz3Fhx6"
      }
    },
    {
      "cell_type": "code",
      "execution_count": 28,
      "metadata": {
        "id": "w9MUsGa06qCG"
      },
      "outputs": [],
      "source": [
        "import re\n",
        "\n",
        "def preprocess_text(text):\n",
        "    # Lowercase\n",
        "    text = text.lower()\n",
        "    # Remove punctuation and numbers\n",
        "    text = re.sub(r'[^a-z\\s]', '', text)\n",
        "    # Remove extra spaces\n",
        "    text = re.sub(r'\\s+', ' ', text).strip()\n",
        "    # Remove stopwords\n",
        "    text = ' '.join([word for word in text.split() if word not in stopwords])\n",
        "    return text\n",
        "\n",
        "# Apply preprocessing\n",
        "combined_training_data[\"clean_comment\"] = train_df['comment_text'].apply(preprocess_text)\n",
        "test_data_features['clean_comment'] = test_df['comment_text'].apply(preprocess_text)"
      ]
    },
    {
      "cell_type": "code",
      "source": [
        "print(combined_training_data)"
      ],
      "metadata": {
        "id": "mpijoVlkIU7j",
        "outputId": "1b7ce9a4-84c3-4487-a9a8-d7e6f34c2aa2",
        "colab": {
          "base_uri": "https://localhost:8080/"
        }
      },
      "execution_count": 29,
      "outputs": [
        {
          "output_type": "stream",
          "name": "stdout",
          "text": [
            "                      id                                       comment_text  \\\n",
            "0       0000997932d777bf  Explanation\\nWhy the edits made under my usern...   \n",
            "1       000103f0d9cfb60f  D'aww! He matches this background colour I'm s...   \n",
            "2       000113f07ec002fd  Hey man, I'm really not trying to edit war. It...   \n",
            "3       0001b41b1c6bb37e  \"\\nMore\\nI can't make any real suggestions on ...   \n",
            "4       0001d958c54c6e35  You, sir, are my hero. Any chance you remember...   \n",
            "...                  ...                                                ...   \n",
            "159566  ffe987279560d7ff  \":::::And for the second time of asking, when ...   \n",
            "159567  ffea4adeee384e90  You should be ashamed of yourself \\n\\nThat is ...   \n",
            "159568  ffee36eab5c267c9  Spitzer \\n\\nUmm, theres no actual article for ...   \n",
            "159569  fff125370e4aaaf3  And it looks like it was actually you who put ...   \n",
            "159570  fff46fc426af1f9a  \"\\nAnd ... I really don't think you understand...   \n",
            "\n",
            "        sentence_count  word_count  unique_word_count  letter_count  \\\n",
            "0                    2          43                 41           264   \n",
            "1                    1          17                 17           112   \n",
            "2                    1          42                 39           233   \n",
            "3                    5         113                 82           622   \n",
            "4                    1          13                 13            67   \n",
            "...                ...         ...                ...           ...   \n",
            "159566               3          47                 44           295   \n",
            "159567               3          18                 18            99   \n",
            "159568               3          12                 12            81   \n",
            "159569               1          25                 23           116   \n",
            "159570               2          36                 32           189   \n",
            "\n",
            "        punctuation_count  uppercase_word_count  titlecase_word_count  \\\n",
            "0                      10                     2                    11   \n",
            "1                      12                     1                     3   \n",
            "2                       6                     0                     2   \n",
            "3                      21                     5                     7   \n",
            "4                       5                     0                     2   \n",
            "...                   ...                   ...                   ...   \n",
            "159566                 18                     0                     2   \n",
            "159567                  4                     0                     2   \n",
            "159568                  4                     0                     4   \n",
            "159569                  1                     1                     2   \n",
            "159570                 14                     2                     4   \n",
            "\n",
            "        stopword_count  avg_word_length  unique_word_ratio  punctuation_ratio  \\\n",
            "0                   19         5.162791          95.348837          23.255814   \n",
            "1                    3         5.588235         100.000000          70.588235   \n",
            "2                   21         4.571429          92.857143          14.285714   \n",
            "3                   56         4.486726          72.566372          18.584071   \n",
            "4                    5         4.230769         100.000000          38.461538   \n",
            "...                ...              ...                ...                ...   \n",
            "159566              19         5.212766          93.617021          38.297872   \n",
            "159567              11         4.388889         100.000000          22.222222   \n",
            "159568               2         5.583333         100.000000          33.333333   \n",
            "159569              15         3.680000          92.000000           4.000000   \n",
            "159570              13         4.166667          88.888889          38.888889   \n",
            "\n",
            "        toxic  severe_toxic  obscene  threat  insult  identity_hate  \\\n",
            "0           0             0        0       0       0              0   \n",
            "1           0             0        0       0       0              0   \n",
            "2           0             0        0       0       0              0   \n",
            "3           0             0        0       0       0              0   \n",
            "4           0             0        0       0       0              0   \n",
            "...       ...           ...      ...     ...     ...            ...   \n",
            "159566      0             0        0       0       0              0   \n",
            "159567      0             0        0       0       0              0   \n",
            "159568      0             0        0       0       0              0   \n",
            "159569      0             0        0       0       0              0   \n",
            "159570      0             0        0       0       0              0   \n",
            "\n",
            "                                            clean_comment  \n",
            "0       explanation edits made username hardcore metal...  \n",
            "1       daww matches background colour im seemingly st...  \n",
            "2       hey man im really trying edit war guy constant...  \n",
            "3       cant make real suggestions improvement wondere...  \n",
            "4                     sir hero chance remember page thats  \n",
            "...                                                   ...  \n",
            "159566  second time asking view completely contradicts...  \n",
            "159567               ashamed horrible thing put talk page  \n",
            "159568  spitzer umm theres actual article prostitution...  \n",
            "159569  looks like actually put speedy first version d...  \n",
            "159570  really dont think understand came idea bad rig...  \n",
            "\n",
            "[159571 rows x 20 columns]\n"
          ]
        }
      ]
    },
    {
      "cell_type": "code",
      "execution_count": 30,
      "metadata": {
        "id": "qIqq15XZ6qCG",
        "outputId": "3640adbc-3eb9-46df-d79a-df1c9e90aae6",
        "colab": {
          "base_uri": "https://localhost:8080/"
        }
      },
      "outputs": [
        {
          "output_type": "stream",
          "name": "stdout",
          "text": [
            "        sentence_count  word_count  unique_word_count  letter_count  \\\n",
            "0                    2          43                 41           264   \n",
            "1                    1          17                 17           112   \n",
            "2                    1          42                 39           233   \n",
            "3                    5         113                 82           622   \n",
            "4                    1          13                 13            67   \n",
            "...                ...         ...                ...           ...   \n",
            "159566               3          47                 44           295   \n",
            "159567               3          18                 18            99   \n",
            "159568               3          12                 12            81   \n",
            "159569               1          25                 23           116   \n",
            "159570               2          36                 32           189   \n",
            "\n",
            "        punctuation_count  uppercase_word_count  titlecase_word_count  \\\n",
            "0                      10                     2                    11   \n",
            "1                      12                     1                     3   \n",
            "2                       6                     0                     2   \n",
            "3                      21                     5                     7   \n",
            "4                       5                     0                     2   \n",
            "...                   ...                   ...                   ...   \n",
            "159566                 18                     0                     2   \n",
            "159567                  4                     0                     2   \n",
            "159568                  4                     0                     4   \n",
            "159569                  1                     1                     2   \n",
            "159570                 14                     2                     4   \n",
            "\n",
            "        stopword_count  avg_word_length  unique_word_ratio  punctuation_ratio  \\\n",
            "0                   19         5.162791          95.348837          23.255814   \n",
            "1                    3         5.588235         100.000000          70.588235   \n",
            "2                   21         4.571429          92.857143          14.285714   \n",
            "3                   56         4.486726          72.566372          18.584071   \n",
            "4                    5         4.230769         100.000000          38.461538   \n",
            "...                ...              ...                ...                ...   \n",
            "159566              19         5.212766          93.617021          38.297872   \n",
            "159567              11         4.388889         100.000000          22.222222   \n",
            "159568               2         5.583333         100.000000          33.333333   \n",
            "159569              15         3.680000          92.000000           4.000000   \n",
            "159570              13         4.166667          88.888889          38.888889   \n",
            "\n",
            "        toxic  severe_toxic  obscene  threat  insult  identity_hate  \\\n",
            "0           0             0        0       0       0              0   \n",
            "1           0             0        0       0       0              0   \n",
            "2           0             0        0       0       0              0   \n",
            "3           0             0        0       0       0              0   \n",
            "4           0             0        0       0       0              0   \n",
            "...       ...           ...      ...     ...     ...            ...   \n",
            "159566      0             0        0       0       0              0   \n",
            "159567      0             0        0       0       0              0   \n",
            "159568      0             0        0       0       0              0   \n",
            "159569      0             0        0       0       0              0   \n",
            "159570      0             0        0       0       0              0   \n",
            "\n",
            "                                            clean_comment  \n",
            "0       explanation edits made username hardcore metal...  \n",
            "1       daww matches background colour im seemingly st...  \n",
            "2       hey man im really trying edit war guy constant...  \n",
            "3       cant make real suggestions improvement wondere...  \n",
            "4                     sir hero chance remember page thats  \n",
            "...                                                   ...  \n",
            "159566  second time asking view completely contradicts...  \n",
            "159567               ashamed horrible thing put talk page  \n",
            "159568  spitzer umm theres actual article prostitution...  \n",
            "159569  looks like actually put speedy first version d...  \n",
            "159570  really dont think understand came idea bad rig...  \n",
            "\n",
            "[159571 rows x 18 columns]\n"
          ]
        }
      ],
      "source": [
        "# Extract features and labels\n",
        "X = combined_training_data.iloc[:, 2:].reset_index(drop=True)\n",
        "\n",
        "print(X)"
      ]
    },
    {
      "cell_type": "code",
      "source": [
        "y = train_df[\"Label\"]  # Binary classification (toxic vs. non-toxic)\n",
        "\n",
        "print(y)"
      ],
      "metadata": {
        "id": "2Vw-Xd-XKpDX",
        "outputId": "5a178d25-89f7-4fa8-becc-1463d39d63ac",
        "colab": {
          "base_uri": "https://localhost:8080/"
        }
      },
      "execution_count": 31,
      "outputs": [
        {
          "output_type": "stream",
          "name": "stdout",
          "text": [
            "0         True\n",
            "1         True\n",
            "2         True\n",
            "3         True\n",
            "4         True\n",
            "          ... \n",
            "159566    True\n",
            "159567    True\n",
            "159568    True\n",
            "159569    True\n",
            "159570    True\n",
            "Name: Label, Length: 159571, dtype: bool\n"
          ]
        }
      ]
    },
    {
      "cell_type": "markdown",
      "source": [
        "# Building the models"
      ],
      "metadata": {
        "id": "t1VugkiYF5Xm"
      }
    },
    {
      "cell_type": "markdown",
      "source": [
        "## Binary Classification Models"
      ],
      "metadata": {
        "id": "sVS6mGagHBzf"
      }
    },
    {
      "cell_type": "markdown",
      "source": [
        "### Splitting of the dataset"
      ],
      "metadata": {
        "id": "c9MpuwfRF_zQ"
      }
    },
    {
      "cell_type": "code",
      "execution_count": 32,
      "metadata": {
        "id": "-1cAba8k6qCH"
      },
      "outputs": [],
      "source": [
        "from sklearn.model_selection import train_test_split\n",
        "from sklearn.feature_extraction.text import TfidfVectorizer\n",
        "from sklearn.linear_model import LogisticRegression\n",
        "from sklearn.metrics import accuracy_score, classification_report\n",
        "\n",
        "# Split data into training and validation sets\n",
        "X_train, X_val, y_train, y_val = train_test_split(X, y, test_size=0.2, random_state=42, stratify=y)"
      ]
    },
    {
      "cell_type": "code",
      "source": [
        "text_column = 'clean_comment'\n",
        "\n",
        "# Extract text\n",
        "X_train_text = X_train[text_column]\n",
        "X_val_text = X_val[text_column]\n",
        "\n",
        "# Drop text column to keep only non-text features\n",
        "X_train_other = X_train.drop(columns=[text_column,'toxic','severe_toxic','obscene','threat','insult','identity_hate'])\n",
        "X_val_other = X_val.drop(columns=[text_column,'toxic','severe_toxic','obscene','threat','insult','identity_hate'])"
      ],
      "metadata": {
        "id": "0IZLBkhOONwu"
      },
      "execution_count": 33,
      "outputs": []
    },
    {
      "cell_type": "markdown",
      "source": [
        "### TF-IDF Vectors"
      ],
      "metadata": {
        "id": "s4c96Ui_GHVt"
      }
    },
    {
      "cell_type": "code",
      "execution_count": 34,
      "metadata": {
        "id": "tdpD3fbV6qCH"
      },
      "outputs": [],
      "source": [
        "# Convert text data into numerical vectors using TF-IDF\n",
        "tfidf = TfidfVectorizer(max_features=15000, stop_words=\"english\")\n",
        "X_train_text_tfidf = tfidf.fit_transform(X_train_text)\n",
        "X_val_text_tfidf = tfidf.transform(X_val_text)"
      ]
    },
    {
      "cell_type": "code",
      "source": [
        "from sklearn.preprocessing import MinMaxScaler\n",
        "\n",
        "scaler = MinMaxScaler()\n",
        "X_train_other_scaled = scaler.fit_transform(X_train_other)\n",
        "X_val_other_scaled = scaler.transform(X_val_other)"
      ],
      "metadata": {
        "id": "7mW7Ot3_Opyg"
      },
      "execution_count": 35,
      "outputs": []
    },
    {
      "cell_type": "code",
      "source": [
        "from scipy.sparse import hstack\n",
        "\n",
        "X_train_combined = hstack([X_train_text_tfidf, X_train_other_scaled])\n",
        "X_val_combined = hstack([X_val_text_tfidf, X_val_other_scaled])"
      ],
      "metadata": {
        "id": "s6t91v8ZO000"
      },
      "execution_count": 36,
      "outputs": []
    },
    {
      "cell_type": "markdown",
      "source": [
        "### Baseline ML Models"
      ],
      "metadata": {
        "id": "B7YCuM62GPr7"
      }
    },
    {
      "cell_type": "code",
      "execution_count": 37,
      "metadata": {
        "id": "dX0YIu3r6qCH"
      },
      "outputs": [],
      "source": [
        "from sklearn.naive_bayes import MultinomialNB\n",
        "from sklearn.svm import SVC\n",
        "from sklearn.ensemble import RandomForestClassifier\n",
        "from xgboost import XGBClassifier\n",
        "\n",
        "# Define models\n",
        "models = {\n",
        "    \"Logistic Regression\": LogisticRegression(max_iter=500),\n",
        "    \"Naive Bayes\": MultinomialNB(),\n",
        "    \"Random Forest\": RandomForestClassifier(n_estimators=100, random_state=42),\n",
        "    \"XGBoost\": XGBClassifier(eval_metric=\"logloss\")\n",
        "}"
      ]
    },
    {
      "cell_type": "code",
      "source": [
        "X_test_text = test_data_features[text_column]\n",
        "X_test_other = test_data_features.drop(columns=['id','comment_text',text_column])"
      ],
      "metadata": {
        "id": "tRdJbGXjPRxC"
      },
      "execution_count": 38,
      "outputs": []
    },
    {
      "cell_type": "code",
      "execution_count": 39,
      "metadata": {
        "id": "MGEEgz3g6qCH",
        "colab": {
          "base_uri": "https://localhost:8080/"
        },
        "outputId": "f230f659-ac0a-4aa5-f442-05ba6d0b18da"
      },
      "outputs": [
        {
          "output_type": "stream",
          "name": "stdout",
          "text": [
            "<Compressed Sparse Row sparse matrix of dtype 'float64'\n",
            "\twith 2871854 stored elements and shape (153164, 15000)>\n",
            "  Coords\tValues\n",
            "  (0, 862)\t0.1438673847075989\n",
            "  (0, 1426)\t0.30162401370054653\n",
            "  (0, 1615)\t0.17711998293793982\n",
            "  (0, 1716)\t0.17014453548421063\n",
            "  (0, 3319)\t0.18259485209550166\n",
            "  (0, 4090)\t0.07283878056381603\n",
            "  (0, 4907)\t0.20517971438338814\n",
            "  (0, 5947)\t0.1389988011509787\n",
            "  (0, 6077)\t0.21519387183764394\n",
            "  (0, 7114)\t0.44097837997043643\n",
            "  (0, 7411)\t0.19517193525070714\n",
            "  (0, 7745)\t0.07188218723579354\n",
            "  (0, 8030)\t0.12516487283116962\n",
            "  (0, 8700)\t0.1435754924016713\n",
            "  (0, 10232)\t0.18892626806438229\n",
            "  (0, 11353)\t0.09857902041925318\n",
            "  (0, 11502)\t0.2692806734293441\n",
            "  (0, 11549)\t0.15535206642150387\n",
            "  (0, 11990)\t0.13482019012925325\n",
            "  (0, 12197)\t0.2063764660387031\n",
            "  (0, 13330)\t0.1058336730179398\n",
            "  (0, 13408)\t0.08451561358790177\n",
            "  (0, 14025)\t0.16867975381898792\n",
            "  (0, 14515)\t0.13230989994481496\n",
            "  (0, 14529)\t0.28288131952156725\n",
            "  :\t:\n",
            "  (153162, 7085)\t0.17140381147364678\n",
            "  (153162, 7191)\t0.12232791787046263\n",
            "  (153162, 7573)\t0.11112200588929823\n",
            "  (153162, 7764)\t0.10315976157051455\n",
            "  (153162, 7811)\t0.13173128015267718\n",
            "  (153162, 8042)\t0.173989910350644\n",
            "  (153162, 8514)\t0.11570178288057419\n",
            "  (153162, 8768)\t0.1316138407503206\n",
            "  (153162, 9475)\t0.1513517911994101\n",
            "  (153162, 9540)\t0.1042790393961284\n",
            "  (153162, 9664)\t0.06672878951023048\n",
            "  (153162, 10605)\t0.09272093984881281\n",
            "  (153162, 11245)\t0.4917838881239322\n",
            "  (153162, 12099)\t0.10295390054156651\n",
            "  (153162, 12590)\t0.09343316385892442\n",
            "  (153162, 13530)\t0.1540362669338697\n",
            "  (153162, 13684)\t0.09350278867353838\n",
            "  (153163, 1772)\t0.4367342205584407\n",
            "  (153163, 5288)\t0.45083692508694295\n",
            "  (153163, 6541)\t0.21101000829755903\n",
            "  (153163, 7398)\t0.3184461313371674\n",
            "  (153163, 9867)\t0.5117800678962011\n",
            "  (153163, 12663)\t0.2669678289025995\n",
            "  (153163, 13332)\t0.20658822392070908\n",
            "  (153163, 14479)\t0.29018403053665126\n"
          ]
        }
      ],
      "source": [
        "# Transform test data using the same TF-IDF vectorizer\n",
        "X_test_text_tfidf = tfidf.transform(X_test_text)\n",
        "\n",
        "print(X_test_text_tfidf)"
      ]
    },
    {
      "cell_type": "code",
      "source": [
        "print(X_test_other)"
      ],
      "metadata": {
        "colab": {
          "base_uri": "https://localhost:8080/"
        },
        "id": "yo_yBX2BQGis",
        "outputId": "df459648-cac3-4a68-b70d-56d87be2cd2c"
      },
      "execution_count": 40,
      "outputs": [
        {
          "output_type": "stream",
          "name": "stdout",
          "text": [
            "        sentence_count  word_count  unique_word_count  letter_count  \\\n",
            "0                    1          72                 61           367   \n",
            "1                    3          12                 11            50   \n",
            "2                    5          12                 10            54   \n",
            "3                    1          38                 30           205   \n",
            "4                    1           7                  7            41   \n",
            "...                ...         ...                ...           ...   \n",
            "153159               2          10                 10            60   \n",
            "153160               5          38                 32           198   \n",
            "153161               9          64                 51           423   \n",
            "153162               5          89                 66           502   \n",
            "153163               2          26                 24           141   \n",
            "\n",
            "        punctuation_count  uppercase_word_count  titlecase_word_count  \\\n",
            "0                      12                     0                     4   \n",
            "1                       6                     1                     2   \n",
            "2                       8                     0                     4   \n",
            "3                       6                     3                     4   \n",
            "4                       2                     1                     1   \n",
            "...                   ...                   ...                   ...   \n",
            "153159                  4                     0                     0   \n",
            "153160                  7                     0                     5   \n",
            "153161                 36                     3                     7   \n",
            "153162                 32                     2                    14   \n",
            "153163                 11                     0                     2   \n",
            "\n",
            "        stopword_count  avg_word_length  unique_word_ratio  punctuation_ratio  \n",
            "0                   26         4.111111          84.722222          16.666667  \n",
            "1                    5         3.000000          91.666667          50.000000  \n",
            "2                    1         2.916667          83.333333          66.666667  \n",
            "3                   22         4.421053          78.947368          15.789474  \n",
            "4                    3         5.000000         100.000000          28.571429  \n",
            "...                ...              ...                ...                ...  \n",
            "153159               4         4.900000         100.000000          40.000000  \n",
            "153160              18         4.052632          84.210526          18.421053  \n",
            "153161              26         5.343750          79.687500          56.250000  \n",
            "153162              35         4.584270          74.157303          35.955056  \n",
            "153163              11         4.269231          92.307692          42.307692  \n",
            "\n",
            "[153164 rows x 11 columns]\n"
          ]
        }
      ]
    },
    {
      "cell_type": "code",
      "source": [
        "X_test_other_scaled = scaler.transform(X_test_other)"
      ],
      "metadata": {
        "id": "GeoKbImXP1IG"
      },
      "execution_count": 41,
      "outputs": []
    },
    {
      "cell_type": "code",
      "source": [
        "X_test_combined = hstack([X_test_text_tfidf, X_test_other_scaled])"
      ],
      "metadata": {
        "id": "AuhrRC4VQj4N"
      },
      "execution_count": 42,
      "outputs": []
    },
    {
      "cell_type": "code",
      "source": [
        "print(np.isnan(X_test_combined.data).sum())"
      ],
      "metadata": {
        "colab": {
          "base_uri": "https://localhost:8080/"
        },
        "id": "e2tkMgZqR_ai",
        "outputId": "88612909-3452-44ae-86bc-00899d7951d6"
      },
      "execution_count": 43,
      "outputs": [
        {
          "output_type": "stream",
          "name": "stdout",
          "text": [
            "2\n"
          ]
        }
      ]
    },
    {
      "cell_type": "code",
      "source": [
        "from scipy.sparse import coo_matrix\n",
        "\n",
        "# Convert to COO format if needed\n",
        "X_coo = X_test_combined.tocoo()\n",
        "\n",
        "# Find rows with NaNs\n",
        "nan_mask = np.isnan(X_coo.data)\n",
        "rows_with_nans = np.unique(X_coo.row[nan_mask])\n",
        "\n",
        "# Get unique rows (since same row could have multiple NaNs)\n",
        "unique_rows = np.unique(rows_with_nans)\n",
        "\n",
        "print(\"Rows with NaN values:\", unique_rows)\n",
        "print(\"Total rows with NaNs:\", len(unique_rows))\n",
        "\n",
        "# Replace NaNs with 0\n",
        "X_coo.data[np.isnan(X_coo.data)] = 0\n",
        "\n",
        "# Convert back to CSR for efficient slicing & prediction\n",
        "X_test_combined = X_coo.tocsr()"
      ],
      "metadata": {
        "colab": {
          "base_uri": "https://localhost:8080/"
        },
        "id": "KFdeUn2OTfMp",
        "outputId": "44c03df9-b54d-4780-a272-0a132ae4a8e7"
      },
      "execution_count": 44,
      "outputs": [
        {
          "output_type": "stream",
          "name": "stdout",
          "text": [
            "Rows with NaN values: [55142]\n",
            "Total rows with NaNs: 1\n"
          ]
        }
      ]
    },
    {
      "cell_type": "code",
      "source": [
        "print(np.isnan(X_test_combined.data).sum())"
      ],
      "metadata": {
        "colab": {
          "base_uri": "https://localhost:8080/"
        },
        "id": "ZcIwlnbeXhdY",
        "outputId": "09b9ff4e-07d6-4cdf-9649-11f25b2c35c5"
      },
      "execution_count": 45,
      "outputs": [
        {
          "output_type": "stream",
          "name": "stdout",
          "text": [
            "0\n"
          ]
        }
      ]
    },
    {
      "cell_type": "markdown",
      "source": [
        "### Training the models"
      ],
      "metadata": {
        "id": "_OdOC2a4Gm6v"
      }
    },
    {
      "cell_type": "code",
      "execution_count": 46,
      "metadata": {
        "id": "ilTfEYzF6qCH",
        "outputId": "e1e3d07d-a6db-4127-ac32-74cd88cd79db",
        "colab": {
          "base_uri": "https://localhost:8080/",
          "height": 1000
        }
      },
      "outputs": [
        {
          "output_type": "stream",
          "name": "stdout",
          "text": [
            "Training Logistic Regression...\n",
            "Logistic Regression is fit to the training data\n",
            "Validated the model\n",
            "Accuracy of Logistic Regression 0.9556321478928403\n",
            "classification_report of Logistic Regression               precision    recall  f1-score   support\n",
            "\n",
            "       False       0.92      0.61      0.74      3245\n",
            "        True       0.96      0.99      0.98     28670\n",
            "\n",
            "    accuracy                           0.96     31915\n",
            "   macro avg       0.94      0.80      0.86     31915\n",
            "weighted avg       0.95      0.96      0.95     31915\n",
            "\n",
            "confusion_matrix of Logistic Regression [[ 1992  1253]\n",
            " [  163 28507]]\n",
            "Updated the Logistic Regression results\n"
          ]
        },
        {
          "output_type": "display_data",
          "data": {
            "text/plain": [
              "<Figure size 500x400 with 2 Axes>"
            ],
            "image/png": "[encoded data removed]"
          },
          "metadata": {}
        },
        {
          "output_type": "stream",
          "name": "stdout",
          "text": [
            "Logistic Regression Predictions done for test data\n",
            "Training Naive Bayes...\n",
            "Naive Bayes is fit to the training data\n",
            "Validated the model\n",
            "Accuracy of Naive Bayes 0.9470781764060786\n",
            "classification_report of Naive Bayes               precision    recall  f1-score   support\n",
            "\n",
            "       False       0.94      0.51      0.66      3245\n",
            "        True       0.95      1.00      0.97     28670\n",
            "\n",
            "    accuracy                           0.95     31915\n",
            "   macro avg       0.95      0.75      0.82     31915\n",
            "weighted avg       0.95      0.95      0.94     31915\n",
            "\n",
            "confusion_matrix of Naive Bayes [[ 1655  1590]\n",
            " [   99 28571]]\n",
            "Updated the Naive Bayes results\n"
          ]
        },
        {
          "output_type": "display_data",
          "data": {
            "text/plain": [
              "<Figure size 500x400 with 2 Axes>"
            ],
            "image/png": "[encoded data removed]"
          },
          "metadata": {}
        },
        {
          "output_type": "stream",
          "name": "stdout",
          "text": [
            "Naive Bayes Predictions done for test data\n",
            "Training Random Forest...\n",
            "Random Forest is fit to the training data\n",
            "Validated the model\n",
            "Accuracy of Random Forest 0.9540968196772678\n",
            "classification_report of Random Forest               precision    recall  f1-score   support\n",
            "\n",
            "       False       0.90      0.62      0.73      3245\n",
            "        True       0.96      0.99      0.97     28670\n",
            "\n",
            "    accuracy                           0.95     31915\n",
            "   macro avg       0.93      0.80      0.85     31915\n",
            "weighted avg       0.95      0.95      0.95     31915\n",
            "\n",
            "confusion_matrix of Random Forest [[ 2004  1241]\n",
            " [  224 28446]]\n",
            "Updated the Random Forest results\n"
          ]
        },
        {
          "output_type": "display_data",
          "data": {
            "text/plain": [
              "<Figure size 500x400 with 2 Axes>"
            ],
            "image/png": "[encoded data removed]"
          },
          "metadata": {}
        },
        {
          "output_type": "stream",
          "name": "stdout",
          "text": [
            "Random Forest Predictions done for test data\n",
            "Training XGBoost...\n",
            "XGBoost is fit to the training data\n",
            "Validated the model\n",
            "Accuracy of XGBoost 0.9545041516528279\n",
            "classification_report of XGBoost               precision    recall  f1-score   support\n",
            "\n",
            "       False       0.91      0.61      0.73      3245\n",
            "        True       0.96      0.99      0.98     28670\n",
            "\n",
            "    accuracy                           0.95     31915\n",
            "   macro avg       0.93      0.80      0.85     31915\n",
            "weighted avg       0.95      0.95      0.95     31915\n",
            "\n",
            "confusion_matrix of XGBoost [[ 1994  1251]\n",
            " [  201 28469]]\n",
            "Updated the XGBoost results\n"
          ]
        },
        {
          "output_type": "display_data",
          "data": {
            "text/plain": [
              "<Figure size 500x400 with 2 Axes>"
            ],
            "image/png": "[encoded data removed]"
          },
          "metadata": {}
        },
        {
          "output_type": "stream",
          "name": "stdout",
          "text": [
            "XGBoost Predictions done for test data\n"
          ]
        }
      ],
      "source": [
        "from sklearn.metrics import confusion_matrix as sk_confusion_matrix\n",
        "\n",
        "# Train and evaluate each model\n",
        "results = {}\n",
        "for model_name, model in models.items():\n",
        "    print(f\"Training {model_name}...\")\n",
        "    model.fit(X_train_combined, y_train)\n",
        "    print(f\"{model_name} is fit to the training data\")\n",
        "    y_val_pred = model.predict(X_val_combined)\n",
        "    print(\"Validated the model\")\n",
        "    # Compute evaluation metrics\n",
        "    accuracy = accuracy_score(y_val, y_val_pred)\n",
        "    print(f\"Accuracy of {model_name}\", accuracy)\n",
        "    classification_rep = classification_report(y_val, y_val_pred)\n",
        "    print(f\"classification_report of {model_name}\", classification_rep)\n",
        "    conf_matrix = sk_confusion_matrix(y_val, y_val_pred)\n",
        "    print(f\"confusion_matrix of {model_name}\", conf_matrix)\n",
        "\n",
        "    # Store results\n",
        "    results[model_name] = {\n",
        "        \"accuracy\": accuracy,\n",
        "        \"classification_report\": classification_rep,\n",
        "        \"confusion_matrix\": conf_matrix\n",
        "    }\n",
        "    print(f\"Updated the {model_name} results\")\n",
        "    # Plot the confusion matrix\n",
        "    plt.figure(figsize=(5, 4))\n",
        "    sns.heatmap(conf_matrix, annot=True, fmt=\"d\", cmap=\"Blues\", xticklabels=[\"Non-Toxic\", \"Toxic\"], yticklabels=[\"Non-Toxic\", \"Toxic\"])\n",
        "    plt.xlabel(\"Predicted Label\")\n",
        "    plt.ylabel(\"True Label\")\n",
        "    plt.title(f\"Confusion Matrix - {model_name}\")\n",
        "    plt.show()\n",
        "\n",
        "    test_data_features[f\"predicted_{model_name.replace(' ', '_')}\"] = model.predict(X_test_combined)\n",
        "\n",
        "    print(f\"{model_name} Predictions done for test data\")"
      ]
    },
    {
      "cell_type": "markdown",
      "source": [
        "### Results"
      ],
      "metadata": {
        "id": "3fbB68hmG1Y3"
      }
    },
    {
      "cell_type": "code",
      "execution_count": 82,
      "metadata": {
        "id": "ssEs05a16qCI",
        "outputId": "112eb1a1-424c-4610-99a4-026981aa3a97",
        "colab": {
          "base_uri": "https://localhost:8080/"
        }
      },
      "outputs": [
        {
          "output_type": "stream",
          "name": "stdout",
          "text": [
            "{'Logistic Regression': {'accuracy': 0.9556321478928403, 'classification_report': '              precision    recall  f1-score   support\\n\\n       False       0.92      0.61      0.74      3245\\n        True       0.96      0.99      0.98     28670\\n\\n    accuracy                           0.96     31915\\n   macro avg       0.94      0.80      0.86     31915\\nweighted avg       0.95      0.96      0.95     31915\\n', 'confusion_matrix': array([[ 1992,  1253],\n",
            "       [  163, 28507]])}, 'Naive Bayes': {'accuracy': 0.9470781764060786, 'classification_report': '              precision    recall  f1-score   support\\n\\n       False       0.94      0.51      0.66      3245\\n        True       0.95      1.00      0.97     28670\\n\\n    accuracy                           0.95     31915\\n   macro avg       0.95      0.75      0.82     31915\\nweighted avg       0.95      0.95      0.94     31915\\n', 'confusion_matrix': array([[ 1655,  1590],\n",
            "       [   99, 28571]])}, 'Random Forest': {'accuracy': 0.9540968196772678, 'classification_report': '              precision    recall  f1-score   support\\n\\n       False       0.90      0.62      0.73      3245\\n        True       0.96      0.99      0.97     28670\\n\\n    accuracy                           0.95     31915\\n   macro avg       0.93      0.80      0.85     31915\\nweighted avg       0.95      0.95      0.95     31915\\n', 'confusion_matrix': array([[ 2004,  1241],\n",
            "       [  224, 28446]])}, 'XGBoost': {'accuracy': 0.9545041516528279, 'classification_report': '              precision    recall  f1-score   support\\n\\n       False       0.91      0.61      0.73      3245\\n        True       0.96      0.99      0.98     28670\\n\\n    accuracy                           0.95     31915\\n   macro avg       0.93      0.80      0.85     31915\\nweighted avg       0.95      0.95      0.95     31915\\n', 'confusion_matrix': array([[ 1994,  1251],\n",
            "       [  201, 28469]])}}\n"
          ]
        }
      ],
      "source": [
        "print(results)"
      ]
    },
    {
      "cell_type": "code",
      "execution_count": 83,
      "metadata": {
        "id": "YFI3Lqg96qCI"
      },
      "outputs": [],
      "source": [
        "# Convert results dictionary into a structured DataFrame\n",
        "model_results = {\n",
        "    \"Model\": [],\n",
        "    \"Accuracy\": [],\n",
        "    \"Precision (False)\": [],\n",
        "    \"Recall (False)\": [],\n",
        "    \"F1-Score (False)\": [],\n",
        "    \"Precision (True)\": [],\n",
        "    \"Recall (True)\": [],\n",
        "    \"F1-Score (True)\": [],\n",
        "    \"False Positives\": [],\n",
        "    \"False Negatives\": []\n",
        "}\n",
        "\n",
        "# Populate the table with results\n",
        "for model_name, metrics in results.items():\n",
        "    report_lines = metrics[\"classification_report\"].split(\"\\n\")\n",
        "    false_metrics = list(map(float, report_lines[2].split()[1:]))\n",
        "    true_metrics = list(map(float, report_lines[3].split()[1:]))\n",
        "    conf_matrix = metrics[\"confusion_matrix\"]\n",
        "\n",
        "    model_results[\"Model\"].append(model_name)\n",
        "    model_results[\"Accuracy\"].append(metrics[\"accuracy\"])\n",
        "    model_results[\"Precision (False)\"].append(false_metrics[0])\n",
        "    model_results[\"Recall (False)\"].append(false_metrics[1])\n",
        "    model_results[\"F1-Score (False)\"].append(false_metrics[2])\n",
        "    model_results[\"Precision (True)\"].append(true_metrics[0])\n",
        "    model_results[\"Recall (True)\"].append(true_metrics[1])\n",
        "    model_results[\"F1-Score (True)\"].append(true_metrics[2])\n",
        "    model_results[\"False Positives\"].append(conf_matrix[0][1])\n",
        "    model_results[\"False Negatives\"].append(conf_matrix[1][0])"
      ]
    },
    {
      "cell_type": "code",
      "execution_count": 84,
      "metadata": {
        "id": "TAvXybcF6qCI"
      },
      "outputs": [],
      "source": [
        "# Convert to DataFrame for display\n",
        "results_df = pd.DataFrame(model_results)"
      ]
    },
    {
      "cell_type": "code",
      "execution_count": 85,
      "metadata": {
        "id": "BAls5TeL6qCI",
        "outputId": "f605705d-cdf7-4ea4-a849-a8594f58b1c3",
        "colab": {
          "base_uri": "https://localhost:8080/"
        }
      },
      "outputs": [
        {
          "output_type": "stream",
          "name": "stdout",
          "text": [
            "                 Model  Accuracy  Precision (False)  Recall (False)  \\\n",
            "0  Logistic Regression  0.955632               0.92            0.61   \n",
            "1          Naive Bayes  0.947078               0.94            0.51   \n",
            "2        Random Forest  0.954097               0.90            0.62   \n",
            "3              XGBoost  0.954504               0.91            0.61   \n",
            "\n",
            "   F1-Score (False)  Precision (True)  Recall (True)  F1-Score (True)  \\\n",
            "0              0.74              0.96           0.99             0.98   \n",
            "1              0.66              0.95           1.00             0.97   \n",
            "2              0.73              0.96           0.99             0.97   \n",
            "3              0.73              0.96           0.99             0.98   \n",
            "\n",
            "   False Positives  False Negatives  \n",
            "0             1253              163  \n",
            "1             1590               99  \n",
            "2             1241              224  \n",
            "3             1251              201  \n"
          ]
        }
      ],
      "source": [
        "print(results_df)"
      ]
    },
    {
      "cell_type": "code",
      "execution_count": null,
      "metadata": {
        "id": "xF8mpZU56qCJ",
        "outputId": "b492a85e-7029-47dc-d667-8455fbe3f786",
        "colab": {
          "base_uri": "https://localhost:8080/"
        }
      },
      "outputs": [
        {
          "output_type": "stream",
          "name": "stdout",
          "text": [
            "        toxic  severe_toxic  obscene  threat  insult  identity_hate\n",
            "0           0             0        0       0       0              0\n",
            "1           0             0        0       0       0              0\n",
            "2           0             0        0       0       0              0\n",
            "3           0             0        0       0       0              0\n",
            "4           0             0        0       0       0              0\n",
            "...       ...           ...      ...     ...     ...            ...\n",
            "159566      0             0        0       0       0              0\n",
            "159567      0             0        0       0       0              0\n",
            "159568      0             0        0       0       0              0\n",
            "159569      0             0        0       0       0              0\n",
            "159570      0             0        0       0       0              0\n",
            "\n",
            "[159571 rows x 6 columns]\n"
          ]
        }
      ],
      "source": [
        "print(combined_training_data.iloc[:, 13:19])"
      ]
    },
    {
      "cell_type": "code",
      "source": [
        "print(combined_training_data)"
      ],
      "metadata": {
        "id": "w881G0j2r15j",
        "outputId": "61b881be-34da-4032-c907-288cccc217aa",
        "colab": {
          "base_uri": "https://localhost:8080/"
        }
      },
      "execution_count": 47,
      "outputs": [
        {
          "output_type": "stream",
          "name": "stdout",
          "text": [
            "                      id                                       comment_text  \\\n",
            "0       0000997932d777bf  Explanation\\nWhy the edits made under my usern...   \n",
            "1       000103f0d9cfb60f  D'aww! He matches this background colour I'm s...   \n",
            "2       000113f07ec002fd  Hey man, I'm really not trying to edit war. It...   \n",
            "3       0001b41b1c6bb37e  \"\\nMore\\nI can't make any real suggestions on ...   \n",
            "4       0001d958c54c6e35  You, sir, are my hero. Any chance you remember...   \n",
            "...                  ...                                                ...   \n",
            "159566  ffe987279560d7ff  \":::::And for the second time of asking, when ...   \n",
            "159567  ffea4adeee384e90  You should be ashamed of yourself \\n\\nThat is ...   \n",
            "159568  ffee36eab5c267c9  Spitzer \\n\\nUmm, theres no actual article for ...   \n",
            "159569  fff125370e4aaaf3  And it looks like it was actually you who put ...   \n",
            "159570  fff46fc426af1f9a  \"\\nAnd ... I really don't think you understand...   \n",
            "\n",
            "        sentence_count  word_count  unique_word_count  letter_count  \\\n",
            "0                    2          43                 41           264   \n",
            "1                    1          17                 17           112   \n",
            "2                    1          42                 39           233   \n",
            "3                    5         113                 82           622   \n",
            "4                    1          13                 13            67   \n",
            "...                ...         ...                ...           ...   \n",
            "159566               3          47                 44           295   \n",
            "159567               3          18                 18            99   \n",
            "159568               3          12                 12            81   \n",
            "159569               1          25                 23           116   \n",
            "159570               2          36                 32           189   \n",
            "\n",
            "        punctuation_count  uppercase_word_count  titlecase_word_count  \\\n",
            "0                      10                     2                    11   \n",
            "1                      12                     1                     3   \n",
            "2                       6                     0                     2   \n",
            "3                      21                     5                     7   \n",
            "4                       5                     0                     2   \n",
            "...                   ...                   ...                   ...   \n",
            "159566                 18                     0                     2   \n",
            "159567                  4                     0                     2   \n",
            "159568                  4                     0                     4   \n",
            "159569                  1                     1                     2   \n",
            "159570                 14                     2                     4   \n",
            "\n",
            "        stopword_count  avg_word_length  unique_word_ratio  punctuation_ratio  \\\n",
            "0                   19         5.162791          95.348837          23.255814   \n",
            "1                    3         5.588235         100.000000          70.588235   \n",
            "2                   21         4.571429          92.857143          14.285714   \n",
            "3                   56         4.486726          72.566372          18.584071   \n",
            "4                    5         4.230769         100.000000          38.461538   \n",
            "...                ...              ...                ...                ...   \n",
            "159566              19         5.212766          93.617021          38.297872   \n",
            "159567              11         4.388889         100.000000          22.222222   \n",
            "159568               2         5.583333         100.000000          33.333333   \n",
            "159569              15         3.680000          92.000000           4.000000   \n",
            "159570              13         4.166667          88.888889          38.888889   \n",
            "\n",
            "        toxic  severe_toxic  obscene  threat  insult  identity_hate  \\\n",
            "0           0             0        0       0       0              0   \n",
            "1           0             0        0       0       0              0   \n",
            "2           0             0        0       0       0              0   \n",
            "3           0             0        0       0       0              0   \n",
            "4           0             0        0       0       0              0   \n",
            "...       ...           ...      ...     ...     ...            ...   \n",
            "159566      0             0        0       0       0              0   \n",
            "159567      0             0        0       0       0              0   \n",
            "159568      0             0        0       0       0              0   \n",
            "159569      0             0        0       0       0              0   \n",
            "159570      0             0        0       0       0              0   \n",
            "\n",
            "                                            clean_comment  \n",
            "0       explanation edits made username hardcore metal...  \n",
            "1       daww matches background colour im seemingly st...  \n",
            "2       hey man im really trying edit war guy constant...  \n",
            "3       cant make real suggestions improvement wondere...  \n",
            "4                     sir hero chance remember page thats  \n",
            "...                                                   ...  \n",
            "159566  second time asking view completely contradicts...  \n",
            "159567               ashamed horrible thing put talk page  \n",
            "159568  spitzer umm theres actual article prostitution...  \n",
            "159569  looks like actually put speedy first version d...  \n",
            "159570  really dont think understand came idea bad rig...  \n",
            "\n",
            "[159571 rows x 20 columns]\n"
          ]
        }
      ]
    },
    {
      "cell_type": "code",
      "execution_count": 48,
      "metadata": {
        "id": "bwAyEBO86qCJ"
      },
      "outputs": [],
      "source": [
        "# Proceed with training and evaluation again\n",
        "X_MLC = combined_training_data.iloc[:,2:]\n",
        "y_MLC = combined_training_data.iloc[:, 13:19]  # Multi-label classification"
      ]
    },
    {
      "cell_type": "markdown",
      "source": [
        "## Multi-label Classification"
      ],
      "metadata": {
        "id": "jaBS2wS4ICAP"
      }
    },
    {
      "cell_type": "code",
      "execution_count": 49,
      "metadata": {
        "id": "8hNQt2556qCP"
      },
      "outputs": [],
      "source": [
        "# Split into training and validation sets\n",
        "X_MLC_train, X_MLC_val, y_MLC_train, y_MLC_val = train_test_split(X_MLC, y_MLC, test_size=0.2, random_state=42)"
      ]
    },
    {
      "cell_type": "code",
      "source": [
        "# Extract text\n",
        "X_MLC_train_text = X_MLC_train[text_column]\n",
        "X_MLC_val_text = X_MLC_val[text_column]\n",
        "\n",
        "# Drop text column to keep only non-text features\n",
        "X_MLC_train_other = X_MLC_train.drop(columns=[text_column,'toxic','severe_toxic','obscene','threat','insult','identity_hate'])\n",
        "X_MLC_val_other = X_MLC_val.drop(columns=[text_column,'toxic','severe_toxic','obscene','threat','insult','identity_hate'])"
      ],
      "metadata": {
        "id": "pYShL2sEs4tH"
      },
      "execution_count": 50,
      "outputs": []
    },
    {
      "cell_type": "code",
      "source": [
        "X_MLC_train_text_tfidf = tfidf.fit_transform(X_MLC_train_text)\n",
        "X_MLC_val_text_tfidf = tfidf.transform(X_MLC_val_text)"
      ],
      "metadata": {
        "id": "0g6ZGW0duARi"
      },
      "execution_count": 52,
      "outputs": []
    },
    {
      "cell_type": "code",
      "source": [
        "X_MLC_train_other_scaled = scaler.fit_transform(X_MLC_train_other)\n",
        "X_MLC_val_other_scaled = scaler.transform(X_MLC_val_other)"
      ],
      "metadata": {
        "id": "m9My12sIuuEd"
      },
      "execution_count": 53,
      "outputs": []
    },
    {
      "cell_type": "code",
      "source": [
        "X_MLC_train_combined = hstack([X_MLC_train_text_tfidf, X_MLC_train_other_scaled])\n",
        "X_MLC_val_combined = hstack([X_MLC_val_text_tfidf, X_MLC_val_other_scaled])"
      ],
      "metadata": {
        "id": "zRK0gQX_vVd3"
      },
      "execution_count": 54,
      "outputs": []
    },
    {
      "cell_type": "markdown",
      "source": [
        "### Baseline ML Models"
      ],
      "metadata": {
        "id": "rdPwDHeWIO3J"
      }
    },
    {
      "cell_type": "code",
      "execution_count": 67,
      "metadata": {
        "id": "amXrBrZz6qCP"
      },
      "outputs": [],
      "source": [
        "from sklearn.multiclass import OneVsRestClassifier\n",
        "\n",
        "# Define models for multi-label classification\n",
        "multiclass_models = {\n",
        "    \"Logistic Regression\": OneVsRestClassifier(LogisticRegression(max_iter=500)),\n",
        "    \"Naive Bayes\": OneVsRestClassifier(MultinomialNB()),\n",
        "    \"Random Forest\": OneVsRestClassifier(RandomForestClassifier(n_estimators=50, max_depth=20, n_jobs=-1, random_state=42)),\n",
        "    \"XGBoost\": OneVsRestClassifier(XGBClassifier(eval_metric=\"logloss\"))\n",
        "}"
      ]
    },
    {
      "cell_type": "code",
      "source": [
        "X_MLC_test_text = test_data_features[text_column]\n",
        "X_MLC_test_other = test_data_features.drop(columns=['id','comment_text','predicted_Logistic_Regression','predicted_Naive_Bayes','predicted_Random_Forest','predicted_XGBoost',text_column])"
      ],
      "metadata": {
        "id": "mlqzw-mowWec"
      },
      "execution_count": 60,
      "outputs": []
    },
    {
      "cell_type": "code",
      "source": [
        "# Transform test data using the same TF-IDF vectorizer\n",
        "X_MLC_test_text_tfidf = tfidf.transform(X_MLC_test_text)\n",
        "\n",
        "print(X_MLC_test_text_tfidf)"
      ],
      "metadata": {
        "id": "Jw_BDLNqw1PE",
        "outputId": "1025ae2d-7a96-44e7-913a-e61f70d943d0",
        "colab": {
          "base_uri": "https://localhost:8080/"
        }
      },
      "execution_count": 61,
      "outputs": [
        {
          "output_type": "stream",
          "name": "stdout",
          "text": [
            "<Compressed Sparse Row sparse matrix of dtype 'float64'\n",
            "\twith 2871441 stored elements and shape (153164, 15000)>\n",
            "  Coords\tValues\n",
            "  (0, 860)\t0.14029104183912208\n",
            "  (0, 1414)\t0.2951461103372728\n",
            "  (0, 1599)\t0.17164100147344824\n",
            "  (0, 1699)\t0.16592607010526794\n",
            "  (0, 3301)\t0.1780540747864395\n",
            "  (0, 4078)\t0.07110206065415796\n",
            "  (0, 4888)\t0.20117759414481637\n",
            "  (0, 5935)\t0.1355547773103022\n",
            "  (0, 6062)\t0.20745601624896537\n",
            "  (0, 7083)\t0.4279058809655936\n",
            "  (0, 7377)\t0.18965395468845103\n",
            "  (0, 7696)\t0.07021215676650577\n",
            "  (0, 7979)\t0.12258052466478697\n",
            "  (0, 8668)\t0.14000872039176146\n",
            "  (0, 10195)\t0.18396204490259027\n",
            "  (0, 11353)\t0.09620426277107329\n",
            "  (0, 11505)\t0.2624728735228219\n",
            "  (0, 11553)\t0.15239775271607395\n",
            "  (0, 11997)\t0.1313713628221263\n",
            "  (0, 12193)\t0.19965716037254091\n",
            "  (0, 12821)\t0.22744089512036655\n",
            "  (0, 13333)\t0.10362048398282919\n",
            "  (0, 13414)\t0.0824174752868135\n",
            "  (0, 14023)\t0.16475435399764887\n",
            "  (0, 14512)\t0.12882897899866866\n",
            "  :\t:\n",
            "  (153162, 7051)\t0.17022427610322124\n",
            "  (153162, 7159)\t0.1219198219521644\n",
            "  (153162, 7533)\t0.11112622320148023\n",
            "  (153162, 7714)\t0.10330459043571036\n",
            "  (153162, 7765)\t0.13097885510537574\n",
            "  (153162, 7991)\t0.1742123249016229\n",
            "  (153162, 8473)\t0.1159001493821194\n",
            "  (153162, 8740)\t0.1324380868867349\n",
            "  (153162, 9426)\t0.15041092216997243\n",
            "  (153162, 9491)\t0.10418009655144003\n",
            "  (153162, 9618)\t0.06665724944726321\n",
            "  (153162, 10577)\t0.09293650068882368\n",
            "  (153162, 11241)\t0.4930069747477522\n",
            "  (153162, 12102)\t0.1029323793345251\n",
            "  (153162, 12593)\t0.09354487110891932\n",
            "  (153162, 13533)\t0.15501966558958663\n",
            "  (153162, 13684)\t0.09366115649272029\n",
            "  (153163, 1756)\t0.43553999128961807\n",
            "  (153163, 5269)\t0.4534860294606441\n",
            "  (153163, 6522)\t0.21174642329157606\n",
            "  (153163, 7366)\t0.31991421123886704\n",
            "  (153163, 9826)\t0.5083768864227524\n",
            "  (153163, 12660)\t0.26748247233375916\n",
            "  (153163, 13335)\t0.2073166811035362\n",
            "  (153163, 14476)\t0.2906880610270051\n",
            "        sentence_count  word_count  unique_word_count  letter_count  \\\n",
            "0                    1          72                 61           367   \n",
            "1                    3          12                 11            50   \n",
            "2                    5          12                 10            54   \n",
            "3                    1          38                 30           205   \n",
            "4                    1           7                  7            41   \n",
            "...                ...         ...                ...           ...   \n",
            "153159               2          10                 10            60   \n",
            "153160               5          38                 32           198   \n",
            "153161               9          64                 51           423   \n",
            "153162               5          89                 66           502   \n",
            "153163               2          26                 24           141   \n",
            "\n",
            "        punctuation_count  uppercase_word_count  titlecase_word_count  \\\n",
            "0                      12                     0                     4   \n",
            "1                       6                     1                     2   \n",
            "2                       8                     0                     4   \n",
            "3                       6                     3                     4   \n",
            "4                       2                     1                     1   \n",
            "...                   ...                   ...                   ...   \n",
            "153159                  4                     0                     0   \n",
            "153160                  7                     0                     5   \n",
            "153161                 36                     3                     7   \n",
            "153162                 32                     2                    14   \n",
            "153163                 11                     0                     2   \n",
            "\n",
            "        stopword_count  avg_word_length  unique_word_ratio  punctuation_ratio  \n",
            "0                   26         4.111111          84.722222          16.666667  \n",
            "1                    5         3.000000          91.666667          50.000000  \n",
            "2                    1         2.916667          83.333333          66.666667  \n",
            "3                   22         4.421053          78.947368          15.789474  \n",
            "4                    3         5.000000         100.000000          28.571429  \n",
            "...                ...              ...                ...                ...  \n",
            "153159               4         4.900000         100.000000          40.000000  \n",
            "153160              18         4.052632          84.210526          18.421053  \n",
            "153161              26         5.343750          79.687500          56.250000  \n",
            "153162              35         4.584270          74.157303          35.955056  \n",
            "153163              11         4.269231          92.307692          42.307692  \n",
            "\n",
            "[153164 rows x 11 columns]\n"
          ]
        }
      ]
    },
    {
      "cell_type": "code",
      "source": [
        "X_MLC_test_other_scaled = scaler.transform(X_MLC_test_other)"
      ],
      "metadata": {
        "id": "Ph_yJcYix9Dl"
      },
      "execution_count": 62,
      "outputs": []
    },
    {
      "cell_type": "code",
      "source": [
        "X_MLC_test_combined = hstack([X_MLC_test_text_tfidf, X_MLC_test_other_scaled])"
      ],
      "metadata": {
        "id": "DUCmcVy6yJNh"
      },
      "execution_count": 63,
      "outputs": []
    },
    {
      "cell_type": "code",
      "source": [
        "print(np.isnan(X_MLC_test_combined.data).sum())"
      ],
      "metadata": {
        "id": "PQ5d9jgYyU0U",
        "outputId": "946e5cdd-5f65-4d92-c808-f1e27eae1085",
        "colab": {
          "base_uri": "https://localhost:8080/"
        }
      },
      "execution_count": 64,
      "outputs": [
        {
          "output_type": "stream",
          "name": "stdout",
          "text": [
            "2\n"
          ]
        }
      ]
    },
    {
      "cell_type": "code",
      "source": [
        "# Convert to COO format if needed\n",
        "X_coo = X_MLC_test_combined.tocoo()\n",
        "\n",
        "# Find rows with NaNs\n",
        "nan_mask = np.isnan(X_coo.data)\n",
        "rows_with_nans = np.unique(X_coo.row[nan_mask])\n",
        "\n",
        "# Get unique rows (since same row could have multiple NaNs)\n",
        "unique_rows = np.unique(rows_with_nans)\n",
        "\n",
        "print(\"Rows with NaN values:\", unique_rows)\n",
        "print(\"Total rows with NaNs:\", len(unique_rows))\n",
        "\n",
        "# Replace NaNs with 0\n",
        "X_coo.data[np.isnan(X_coo.data)] = 0\n",
        "\n",
        "# Convert back to CSR for efficient slicing & prediction\n",
        "X_MLC_test_combined = X_coo.tocsr()"
      ],
      "metadata": {
        "outputId": "ce5f8fbf-a335-43a3-a6a5-2aa490f92ff4",
        "colab": {
          "base_uri": "https://localhost:8080/"
        },
        "id": "Ol0l-Wpeyqd4"
      },
      "execution_count": 65,
      "outputs": [
        {
          "output_type": "stream",
          "name": "stdout",
          "text": [
            "Rows with NaN values: [55142]\n",
            "Total rows with NaNs: 1\n"
          ]
        }
      ]
    },
    {
      "cell_type": "code",
      "source": [
        "print(np.isnan(X_test_combined.data).sum())"
      ],
      "metadata": {
        "outputId": "0376418f-021f-4aff-f4d7-7c6a71541db9",
        "colab": {
          "base_uri": "https://localhost:8080/"
        },
        "id": "GDOFFFHXyqd4"
      },
      "execution_count": 66,
      "outputs": [
        {
          "output_type": "stream",
          "name": "stdout",
          "text": [
            "0\n"
          ]
        }
      ]
    },
    {
      "cell_type": "markdown",
      "source": [
        "### Training the models"
      ],
      "metadata": {
        "id": "-wMHH9BJMF5k"
      }
    },
    {
      "cell_type": "code",
      "execution_count": 71,
      "metadata": {
        "id": "T2x_PbjD6qCP",
        "outputId": "7e733e80-2f4e-4db7-8ed5-0e3d63502cd8",
        "colab": {
          "base_uri": "https://localhost:8080/"
        }
      },
      "outputs": [
        {
          "output_type": "stream",
          "name": "stdout",
          "text": [
            "Training Logistic Regression...\n",
            "Training Naive Bayes...\n",
            "Training Random Forest...\n",
            "Training XGBoost...\n"
          ]
        }
      ],
      "source": [
        "# Train and evaluate each model\n",
        "results_multi_class = {}\n",
        "for model_name, model in multiclass_models.items():\n",
        "    print(f\"Training {model_name}...\")\n",
        "    model.fit(X_MLC_train_combined, y_MLC_train)\n",
        "    y_MLC_val_pred = model.predict(X_MLC_val_combined)\n",
        "\n",
        "    # Compute evaluation metrics\n",
        "    accuracy = accuracy_score(y_MLC_val, y_MLC_val_pred)\n",
        "    classification_rep = classification_report(y_MLC_val, y_MLC_val_pred, target_names=y_MLC.columns, zero_division=0)\n",
        "\n",
        "    # Store results\n",
        "    results_multi_class[model_name] = {\n",
        "        \"accuracy\": accuracy,\n",
        "        \"classification_report\": classification_rep,\n",
        "    }\n",
        "\n",
        "    test_MLC_pred = model.predict(X_MLC_test_combined)\n",
        "    for i, col in enumerate(y_MLC.columns):\n",
        "        test_data_features[f\"predicted_multi-class_{col}_{model_name.replace(' ', '_')}\"] = test_MLC_pred[:, i]"
      ]
    },
    {
      "cell_type": "markdown",
      "source": [
        "### Results"
      ],
      "metadata": {
        "id": "ISlh-1tlMOmu"
      }
    },
    {
      "cell_type": "code",
      "execution_count": 72,
      "metadata": {
        "id": "oYcIvfMd6qCP",
        "outputId": "c4e71aab-90fd-44e1-d053-365c2d75d9cd",
        "colab": {
          "base_uri": "https://localhost:8080/"
        }
      },
      "outputs": [
        {
          "output_type": "stream",
          "name": "stdout",
          "text": [
            "{'Logistic Regression': {'accuracy': 0.9179696067679775, 'classification_report': '               precision    recall  f1-score   support\\n\\n        toxic       0.90      0.61      0.73      3056\\n severe_toxic       0.57      0.25      0.34       321\\n      obscene       0.92      0.63      0.74      1715\\n       threat       0.60      0.16      0.26        74\\n       insult       0.83      0.50      0.62      1614\\nidentity_hate       0.69      0.14      0.23       294\\n\\n    micro avg       0.87      0.55      0.67      7074\\n    macro avg       0.75      0.38      0.49      7074\\n weighted avg       0.86      0.55      0.66      7074\\n  samples avg       0.06      0.05      0.05      7074\\n'}, 'Naive Bayes': {'accuracy': 0.9107316308945637, 'classification_report': '               precision    recall  f1-score   support\\n\\n        toxic       0.93      0.49      0.65      3056\\n severe_toxic       0.73      0.02      0.05       321\\n      obscene       0.93      0.47      0.62      1715\\n       threat       0.00      0.00      0.00        74\\n       insult       0.84      0.36      0.51      1614\\nidentity_hate       0.00      0.00      0.00       294\\n\\n    micro avg       0.91      0.41      0.57      7074\\n    macro avg       0.57      0.23      0.30      7074\\n weighted avg       0.85      0.41      0.55      7074\\n  samples avg       0.05      0.03      0.04      7074\\n'}, 'Random Forest': {'accuracy': 0.8984490051699827, 'classification_report': '               precision    recall  f1-score   support\\n\\n        toxic       1.00      0.02      0.05      3056\\n severe_toxic       0.00      0.00      0.00       321\\n      obscene       1.00      0.03      0.06      1715\\n       threat       0.00      0.00      0.00        74\\n       insult       0.94      0.01      0.02      1614\\nidentity_hate       0.00      0.00      0.00       294\\n\\n    micro avg       0.99      0.02      0.04      7074\\n    macro avg       0.49      0.01      0.02      7074\\n weighted avg       0.89      0.02      0.04      7074\\n  samples avg       0.00      0.00      0.00      7074\\n'}, 'XGBoost': {'accuracy': 0.9189096036346546, 'classification_report': '               precision    recall  f1-score   support\\n\\n        toxic       0.91      0.60      0.72      3056\\n severe_toxic       0.54      0.24      0.33       321\\n      obscene       0.88      0.70      0.78      1715\\n       threat       0.51      0.24      0.33        74\\n       insult       0.79      0.54      0.64      1614\\nidentity_hate       0.61      0.24      0.34       294\\n\\n    micro avg       0.85      0.57      0.68      7074\\n    macro avg       0.70      0.43      0.52      7074\\n weighted avg       0.84      0.57      0.68      7074\\n  samples avg       0.05      0.05      0.05      7074\\n'}}\n"
          ]
        }
      ],
      "source": [
        "print(results_multi_class)"
      ]
    },
    {
      "cell_type": "markdown",
      "source": [
        "### Applying the model to test dataset"
      ],
      "metadata": {
        "id": "f6xZ_MmnMcT8"
      }
    },
    {
      "cell_type": "code",
      "execution_count": 73,
      "metadata": {
        "id": "KO5XD5Vn6qCQ",
        "outputId": "cbda0be9-d7c7-47c8-9876-6dda65db9eef",
        "colab": {
          "base_uri": "https://localhost:8080/"
        }
      },
      "outputs": [
        {
          "output_type": "stream",
          "name": "stdout",
          "text": [
            "                      id                                       comment_text  \\\n",
            "0       00001cee341fdb12  Yo bitch Ja Rule is more succesful then you'll...   \n",
            "1       0000247867823ef7  == From RfC == \\n\\n The title is fine as it is...   \n",
            "2       00013b17ad220c46  \" \\n\\n == Sources == \\n\\n * Zawe Ashton on Lap...   \n",
            "3       00017563c3f7919a  :If you have a look back at the source, the in...   \n",
            "4       00017695ad8997eb          I don't anonymously edit articles at all.   \n",
            "...                  ...                                                ...   \n",
            "153159  fffcd0960ee309b5  . \\n i totally agree, this stuff is nothing bu...   \n",
            "153160  fffd7a9a6eb32c16  == Throw from out field to home plate. == \\n\\n...   \n",
            "153161  fffda9e8d6fafa9e  \" \\n\\n == Okinotorishima categories == \\n\\n I ...   \n",
            "153162  fffe8f1340a79fc2  \" \\n\\n == \"\"One of the founding nations of the...   \n",
            "153163  ffffce3fb183ee80  \" \\n :::Stop already. Your bullshit is not wel...   \n",
            "\n",
            "        sentence_count  word_count  unique_word_count  letter_count  \\\n",
            "0                    1          72                 61           367   \n",
            "1                    3          12                 11            50   \n",
            "2                    5          12                 10            54   \n",
            "3                    1          38                 30           205   \n",
            "4                    1           7                  7            41   \n",
            "...                ...         ...                ...           ...   \n",
            "153159               2          10                 10            60   \n",
            "153160               5          38                 32           198   \n",
            "153161               9          64                 51           423   \n",
            "153162               5          89                 66           502   \n",
            "153163               2          26                 24           141   \n",
            "\n",
            "        punctuation_count  uppercase_word_count  titlecase_word_count  \\\n",
            "0                      12                     0                     4   \n",
            "1                       6                     1                     2   \n",
            "2                       8                     0                     4   \n",
            "3                       6                     3                     4   \n",
            "4                       2                     1                     1   \n",
            "...                   ...                   ...                   ...   \n",
            "153159                  4                     0                     0   \n",
            "153160                  7                     0                     5   \n",
            "153161                 36                     3                     7   \n",
            "153162                 32                     2                    14   \n",
            "153163                 11                     0                     2   \n",
            "\n",
            "        stopword_count  ...  predicted_multi-class_obscene_Random_Forest  \\\n",
            "0                   26  ...                                            0   \n",
            "1                    5  ...                                            0   \n",
            "2                    1  ...                                            0   \n",
            "3                   22  ...                                            0   \n",
            "4                    3  ...                                            0   \n",
            "...                ...  ...                                          ...   \n",
            "153159               4  ...                                            0   \n",
            "153160              18  ...                                            0   \n",
            "153161              26  ...                                            0   \n",
            "153162              35  ...                                            0   \n",
            "153163              11  ...                                            0   \n",
            "\n",
            "        predicted_multi-class_threat_Random_Forest  \\\n",
            "0                                                0   \n",
            "1                                                0   \n",
            "2                                                0   \n",
            "3                                                0   \n",
            "4                                                0   \n",
            "...                                            ...   \n",
            "153159                                           0   \n",
            "153160                                           0   \n",
            "153161                                           0   \n",
            "153162                                           0   \n",
            "153163                                           0   \n",
            "\n",
            "        predicted_multi-class_insult_Random_Forest  \\\n",
            "0                                                0   \n",
            "1                                                0   \n",
            "2                                                0   \n",
            "3                                                0   \n",
            "4                                                0   \n",
            "...                                            ...   \n",
            "153159                                           0   \n",
            "153160                                           0   \n",
            "153161                                           0   \n",
            "153162                                           0   \n",
            "153163                                           0   \n",
            "\n",
            "       predicted_multi-class_identity_hate_Random_Forest  \\\n",
            "0                                                      0   \n",
            "1                                                      0   \n",
            "2                                                      0   \n",
            "3                                                      0   \n",
            "4                                                      0   \n",
            "...                                                  ...   \n",
            "153159                                                 0   \n",
            "153160                                                 0   \n",
            "153161                                                 0   \n",
            "153162                                                 0   \n",
            "153163                                                 0   \n",
            "\n",
            "        predicted_multi-class_toxic_XGBoost  \\\n",
            "0                                         1   \n",
            "1                                         0   \n",
            "2                                         0   \n",
            "3                                         0   \n",
            "4                                         0   \n",
            "...                                     ...   \n",
            "153159                                    0   \n",
            "153160                                    0   \n",
            "153161                                    0   \n",
            "153162                                    0   \n",
            "153163                                    1   \n",
            "\n",
            "        predicted_multi-class_severe_toxic_XGBoost  \\\n",
            "0                                                0   \n",
            "1                                                0   \n",
            "2                                                0   \n",
            "3                                                0   \n",
            "4                                                0   \n",
            "...                                            ...   \n",
            "153159                                           0   \n",
            "153160                                           0   \n",
            "153161                                           0   \n",
            "153162                                           0   \n",
            "153163                                           0   \n",
            "\n",
            "        predicted_multi-class_obscene_XGBoost  \\\n",
            "0                                           1   \n",
            "1                                           0   \n",
            "2                                           0   \n",
            "3                                           0   \n",
            "4                                           0   \n",
            "...                                       ...   \n",
            "153159                                      0   \n",
            "153160                                      0   \n",
            "153161                                      0   \n",
            "153162                                      0   \n",
            "153163                                      1   \n",
            "\n",
            "        predicted_multi-class_threat_XGBoost  \\\n",
            "0                                          0   \n",
            "1                                          0   \n",
            "2                                          0   \n",
            "3                                          0   \n",
            "4                                          0   \n",
            "...                                      ...   \n",
            "153159                                     0   \n",
            "153160                                     0   \n",
            "153161                                     0   \n",
            "153162                                     0   \n",
            "153163                                     0   \n",
            "\n",
            "        predicted_multi-class_insult_XGBoost  \\\n",
            "0                                          1   \n",
            "1                                          0   \n",
            "2                                          0   \n",
            "3                                          0   \n",
            "4                                          0   \n",
            "...                                      ...   \n",
            "153159                                     0   \n",
            "153160                                     0   \n",
            "153161                                     0   \n",
            "153162                                     0   \n",
            "153163                                     0   \n",
            "\n",
            "        predicted_multi-class_identity_hate_XGBoost  \n",
            "0                                                 0  \n",
            "1                                                 0  \n",
            "2                                                 0  \n",
            "3                                                 0  \n",
            "4                                                 0  \n",
            "...                                             ...  \n",
            "153159                                            0  \n",
            "153160                                            0  \n",
            "153161                                            0  \n",
            "153162                                            0  \n",
            "153163                                            0  \n",
            "\n",
            "[153164 rows x 42 columns]\n"
          ]
        }
      ],
      "source": [
        "print(test_data_features)"
      ]
    },
    {
      "cell_type": "code",
      "execution_count": 74,
      "metadata": {
        "id": "1u5E38Ar6qCQ"
      },
      "outputs": [],
      "source": [
        "# Function to create a \"Predicted Tags\" column for each model\n",
        "def generate_predicted_tags(df, model_names, label_columns):\n",
        "    for model in model_names:\n",
        "        model_cols = [f\"predicted_multi-class_{label}_{model}\" for label in label_columns]\n",
        "        df[f\"predicted_tags_{model}\"] = df[model_cols].apply(\n",
        "            lambda row: \", \".join([label for label, val in zip(label_columns, row) if val == 1]), axis=1\n",
        "        )\n",
        "        # If no labels are predicted, assign 'None'\n",
        "        df[f\"predicted_tags_{model}\"] = df[f\"predicted_tags_{model}\"].replace(\"\", \"None\")\n",
        "\n",
        "# Define model names and label categories\n",
        "model_names = [\"Logistic_Regression\", \"Naive_Bayes\", \"Random_Forest\", \"XGBoost\"]\n",
        "label_columns = [\"toxic\", \"severe_toxic\", \"obscene\", \"threat\", \"insult\", \"identity_hate\"]\n",
        "\n",
        "# Generate predicted tags for each model\n",
        "generate_predicted_tags(test_data_features, model_names, label_columns)"
      ]
    },
    {
      "cell_type": "code",
      "execution_count": 75,
      "metadata": {
        "id": "gC_0HvaZ6qCQ",
        "outputId": "9f7d64d3-a498-4b97-ab00-1272e1dd4bbd",
        "colab": {
          "base_uri": "https://localhost:8080/"
        }
      },
      "outputs": [
        {
          "output_type": "stream",
          "name": "stdout",
          "text": [
            "                      id                                       comment_text  \\\n",
            "0       00001cee341fdb12  Yo bitch Ja Rule is more succesful then you'll...   \n",
            "1       0000247867823ef7  == From RfC == \\n\\n The title is fine as it is...   \n",
            "2       00013b17ad220c46  \" \\n\\n == Sources == \\n\\n * Zawe Ashton on Lap...   \n",
            "3       00017563c3f7919a  :If you have a look back at the source, the in...   \n",
            "4       00017695ad8997eb          I don't anonymously edit articles at all.   \n",
            "...                  ...                                                ...   \n",
            "153159  fffcd0960ee309b5  . \\n i totally agree, this stuff is nothing bu...   \n",
            "153160  fffd7a9a6eb32c16  == Throw from out field to home plate. == \\n\\n...   \n",
            "153161  fffda9e8d6fafa9e  \" \\n\\n == Okinotorishima categories == \\n\\n I ...   \n",
            "153162  fffe8f1340a79fc2  \" \\n\\n == \"\"One of the founding nations of the...   \n",
            "153163  ffffce3fb183ee80  \" \\n :::Stop already. Your bullshit is not wel...   \n",
            "\n",
            "        sentence_count  word_count  unique_word_count  letter_count  \\\n",
            "0                    1          72                 61           367   \n",
            "1                    3          12                 11            50   \n",
            "2                    5          12                 10            54   \n",
            "3                    1          38                 30           205   \n",
            "4                    1           7                  7            41   \n",
            "...                ...         ...                ...           ...   \n",
            "153159               2          10                 10            60   \n",
            "153160               5          38                 32           198   \n",
            "153161               9          64                 51           423   \n",
            "153162               5          89                 66           502   \n",
            "153163               2          26                 24           141   \n",
            "\n",
            "        punctuation_count  uppercase_word_count  titlecase_word_count  \\\n",
            "0                      12                     0                     4   \n",
            "1                       6                     1                     2   \n",
            "2                       8                     0                     4   \n",
            "3                       6                     3                     4   \n",
            "4                       2                     1                     1   \n",
            "...                   ...                   ...                   ...   \n",
            "153159                  4                     0                     0   \n",
            "153160                  7                     0                     5   \n",
            "153161                 36                     3                     7   \n",
            "153162                 32                     2                    14   \n",
            "153163                 11                     0                     2   \n",
            "\n",
            "        stopword_count  ...  predicted_multi-class_toxic_XGBoost  \\\n",
            "0                   26  ...                                    1   \n",
            "1                    5  ...                                    0   \n",
            "2                    1  ...                                    0   \n",
            "3                   22  ...                                    0   \n",
            "4                    3  ...                                    0   \n",
            "...                ...  ...                                  ...   \n",
            "153159               4  ...                                    0   \n",
            "153160              18  ...                                    0   \n",
            "153161              26  ...                                    0   \n",
            "153162              35  ...                                    0   \n",
            "153163              11  ...                                    1   \n",
            "\n",
            "        predicted_multi-class_severe_toxic_XGBoost  \\\n",
            "0                                                0   \n",
            "1                                                0   \n",
            "2                                                0   \n",
            "3                                                0   \n",
            "4                                                0   \n",
            "...                                            ...   \n",
            "153159                                           0   \n",
            "153160                                           0   \n",
            "153161                                           0   \n",
            "153162                                           0   \n",
            "153163                                           0   \n",
            "\n",
            "        predicted_multi-class_obscene_XGBoost  \\\n",
            "0                                           1   \n",
            "1                                           0   \n",
            "2                                           0   \n",
            "3                                           0   \n",
            "4                                           0   \n",
            "...                                       ...   \n",
            "153159                                      0   \n",
            "153160                                      0   \n",
            "153161                                      0   \n",
            "153162                                      0   \n",
            "153163                                      1   \n",
            "\n",
            "       predicted_multi-class_threat_XGBoost  \\\n",
            "0                                         0   \n",
            "1                                         0   \n",
            "2                                         0   \n",
            "3                                         0   \n",
            "4                                         0   \n",
            "...                                     ...   \n",
            "153159                                    0   \n",
            "153160                                    0   \n",
            "153161                                    0   \n",
            "153162                                    0   \n",
            "153163                                    0   \n",
            "\n",
            "        predicted_multi-class_insult_XGBoost  \\\n",
            "0                                          1   \n",
            "1                                          0   \n",
            "2                                          0   \n",
            "3                                          0   \n",
            "4                                          0   \n",
            "...                                      ...   \n",
            "153159                                     0   \n",
            "153160                                     0   \n",
            "153161                                     0   \n",
            "153162                                     0   \n",
            "153163                                     0   \n",
            "\n",
            "        predicted_multi-class_identity_hate_XGBoost  \\\n",
            "0                                                 0   \n",
            "1                                                 0   \n",
            "2                                                 0   \n",
            "3                                                 0   \n",
            "4                                                 0   \n",
            "...                                             ...   \n",
            "153159                                            0   \n",
            "153160                                            0   \n",
            "153161                                            0   \n",
            "153162                                            0   \n",
            "153163                                            0   \n",
            "\n",
            "        predicted_tags_Logistic_Regression  predicted_tags_Naive_Bayes  \\\n",
            "0                   toxic, obscene, insult      toxic, obscene, insult   \n",
            "1                                     None                        None   \n",
            "2                                     None                        None   \n",
            "3                                     None                        None   \n",
            "4                                     None                        None   \n",
            "...                                    ...                         ...   \n",
            "153159                                None                        None   \n",
            "153160                                None                        None   \n",
            "153161                                None                        None   \n",
            "153162                                None                        None   \n",
            "153163                      toxic, obscene                       toxic   \n",
            "\n",
            "        predicted_tags_Random_Forest  predicted_tags_XGBoost  \n",
            "0                               None  toxic, obscene, insult  \n",
            "1                               None                    None  \n",
            "2                               None                    None  \n",
            "3                               None                    None  \n",
            "4                               None                    None  \n",
            "...                              ...                     ...  \n",
            "153159                          None                    None  \n",
            "153160                          None                    None  \n",
            "153161                          None                    None  \n",
            "153162                          None                    None  \n",
            "153163                          None          toxic, obscene  \n",
            "\n",
            "[153164 rows x 46 columns]\n"
          ]
        }
      ],
      "source": [
        "print(test_data_features)"
      ]
    },
    {
      "cell_type": "markdown",
      "source": [
        "### Analysis of multi-label classification"
      ],
      "metadata": {
        "id": "w5AGg9WRNFVG"
      }
    },
    {
      "cell_type": "code",
      "execution_count": 76,
      "metadata": {
        "id": "Eq49Ff4E6qCQ"
      },
      "outputs": [],
      "source": [
        "filtered_df = test_data_features[\n",
        "    (test_data_features[\"predicted_tags_Logistic_Regression\"] != \"None\") |\n",
        "    (test_data_features[\"predicted_tags_Naive_Bayes\"] != \"None\") |\n",
        "    (test_data_features[\"predicted_tags_Random_Forest\"] != \"None\") |\n",
        "    (test_data_features[\"predicted_tags_XGBoost\"] != \"None\")\n",
        "]"
      ]
    },
    {
      "cell_type": "code",
      "source": [
        "print(filtered_df)"
      ],
      "metadata": {
        "id": "cHK_gKgW4ub9",
        "outputId": "6f9f3476-f664-4cca-9468-1f14a1054ac4",
        "colab": {
          "base_uri": "https://localhost:8080/"
        }
      },
      "execution_count": 77,
      "outputs": [
        {
          "output_type": "stream",
          "name": "stdout",
          "text": [
            "                      id                                       comment_text  \\\n",
            "0       00001cee341fdb12  Yo bitch Ja Rule is more succesful then you'll...   \n",
            "7       000247e83dcc1211                   :Dear god this site is horrible.   \n",
            "38      001068b809feee6b  \" \\n\\n ==balance== \\n This page has one senten...   \n",
            "48      0013fed3aeae76b7  DJ Robinson is gay as hell! he sucks his dick ...   \n",
            "56      0016b94c8b20ffa6  I WILL BURN YOU TO HELL IF YOU REVOKE MY TALK ...   \n",
            "...                  ...                                                ...   \n",
            "153151  fff9d70fe0722906  ==Lucky bastard== \\n http://wikimediafoundatio...   \n",
            "153153  fffa3fae1890b40a  \" \\n\\n ==\"\"Illness\"\" no shit== \\n Just for the...   \n",
            "153155  fffac2a094c8e0e2  MEL GIBSON IS A NAZI BITCH WHO MAKES SHITTY MO...   \n",
            "153158  fffc489742ffe69b  This idiot can't even use proper grammar when ...   \n",
            "153163  ffffce3fb183ee80  \" \\n :::Stop already. Your bullshit is not wel...   \n",
            "\n",
            "        sentence_count  word_count  unique_word_count  letter_count  \\\n",
            "0                    1          72                 61           367   \n",
            "7                    1           6                  6            32   \n",
            "38                  37         694                388          4123   \n",
            "48                   1          12                 12            58   \n",
            "56                   1          13                 12            70   \n",
            "...                ...         ...                ...           ...   \n",
            "153151               4          13                 13           181   \n",
            "153153               4          69                 56           382   \n",
            "153155               1          27                 25           137   \n",
            "153158               1          11                 11            63   \n",
            "153163               2          26                 24           141   \n",
            "\n",
            "        punctuation_count  uppercase_word_count  titlecase_word_count  \\\n",
            "0                      12                     0                     4   \n",
            "7                       2                     0                     1   \n",
            "38                    221                    13                    69   \n",
            "48                      6                     1                     1   \n",
            "56                     13                    13                     1   \n",
            "...                   ...                   ...                   ...   \n",
            "153151                 20                     1                     4   \n",
            "153153                 25                     1                     4   \n",
            "153155                  2                    27                     2   \n",
            "153158                  2                     0                     1   \n",
            "153163                 11                     0                     2   \n",
            "\n",
            "        stopword_count  ...  predicted_multi-class_toxic_XGBoost  \\\n",
            "0                   26  ...                                    1   \n",
            "7                    2  ...                                    0   \n",
            "38                 326  ...                                    0   \n",
            "48                   5  ...                                    1   \n",
            "56                   7  ...                                    1   \n",
            "...                ...  ...                                  ...   \n",
            "153151               3  ...                                    0   \n",
            "153153              34  ...                                    1   \n",
            "153155              13  ...                                    1   \n",
            "153158               3  ...                                    1   \n",
            "153163              11  ...                                    1   \n",
            "\n",
            "        predicted_multi-class_severe_toxic_XGBoost  \\\n",
            "0                                                0   \n",
            "7                                                0   \n",
            "38                                               0   \n",
            "48                                               0   \n",
            "56                                               0   \n",
            "...                                            ...   \n",
            "153151                                           0   \n",
            "153153                                           0   \n",
            "153155                                           0   \n",
            "153158                                           0   \n",
            "153163                                           0   \n",
            "\n",
            "        predicted_multi-class_obscene_XGBoost  \\\n",
            "0                                           1   \n",
            "7                                           0   \n",
            "38                                          0   \n",
            "48                                          1   \n",
            "56                                          0   \n",
            "...                                       ...   \n",
            "153151                                      0   \n",
            "153153                                      0   \n",
            "153155                                      1   \n",
            "153158                                      0   \n",
            "153163                                      1   \n",
            "\n",
            "       predicted_multi-class_threat_XGBoost  \\\n",
            "0                                         0   \n",
            "7                                         0   \n",
            "38                                        0   \n",
            "48                                        0   \n",
            "56                                        0   \n",
            "...                                     ...   \n",
            "153151                                    0   \n",
            "153153                                    0   \n",
            "153155                                    0   \n",
            "153158                                    0   \n",
            "153163                                    0   \n",
            "\n",
            "        predicted_multi-class_insult_XGBoost  \\\n",
            "0                                          1   \n",
            "7                                          0   \n",
            "38                                         0   \n",
            "48                                         1   \n",
            "56                                         0   \n",
            "...                                      ...   \n",
            "153151                                     0   \n",
            "153153                                     0   \n",
            "153155                                     1   \n",
            "153158                                     1   \n",
            "153163                                     0   \n",
            "\n",
            "        predicted_multi-class_identity_hate_XGBoost  \\\n",
            "0                                                 0   \n",
            "7                                                 0   \n",
            "38                                                0   \n",
            "48                                                0   \n",
            "56                                                0   \n",
            "...                                             ...   \n",
            "153151                                            0   \n",
            "153153                                            0   \n",
            "153155                                            0   \n",
            "153158                                            0   \n",
            "153163                                            0   \n",
            "\n",
            "        predicted_tags_Logistic_Regression  predicted_tags_Naive_Bayes  \\\n",
            "0                   toxic, obscene, insult      toxic, obscene, insult   \n",
            "7                                    toxic                        None   \n",
            "38                  toxic, obscene, insult                        None   \n",
            "48                  toxic, obscene, insult      toxic, obscene, insult   \n",
            "56                                   toxic                        None   \n",
            "...                                    ...                         ...   \n",
            "153151                                None                       toxic   \n",
            "153153                               toxic                        None   \n",
            "153155              toxic, obscene, insult      toxic, obscene, insult   \n",
            "153158                               toxic                        None   \n",
            "153163                      toxic, obscene                       toxic   \n",
            "\n",
            "        predicted_tags_Random_Forest  predicted_tags_XGBoost  \n",
            "0                               None  toxic, obscene, insult  \n",
            "7                               None                    None  \n",
            "38                              None                    None  \n",
            "48                              None  toxic, obscene, insult  \n",
            "56                              None                   toxic  \n",
            "...                              ...                     ...  \n",
            "153151                          None                    None  \n",
            "153153                          None                   toxic  \n",
            "153155                          None  toxic, obscene, insult  \n",
            "153158                          None           toxic, insult  \n",
            "153163                          None          toxic, obscene  \n",
            "\n",
            "[30782 rows x 46 columns]\n"
          ]
        }
      ]
    },
    {
      "cell_type": "code",
      "execution_count": 78,
      "metadata": {
        "id": "zazyYoAH6qCQ",
        "outputId": "d8515e0f-aa77-4623-c55f-65a957d5a402",
        "colab": {
          "base_uri": "https://localhost:8080/"
        }
      },
      "outputs": [
        {
          "output_type": "stream",
          "name": "stdout",
          "text": [
            "                      id                                       comment_text  \\\n",
            "0       00001cee341fdb12  Yo bitch Ja Rule is more succesful then you'll...   \n",
            "7       000247e83dcc1211                   :Dear god this site is horrible.   \n",
            "38      001068b809feee6b  \" \\n\\n ==balance== \\n This page has one senten...   \n",
            "48      0013fed3aeae76b7  DJ Robinson is gay as hell! he sucks his dick ...   \n",
            "56      0016b94c8b20ffa6  I WILL BURN YOU TO HELL IF YOU REVOKE MY TALK ...   \n",
            "...                  ...                                                ...   \n",
            "153143  fff6ad63666fb304                                 Ah, suck my balls.   \n",
            "153153  fffa3fae1890b40a  \" \\n\\n ==\"\"Illness\"\" no shit== \\n Just for the...   \n",
            "153155  fffac2a094c8e0e2  MEL GIBSON IS A NAZI BITCH WHO MAKES SHITTY MO...   \n",
            "153158  fffc489742ffe69b  This idiot can't even use proper grammar when ...   \n",
            "153163  ffffce3fb183ee80  \" \\n :::Stop already. Your bullshit is not wel...   \n",
            "\n",
            "        sentence_count  word_count  unique_word_count  letter_count  \\\n",
            "0                    1          72                 61           367   \n",
            "7                    1           6                  6            32   \n",
            "38                  37         694                388          4123   \n",
            "48                   1          12                 12            58   \n",
            "56                   1          13                 12            70   \n",
            "...                ...         ...                ...           ...   \n",
            "153143               1           4                  4            18   \n",
            "153153               4          69                 56           382   \n",
            "153155               1          27                 25           137   \n",
            "153158               1          11                 11            63   \n",
            "153163               2          26                 24           141   \n",
            "\n",
            "        punctuation_count  uppercase_word_count  titlecase_word_count  \\\n",
            "0                      12                     0                     4   \n",
            "7                       2                     0                     1   \n",
            "38                    221                    13                    69   \n",
            "48                      6                     1                     1   \n",
            "56                     13                    13                     1   \n",
            "...                   ...                   ...                   ...   \n",
            "153143                  2                     0                     1   \n",
            "153153                 25                     1                     4   \n",
            "153155                  2                    27                     2   \n",
            "153158                  2                     0                     1   \n",
            "153163                 11                     0                     2   \n",
            "\n",
            "        stopword_count  ...  predicted_multi-class_toxic_XGBoost  \\\n",
            "0                   26  ...                                    1   \n",
            "7                    2  ...                                    0   \n",
            "38                 326  ...                                    0   \n",
            "48                   5  ...                                    1   \n",
            "56                   7  ...                                    1   \n",
            "...                ...  ...                                  ...   \n",
            "153143               1  ...                                    1   \n",
            "153153              34  ...                                    1   \n",
            "153155              13  ...                                    1   \n",
            "153158               3  ...                                    1   \n",
            "153163              11  ...                                    1   \n",
            "\n",
            "        predicted_multi-class_severe_toxic_XGBoost  \\\n",
            "0                                                0   \n",
            "7                                                0   \n",
            "38                                               0   \n",
            "48                                               0   \n",
            "56                                               0   \n",
            "...                                            ...   \n",
            "153143                                           0   \n",
            "153153                                           0   \n",
            "153155                                           0   \n",
            "153158                                           0   \n",
            "153163                                           0   \n",
            "\n",
            "        predicted_multi-class_obscene_XGBoost  \\\n",
            "0                                           1   \n",
            "7                                           0   \n",
            "38                                          0   \n",
            "48                                          1   \n",
            "56                                          0   \n",
            "...                                       ...   \n",
            "153143                                      1   \n",
            "153153                                      0   \n",
            "153155                                      1   \n",
            "153158                                      0   \n",
            "153163                                      1   \n",
            "\n",
            "       predicted_multi-class_threat_XGBoost  \\\n",
            "0                                         0   \n",
            "7                                         0   \n",
            "38                                        0   \n",
            "48                                        0   \n",
            "56                                        0   \n",
            "...                                     ...   \n",
            "153143                                    0   \n",
            "153153                                    0   \n",
            "153155                                    0   \n",
            "153158                                    0   \n",
            "153163                                    0   \n",
            "\n",
            "        predicted_multi-class_insult_XGBoost  \\\n",
            "0                                          1   \n",
            "7                                          0   \n",
            "38                                         0   \n",
            "48                                         1   \n",
            "56                                         0   \n",
            "...                                      ...   \n",
            "153143                                     1   \n",
            "153153                                     0   \n",
            "153155                                     1   \n",
            "153158                                     1   \n",
            "153163                                     0   \n",
            "\n",
            "        predicted_multi-class_identity_hate_XGBoost  \\\n",
            "0                                                 0   \n",
            "7                                                 0   \n",
            "38                                                0   \n",
            "48                                                0   \n",
            "56                                                0   \n",
            "...                                             ...   \n",
            "153143                                            0   \n",
            "153153                                            0   \n",
            "153155                                            0   \n",
            "153158                                            0   \n",
            "153163                                            0   \n",
            "\n",
            "        predicted_tags_Logistic_Regression  predicted_tags_Naive_Bayes  \\\n",
            "0                   toxic, obscene, insult      toxic, obscene, insult   \n",
            "7                                    toxic                        None   \n",
            "38                  toxic, obscene, insult                        None   \n",
            "48                  toxic, obscene, insult      toxic, obscene, insult   \n",
            "56                                   toxic                        None   \n",
            "...                                    ...                         ...   \n",
            "153143              toxic, obscene, insult      toxic, obscene, insult   \n",
            "153153                               toxic                        None   \n",
            "153155              toxic, obscene, insult      toxic, obscene, insult   \n",
            "153158                               toxic                        None   \n",
            "153163                      toxic, obscene                       toxic   \n",
            "\n",
            "        predicted_tags_Random_Forest  predicted_tags_XGBoost  \n",
            "0                               None  toxic, obscene, insult  \n",
            "7                               None                    None  \n",
            "38                              None                    None  \n",
            "48                              None  toxic, obscene, insult  \n",
            "56                              None                   toxic  \n",
            "...                              ...                     ...  \n",
            "153143                          None  toxic, obscene, insult  \n",
            "153153                          None                   toxic  \n",
            "153155                          None  toxic, obscene, insult  \n",
            "153158                          None           toxic, insult  \n",
            "153163                          None          toxic, obscene  \n",
            "\n",
            "[25070 rows x 46 columns]\n"
          ]
        }
      ],
      "source": [
        "print(test_data_features[(test_data_features[\"predicted_tags_Logistic_Regression\"] != \"None\")])"
      ]
    },
    {
      "cell_type": "code",
      "execution_count": 79,
      "metadata": {
        "id": "WvFREBig6qCQ",
        "outputId": "02ceaea2-e624-4c0a-dc8a-2e92f089bf73",
        "colab": {
          "base_uri": "https://localhost:8080/"
        }
      },
      "outputs": [
        {
          "output_type": "stream",
          "name": "stdout",
          "text": [
            "                      id                                       comment_text  \\\n",
            "0       00001cee341fdb12  Yo bitch Ja Rule is more succesful then you'll...   \n",
            "48      0013fed3aeae76b7  DJ Robinson is gay as hell! he sucks his dick ...   \n",
            "59      0017d4d47894af05               :Fuck off, you anti-semitic cunt.  |   \n",
            "70      001c86f5bceccb32  == Hello == \\n\\n Fuck off my Pagan you barebac...   \n",
            "78      001e131e1a08845a                   knock it off you bloody CWI trot   \n",
            "...                  ...                                                ...   \n",
            "153130  fff1dd4a6af69113                  NE2 is an asshole, this proves it   \n",
            "153143  fff6ad63666fb304                                 Ah, suck my balls.   \n",
            "153151  fff9d70fe0722906  ==Lucky bastard== \\n http://wikimediafoundatio...   \n",
            "153155  fffac2a094c8e0e2  MEL GIBSON IS A NAZI BITCH WHO MAKES SHITTY MO...   \n",
            "153163  ffffce3fb183ee80  \" \\n :::Stop already. Your bullshit is not wel...   \n",
            "\n",
            "        sentence_count  word_count  unique_word_count  letter_count  \\\n",
            "0                    1          72                 61           367   \n",
            "48                   1          12                 12            58   \n",
            "59                   1           6                  6            36   \n",
            "70                   3          12                 11            63   \n",
            "78                   1           7                  7            32   \n",
            "...                ...         ...                ...           ...   \n",
            "153130               1           7                  7            33   \n",
            "153143               1           4                  4            18   \n",
            "153151               4          13                 13           181   \n",
            "153155               1          27                 25           137   \n",
            "153163               2          26                 24           141   \n",
            "\n",
            "        punctuation_count  uppercase_word_count  titlecase_word_count  \\\n",
            "0                      12                     0                     4   \n",
            "48                      6                     1                     1   \n",
            "59                      5                     0                     1   \n",
            "70                      5                     0                     3   \n",
            "78                      0                     1                     0   \n",
            "...                   ...                   ...                   ...   \n",
            "153130                  1                     1                     0   \n",
            "153143                  2                     0                     1   \n",
            "153151                 20                     1                     4   \n",
            "153155                  2                    27                     2   \n",
            "153163                 11                     0                     2   \n",
            "\n",
            "        stopword_count  ...  predicted_multi-class_toxic_XGBoost  \\\n",
            "0                   26  ...                                    1   \n",
            "48                   5  ...                                    1   \n",
            "59                   1  ...                                    1   \n",
            "70                   3  ...                                    1   \n",
            "78                   3  ...                                    0   \n",
            "...                ...  ...                                  ...   \n",
            "153130               4  ...                                    1   \n",
            "153143               1  ...                                    1   \n",
            "153151               3  ...                                    0   \n",
            "153155              13  ...                                    1   \n",
            "153163              11  ...                                    1   \n",
            "\n",
            "        predicted_multi-class_severe_toxic_XGBoost  \\\n",
            "0                                                0   \n",
            "48                                               0   \n",
            "59                                               0   \n",
            "70                                               1   \n",
            "78                                               0   \n",
            "...                                            ...   \n",
            "153130                                           0   \n",
            "153143                                           0   \n",
            "153151                                           0   \n",
            "153155                                           0   \n",
            "153163                                           0   \n",
            "\n",
            "        predicted_multi-class_obscene_XGBoost  \\\n",
            "0                                           1   \n",
            "48                                          1   \n",
            "59                                          1   \n",
            "70                                          1   \n",
            "78                                          0   \n",
            "...                                       ...   \n",
            "153130                                      1   \n",
            "153143                                      1   \n",
            "153151                                      0   \n",
            "153155                                      1   \n",
            "153163                                      1   \n",
            "\n",
            "       predicted_multi-class_threat_XGBoost  \\\n",
            "0                                         0   \n",
            "48                                        0   \n",
            "59                                        0   \n",
            "70                                        0   \n",
            "78                                        0   \n",
            "...                                     ...   \n",
            "153130                                    0   \n",
            "153143                                    0   \n",
            "153151                                    0   \n",
            "153155                                    0   \n",
            "153163                                    0   \n",
            "\n",
            "        predicted_multi-class_insult_XGBoost  \\\n",
            "0                                          1   \n",
            "48                                         1   \n",
            "59                                         1   \n",
            "70                                         1   \n",
            "78                                         0   \n",
            "...                                      ...   \n",
            "153130                                     1   \n",
            "153143                                     1   \n",
            "153151                                     0   \n",
            "153155                                     1   \n",
            "153163                                     0   \n",
            "\n",
            "        predicted_multi-class_identity_hate_XGBoost  \\\n",
            "0                                                 0   \n",
            "48                                                0   \n",
            "59                                                0   \n",
            "70                                                0   \n",
            "78                                                0   \n",
            "...                                             ...   \n",
            "153130                                            0   \n",
            "153143                                            0   \n",
            "153151                                            0   \n",
            "153155                                            0   \n",
            "153163                                            0   \n",
            "\n",
            "        predicted_tags_Logistic_Regression  predicted_tags_Naive_Bayes  \\\n",
            "0                   toxic, obscene, insult      toxic, obscene, insult   \n",
            "48                  toxic, obscene, insult      toxic, obscene, insult   \n",
            "59                  toxic, obscene, insult      toxic, obscene, insult   \n",
            "70                  toxic, obscene, insult      toxic, obscene, insult   \n",
            "78                                    None                       toxic   \n",
            "...                                    ...                         ...   \n",
            "153130              toxic, obscene, insult                       toxic   \n",
            "153143              toxic, obscene, insult      toxic, obscene, insult   \n",
            "153151                                None                       toxic   \n",
            "153155              toxic, obscene, insult      toxic, obscene, insult   \n",
            "153163                      toxic, obscene                       toxic   \n",
            "\n",
            "        predicted_tags_Random_Forest                predicted_tags_XGBoost  \n",
            "0                               None                toxic, obscene, insult  \n",
            "48                              None                toxic, obscene, insult  \n",
            "59                              None                toxic, obscene, insult  \n",
            "70                              None  toxic, severe_toxic, obscene, insult  \n",
            "78                              None                                  None  \n",
            "...                              ...                                   ...  \n",
            "153130                          None                toxic, obscene, insult  \n",
            "153143                          None                toxic, obscene, insult  \n",
            "153151                          None                                  None  \n",
            "153155                          None                toxic, obscene, insult  \n",
            "153163                          None                        toxic, obscene  \n",
            "\n",
            "[18695 rows x 46 columns]\n"
          ]
        }
      ],
      "source": [
        "print(test_data_features[(test_data_features[\"predicted_tags_Naive_Bayes\"] != \"None\")])"
      ]
    },
    {
      "cell_type": "code",
      "execution_count": 80,
      "metadata": {
        "id": "s7pxrm9I6qCR",
        "outputId": "5da2247d-35ed-4801-f9ff-4fada2a21cc9",
        "colab": {
          "base_uri": "https://localhost:8080/"
        }
      },
      "outputs": [
        {
          "output_type": "stream",
          "name": "stdout",
          "text": [
            "                      id                                       comment_text  \\\n",
            "481     00cb2e7eeb88fdb8  Fuck you bitch dick ass dumb fuck dddooodoodbn...   \n",
            "975     01a486143daf1fc6  go to court? \\n  Shit, cause the judge look ju...   \n",
            "1640    02c76a33e6664ca7  shut the fuck up u stupid nigger cunt mother f...   \n",
            "1995    036eb10c00821620  You crackers will never stop me! \\n Just becau...   \n",
            "2182    03c6344729c4e665  Azerbaijanis Proud of Ramil Safarov  \\n If I h...   \n",
            "...                  ...                                                ...   \n",
            "152362  fea09a99e295ce8c  == You got a minute? == \\n\\n Or are you too bu...   \n",
            "152616  ff120ce8b7c16e9e  ==Miami High Next Target== \\n\\n Eric David har...   \n",
            "152665  ff26bb298c415077                           suck dick and lick pussy   \n",
            "152788  ff5ac35abcbba900  == more to come == \\n\\n yeah fucker- got any e...   \n",
            "153106  ffe78632f5c25377  youshit dick cock fuckshit dick cock fuck shit...   \n",
            "\n",
            "        sentence_count  word_count  unique_word_count  letter_count  \\\n",
            "481                  1          10                 10            61   \n",
            "975                  9          42                 32           227   \n",
            "1640                 1          10                 10            71   \n",
            "1995                 5          93                 78           507   \n",
            "2182                 2          50                 44           330   \n",
            "...                ...         ...                ...           ...   \n",
            "152362               3          18                 16            90   \n",
            "152616               4         144                 99           792   \n",
            "152665               1           5                  5            24   \n",
            "152788               4          44                 37           236   \n",
            "153106               1         340                  6          1878   \n",
            "\n",
            "        punctuation_count  uppercase_word_count  titlecase_word_count  \\\n",
            "481                     0                     0                     1   \n",
            "975                     7                     0                     8   \n",
            "1640                   20                     0                     0   \n",
            "1995                   22                    43                     5   \n",
            "2182                    6                     2                    11   \n",
            "...                   ...                   ...                   ...   \n",
            "152362                  5                     0                     2   \n",
            "152616                 58                    12                    19   \n",
            "152665                  0                     0                     0   \n",
            "152788                 12                     0                     2   \n",
            "153106                  0                     0                     0   \n",
            "\n",
            "        stopword_count  ...  predicted_multi-class_toxic_XGBoost  \\\n",
            "481                  1  ...                                    1   \n",
            "975                 18  ...                                    0   \n",
            "1640                 2  ...                                    1   \n",
            "1995                47  ...                                    1   \n",
            "2182                18  ...                                    1   \n",
            "...                ...  ...                                  ...   \n",
            "152362               8  ...                                    1   \n",
            "152616              53  ...                                    1   \n",
            "152665               1  ...                                    1   \n",
            "152788              18  ...                                    1   \n",
            "153106               0  ...                                    1   \n",
            "\n",
            "        predicted_multi-class_severe_toxic_XGBoost  \\\n",
            "481                                              1   \n",
            "975                                              0   \n",
            "1640                                             1   \n",
            "1995                                             0   \n",
            "2182                                             0   \n",
            "...                                            ...   \n",
            "152362                                           1   \n",
            "152616                                           1   \n",
            "152665                                           1   \n",
            "152788                                           0   \n",
            "153106                                           1   \n",
            "\n",
            "        predicted_multi-class_obscene_XGBoost  \\\n",
            "481                                         1   \n",
            "975                                         1   \n",
            "1640                                        1   \n",
            "1995                                        1   \n",
            "2182                                        1   \n",
            "...                                       ...   \n",
            "152362                                      1   \n",
            "152616                                      1   \n",
            "152665                                      1   \n",
            "152788                                      1   \n",
            "153106                                      1   \n",
            "\n",
            "       predicted_multi-class_threat_XGBoost  \\\n",
            "481                                       0   \n",
            "975                                       0   \n",
            "1640                                      0   \n",
            "1995                                      0   \n",
            "2182                                      0   \n",
            "...                                     ...   \n",
            "152362                                    0   \n",
            "152616                                    1   \n",
            "152665                                    0   \n",
            "152788                                    0   \n",
            "153106                                    0   \n",
            "\n",
            "        predicted_multi-class_insult_XGBoost  \\\n",
            "481                                        1   \n",
            "975                                        0   \n",
            "1640                                       1   \n",
            "1995                                       1   \n",
            "2182                                       1   \n",
            "...                                      ...   \n",
            "152362                                     1   \n",
            "152616                                     1   \n",
            "152665                                     1   \n",
            "152788                                     1   \n",
            "153106                                     1   \n",
            "\n",
            "        predicted_multi-class_identity_hate_XGBoost  \\\n",
            "481                                               0   \n",
            "975                                               0   \n",
            "1640                                              1   \n",
            "1995                                              1   \n",
            "2182                                              0   \n",
            "...                                             ...   \n",
            "152362                                            1   \n",
            "152616                                            0   \n",
            "152665                                            0   \n",
            "152788                                            0   \n",
            "153106                                            0   \n",
            "\n",
            "                       predicted_tags_Logistic_Regression  \\\n",
            "481                  toxic, severe_toxic, obscene, insult   \n",
            "975                 toxic, obscene, insult, identity_hate   \n",
            "1640    toxic, severe_toxic, obscene, insult, identity...   \n",
            "1995                               toxic, obscene, insult   \n",
            "2182                 toxic, severe_toxic, obscene, insult   \n",
            "...                                                   ...   \n",
            "152362  toxic, severe_toxic, obscene, insult, identity...   \n",
            "152616       toxic, severe_toxic, obscene, threat, insult   \n",
            "152665                             toxic, obscene, insult   \n",
            "152788                             toxic, obscene, insult   \n",
            "153106               toxic, severe_toxic, obscene, insult   \n",
            "\n",
            "        predicted_tags_Naive_Bayes  predicted_tags_Random_Forest  \\\n",
            "481         toxic, obscene, insult                         toxic   \n",
            "975         toxic, obscene, insult                       obscene   \n",
            "1640        toxic, obscene, insult        toxic, obscene, insult   \n",
            "1995        toxic, obscene, insult                       obscene   \n",
            "2182        toxic, obscene, insult                toxic, obscene   \n",
            "...                            ...                           ...   \n",
            "152362      toxic, obscene, insult                toxic, obscene   \n",
            "152616      toxic, obscene, insult                         toxic   \n",
            "152665      toxic, obscene, insult                toxic, obscene   \n",
            "152788      toxic, obscene, insult                toxic, obscene   \n",
            "153106      toxic, obscene, insult                toxic, obscene   \n",
            "\n",
            "                                   predicted_tags_XGBoost  \n",
            "481                  toxic, severe_toxic, obscene, insult  \n",
            "975                                               obscene  \n",
            "1640    toxic, severe_toxic, obscene, insult, identity...  \n",
            "1995                toxic, obscene, insult, identity_hate  \n",
            "2182                               toxic, obscene, insult  \n",
            "...                                                   ...  \n",
            "152362  toxic, severe_toxic, obscene, insult, identity...  \n",
            "152616       toxic, severe_toxic, obscene, threat, insult  \n",
            "152665               toxic, severe_toxic, obscene, insult  \n",
            "152788                             toxic, obscene, insult  \n",
            "153106               toxic, severe_toxic, obscene, insult  \n",
            "\n",
            "[559 rows x 46 columns]\n"
          ]
        }
      ],
      "source": [
        "print(test_data_features[(test_data_features[\"predicted_tags_Random_Forest\"] != \"None\")])"
      ]
    },
    {
      "cell_type": "code",
      "execution_count": 81,
      "metadata": {
        "id": "yc710ioe6qCR",
        "outputId": "a958065b-8571-48cc-d8d3-6e37ad76547a",
        "colab": {
          "base_uri": "https://localhost:8080/"
        }
      },
      "outputs": [
        {
          "output_type": "stream",
          "name": "stdout",
          "text": [
            "                      id                                       comment_text  \\\n",
            "0       00001cee341fdb12  Yo bitch Ja Rule is more succesful then you'll...   \n",
            "48      0013fed3aeae76b7  DJ Robinson is gay as hell! he sucks his dick ...   \n",
            "56      0016b94c8b20ffa6  I WILL BURN YOU TO HELL IF YOU REVOKE MY TALK ...   \n",
            "59      0017d4d47894af05               :Fuck off, you anti-semitic cunt.  |   \n",
            "70      001c86f5bceccb32  == Hello == \\n\\n Fuck off my Pagan you barebac...   \n",
            "...                  ...                                                ...   \n",
            "153149  fff8f521a7dbcd47  shut down the mexican border withought looking...   \n",
            "153153  fffa3fae1890b40a  \" \\n\\n ==\"\"Illness\"\" no shit== \\n Just for the...   \n",
            "153155  fffac2a094c8e0e2  MEL GIBSON IS A NAZI BITCH WHO MAKES SHITTY MO...   \n",
            "153158  fffc489742ffe69b  This idiot can't even use proper grammar when ...   \n",
            "153163  ffffce3fb183ee80  \" \\n :::Stop already. Your bullshit is not wel...   \n",
            "\n",
            "        sentence_count  word_count  unique_word_count  letter_count  \\\n",
            "0                    1          72                 61           367   \n",
            "48                   1          12                 12            58   \n",
            "56                   1          13                 12            70   \n",
            "59                   1           6                  6            36   \n",
            "70                   3          12                 11            63   \n",
            "...                ...         ...                ...           ...   \n",
            "153149               1           8                  8            51   \n",
            "153153               4          69                 56           382   \n",
            "153155               1          27                 25           137   \n",
            "153158               1          11                 11            63   \n",
            "153163               2          26                 24           141   \n",
            "\n",
            "        punctuation_count  uppercase_word_count  titlecase_word_count  \\\n",
            "0                      12                     0                     4   \n",
            "48                      6                     1                     1   \n",
            "56                     13                    13                     1   \n",
            "59                      5                     0                     1   \n",
            "70                      5                     0                     3   \n",
            "...                   ...                   ...                   ...   \n",
            "153149                  1                     0                     0   \n",
            "153153                 25                     1                     4   \n",
            "153155                  2                    27                     2   \n",
            "153158                  2                     0                     1   \n",
            "153163                 11                     0                     2   \n",
            "\n",
            "        stopword_count  ...  predicted_multi-class_toxic_XGBoost  \\\n",
            "0                   26  ...                                    1   \n",
            "48                   5  ...                                    1   \n",
            "56                   7  ...                                    1   \n",
            "59                   1  ...                                    1   \n",
            "70                   3  ...                                    1   \n",
            "...                ...  ...                                  ...   \n",
            "153149               2  ...                                    1   \n",
            "153153              34  ...                                    1   \n",
            "153155              13  ...                                    1   \n",
            "153158               3  ...                                    1   \n",
            "153163              11  ...                                    1   \n",
            "\n",
            "        predicted_multi-class_severe_toxic_XGBoost  \\\n",
            "0                                                0   \n",
            "48                                               0   \n",
            "56                                               0   \n",
            "59                                               0   \n",
            "70                                               1   \n",
            "...                                            ...   \n",
            "153149                                           0   \n",
            "153153                                           0   \n",
            "153155                                           0   \n",
            "153158                                           0   \n",
            "153163                                           0   \n",
            "\n",
            "        predicted_multi-class_obscene_XGBoost  \\\n",
            "0                                           1   \n",
            "48                                          1   \n",
            "56                                          0   \n",
            "59                                          1   \n",
            "70                                          1   \n",
            "...                                       ...   \n",
            "153149                                      0   \n",
            "153153                                      0   \n",
            "153155                                      1   \n",
            "153158                                      0   \n",
            "153163                                      1   \n",
            "\n",
            "       predicted_multi-class_threat_XGBoost  \\\n",
            "0                                         0   \n",
            "48                                        0   \n",
            "56                                        0   \n",
            "59                                        0   \n",
            "70                                        0   \n",
            "...                                     ...   \n",
            "153149                                    0   \n",
            "153153                                    0   \n",
            "153155                                    0   \n",
            "153158                                    0   \n",
            "153163                                    0   \n",
            "\n",
            "        predicted_multi-class_insult_XGBoost  \\\n",
            "0                                          1   \n",
            "48                                         1   \n",
            "56                                         0   \n",
            "59                                         1   \n",
            "70                                         1   \n",
            "...                                      ...   \n",
            "153149                                     0   \n",
            "153153                                     0   \n",
            "153155                                     1   \n",
            "153158                                     1   \n",
            "153163                                     0   \n",
            "\n",
            "        predicted_multi-class_identity_hate_XGBoost  \\\n",
            "0                                                 0   \n",
            "48                                                0   \n",
            "56                                                0   \n",
            "59                                                0   \n",
            "70                                                0   \n",
            "...                                             ...   \n",
            "153149                                            0   \n",
            "153153                                            0   \n",
            "153155                                            0   \n",
            "153158                                            0   \n",
            "153163                                            0   \n",
            "\n",
            "        predicted_tags_Logistic_Regression  predicted_tags_Naive_Bayes  \\\n",
            "0                   toxic, obscene, insult      toxic, obscene, insult   \n",
            "48                  toxic, obscene, insult      toxic, obscene, insult   \n",
            "56                                   toxic                        None   \n",
            "59                  toxic, obscene, insult      toxic, obscene, insult   \n",
            "70                  toxic, obscene, insult      toxic, obscene, insult   \n",
            "...                                    ...                         ...   \n",
            "153149                                None                        None   \n",
            "153153                               toxic                        None   \n",
            "153155              toxic, obscene, insult      toxic, obscene, insult   \n",
            "153158                               toxic                        None   \n",
            "153163                      toxic, obscene                       toxic   \n",
            "\n",
            "        predicted_tags_Random_Forest                predicted_tags_XGBoost  \n",
            "0                               None                toxic, obscene, insult  \n",
            "48                              None                toxic, obscene, insult  \n",
            "56                              None                                 toxic  \n",
            "59                              None                toxic, obscene, insult  \n",
            "70                              None  toxic, severe_toxic, obscene, insult  \n",
            "...                              ...                                   ...  \n",
            "153149                          None                                 toxic  \n",
            "153153                          None                                 toxic  \n",
            "153155                          None                toxic, obscene, insult  \n",
            "153158                          None                         toxic, insult  \n",
            "153163                          None                        toxic, obscene  \n",
            "\n",
            "[25694 rows x 46 columns]\n"
          ]
        }
      ],
      "source": [
        "print(test_data_features[(test_data_features[\"predicted_tags_XGBoost\"] != \"None\")])"
      ]
    }
  ],
  "metadata": {
    "kernelspec": {
      "display_name": "Python 3",
      "language": "python",
      "name": "python3"
    },
    "language_info": {
      "codemirror_mode": {
        "name": "ipython",
        "version": 3
      },
      "file_extension": ".py",
      "mimetype": "text/x-python",
      "name": "python",
      "nbconvert_exporter": "python",
      "pygments_lexer": "ipython3",
      "version": "3.13.1"
    },
    "colab": {
      "provenance": []
    }
  },
  "nbformat": 4,
  "nbformat_minor": 0
}