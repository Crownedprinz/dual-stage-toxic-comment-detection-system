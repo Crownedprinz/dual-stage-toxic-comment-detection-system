{
  "cells": [
    {
      "cell_type": "code",
      "execution_count": 1,
      "metadata": {
        "id": "9KdxIzsB1Yy6"
      },
      "outputs": [],
      "source": [
        "import os"
      ]
    },
    {
      "cell_type": "markdown",
      "source": [
        "# Exploratory Data Analysis"
      ],
      "metadata": {
        "id": "9Qg9buCpEg7l"
      }
    },
    {
      "cell_type": "code",
      "execution_count": 10,
      "metadata": {
        "id": "ChqSPpbw6qB8"
      },
      "outputs": [],
      "source": [
        "import pandas as pd\n",
        "import numpy as np\n",
        "import matplotlib.pyplot as plt\n",
        "import seaborn as sns"
      ]
    },
    {
      "cell_type": "code",
      "execution_count": 11,
      "metadata": {
        "id": "iytF78o76qB-"
      },
      "outputs": [],
      "source": [
        "import nltk\n",
        "from nltk.corpus import stopwords"
      ]
    },
    {
      "cell_type": "code",
      "execution_count": 12,
      "metadata": {
        "id": "OXPDIRW96qB-",
        "outputId": "5726fc6c-8501-40f8-b79b-fa260db170e4",
        "colab": {
          "base_uri": "https://localhost:8080/"
        }
      },
      "outputs": [
        {
          "output_type": "stream",
          "name": "stderr",
          "text": [
            "[nltk_data] Downloading package stopwords to /root/nltk_data...\n",
            "[nltk_data]   Unzipping corpora/stopwords.zip.\n"
          ]
        },
        {
          "output_type": "execute_result",
          "data": {
            "text/plain": [
              "True"
            ]
          },
          "metadata": {},
          "execution_count": 12
        }
      ],
      "source": [
        "nltk.download('stopwords')"
      ]
    },
    {
      "cell_type": "code",
      "execution_count": 14,
      "metadata": {
        "id": "vV73u_Ze6qB_"
      },
      "outputs": [],
      "source": [
        "train_df = pd.read_csv(r\"/content/dual-stage-toxic-comment-detection-system/raw_data/jigsaw-toxic-comment-classification-challenge/train/train.csv\")\n",
        "test_df = pd.read_csv(r\"/content/dual-stage-toxic-comment-detection-system/raw_data/jigsaw-toxic-comment-classification-challenge/test/test.csv\")"
      ]
    },
    {
      "cell_type": "code",
      "execution_count": 15,
      "metadata": {
        "id": "2d8GgtY_6qCA",
        "outputId": "50668480-58ec-4a75-bf2a-1e027e05e70c",
        "colab": {
          "base_uri": "https://localhost:8080/",
          "height": 417
        }
      },
      "outputs": [
        {
          "output_type": "execute_result",
          "data": {
            "text/plain": [
              "                 id                                       comment_text  toxic  \\\n",
              "0  0000997932d777bf  Explanation\\nWhy the edits made under my usern...      0   \n",
              "1  000103f0d9cfb60f  D'aww! He matches this background colour I'm s...      0   \n",
              "2  000113f07ec002fd  Hey man, I'm really not trying to edit war. It...      0   \n",
              "3  0001b41b1c6bb37e  \"\\nMore\\nI can't make any real suggestions on ...      0   \n",
              "4  0001d958c54c6e35  You, sir, are my hero. Any chance you remember...      0   \n",
              "\n",
              "   severe_toxic  obscene  threat  insult  identity_hate  \n",
              "0             0        0       0       0              0  \n",
              "1             0        0       0       0              0  \n",
              "2             0        0       0       0              0  \n",
              "3             0        0       0       0              0  \n",
              "4             0        0       0       0              0  "
            ],
            "text/html": [
              "\n",
              "  <div id=\"df-9928f385-11b2-434c-b10d-da279fa2444f\" class=\"colab-df-container\">\n",
              "    <div>\n",
              "<style scoped>\n",
              "    .dataframe tbody tr th:only-of-type {\n",
              "        vertical-align: middle;\n",
              "    }\n",
              "\n",
              "    .dataframe tbody tr th {\n",
              "        vertical-align: top;\n",
              "    }\n",
              "\n",
              "    .dataframe thead th {\n",
              "        text-align: right;\n",
              "    }\n",
              "</style>\n",
              "<table border=\"1\" class=\"dataframe\">\n",
              "  <thead>\n",
              "    <tr style=\"text-align: right;\">\n",
              "      <th></th>\n",
              "      <th>id</th>\n",
              "      <th>comment_text</th>\n",
              "      <th>toxic</th>\n",
              "      <th>severe_toxic</th>\n",
              "      <th>obscene</th>\n",
              "      <th>threat</th>\n",
              "      <th>insult</th>\n",
              "      <th>identity_hate</th>\n",
              "    </tr>\n",
              "  </thead>\n",
              "  <tbody>\n",
              "    <tr>\n",
              "      <th>0</th>\n",
              "      <td>0000997932d777bf</td>\n",
              "      <td>Explanation\\nWhy the edits made under my usern...</td>\n",
              "      <td>0</td>\n",
              "      <td>0</td>\n",
              "      <td>0</td>\n",
              "      <td>0</td>\n",
              "      <td>0</td>\n",
              "      <td>0</td>\n",
              "    </tr>\n",
              "    <tr>\n",
              "      <th>1</th>\n",
              "      <td>000103f0d9cfb60f</td>\n",
              "      <td>D'aww! He matches this background colour I'm s...</td>\n",
              "      <td>0</td>\n",
              "      <td>0</td>\n",
              "      <td>0</td>\n",
              "      <td>0</td>\n",
              "      <td>0</td>\n",
              "      <td>0</td>\n",
              "    </tr>\n",
              "    <tr>\n",
              "      <th>2</th>\n",
              "      <td>000113f07ec002fd</td>\n",
              "      <td>Hey man, I'm really not trying to edit war. It...</td>\n",
              "      <td>0</td>\n",
              "      <td>0</td>\n",
              "      <td>0</td>\n",
              "      <td>0</td>\n",
              "      <td>0</td>\n",
              "      <td>0</td>\n",
              "    </tr>\n",
              "    <tr>\n",
              "      <th>3</th>\n",
              "      <td>0001b41b1c6bb37e</td>\n",
              "      <td>\"\\nMore\\nI can't make any real suggestions on ...</td>\n",
              "      <td>0</td>\n",
              "      <td>0</td>\n",
              "      <td>0</td>\n",
              "      <td>0</td>\n",
              "      <td>0</td>\n",
              "      <td>0</td>\n",
              "    </tr>\n",
              "    <tr>\n",
              "      <th>4</th>\n",
              "      <td>0001d958c54c6e35</td>\n",
              "      <td>You, sir, are my hero. Any chance you remember...</td>\n",
              "      <td>0</td>\n",
              "      <td>0</td>\n",
              "      <td>0</td>\n",
              "      <td>0</td>\n",
              "      <td>0</td>\n",
              "      <td>0</td>\n",
              "    </tr>\n",
              "  </tbody>\n",
              "</table>\n",
              "</div>\n",
              "    <div class=\"colab-df-buttons\">\n",
              "\n",
              "  <div class=\"colab-df-container\">\n",
              "    <button class=\"colab-df-convert\" onclick=\"convertToInteractive('df-9928f385-11b2-434c-b10d-da279fa2444f')\"\n",
              "            title=\"Convert this dataframe to an interactive table.\"\n",
              "            style=\"display:none;\">\n",
              "\n",
              "  <svg xmlns=\"http://www.w3.org/2000/svg\" height=\"24px\" viewBox=\"0 -960 960 960\">\n",
              "    <path d=\"M120-120v-720h720v720H120Zm60-500h600v-160H180v160Zm220 220h160v-160H400v160Zm0 220h160v-160H400v160ZM180-400h160v-160H180v160Zm440 0h160v-160H620v160ZM180-180h160v-160H180v160Zm440 0h160v-160H620v160Z\"/>\n",
              "  </svg>\n",
              "    </button>\n",
              "\n",
              "  <style>\n",
              "    .colab-df-container {\n",
              "      display:flex;\n",
              "      gap: 12px;\n",
              "    }\n",
              "\n",
              "    .colab-df-convert {\n",
              "      background-color: #E8F0FE;\n",
              "      border: none;\n",
              "      border-radius: 50%;\n",
              "      cursor: pointer;\n",
              "      display: none;\n",
              "      fill: #1967D2;\n",
              "      height: 32px;\n",
              "      padding: 0 0 0 0;\n",
              "      width: 32px;\n",
              "    }\n",
              "\n",
              "    .colab-df-convert:hover {\n",
              "      background-color: #E2EBFA;\n",
              "      box-shadow: 0px 1px 2px rgba(60, 64, 67, 0.3), 0px 1px 3px 1px rgba(60, 64, 67, 0.15);\n",
              "      fill: #174EA6;\n",
              "    }\n",
              "\n",
              "    .colab-df-buttons div {\n",
              "      margin-bottom: 4px;\n",
              "    }\n",
              "\n",
              "    [theme=dark] .colab-df-convert {\n",
              "      background-color: #3B4455;\n",
              "      fill: #D2E3FC;\n",
              "    }\n",
              "\n",
              "    [theme=dark] .colab-df-convert:hover {\n",
              "      background-color: #434B5C;\n",
              "      box-shadow: 0px 1px 3px 1px rgba(0, 0, 0, 0.15);\n",
              "      filter: drop-shadow(0px 1px 2px rgba(0, 0, 0, 0.3));\n",
              "      fill: #FFFFFF;\n",
              "    }\n",
              "  </style>\n",
              "\n",
              "    <script>\n",
              "      const buttonEl =\n",
              "        document.querySelector('#df-9928f385-11b2-434c-b10d-da279fa2444f button.colab-df-convert');\n",
              "      buttonEl.style.display =\n",
              "        google.colab.kernel.accessAllowed ? 'block' : 'none';\n",
              "\n",
              "      async function convertToInteractive(key) {\n",
              "        const element = document.querySelector('#df-9928f385-11b2-434c-b10d-da279fa2444f');\n",
              "        const dataTable =\n",
              "          await google.colab.kernel.invokeFunction('convertToInteractive',\n",
              "                                                    [key], {});\n",
              "        if (!dataTable) return;\n",
              "\n",
              "        const docLinkHtml = 'Like what you see? Visit the ' +\n",
              "          '<a target=\"_blank\" href=https://colab.research.google.com/notebooks/data_table.ipynb>data table notebook</a>'\n",
              "          + ' to learn more about interactive tables.';\n",
              "        element.innerHTML = '';\n",
              "        dataTable['output_type'] = 'display_data';\n",
              "        await google.colab.output.renderOutput(dataTable, element);\n",
              "        const docLink = document.createElement('div');\n",
              "        docLink.innerHTML = docLinkHtml;\n",
              "        element.appendChild(docLink);\n",
              "      }\n",
              "    </script>\n",
              "  </div>\n",
              "\n",
              "\n",
              "<div id=\"df-1b7991b0-6210-429c-bb17-5367bed5217c\">\n",
              "  <button class=\"colab-df-quickchart\" onclick=\"quickchart('df-1b7991b0-6210-429c-bb17-5367bed5217c')\"\n",
              "            title=\"Suggest charts\"\n",
              "            style=\"display:none;\">\n",
              "\n",
              "<svg xmlns=\"http://www.w3.org/2000/svg\" height=\"24px\"viewBox=\"0 0 24 24\"\n",
              "     width=\"24px\">\n",
              "    <g>\n",
              "        <path d=\"M19 3H5c-1.1 0-2 .9-2 2v14c0 1.1.9 2 2 2h14c1.1 0 2-.9 2-2V5c0-1.1-.9-2-2-2zM9 17H7v-7h2v7zm4 0h-2V7h2v10zm4 0h-2v-4h2v4z\"/>\n",
              "    </g>\n",
              "</svg>\n",
              "  </button>\n",
              "\n",
              "<style>\n",
              "  .colab-df-quickchart {\n",
              "      --bg-color: #E8F0FE;\n",
              "      --fill-color: #1967D2;\n",
              "      --hover-bg-color: #E2EBFA;\n",
              "      --hover-fill-color: #174EA6;\n",
              "      --disabled-fill-color: #AAA;\n",
              "      --disabled-bg-color: #DDD;\n",
              "  }\n",
              "\n",
              "  [theme=dark] .colab-df-quickchart {\n",
              "      --bg-color: #3B4455;\n",
              "      --fill-color: #D2E3FC;\n",
              "      --hover-bg-color: #434B5C;\n",
              "      --hover-fill-color: #FFFFFF;\n",
              "      --disabled-bg-color: #3B4455;\n",
              "      --disabled-fill-color: #666;\n",
              "  }\n",
              "\n",
              "  .colab-df-quickchart {\n",
              "    background-color: var(--bg-color);\n",
              "    border: none;\n",
              "    border-radius: 50%;\n",
              "    cursor: pointer;\n",
              "    display: none;\n",
              "    fill: var(--fill-color);\n",
              "    height: 32px;\n",
              "    padding: 0;\n",
              "    width: 32px;\n",
              "  }\n",
              "\n",
              "  .colab-df-quickchart:hover {\n",
              "    background-color: var(--hover-bg-color);\n",
              "    box-shadow: 0 1px 2px rgba(60, 64, 67, 0.3), 0 1px 3px 1px rgba(60, 64, 67, 0.15);\n",
              "    fill: var(--button-hover-fill-color);\n",
              "  }\n",
              "\n",
              "  .colab-df-quickchart-complete:disabled,\n",
              "  .colab-df-quickchart-complete:disabled:hover {\n",
              "    background-color: var(--disabled-bg-color);\n",
              "    fill: var(--disabled-fill-color);\n",
              "    box-shadow: none;\n",
              "  }\n",
              "\n",
              "  .colab-df-spinner {\n",
              "    border: 2px solid var(--fill-color);\n",
              "    border-color: transparent;\n",
              "    border-bottom-color: var(--fill-color);\n",
              "    animation:\n",
              "      spin 1s steps(1) infinite;\n",
              "  }\n",
              "\n",
              "  @keyframes spin {\n",
              "    0% {\n",
              "      border-color: transparent;\n",
              "      border-bottom-color: var(--fill-color);\n",
              "      border-left-color: var(--fill-color);\n",
              "    }\n",
              "    20% {\n",
              "      border-color: transparent;\n",
              "      border-left-color: var(--fill-color);\n",
              "      border-top-color: var(--fill-color);\n",
              "    }\n",
              "    30% {\n",
              "      border-color: transparent;\n",
              "      border-left-color: var(--fill-color);\n",
              "      border-top-color: var(--fill-color);\n",
              "      border-right-color: var(--fill-color);\n",
              "    }\n",
              "    40% {\n",
              "      border-color: transparent;\n",
              "      border-right-color: var(--fill-color);\n",
              "      border-top-color: var(--fill-color);\n",
              "    }\n",
              "    60% {\n",
              "      border-color: transparent;\n",
              "      border-right-color: var(--fill-color);\n",
              "    }\n",
              "    80% {\n",
              "      border-color: transparent;\n",
              "      border-right-color: var(--fill-color);\n",
              "      border-bottom-color: var(--fill-color);\n",
              "    }\n",
              "    90% {\n",
              "      border-color: transparent;\n",
              "      border-bottom-color: var(--fill-color);\n",
              "    }\n",
              "  }\n",
              "</style>\n",
              "\n",
              "  <script>\n",
              "    async function quickchart(key) {\n",
              "      const quickchartButtonEl =\n",
              "        document.querySelector('#' + key + ' button');\n",
              "      quickchartButtonEl.disabled = true;  // To prevent multiple clicks.\n",
              "      quickchartButtonEl.classList.add('colab-df-spinner');\n",
              "      try {\n",
              "        const charts = await google.colab.kernel.invokeFunction(\n",
              "            'suggestCharts', [key], {});\n",
              "      } catch (error) {\n",
              "        console.error('Error during call to suggestCharts:', error);\n",
              "      }\n",
              "      quickchartButtonEl.classList.remove('colab-df-spinner');\n",
              "      quickchartButtonEl.classList.add('colab-df-quickchart-complete');\n",
              "    }\n",
              "    (() => {\n",
              "      let quickchartButtonEl =\n",
              "        document.querySelector('#df-1b7991b0-6210-429c-bb17-5367bed5217c button');\n",
              "      quickchartButtonEl.style.display =\n",
              "        google.colab.kernel.accessAllowed ? 'block' : 'none';\n",
              "    })();\n",
              "  </script>\n",
              "</div>\n",
              "\n",
              "    </div>\n",
              "  </div>\n"
            ],
            "application/vnd.google.colaboratory.intrinsic+json": {
              "type": "dataframe",
              "variable_name": "train_df"
            }
          },
          "metadata": {},
          "execution_count": 15
        }
      ],
      "source": [
        "train_df.head()"
      ]
    },
    {
      "cell_type": "code",
      "execution_count": 16,
      "metadata": {
        "id": "SvqFKgK46qCA",
        "outputId": "5ca6010c-5e55-4763-ab77-0f038ff891ae",
        "colab": {
          "base_uri": "https://localhost:8080/"
        }
      },
      "outputs": [
        {
          "output_type": "stream",
          "name": "stdout",
          "text": [
            "toxic            15294\n",
            "severe_toxic      1595\n",
            "obscene           8449\n",
            "threat             478\n",
            "insult            7877\n",
            "identity_hate     1405\n",
            "dtype: int64\n"
          ]
        }
      ],
      "source": [
        "sum_labels=train_df.iloc[:,2:].sum()\n",
        "print(sum_labels)"
      ]
    },
    {
      "cell_type": "markdown",
      "source": [
        "### Creation of Label feature"
      ],
      "metadata": {
        "id": "WyDzpB16FCRe"
      }
    },
    {
      "cell_type": "code",
      "execution_count": 17,
      "metadata": {
        "id": "6i-3qWB46qCA"
      },
      "outputs": [],
      "source": [
        "row_sum=train_df.iloc[:,2:].sum(axis=1)\n",
        "train_df['Label']=(row_sum==0)"
      ]
    },
    {
      "cell_type": "code",
      "execution_count": 18,
      "metadata": {
        "id": "Y7vuX5QH6qCB",
        "outputId": "45724700-0999-4873-d622-94cfa0b29412",
        "colab": {
          "base_uri": "https://localhost:8080/"
        }
      },
      "outputs": [
        {
          "output_type": "stream",
          "name": "stdout",
          "text": [
            "id               0\n",
            "comment_text     0\n",
            "toxic            0\n",
            "severe_toxic     0\n",
            "obscene          0\n",
            "threat           0\n",
            "insult           0\n",
            "identity_hate    0\n",
            "Label            0\n",
            "dtype: int64\n"
          ]
        }
      ],
      "source": [
        "print(train_df.isnull().sum())"
      ]
    },
    {
      "cell_type": "code",
      "execution_count": 19,
      "metadata": {
        "id": "ktuf09V66qCB",
        "outputId": "23f80a9d-72af-4fa8-e17e-a0ccbd24d0e6",
        "colab": {
          "base_uri": "https://localhost:8080/"
        }
      },
      "outputs": [
        {
          "output_type": "stream",
          "name": "stdout",
          "text": [
            "                      id                                       comment_text  \\\n",
            "6       0002bcb3da6cb337       COCKSUCKER BEFORE YOU PISS AROUND ON MY WORK   \n",
            "12      0005c987bdfc9d4b  Hey... what is it..\\n@ | talk .\\nWhat is it......   \n",
            "16      0007e25b2121310b  Bye! \\n\\nDon't look, come or think of comming ...   \n",
            "42      001810bf8c45bf5f  You are gay or antisemmitian? \\n\\nArchangel WH...   \n",
            "43      00190820581d90ce           FUCK YOUR FILTHY MOTHER IN THE ASS, DRY!   \n",
            "...                  ...                                                ...   \n",
            "159494  fef4cf7ba0012866  \"\\n\\n our previous conversation \\n\\nyou fuckin...   \n",
            "159514  ff39a2895fc3b40e                  YOU ARE A MISCHIEVIOUS PUBIC HAIR   \n",
            "159541  ffa33d3122b599d6  Your absurd edits \\n\\nYour absurd edits on gre...   \n",
            "159546  ffb47123b2d82762  \"\\n\\nHey listen don't you ever!!!! Delete my e...   \n",
            "159554  ffbdbb0483ed0841  and i'm going to keep posting the stuff u dele...   \n",
            "\n",
            "        toxic  severe_toxic  obscene  threat  insult  identity_hate  Label  \n",
            "6           1             1        1       0       1              0  False  \n",
            "12          1             0        0       0       0              0  False  \n",
            "16          1             0        0       0       0              0  False  \n",
            "42          1             0        1       0       1              1  False  \n",
            "43          1             0        1       0       1              0  False  \n",
            "...       ...           ...      ...     ...     ...            ...    ...  \n",
            "159494      1             0        1       0       1              1  False  \n",
            "159514      1             0        0       0       1              0  False  \n",
            "159541      1             0        1       0       1              0  False  \n",
            "159546      1             0        0       0       1              0  False  \n",
            "159554      1             0        1       0       1              0  False  \n",
            "\n",
            "[16225 rows x 9 columns]\n"
          ]
        }
      ],
      "source": [
        "print(train_df[train_df['Label'] == False])"
      ]
    },
    {
      "cell_type": "code",
      "execution_count": 20,
      "metadata": {
        "id": "7LbvaxI06qCB",
        "outputId": "23ee6ab1-76f5-41c8-9841-0fe2da15e61e",
        "colab": {
          "base_uri": "https://localhost:8080/"
        }
      },
      "outputs": [
        {
          "output_type": "stream",
          "name": "stdout",
          "text": [
            "id              0\n",
            "comment_text    0\n",
            "dtype: int64\n"
          ]
        }
      ],
      "source": [
        "print(test_df.isnull().sum())"
      ]
    },
    {
      "cell_type": "code",
      "execution_count": 21,
      "metadata": {
        "id": "rlb_HU_O6qCB",
        "outputId": "b35c0aa3-d5ff-4985-badd-1f6ce729be9d",
        "colab": {
          "base_uri": "https://localhost:8080/",
          "height": 434
        }
      },
      "outputs": [
        {
          "output_type": "display_data",
          "data": {
            "text/plain": [
              "<Figure size 800x400 with 1 Axes>"
            ],
            "image/png": "[encoded data removed]"
          },
          "metadata": {}
        }
      ],
      "source": [
        "#plot\n",
        "plt.figure(figsize=(8,4))\n",
        "ax = sns.barplot(x=sum_labels.index, y=sum_labels.values, alpha=0.8)\n",
        "plt.title(\"# per class\")\n",
        "plt.ylabel('# of Occurrences', fontsize=12)\n",
        "plt.xlabel('Type ', fontsize=12)\n",
        "#adding the text labels\n",
        "rects = ax.patches\n",
        "labels = sum_labels.values\n",
        "for rect, label in zip(rects, labels):\n",
        "    height = rect.get_height()\n",
        "    ax.text(rect.get_x() + rect.get_width()/2, height + 5, label, ha='center', va='bottom')\n",
        "\n",
        "plt.show()"
      ]
    },
    {
      "cell_type": "code",
      "execution_count": 22,
      "metadata": {
        "id": "4rSsd0qg6qCC",
        "outputId": "986d0b89-15f2-48bd-b6e0-532bc151bb2f",
        "colab": {
          "base_uri": "https://localhost:8080/",
          "height": 406
        }
      },
      "outputs": [
        {
          "output_type": "display_data",
          "data": {
            "text/plain": [
              "<Figure size 800x400 with 1 Axes>"
            ],
            "image/png": "[encoded data removed]"
          },
          "metadata": {}
        }
      ],
      "source": [
        "color = sns.color_palette()\n",
        "\n",
        "x=row_sum.value_counts()\n",
        "\n",
        "#plot\n",
        "plt.figure(figsize=(8,4))\n",
        "ax = sns.barplot(x=x.index, y=x.values, alpha=0.8,color=color[2])\n",
        "plt.title(\"Multiple tags per comment\")\n",
        "plt.ylabel('# of Occurrences', fontsize=12)\n",
        "plt.xlabel('# of tags ', fontsize=12)\n",
        "\n",
        "#adding the text labels\n",
        "rects = ax.patches\n",
        "labels = x.values\n",
        "for rect, label in zip(rects, labels):\n",
        "    height = rect.get_height()\n",
        "    ax.text(rect.get_x() + rect.get_width()/2, height + 5, label, ha='center', va='bottom')\n",
        "\n",
        "plt.show()"
      ]
    },
    {
      "cell_type": "code",
      "execution_count": 23,
      "metadata": {
        "id": "x-qW2Eke6qCD",
        "outputId": "25cc38cf-0632-47ab-d6af-17ce3e513e23",
        "colab": {
          "base_uri": "https://localhost:8080/",
          "height": 175
        }
      },
      "outputs": [
        {
          "output_type": "execute_result",
          "data": {
            "text/plain": [
              "<pandas.io.formats.style.Styler at 0x7abf02577690>"
            ],
            "text/html": [
              "<style type=\"text/css\">\n",
              "#T_2d4f2_row0_col1, #T_2d4f2_row0_col3, #T_2d4f2_row0_col5, #T_2d4f2_row0_col7, #T_2d4f2_row0_col9, #T_2d4f2_row1_col0, #T_2d4f2_row1_col2, #T_2d4f2_row1_col4, #T_2d4f2_row1_col6, #T_2d4f2_row1_col8 {\n",
              "  background-color: yellow;\n",
              "}\n",
              "</style>\n",
              "<table id=\"T_2d4f2\" class=\"dataframe\">\n",
              "  <thead>\n",
              "    <tr>\n",
              "      <th class=\"blank level0\" >&nbsp;</th>\n",
              "      <th id=\"T_2d4f2_level0_col0\" class=\"col_heading level0 col0\" colspan=\"2\">severe_toxic</th>\n",
              "      <th id=\"T_2d4f2_level0_col2\" class=\"col_heading level0 col2\" colspan=\"2\">obscene</th>\n",
              "      <th id=\"T_2d4f2_level0_col4\" class=\"col_heading level0 col4\" colspan=\"2\">threat</th>\n",
              "      <th id=\"T_2d4f2_level0_col6\" class=\"col_heading level0 col6\" colspan=\"2\">insult</th>\n",
              "      <th id=\"T_2d4f2_level0_col8\" class=\"col_heading level0 col8\" colspan=\"2\">identity_hate</th>\n",
              "    </tr>\n",
              "    <tr>\n",
              "      <th class=\"index_name level1\" >severe_toxic</th>\n",
              "      <th id=\"T_2d4f2_level1_col0\" class=\"col_heading level1 col0\" >0</th>\n",
              "      <th id=\"T_2d4f2_level1_col1\" class=\"col_heading level1 col1\" >1</th>\n",
              "      <th id=\"T_2d4f2_level1_col2\" class=\"col_heading level1 col2\" >0</th>\n",
              "      <th id=\"T_2d4f2_level1_col3\" class=\"col_heading level1 col3\" >1</th>\n",
              "      <th id=\"T_2d4f2_level1_col4\" class=\"col_heading level1 col4\" >0</th>\n",
              "      <th id=\"T_2d4f2_level1_col5\" class=\"col_heading level1 col5\" >1</th>\n",
              "      <th id=\"T_2d4f2_level1_col6\" class=\"col_heading level1 col6\" >0</th>\n",
              "      <th id=\"T_2d4f2_level1_col7\" class=\"col_heading level1 col7\" >1</th>\n",
              "      <th id=\"T_2d4f2_level1_col8\" class=\"col_heading level1 col8\" >0</th>\n",
              "      <th id=\"T_2d4f2_level1_col9\" class=\"col_heading level1 col9\" >1</th>\n",
              "    </tr>\n",
              "    <tr>\n",
              "      <th class=\"index_name level0\" >toxic</th>\n",
              "      <th class=\"blank col0\" >&nbsp;</th>\n",
              "      <th class=\"blank col1\" >&nbsp;</th>\n",
              "      <th class=\"blank col2\" >&nbsp;</th>\n",
              "      <th class=\"blank col3\" >&nbsp;</th>\n",
              "      <th class=\"blank col4\" >&nbsp;</th>\n",
              "      <th class=\"blank col5\" >&nbsp;</th>\n",
              "      <th class=\"blank col6\" >&nbsp;</th>\n",
              "      <th class=\"blank col7\" >&nbsp;</th>\n",
              "      <th class=\"blank col8\" >&nbsp;</th>\n",
              "      <th class=\"blank col9\" >&nbsp;</th>\n",
              "    </tr>\n",
              "  </thead>\n",
              "  <tbody>\n",
              "    <tr>\n",
              "      <th id=\"T_2d4f2_level0_row0\" class=\"row_heading level0 row0\" >0</th>\n",
              "      <td id=\"T_2d4f2_row0_col0\" class=\"data row0 col0\" >144277</td>\n",
              "      <td id=\"T_2d4f2_row0_col1\" class=\"data row0 col1\" >0</td>\n",
              "      <td id=\"T_2d4f2_row0_col2\" class=\"data row0 col2\" >143754</td>\n",
              "      <td id=\"T_2d4f2_row0_col3\" class=\"data row0 col3\" >523</td>\n",
              "      <td id=\"T_2d4f2_row0_col4\" class=\"data row0 col4\" >144248</td>\n",
              "      <td id=\"T_2d4f2_row0_col5\" class=\"data row0 col5\" >29</td>\n",
              "      <td id=\"T_2d4f2_row0_col6\" class=\"data row0 col6\" >143744</td>\n",
              "      <td id=\"T_2d4f2_row0_col7\" class=\"data row0 col7\" >533</td>\n",
              "      <td id=\"T_2d4f2_row0_col8\" class=\"data row0 col8\" >144174</td>\n",
              "      <td id=\"T_2d4f2_row0_col9\" class=\"data row0 col9\" >103</td>\n",
              "    </tr>\n",
              "    <tr>\n",
              "      <th id=\"T_2d4f2_level0_row1\" class=\"row_heading level0 row1\" >1</th>\n",
              "      <td id=\"T_2d4f2_row1_col0\" class=\"data row1 col0\" >13699</td>\n",
              "      <td id=\"T_2d4f2_row1_col1\" class=\"data row1 col1\" >1595</td>\n",
              "      <td id=\"T_2d4f2_row1_col2\" class=\"data row1 col2\" >7368</td>\n",
              "      <td id=\"T_2d4f2_row1_col3\" class=\"data row1 col3\" >7926</td>\n",
              "      <td id=\"T_2d4f2_row1_col4\" class=\"data row1 col4\" >14845</td>\n",
              "      <td id=\"T_2d4f2_row1_col5\" class=\"data row1 col5\" >449</td>\n",
              "      <td id=\"T_2d4f2_row1_col6\" class=\"data row1 col6\" >7950</td>\n",
              "      <td id=\"T_2d4f2_row1_col7\" class=\"data row1 col7\" >7344</td>\n",
              "      <td id=\"T_2d4f2_row1_col8\" class=\"data row1 col8\" >13992</td>\n",
              "      <td id=\"T_2d4f2_row1_col9\" class=\"data row1 col9\" >1302</td>\n",
              "    </tr>\n",
              "  </tbody>\n",
              "</table>\n"
            ]
          },
          "metadata": {},
          "execution_count": 23
        }
      ],
      "source": [
        "temp_df=train_df.iloc[:,2:-1]\n",
        "\n",
        "# https://pandas.pydata.org/pandas-docs/stable/style.html\n",
        "def highlight_min(data, color='yellow'):\n",
        "    '''\n",
        "    highlight the maximum in a Series or DataFrame\n",
        "    '''\n",
        "    attr = 'background-color: {}'.format(color)\n",
        "    if data.ndim == 1:  # Series from .apply(axis=0) or axis=1\n",
        "        is_min = data == data.min()\n",
        "        return [attr if v else '' for v in is_min]\n",
        "    else:  # from .apply(axis=None)\n",
        "        is_max = data == data.min().min()\n",
        "        return pd.DataFrame(np.where(is_min, attr, ''),\n",
        "                            index=data.index, columns=data.columns)\n",
        "\n",
        "#Crosstab\n",
        "# Since technically a crosstab between all 6 classes is impossible to vizualize, lets take a\n",
        "# look at toxic with other tags\n",
        "main_col=\"toxic\"\n",
        "corr_mats=[]\n",
        "for other_col in temp_df.columns[1:]:\n",
        "    confusion_matrix = pd.crosstab(temp_df[main_col], temp_df[other_col])\n",
        "    corr_mats.append(confusion_matrix)\n",
        "out = pd.concat(corr_mats,axis=1,keys=temp_df.columns[1:])\n",
        "\n",
        "#cell highlighting\n",
        "out = out.style.apply(highlight_min,axis=0)\n",
        "out"
      ]
    },
    {
      "cell_type": "code",
      "execution_count": 24,
      "metadata": {
        "id": "eVyYUMMr6qCD"
      },
      "outputs": [],
      "source": [
        "stopwords = set(stopwords.words('english'))"
      ]
    },
    {
      "cell_type": "code",
      "execution_count": 25,
      "metadata": {
        "id": "QzSEI0rI6qCD"
      },
      "outputs": [],
      "source": [
        "combined_df = pd.concat([train_df.iloc[:, :2], test_df.iloc[:, :2]], axis=0)\n",
        "df = combined_df.reset_index(drop=True)"
      ]
    },
    {
      "cell_type": "code",
      "execution_count": 26,
      "metadata": {
        "id": "DRBmUltf6qCE",
        "outputId": "98508f8f-9fa4-4917-8091-ef939b1dc2b6",
        "colab": {
          "base_uri": "https://localhost:8080/"
        }
      },
      "outputs": [
        {
          "output_type": "stream",
          "name": "stdout",
          "text": [
            "                      id                                       comment_text\n",
            "0       0000997932d777bf  Explanation\\nWhy the edits made under my usern...\n",
            "1       000103f0d9cfb60f  D'aww! He matches this background colour I'm s...\n",
            "2       000113f07ec002fd  Hey man, I'm really not trying to edit war. It...\n",
            "3       0001b41b1c6bb37e  \"\\nMore\\nI can't make any real suggestions on ...\n",
            "4       0001d958c54c6e35  You, sir, are my hero. Any chance you remember...\n",
            "...                  ...                                                ...\n",
            "153159  fffcd0960ee309b5  . \\n i totally agree, this stuff is nothing bu...\n",
            "153160  fffd7a9a6eb32c16  == Throw from out field to home plate. == \\n\\n...\n",
            "153161  fffda9e8d6fafa9e  \" \\n\\n == Okinotorishima categories == \\n\\n I ...\n",
            "153162  fffe8f1340a79fc2  \" \\n\\n == \"\"One of the founding nations of the...\n",
            "153163  ffffce3fb183ee80  \" \\n :::Stop already. Your bullshit is not wel...\n",
            "\n",
            "[312735 rows x 2 columns]\n"
          ]
        }
      ],
      "source": [
        "print(combined_df)"
      ]
    },
    {
      "cell_type": "code",
      "execution_count": 27,
      "metadata": {
        "id": "20YtGbOh6qCE",
        "outputId": "ee15181b-ce2a-4049-a676-99f6bf70f807",
        "colab": {
          "base_uri": "https://localhost:8080/"
        }
      },
      "outputs": [
        {
          "output_type": "stream",
          "name": "stdout",
          "text": [
            "                      id                                       comment_text\n",
            "0       0000997932d777bf  Explanation\\nWhy the edits made under my usern...\n",
            "1       000103f0d9cfb60f  D'aww! He matches this background colour I'm s...\n",
            "2       000113f07ec002fd  Hey man, I'm really not trying to edit war. It...\n",
            "3       0001b41b1c6bb37e  \"\\nMore\\nI can't make any real suggestions on ...\n",
            "4       0001d958c54c6e35  You, sir, are my hero. Any chance you remember...\n",
            "...                  ...                                                ...\n",
            "312730  fffcd0960ee309b5  . \\n i totally agree, this stuff is nothing bu...\n",
            "312731  fffd7a9a6eb32c16  == Throw from out field to home plate. == \\n\\n...\n",
            "312732  fffda9e8d6fafa9e  \" \\n\\n == Okinotorishima categories == \\n\\n I ...\n",
            "312733  fffe8f1340a79fc2  \" \\n\\n == \"\"One of the founding nations of the...\n",
            "312734  ffffce3fb183ee80  \" \\n :::Stop already. Your bullshit is not wel...\n",
            "\n",
            "[312735 rows x 2 columns]\n"
          ]
        }
      ],
      "source": [
        "print(df)"
      ]
    },
    {
      "cell_type": "code",
      "execution_count": 28,
      "metadata": {
        "id": "u2_5lH2L6qCE"
      },
      "outputs": [],
      "source": [
        "import string"
      ]
    },
    {
      "cell_type": "markdown",
      "source": [
        "# Feature Engineering"
      ],
      "metadata": {
        "id": "KKTqKxhBFtSV"
      }
    },
    {
      "cell_type": "code",
      "execution_count": 30,
      "metadata": {
        "id": "6aXFiDMH6qCE"
      },
      "outputs": [],
      "source": [
        "# Indirect Textual Features\n",
        "\n",
        "# Count sentences based on newline characters in each comment\n",
        "df['sentence_count'] = df['comment_text'].apply(lambda text: str(text).count('\\n') + 1)\n",
        "\n",
        "# Count total words in each comment\n",
        "df['word_count'] = df['comment_text'].apply(lambda text: len(str(text).split()))\n",
        "\n",
        "# Count unique words in each comment\n",
        "df['unique_word_count'] = df['comment_text'].apply(lambda text: len(set(str(text).split())))\n",
        "\n",
        "# Count total letters (characters) in each comment\n",
        "df['letter_count'] = df['comment_text'].apply(lambda text: len(str(text)))\n",
        "\n",
        "# Count punctuation marks in each comment\n",
        "df['punctuation_count'] = df['comment_text'].apply(\n",
        "    lambda text: sum(1 for char in str(text) if char in string.punctuation)\n",
        ")\n",
        "\n",
        "# Count uppercase words in each comment\n",
        "df['uppercase_word_count'] = df['comment_text'].apply(\n",
        "    lambda text: sum(1 for word in str(text).split() if word.isupper())\n",
        ")\n",
        "\n",
        "# Count title-case words in each comment\n",
        "df['titlecase_word_count'] = df['comment_text'].apply(\n",
        "    lambda text: sum(1 for word in str(text).split() if word.istitle())\n",
        ")\n",
        "\n",
        "# Count stopwords in each comment\n",
        "df['stopword_count'] = df['comment_text'].apply(\n",
        "    lambda text: sum(1 for word in str(text).lower().split() if word in stopwords)\n",
        ")\n",
        "\n",
        "df['avg_word_length'] = df['comment_text'].apply(\n",
        "    lambda text: np.mean([len(word) for word in str(text).split()]) if str(text).split() else 0\n",
        ")\n"
      ]
    },
    {
      "cell_type": "code",
      "execution_count": 31,
      "metadata": {
        "id": "IWjyFW3h6qCF",
        "outputId": "e861656b-4a0c-412d-be51-ed683c81bcd6",
        "colab": {
          "base_uri": "https://localhost:8080/"
        }
      },
      "outputs": [
        {
          "output_type": "stream",
          "name": "stdout",
          "text": [
            "                      id                                       comment_text  \\\n",
            "0       0000997932d777bf  Explanation\\nWhy the edits made under my usern...   \n",
            "1       000103f0d9cfb60f  D'aww! He matches this background colour I'm s...   \n",
            "2       000113f07ec002fd  Hey man, I'm really not trying to edit war. It...   \n",
            "3       0001b41b1c6bb37e  \"\\nMore\\nI can't make any real suggestions on ...   \n",
            "4       0001d958c54c6e35  You, sir, are my hero. Any chance you remember...   \n",
            "...                  ...                                                ...   \n",
            "312730  fffcd0960ee309b5  . \\n i totally agree, this stuff is nothing bu...   \n",
            "312731  fffd7a9a6eb32c16  == Throw from out field to home plate. == \\n\\n...   \n",
            "312732  fffda9e8d6fafa9e  \" \\n\\n == Okinotorishima categories == \\n\\n I ...   \n",
            "312733  fffe8f1340a79fc2  \" \\n\\n == \"\"One of the founding nations of the...   \n",
            "312734  ffffce3fb183ee80  \" \\n :::Stop already. Your bullshit is not wel...   \n",
            "\n",
            "        sentence_count  word_count  unique_word_count  letter_count  \\\n",
            "0                    2          43                 41           264   \n",
            "1                    1          17                 17           112   \n",
            "2                    1          42                 39           233   \n",
            "3                    5         113                 82           622   \n",
            "4                    1          13                 13            67   \n",
            "...                ...         ...                ...           ...   \n",
            "312730               2          10                 10            60   \n",
            "312731               5          38                 32           198   \n",
            "312732               9          64                 51           423   \n",
            "312733               5          89                 66           502   \n",
            "312734               2          26                 24           141   \n",
            "\n",
            "        punctuation_count  uppercase_word_count  titlecase_word_count  \\\n",
            "0                      10                     2                    11   \n",
            "1                      12                     1                     3   \n",
            "2                       6                     0                     2   \n",
            "3                      21                     5                     7   \n",
            "4                       5                     0                     2   \n",
            "...                   ...                   ...                   ...   \n",
            "312730                  4                     0                     0   \n",
            "312731                  7                     0                     5   \n",
            "312732                 36                     3                     7   \n",
            "312733                 32                     2                    14   \n",
            "312734                 11                     0                     2   \n",
            "\n",
            "        stopword_count  avg_word_length  \n",
            "0                   19         5.162791  \n",
            "1                    3         5.588235  \n",
            "2                   21         4.571429  \n",
            "3                   56         4.486726  \n",
            "4                    5         4.230769  \n",
            "...                ...              ...  \n",
            "312730               4         4.900000  \n",
            "312731              18         4.052632  \n",
            "312732              26         5.343750  \n",
            "312733              35         4.584270  \n",
            "312734              11         4.269231  \n",
            "\n",
            "[312735 rows x 11 columns]\n"
          ]
        }
      ],
      "source": [
        "print(df)"
      ]
    },
    {
      "cell_type": "code",
      "execution_count": 32,
      "metadata": {
        "id": "aijMbInn6qCF"
      },
      "outputs": [],
      "source": [
        "# Calculating the percentage of unique words per comment\n",
        "df['unique_word_ratio'] = (df['unique_word_count'] / df['word_count']) * 100\n",
        "\n",
        "# Calculating the percentage of punctuation marks per comment\n",
        "df['punctuation_ratio'] = (df['punctuation_count'] / df['word_count']) * 100\n"
      ]
    },
    {
      "cell_type": "code",
      "execution_count": 33,
      "metadata": {
        "id": "4jOYb8tU6qCF",
        "outputId": "9ad52370-5712-43c4-b70c-d7d113044324",
        "colab": {
          "base_uri": "https://localhost:8080/"
        }
      },
      "outputs": [
        {
          "output_type": "stream",
          "name": "stdout",
          "text": [
            "                      id                                       comment_text  \\\n",
            "0       0000997932d777bf  Explanation\\nWhy the edits made under my usern...   \n",
            "1       000103f0d9cfb60f  D'aww! He matches this background colour I'm s...   \n",
            "2       000113f07ec002fd  Hey man, I'm really not trying to edit war. It...   \n",
            "3       0001b41b1c6bb37e  \"\\nMore\\nI can't make any real suggestions on ...   \n",
            "4       0001d958c54c6e35  You, sir, are my hero. Any chance you remember...   \n",
            "...                  ...                                                ...   \n",
            "159566  ffe987279560d7ff  \":::::And for the second time of asking, when ...   \n",
            "159567  ffea4adeee384e90  You should be ashamed of yourself \\n\\nThat is ...   \n",
            "159568  ffee36eab5c267c9  Spitzer \\n\\nUmm, theres no actual article for ...   \n",
            "159569  fff125370e4aaaf3  And it looks like it was actually you who put ...   \n",
            "159570  fff46fc426af1f9a  \"\\nAnd ... I really don't think you understand...   \n",
            "\n",
            "        sentence_count  word_count  unique_word_count  letter_count  \\\n",
            "0                    2          43                 41           264   \n",
            "1                    1          17                 17           112   \n",
            "2                    1          42                 39           233   \n",
            "3                    5         113                 82           622   \n",
            "4                    1          13                 13            67   \n",
            "...                ...         ...                ...           ...   \n",
            "159566               3          47                 44           295   \n",
            "159567               3          18                 18            99   \n",
            "159568               3          12                 12            81   \n",
            "159569               1          25                 23           116   \n",
            "159570               2          36                 32           189   \n",
            "\n",
            "        punctuation_count  uppercase_word_count  titlecase_word_count  \\\n",
            "0                      10                     2                    11   \n",
            "1                      12                     1                     3   \n",
            "2                       6                     0                     2   \n",
            "3                      21                     5                     7   \n",
            "4                       5                     0                     2   \n",
            "...                   ...                   ...                   ...   \n",
            "159566                 18                     0                     2   \n",
            "159567                  4                     0                     2   \n",
            "159568                  4                     0                     4   \n",
            "159569                  1                     1                     2   \n",
            "159570                 14                     2                     4   \n",
            "\n",
            "        stopword_count  avg_word_length  unique_word_ratio  punctuation_ratio  \n",
            "0                   19         5.162791          95.348837          23.255814  \n",
            "1                    3         5.588235         100.000000          70.588235  \n",
            "2                   21         4.571429          92.857143          14.285714  \n",
            "3                   56         4.486726          72.566372          18.584071  \n",
            "4                    5         4.230769         100.000000          38.461538  \n",
            "...                ...              ...                ...                ...  \n",
            "159566              19         5.212766          93.617021          38.297872  \n",
            "159567              11         4.388889         100.000000          22.222222  \n",
            "159568               2         5.583333         100.000000          33.333333  \n",
            "159569              15         3.680000          92.000000           4.000000  \n",
            "159570              13         4.166667          88.888889          38.888889  \n",
            "\n",
            "[159571 rows x 13 columns]\n"
          ]
        }
      ],
      "source": [
        "# Splitting dataset into training and testing feature sets\n",
        "train_data_features = df[:train_df.shape[0]].reset_index(drop=True)\n",
        "test_data_features = df[train_df.shape[0]:].reset_index(drop=True)\n",
        "\n",
        "print(train_data_features)"
      ]
    },
    {
      "cell_type": "code",
      "execution_count": 34,
      "metadata": {
        "id": "pGcGTSjz6qCG",
        "outputId": "2f311d08-11d7-4560-d871-9f1a2f8ddea3",
        "colab": {
          "base_uri": "https://localhost:8080/"
        }
      },
      "outputs": [
        {
          "output_type": "stream",
          "name": "stdout",
          "text": [
            "                      id                                       comment_text  \\\n",
            "0       00001cee341fdb12  Yo bitch Ja Rule is more succesful then you'll...   \n",
            "1       0000247867823ef7  == From RfC == \\n\\n The title is fine as it is...   \n",
            "2       00013b17ad220c46  \" \\n\\n == Sources == \\n\\n * Zawe Ashton on Lap...   \n",
            "3       00017563c3f7919a  :If you have a look back at the source, the in...   \n",
            "4       00017695ad8997eb          I don't anonymously edit articles at all.   \n",
            "...                  ...                                                ...   \n",
            "153159  fffcd0960ee309b5  . \\n i totally agree, this stuff is nothing bu...   \n",
            "153160  fffd7a9a6eb32c16  == Throw from out field to home plate. == \\n\\n...   \n",
            "153161  fffda9e8d6fafa9e  \" \\n\\n == Okinotorishima categories == \\n\\n I ...   \n",
            "153162  fffe8f1340a79fc2  \" \\n\\n == \"\"One of the founding nations of the...   \n",
            "153163  ffffce3fb183ee80  \" \\n :::Stop already. Your bullshit is not wel...   \n",
            "\n",
            "        sentence_count  word_count  unique_word_count  letter_count  \\\n",
            "0                    1          72                 61           367   \n",
            "1                    3          12                 11            50   \n",
            "2                    5          12                 10            54   \n",
            "3                    1          38                 30           205   \n",
            "4                    1           7                  7            41   \n",
            "...                ...         ...                ...           ...   \n",
            "153159               2          10                 10            60   \n",
            "153160               5          38                 32           198   \n",
            "153161               9          64                 51           423   \n",
            "153162               5          89                 66           502   \n",
            "153163               2          26                 24           141   \n",
            "\n",
            "        punctuation_count  uppercase_word_count  titlecase_word_count  \\\n",
            "0                      12                     0                     4   \n",
            "1                       6                     1                     2   \n",
            "2                       8                     0                     4   \n",
            "3                       6                     3                     4   \n",
            "4                       2                     1                     1   \n",
            "...                   ...                   ...                   ...   \n",
            "153159                  4                     0                     0   \n",
            "153160                  7                     0                     5   \n",
            "153161                 36                     3                     7   \n",
            "153162                 32                     2                    14   \n",
            "153163                 11                     0                     2   \n",
            "\n",
            "        stopword_count  avg_word_length  unique_word_ratio  punctuation_ratio  \n",
            "0                   26         4.111111          84.722222          16.666667  \n",
            "1                    5         3.000000          91.666667          50.000000  \n",
            "2                    1         2.916667          83.333333          66.666667  \n",
            "3                   22         4.421053          78.947368          15.789474  \n",
            "4                    3         5.000000         100.000000          28.571429  \n",
            "...                ...              ...                ...                ...  \n",
            "153159               4         4.900000         100.000000          40.000000  \n",
            "153160              18         4.052632          84.210526          18.421053  \n",
            "153161              26         5.343750          79.687500          56.250000  \n",
            "153162              35         4.584270          74.157303          35.955056  \n",
            "153163              11         4.269231          92.307692          42.307692  \n",
            "\n",
            "[153164 rows x 13 columns]\n"
          ]
        }
      ],
      "source": [
        "print(test_data_features)"
      ]
    },
    {
      "cell_type": "code",
      "execution_count": 35,
      "metadata": {
        "id": "eWQczvnC6qCG",
        "outputId": "ac13f452-facf-40a6-af61-19b1dd2dc744",
        "colab": {
          "base_uri": "https://localhost:8080/"
        }
      },
      "outputs": [
        {
          "output_type": "stream",
          "name": "stdout",
          "text": [
            "        toxic  severe_toxic  obscene  threat  insult  identity_hate  Label\n",
            "0           0             0        0       0       0              0   True\n",
            "1           0             0        0       0       0              0   True\n",
            "2           0             0        0       0       0              0   True\n",
            "3           0             0        0       0       0              0   True\n",
            "4           0             0        0       0       0              0   True\n",
            "...       ...           ...      ...     ...     ...            ...    ...\n",
            "159566      0             0        0       0       0              0   True\n",
            "159567      0             0        0       0       0              0   True\n",
            "159568      0             0        0       0       0              0   True\n",
            "159569      0             0        0       0       0              0   True\n",
            "159570      0             0        0       0       0              0   True\n",
            "\n",
            "[159571 rows x 7 columns]\n"
          ]
        }
      ],
      "source": [
        "# Extracting labels from the training data\n",
        "label_columns = train_df.iloc[:, 2:].reset_index(drop=True)\n",
        "\n",
        "print(label_columns)\n",
        "\n",
        "# Combining training features and labels into a single DataFrame\n",
        "combined_training_data = pd.concat([train_data_features, label_columns], axis=1)"
      ]
    },
    {
      "cell_type": "code",
      "execution_count": 36,
      "metadata": {
        "id": "tJzaYsN56qCG",
        "outputId": "abd78065-11b4-4e5f-a447-8ed6e7fc38cc",
        "colab": {
          "base_uri": "https://localhost:8080/"
        }
      },
      "outputs": [
        {
          "output_type": "stream",
          "name": "stdout",
          "text": [
            "                      id                                       comment_text  \\\n",
            "0       0000997932d777bf  Explanation\\nWhy the edits made under my usern...   \n",
            "1       000103f0d9cfb60f  D'aww! He matches this background colour I'm s...   \n",
            "2       000113f07ec002fd  Hey man, I'm really not trying to edit war. It...   \n",
            "3       0001b41b1c6bb37e  \"\\nMore\\nI can't make any real suggestions on ...   \n",
            "4       0001d958c54c6e35  You, sir, are my hero. Any chance you remember...   \n",
            "...                  ...                                                ...   \n",
            "159566  ffe987279560d7ff  \":::::And for the second time of asking, when ...   \n",
            "159567  ffea4adeee384e90  You should be ashamed of yourself \\n\\nThat is ...   \n",
            "159568  ffee36eab5c267c9  Spitzer \\n\\nUmm, theres no actual article for ...   \n",
            "159569  fff125370e4aaaf3  And it looks like it was actually you who put ...   \n",
            "159570  fff46fc426af1f9a  \"\\nAnd ... I really don't think you understand...   \n",
            "\n",
            "        sentence_count  word_count  unique_word_count  letter_count  \\\n",
            "0                    2          43                 41           264   \n",
            "1                    1          17                 17           112   \n",
            "2                    1          42                 39           233   \n",
            "3                    5         113                 82           622   \n",
            "4                    1          13                 13            67   \n",
            "...                ...         ...                ...           ...   \n",
            "159566               3          47                 44           295   \n",
            "159567               3          18                 18            99   \n",
            "159568               3          12                 12            81   \n",
            "159569               1          25                 23           116   \n",
            "159570               2          36                 32           189   \n",
            "\n",
            "        punctuation_count  uppercase_word_count  titlecase_word_count  \\\n",
            "0                      10                     2                    11   \n",
            "1                      12                     1                     3   \n",
            "2                       6                     0                     2   \n",
            "3                      21                     5                     7   \n",
            "4                       5                     0                     2   \n",
            "...                   ...                   ...                   ...   \n",
            "159566                 18                     0                     2   \n",
            "159567                  4                     0                     2   \n",
            "159568                  4                     0                     4   \n",
            "159569                  1                     1                     2   \n",
            "159570                 14                     2                     4   \n",
            "\n",
            "        stopword_count  avg_word_length  unique_word_ratio  punctuation_ratio  \\\n",
            "0                   19         5.162791          95.348837          23.255814   \n",
            "1                    3         5.588235         100.000000          70.588235   \n",
            "2                   21         4.571429          92.857143          14.285714   \n",
            "3                   56         4.486726          72.566372          18.584071   \n",
            "4                    5         4.230769         100.000000          38.461538   \n",
            "...                ...              ...                ...                ...   \n",
            "159566              19         5.212766          93.617021          38.297872   \n",
            "159567              11         4.388889         100.000000          22.222222   \n",
            "159568               2         5.583333         100.000000          33.333333   \n",
            "159569              15         3.680000          92.000000           4.000000   \n",
            "159570              13         4.166667          88.888889          38.888889   \n",
            "\n",
            "        toxic  severe_toxic  obscene  threat  insult  identity_hate  Label  \n",
            "0           0             0        0       0       0              0   True  \n",
            "1           0             0        0       0       0              0   True  \n",
            "2           0             0        0       0       0              0   True  \n",
            "3           0             0        0       0       0              0   True  \n",
            "4           0             0        0       0       0              0   True  \n",
            "...       ...           ...      ...     ...     ...            ...    ...  \n",
            "159566      0             0        0       0       0              0   True  \n",
            "159567      0             0        0       0       0              0   True  \n",
            "159568      0             0        0       0       0              0   True  \n",
            "159569      0             0        0       0       0              0   True  \n",
            "159570      0             0        0       0       0              0   True  \n",
            "\n",
            "[159571 rows x 20 columns]\n"
          ]
        }
      ],
      "source": [
        "print(combined_training_data)"
      ]
    },
    {
      "cell_type": "markdown",
      "source": [
        "# Text Preprocessing"
      ],
      "metadata": {
        "id": "Ub-rbiz3Fhx6"
      }
    },
    {
      "cell_type": "code",
      "execution_count": 37,
      "metadata": {
        "id": "w9MUsGa06qCG"
      },
      "outputs": [],
      "source": [
        "import re\n",
        "\n",
        "def preprocess_text(text):\n",
        "    # Lowercase\n",
        "    text = text.lower()\n",
        "    # Remove punctuation and numbers\n",
        "    text = re.sub(r'[^a-z\\s]', '', text)\n",
        "    # Remove extra spaces\n",
        "    text = re.sub(r'\\s+', ' ', text).strip()\n",
        "    # Remove stopwords\n",
        "    text = ' '.join([word for word in text.split() if word not in stopwords])\n",
        "    return text\n",
        "\n",
        "# Apply preprocessing\n",
        "combined_training_data[\"clean_comment\"] = train_df['comment_text'].apply(preprocess_text)\n",
        "test_data_features['clean_comment'] = test_df['comment_text'].apply(preprocess_text)"
      ]
    },
    {
      "cell_type": "code",
      "execution_count": 38,
      "metadata": {
        "id": "qIqq15XZ6qCG"
      },
      "outputs": [],
      "source": [
        "# Extract features and labels\n",
        "X = combined_training_data[\"clean_comment\"]\n",
        "y = combined_training_data[\"Label\"]  # Binary classification (toxic vs. non-toxic)"
      ]
    },
    {
      "cell_type": "markdown",
      "source": [
        "# Building the models"
      ],
      "metadata": {
        "id": "t1VugkiYF5Xm"
      }
    },
    {
      "cell_type": "markdown",
      "source": [
        "## Binary Classification Models"
      ],
      "metadata": {
        "id": "sVS6mGagHBzf"
      }
    },
    {
      "cell_type": "markdown",
      "source": [
        "### Splitting of the dataset"
      ],
      "metadata": {
        "id": "c9MpuwfRF_zQ"
      }
    },
    {
      "cell_type": "code",
      "execution_count": 40,
      "metadata": {
        "id": "-1cAba8k6qCH"
      },
      "outputs": [],
      "source": [
        "from sklearn.model_selection import train_test_split\n",
        "from sklearn.feature_extraction.text import TfidfVectorizer\n",
        "from sklearn.linear_model import LogisticRegression\n",
        "from sklearn.metrics import accuracy_score, classification_report\n",
        "\n",
        "# Split data into training and validation sets\n",
        "X_train, X_val, y_train, y_val = train_test_split(X, y, test_size=0.2, random_state=42, stratify=y)"
      ]
    },
    {
      "cell_type": "markdown",
      "source": [
        "### TF-IDF Vectors"
      ],
      "metadata": {
        "id": "s4c96Ui_GHVt"
      }
    },
    {
      "cell_type": "code",
      "execution_count": 41,
      "metadata": {
        "id": "tdpD3fbV6qCH"
      },
      "outputs": [],
      "source": [
        "# Convert text data into numerical vectors using TF-IDF\n",
        "tfidf = TfidfVectorizer(max_features=15000, stop_words=\"english\")\n",
        "X_train_tfidf = tfidf.fit_transform(X_train)\n",
        "X_val_tfidf = tfidf.transform(X_val)"
      ]
    },
    {
      "cell_type": "markdown",
      "source": [
        "### Baseline ML Models"
      ],
      "metadata": {
        "id": "B7YCuM62GPr7"
      }
    },
    {
      "cell_type": "code",
      "execution_count": 45,
      "metadata": {
        "id": "dX0YIu3r6qCH"
      },
      "outputs": [],
      "source": [
        "from sklearn.naive_bayes import MultinomialNB\n",
        "from sklearn.svm import SVC\n",
        "from sklearn.ensemble import RandomForestClassifier\n",
        "from xgboost import XGBClassifier\n",
        "\n",
        "# Define models\n",
        "models = {\n",
        "    \"Logistic Regression\": LogisticRegression(max_iter=500),\n",
        "    \"Naive Bayes\": MultinomialNB(),\n",
        "    \"Random Forest\": RandomForestClassifier(n_estimators=100, random_state=42),\n",
        "    \"XGBoost\": XGBClassifier(eval_metric=\"logloss\")\n",
        "}"
      ]
    },
    {
      "cell_type": "code",
      "execution_count": 43,
      "metadata": {
        "id": "MGEEgz3g6qCH"
      },
      "outputs": [],
      "source": [
        "# Transform test data using the same TF-IDF vectorizer\n",
        "X_test_tfidf = tfidf.transform(test_data_features[\"clean_comment\"])"
      ]
    },
    {
      "cell_type": "markdown",
      "source": [
        "### Training the models"
      ],
      "metadata": {
        "id": "_OdOC2a4Gm6v"
      }
    },
    {
      "cell_type": "code",
      "execution_count": 46,
      "metadata": {
        "id": "ilTfEYzF6qCH",
        "outputId": "af522c93-bff8-4085-c5f6-ad7552dbeba7",
        "colab": {
          "base_uri": "https://localhost:8080/",
          "height": 1000
        }
      },
      "outputs": [
        {
          "output_type": "stream",
          "name": "stdout",
          "text": [
            "Training Logistic Regression...\n",
            "Logistic Regression is fit to the training data\n",
            "Validated the model\n",
            "Accuracy of Logistic Regression 0.9555068149772834\n",
            "classification_report of Logistic Regression               precision    recall  f1-score   support\n",
            "\n",
            "       False       0.93      0.61      0.74      3245\n",
            "        True       0.96      0.99      0.98     28670\n",
            "\n",
            "    accuracy                           0.96     31915\n",
            "   macro avg       0.94      0.80      0.86     31915\n",
            "weighted avg       0.95      0.96      0.95     31915\n",
            "\n",
            "confusion_matrix of Logistic Regression [[ 1980  1265]\n",
            " [  155 28515]]\n",
            "Updated the Logistic Regression results\n"
          ]
        },
        {
          "output_type": "display_data",
          "data": {
            "text/plain": [
              "<Figure size 500x400 with 2 Axes>"
            ],
            "image/png": "[encoded data removed]"
          },
          "metadata": {}
        },
        {
          "output_type": "stream",
          "name": "stdout",
          "text": [
            "Logistic Regression Predictions done for test data\n",
            "Training Naive Bayes...\n",
            "Naive Bayes is fit to the training data\n",
            "Validated the model\n",
            "Accuracy of Naive Bayes 0.9472348425505248\n",
            "classification_report of Naive Bayes               precision    recall  f1-score   support\n",
            "\n",
            "       False       0.94      0.51      0.66      3245\n",
            "        True       0.95      1.00      0.97     28670\n",
            "\n",
            "    accuracy                           0.95     31915\n",
            "   macro avg       0.95      0.75      0.82     31915\n",
            "weighted avg       0.95      0.95      0.94     31915\n",
            "\n",
            "confusion_matrix of Naive Bayes [[ 1661  1584]\n",
            " [  100 28570]]\n",
            "Updated the Naive Bayes results\n"
          ]
        },
        {
          "output_type": "display_data",
          "data": {
            "text/plain": [
              "<Figure size 500x400 with 2 Axes>"
            ],
            "image/png": "[encoded data removed]"
          },
          "metadata": {}
        },
        {
          "output_type": "stream",
          "name": "stdout",
          "text": [
            "Naive Bayes Predictions done for test data\n",
            "Training Random Forest...\n",
            "Random Forest is fit to the training data\n",
            "Validated the model\n",
            "Accuracy of Random Forest 0.9556008146639511\n",
            "classification_report of Random Forest               precision    recall  f1-score   support\n",
            "\n",
            "       False       0.85      0.68      0.76      3245\n",
            "        True       0.97      0.99      0.98     28670\n",
            "\n",
            "    accuracy                           0.96     31915\n",
            "   macro avg       0.91      0.84      0.87     31915\n",
            "weighted avg       0.95      0.96      0.95     31915\n",
            "\n",
            "confusion_matrix of Random Forest [[ 2221  1024]\n",
            " [  393 28277]]\n",
            "Updated the Random Forest results\n"
          ]
        },
        {
          "output_type": "display_data",
          "data": {
            "text/plain": [
              "<Figure size 500x400 with 2 Axes>"
            ],
            "image/png": "[encoded data removed]"
          },
          "metadata": {}
        },
        {
          "output_type": "stream",
          "name": "stdout",
          "text": [
            "Random Forest Predictions done for test data\n",
            "Training XGBoost...\n",
            "XGBoost is fit to the training data\n",
            "Validated the model\n",
            "Accuracy of XGBoost 0.9522168259439135\n",
            "classification_report of XGBoost               precision    recall  f1-score   support\n",
            "\n",
            "       False       0.91      0.59      0.71      3245\n",
            "        True       0.95      0.99      0.97     28670\n",
            "\n",
            "    accuracy                           0.95     31915\n",
            "   macro avg       0.93      0.79      0.84     31915\n",
            "weighted avg       0.95      0.95      0.95     31915\n",
            "\n",
            "confusion_matrix of XGBoost [[ 1902  1343]\n",
            " [  182 28488]]\n",
            "Updated the XGBoost results\n"
          ]
        },
        {
          "output_type": "display_data",
          "data": {
            "text/plain": [
              "<Figure size 500x400 with 2 Axes>"
            ],
            "image/png": "[encoded data removed]"
          },
          "metadata": {}
        },
        {
          "output_type": "stream",
          "name": "stdout",
          "text": [
            "XGBoost Predictions done for test data\n"
          ]
        }
      ],
      "source": [
        "from sklearn.metrics import confusion_matrix as sk_confusion_matrix\n",
        "\n",
        "# Train and evaluate each model\n",
        "results = {}\n",
        "for model_name, model in models.items():\n",
        "    print(f\"Training {model_name}...\")\n",
        "    model.fit(X_train_tfidf, y_train)\n",
        "    print(f\"{model_name} is fit to the training data\")\n",
        "    y_val_pred = model.predict(X_val_tfidf)\n",
        "    print(\"Validated the model\")\n",
        "    # Compute evaluation metrics\n",
        "    accuracy = accuracy_score(y_val, y_val_pred)\n",
        "    print(f\"Accuracy of {model_name}\", accuracy)\n",
        "    classification_rep = classification_report(y_val, y_val_pred)\n",
        "    print(f\"classification_report of {model_name}\", classification_rep)\n",
        "    conf_matrix = sk_confusion_matrix(y_val, y_val_pred)\n",
        "    print(f\"confusion_matrix of {model_name}\", conf_matrix)\n",
        "\n",
        "    # Store results\n",
        "    results[model_name] = {\n",
        "        \"accuracy\": accuracy,\n",
        "        \"classification_report\": classification_rep,\n",
        "        \"confusion_matrix\": conf_matrix\n",
        "    }\n",
        "    print(f\"Updated the {model_name} results\")\n",
        "    # Plot the confusion matrix\n",
        "    plt.figure(figsize=(5, 4))\n",
        "    sns.heatmap(conf_matrix, annot=True, fmt=\"d\", cmap=\"Blues\", xticklabels=[\"Non-Toxic\", \"Toxic\"], yticklabels=[\"Non-Toxic\", \"Toxic\"])\n",
        "    plt.xlabel(\"Predicted Label\")\n",
        "    plt.ylabel(\"True Label\")\n",
        "    plt.title(f\"Confusion Matrix - {model_name}\")\n",
        "    plt.show()\n",
        "\n",
        "    test_data_features[f\"predicted_{model_name.replace(' ', '_')}\"] = model.predict(X_test_tfidf)\n",
        "\n",
        "    print(f\"{model_name} Predictions done for test data\")"
      ]
    },
    {
      "cell_type": "markdown",
      "source": [
        "### Results"
      ],
      "metadata": {
        "id": "3fbB68hmG1Y3"
      }
    },
    {
      "cell_type": "code",
      "execution_count": 48,
      "metadata": {
        "id": "ssEs05a16qCI",
        "outputId": "5a26659d-0f4f-4eba-8232-73b30f51a83d",
        "colab": {
          "base_uri": "https://localhost:8080/"
        }
      },
      "outputs": [
        {
          "output_type": "stream",
          "name": "stdout",
          "text": [
            "{'Logistic Regression': {'accuracy': 0.9555068149772834, 'classification_report': '              precision    recall  f1-score   support\\n\\n       False       0.93      0.61      0.74      3245\\n        True       0.96      0.99      0.98     28670\\n\\n    accuracy                           0.96     31915\\n   macro avg       0.94      0.80      0.86     31915\\nweighted avg       0.95      0.96      0.95     31915\\n', 'confusion_matrix': array([[ 1980,  1265],\n",
            "       [  155, 28515]])}, 'Naive Bayes': {'accuracy': 0.9472348425505248, 'classification_report': '              precision    recall  f1-score   support\\n\\n       False       0.94      0.51      0.66      3245\\n        True       0.95      1.00      0.97     28670\\n\\n    accuracy                           0.95     31915\\n   macro avg       0.95      0.75      0.82     31915\\nweighted avg       0.95      0.95      0.94     31915\\n', 'confusion_matrix': array([[ 1661,  1584],\n",
            "       [  100, 28570]])}, 'Random Forest': {'accuracy': 0.9556008146639511, 'classification_report': '              precision    recall  f1-score   support\\n\\n       False       0.85      0.68      0.76      3245\\n        True       0.97      0.99      0.98     28670\\n\\n    accuracy                           0.96     31915\\n   macro avg       0.91      0.84      0.87     31915\\nweighted avg       0.95      0.96      0.95     31915\\n', 'confusion_matrix': array([[ 2221,  1024],\n",
            "       [  393, 28277]])}, 'XGBoost': {'accuracy': 0.9522168259439135, 'classification_report': '              precision    recall  f1-score   support\\n\\n       False       0.91      0.59      0.71      3245\\n        True       0.95      0.99      0.97     28670\\n\\n    accuracy                           0.95     31915\\n   macro avg       0.93      0.79      0.84     31915\\nweighted avg       0.95      0.95      0.95     31915\\n', 'confusion_matrix': array([[ 1902,  1343],\n",
            "       [  182, 28488]])}}\n"
          ]
        }
      ],
      "source": [
        "print(results)"
      ]
    },
    {
      "cell_type": "code",
      "execution_count": 49,
      "metadata": {
        "id": "YFI3Lqg96qCI"
      },
      "outputs": [],
      "source": [
        "# Convert results dictionary into a structured DataFrame\n",
        "model_results = {\n",
        "    \"Model\": [],\n",
        "    \"Accuracy\": [],\n",
        "    \"Precision (False)\": [],\n",
        "    \"Recall (False)\": [],\n",
        "    \"F1-Score (False)\": [],\n",
        "    \"Precision (True)\": [],\n",
        "    \"Recall (True)\": [],\n",
        "    \"F1-Score (True)\": [],\n",
        "    \"False Positives\": [],\n",
        "    \"False Negatives\": []\n",
        "}\n",
        "\n",
        "# Populate the table with results\n",
        "for model_name, metrics in results.items():\n",
        "    report_lines = metrics[\"classification_report\"].split(\"\\n\")\n",
        "    false_metrics = list(map(float, report_lines[2].split()[1:]))\n",
        "    true_metrics = list(map(float, report_lines[3].split()[1:]))\n",
        "    conf_matrix = metrics[\"confusion_matrix\"]\n",
        "\n",
        "    model_results[\"Model\"].append(model_name)\n",
        "    model_results[\"Accuracy\"].append(metrics[\"accuracy\"])\n",
        "    model_results[\"Precision (False)\"].append(false_metrics[0])\n",
        "    model_results[\"Recall (False)\"].append(false_metrics[1])\n",
        "    model_results[\"F1-Score (False)\"].append(false_metrics[2])\n",
        "    model_results[\"Precision (True)\"].append(true_metrics[0])\n",
        "    model_results[\"Recall (True)\"].append(true_metrics[1])\n",
        "    model_results[\"F1-Score (True)\"].append(true_metrics[2])\n",
        "    model_results[\"False Positives\"].append(conf_matrix[0][1])\n",
        "    model_results[\"False Negatives\"].append(conf_matrix[1][0])"
      ]
    },
    {
      "cell_type": "code",
      "execution_count": 50,
      "metadata": {
        "id": "TAvXybcF6qCI"
      },
      "outputs": [],
      "source": [
        "# Convert to DataFrame for display\n",
        "results_df = pd.DataFrame(model_results)"
      ]
    },
    {
      "cell_type": "code",
      "execution_count": 51,
      "metadata": {
        "id": "BAls5TeL6qCI",
        "outputId": "67409192-d271-4676-e24d-a4ab51763aff",
        "colab": {
          "base_uri": "https://localhost:8080/"
        }
      },
      "outputs": [
        {
          "output_type": "stream",
          "name": "stdout",
          "text": [
            "                 Model  Accuracy  Precision (False)  Recall (False)  \\\n",
            "0  Logistic Regression  0.955507               0.93            0.61   \n",
            "1          Naive Bayes  0.947235               0.94            0.51   \n",
            "2        Random Forest  0.955601               0.85            0.68   \n",
            "3              XGBoost  0.952217               0.91            0.59   \n",
            "\n",
            "   F1-Score (False)  Precision (True)  Recall (True)  F1-Score (True)  \\\n",
            "0              0.74              0.96           0.99             0.98   \n",
            "1              0.66              0.95           1.00             0.97   \n",
            "2              0.76              0.97           0.99             0.98   \n",
            "3              0.71              0.95           0.99             0.97   \n",
            "\n",
            "   False Positives  False Negatives  \n",
            "0             1265              155  \n",
            "1             1584              100  \n",
            "2             1024              393  \n",
            "3             1343              182  \n"
          ]
        }
      ],
      "source": [
        "print(results_df)"
      ]
    },
    {
      "cell_type": "markdown",
      "source": [
        "### Applying the model to test dataset"
      ],
      "metadata": {
        "id": "CzpHhkyoMtGP"
      }
    },
    {
      "cell_type": "code",
      "execution_count": 52,
      "metadata": {
        "id": "54XLq0Xr6qCJ",
        "outputId": "7af9fe55-32ee-496d-fab7-59d3c98eeed0",
        "colab": {
          "base_uri": "https://localhost:8080/"
        }
      },
      "outputs": [
        {
          "output_type": "stream",
          "name": "stdout",
          "text": [
            "                      id                                       comment_text  \\\n",
            "0       00001cee341fdb12  Yo bitch Ja Rule is more succesful then you'll...   \n",
            "1       0000247867823ef7  == From RfC == \\n\\n The title is fine as it is...   \n",
            "2       00013b17ad220c46  \" \\n\\n == Sources == \\n\\n * Zawe Ashton on Lap...   \n",
            "3       00017563c3f7919a  :If you have a look back at the source, the in...   \n",
            "4       00017695ad8997eb          I don't anonymously edit articles at all.   \n",
            "...                  ...                                                ...   \n",
            "153159  fffcd0960ee309b5  . \\n i totally agree, this stuff is nothing bu...   \n",
            "153160  fffd7a9a6eb32c16  == Throw from out field to home plate. == \\n\\n...   \n",
            "153161  fffda9e8d6fafa9e  \" \\n\\n == Okinotorishima categories == \\n\\n I ...   \n",
            "153162  fffe8f1340a79fc2  \" \\n\\n == \"\"One of the founding nations of the...   \n",
            "153163  ffffce3fb183ee80  \" \\n :::Stop already. Your bullshit is not wel...   \n",
            "\n",
            "        sentence_count  word_count  unique_word_count  letter_count  \\\n",
            "0                    1          72                 61           367   \n",
            "1                    3          12                 11            50   \n",
            "2                    5          12                 10            54   \n",
            "3                    1          38                 30           205   \n",
            "4                    1           7                  7            41   \n",
            "...                ...         ...                ...           ...   \n",
            "153159               2          10                 10            60   \n",
            "153160               5          38                 32           198   \n",
            "153161               9          64                 51           423   \n",
            "153162               5          89                 66           502   \n",
            "153163               2          26                 24           141   \n",
            "\n",
            "        punctuation_count  uppercase_word_count  titlecase_word_count  \\\n",
            "0                      12                     0                     4   \n",
            "1                       6                     1                     2   \n",
            "2                       8                     0                     4   \n",
            "3                       6                     3                     4   \n",
            "4                       2                     1                     1   \n",
            "...                   ...                   ...                   ...   \n",
            "153159                  4                     0                     0   \n",
            "153160                  7                     0                     5   \n",
            "153161                 36                     3                     7   \n",
            "153162                 32                     2                    14   \n",
            "153163                 11                     0                     2   \n",
            "\n",
            "        stopword_count  avg_word_length  unique_word_ratio  punctuation_ratio  \\\n",
            "0                   26         4.111111          84.722222          16.666667   \n",
            "1                    5         3.000000          91.666667          50.000000   \n",
            "2                    1         2.916667          83.333333          66.666667   \n",
            "3                   22         4.421053          78.947368          15.789474   \n",
            "4                    3         5.000000         100.000000          28.571429   \n",
            "...                ...              ...                ...                ...   \n",
            "153159               4         4.900000         100.000000          40.000000   \n",
            "153160              18         4.052632          84.210526          18.421053   \n",
            "153161              26         5.343750          79.687500          56.250000   \n",
            "153162              35         4.584270          74.157303          35.955056   \n",
            "153163              11         4.269231          92.307692          42.307692   \n",
            "\n",
            "                                            clean_comment  \\\n",
            "0       yo bitch ja rule succesful youll ever whats ha...   \n",
            "1                                      rfc title fine imo   \n",
            "2                             sources zawe ashton lapland   \n",
            "3       look back source information updated correct f...   \n",
            "4                          dont anonymously edit articles   \n",
            "...                                                   ...   \n",
            "153159            totally agree stuff nothing toolongcrap   \n",
            "153160  throw field home plate get faster throwing cut...   \n",
            "153161  okinotorishima categories see changes agree co...   \n",
            "153162  one founding nations eu germany law return qui...   \n",
            "153163  stop already bullshit welcome im fool think ki...   \n",
            "\n",
            "        predicted_Logistic_Regression  predicted_Naive_Bayes  \\\n",
            "0                               False                  False   \n",
            "1                                True                   True   \n",
            "2                                True                   True   \n",
            "3                                True                   True   \n",
            "4                                True                   True   \n",
            "...                               ...                    ...   \n",
            "153159                           True                   True   \n",
            "153160                           True                   True   \n",
            "153161                           True                   True   \n",
            "153162                           True                   True   \n",
            "153163                          False                  False   \n",
            "\n",
            "        predicted_Random_Forest  predicted_XGBoost  \n",
            "0                         False                  0  \n",
            "1                          True                  1  \n",
            "2                          True                  1  \n",
            "3                          True                  1  \n",
            "4                          True                  1  \n",
            "...                         ...                ...  \n",
            "153159                     True                  1  \n",
            "153160                     True                  1  \n",
            "153161                     True                  1  \n",
            "153162                     True                  1  \n",
            "153163                    False                  0  \n",
            "\n",
            "[153164 rows x 18 columns]\n"
          ]
        }
      ],
      "source": [
        "print(test_data_features)"
      ]
    },
    {
      "cell_type": "code",
      "execution_count": 53,
      "metadata": {
        "id": "xF8mpZU56qCJ",
        "outputId": "b492a85e-7029-47dc-d667-8455fbe3f786",
        "colab": {
          "base_uri": "https://localhost:8080/"
        }
      },
      "outputs": [
        {
          "output_type": "stream",
          "name": "stdout",
          "text": [
            "        toxic  severe_toxic  obscene  threat  insult  identity_hate\n",
            "0           0             0        0       0       0              0\n",
            "1           0             0        0       0       0              0\n",
            "2           0             0        0       0       0              0\n",
            "3           0             0        0       0       0              0\n",
            "4           0             0        0       0       0              0\n",
            "...       ...           ...      ...     ...     ...            ...\n",
            "159566      0             0        0       0       0              0\n",
            "159567      0             0        0       0       0              0\n",
            "159568      0             0        0       0       0              0\n",
            "159569      0             0        0       0       0              0\n",
            "159570      0             0        0       0       0              0\n",
            "\n",
            "[159571 rows x 6 columns]\n"
          ]
        }
      ],
      "source": [
        "print(combined_training_data.iloc[:, 13:19])"
      ]
    },
    {
      "cell_type": "code",
      "execution_count": 54,
      "metadata": {
        "id": "bwAyEBO86qCJ"
      },
      "outputs": [],
      "source": [
        "# Proceed with training and evaluation again\n",
        "X = combined_training_data[\"clean_comment\"]\n",
        "y = combined_training_data.iloc[:, 13:19]  # Multi-label classification"
      ]
    },
    {
      "cell_type": "markdown",
      "source": [
        "## Multi-label Classification"
      ],
      "metadata": {
        "id": "jaBS2wS4ICAP"
      }
    },
    {
      "cell_type": "code",
      "execution_count": 55,
      "metadata": {
        "id": "8hNQt2556qCP"
      },
      "outputs": [],
      "source": [
        "# Split into training and validation sets\n",
        "X_train, X_val, y_train, y_val = train_test_split(X, y, test_size=0.2, random_state=42)"
      ]
    },
    {
      "cell_type": "markdown",
      "source": [
        "### Baseline ML Models"
      ],
      "metadata": {
        "id": "rdPwDHeWIO3J"
      }
    },
    {
      "cell_type": "code",
      "execution_count": null,
      "metadata": {
        "id": "amXrBrZz6qCP"
      },
      "outputs": [],
      "source": [
        "from sklearn.multiclass import OneVsRestClassifier\n",
        "\n",
        "# Define models for multi-label classification\n",
        "multiclass_models = {\n",
        "    \"Logistic Regression\": OneVsRestClassifier(LogisticRegression(max_iter=500)),\n",
        "    \"Naive Bayes\": OneVsRestClassifier(MultinomialNB()),\n",
        "    \"Random Forest\": OneVsRestClassifier(RandomForestClassifier(n_estimators=50, max_depth=20, n_jobs=-1, random_state=42)),\n",
        "    \"XGBoost\": OneVsRestClassifier(XGBClassifier(use_label_encoder=False, eval_metric=\"logloss\"))\n",
        "}"
      ]
    },
    {
      "cell_type": "markdown",
      "source": [
        "### Training the models"
      ],
      "metadata": {
        "id": "-wMHH9BJMF5k"
      }
    },
    {
      "cell_type": "code",
      "execution_count": null,
      "metadata": {
        "id": "T2x_PbjD6qCP",
        "outputId": "80ce2f63-b949-43e0-f4fe-5b7e6761af34"
      },
      "outputs": [
        {
          "name": "stdout",
          "output_type": "stream",
          "text": [
            "Training Logistic Regression...\n"
          ]
        },
        {
          "name": "stderr",
          "output_type": "stream",
          "text": [
            "c:\\Users\\HOME\\AppData\\Local\\Programs\\Python\\Python313\\Lib\\site-packages\\sklearn\\metrics\\_classification.py:1565: UndefinedMetricWarning: Precision is ill-defined and being set to 0.0 in labels with no predicted samples. Use `zero_division` parameter to control this behavior.\n",
            "  _warn_prf(average, modifier, f\"{metric.capitalize()} is\", len(result))\n",
            "c:\\Users\\HOME\\AppData\\Local\\Programs\\Python\\Python313\\Lib\\site-packages\\sklearn\\metrics\\_classification.py:1565: UndefinedMetricWarning: Precision is ill-defined and being set to 0.0 due to no predicted samples. Use `zero_division` parameter to control this behavior.\n",
            "  _warn_prf(average, modifier, f\"{metric.capitalize()} is\", len(result))\n",
            "c:\\Users\\HOME\\AppData\\Local\\Programs\\Python\\Python313\\Lib\\site-packages\\sklearn\\metrics\\_classification.py:1565: UndefinedMetricWarning: Precision is ill-defined and being set to 0.0 in samples with no predicted labels. Use `zero_division` parameter to control this behavior.\n",
            "  _warn_prf(average, modifier, f\"{metric.capitalize()} is\", len(result))\n",
            "c:\\Users\\HOME\\AppData\\Local\\Programs\\Python\\Python313\\Lib\\site-packages\\sklearn\\metrics\\_classification.py:1565: UndefinedMetricWarning: Recall is ill-defined and being set to 0.0 in samples with no true labels. Use `zero_division` parameter to control this behavior.\n",
            "  _warn_prf(average, modifier, f\"{metric.capitalize()} is\", len(result))\n",
            "c:\\Users\\HOME\\AppData\\Local\\Programs\\Python\\Python313\\Lib\\site-packages\\sklearn\\metrics\\_classification.py:1565: UndefinedMetricWarning: F-score is ill-defined and being set to 0.0 in samples with no true nor predicted labels. Use `zero_division` parameter to control this behavior.\n",
            "  _warn_prf(average, modifier, f\"{metric.capitalize()} is\", len(result))\n"
          ]
        },
        {
          "name": "stdout",
          "output_type": "stream",
          "text": [
            "Training Naive Bayes...\n"
          ]
        },
        {
          "name": "stderr",
          "output_type": "stream",
          "text": [
            "c:\\Users\\HOME\\AppData\\Local\\Programs\\Python\\Python313\\Lib\\site-packages\\sklearn\\metrics\\_classification.py:1565: UndefinedMetricWarning: Precision is ill-defined and being set to 0.0 in labels with no predicted samples. Use `zero_division` parameter to control this behavior.\n",
            "  _warn_prf(average, modifier, f\"{metric.capitalize()} is\", len(result))\n",
            "c:\\Users\\HOME\\AppData\\Local\\Programs\\Python\\Python313\\Lib\\site-packages\\sklearn\\metrics\\_classification.py:1565: UndefinedMetricWarning: Precision is ill-defined and being set to 0.0 in samples with no predicted labels. Use `zero_division` parameter to control this behavior.\n",
            "  _warn_prf(average, modifier, f\"{metric.capitalize()} is\", len(result))\n",
            "c:\\Users\\HOME\\AppData\\Local\\Programs\\Python\\Python313\\Lib\\site-packages\\sklearn\\metrics\\_classification.py:1565: UndefinedMetricWarning: Recall is ill-defined and being set to 0.0 in samples with no true labels. Use `zero_division` parameter to control this behavior.\n",
            "  _warn_prf(average, modifier, f\"{metric.capitalize()} is\", len(result))\n",
            "c:\\Users\\HOME\\AppData\\Local\\Programs\\Python\\Python313\\Lib\\site-packages\\sklearn\\metrics\\_classification.py:1565: UndefinedMetricWarning: F-score is ill-defined and being set to 0.0 in samples with no true nor predicted labels. Use `zero_division` parameter to control this behavior.\n",
            "  _warn_prf(average, modifier, f\"{metric.capitalize()} is\", len(result))\n"
          ]
        },
        {
          "name": "stdout",
          "output_type": "stream",
          "text": [
            "Training Random Forest...\n"
          ]
        },
        {
          "name": "stderr",
          "output_type": "stream",
          "text": [
            "c:\\Users\\HOME\\AppData\\Local\\Programs\\Python\\Python313\\Lib\\site-packages\\sklearn\\metrics\\_classification.py:1565: UndefinedMetricWarning: Precision is ill-defined and being set to 0.0 in labels with no predicted samples. Use `zero_division` parameter to control this behavior.\n",
            "  _warn_prf(average, modifier, f\"{metric.capitalize()} is\", len(result))\n",
            "c:\\Users\\HOME\\AppData\\Local\\Programs\\Python\\Python313\\Lib\\site-packages\\sklearn\\metrics\\_classification.py:1565: UndefinedMetricWarning: Precision is ill-defined and being set to 0.0 due to no predicted samples. Use `zero_division` parameter to control this behavior.\n",
            "  _warn_prf(average, modifier, f\"{metric.capitalize()} is\", len(result))\n",
            "c:\\Users\\HOME\\AppData\\Local\\Programs\\Python\\Python313\\Lib\\site-packages\\sklearn\\metrics\\_classification.py:1565: UndefinedMetricWarning: Precision is ill-defined and being set to 0.0 in samples with no predicted labels. Use `zero_division` parameter to control this behavior.\n",
            "  _warn_prf(average, modifier, f\"{metric.capitalize()} is\", len(result))\n",
            "c:\\Users\\HOME\\AppData\\Local\\Programs\\Python\\Python313\\Lib\\site-packages\\sklearn\\metrics\\_classification.py:1565: UndefinedMetricWarning: Recall is ill-defined and being set to 0.0 in samples with no true labels. Use `zero_division` parameter to control this behavior.\n",
            "  _warn_prf(average, modifier, f\"{metric.capitalize()} is\", len(result))\n",
            "c:\\Users\\HOME\\AppData\\Local\\Programs\\Python\\Python313\\Lib\\site-packages\\sklearn\\metrics\\_classification.py:1565: UndefinedMetricWarning: F-score is ill-defined and being set to 0.0 in samples with no true nor predicted labels. Use `zero_division` parameter to control this behavior.\n",
            "  _warn_prf(average, modifier, f\"{metric.capitalize()} is\", len(result))\n"
          ]
        },
        {
          "name": "stdout",
          "output_type": "stream",
          "text": [
            "Training XGBoost...\n"
          ]
        },
        {
          "name": "stderr",
          "output_type": "stream",
          "text": [
            "c:\\Users\\HOME\\AppData\\Local\\Programs\\Python\\Python313\\Lib\\site-packages\\xgboost\\training.py:183: UserWarning: [13:21:27] WARNING: C:\\actions-runner\\_work\\xgboost\\xgboost\\src\\learner.cc:738: \n",
            "Parameters: { \"use_label_encoder\" } are not used.\n",
            "\n",
            "  bst.update(dtrain, iteration=i, fobj=obj)\n",
            "c:\\Users\\HOME\\AppData\\Local\\Programs\\Python\\Python313\\Lib\\site-packages\\xgboost\\training.py:183: UserWarning: [13:22:07] WARNING: C:\\actions-runner\\_work\\xgboost\\xgboost\\src\\learner.cc:738: \n",
            "Parameters: { \"use_label_encoder\" } are not used.\n",
            "\n",
            "  bst.update(dtrain, iteration=i, fobj=obj)\n",
            "c:\\Users\\HOME\\AppData\\Local\\Programs\\Python\\Python313\\Lib\\site-packages\\xgboost\\training.py:183: UserWarning: [13:22:37] WARNING: C:\\actions-runner\\_work\\xgboost\\xgboost\\src\\learner.cc:738: \n",
            "Parameters: { \"use_label_encoder\" } are not used.\n",
            "\n",
            "  bst.update(dtrain, iteration=i, fobj=obj)\n",
            "c:\\Users\\HOME\\AppData\\Local\\Programs\\Python\\Python313\\Lib\\site-packages\\xgboost\\training.py:183: UserWarning: [13:23:14] WARNING: C:\\actions-runner\\_work\\xgboost\\xgboost\\src\\learner.cc:738: \n",
            "Parameters: { \"use_label_encoder\" } are not used.\n",
            "\n",
            "  bst.update(dtrain, iteration=i, fobj=obj)\n",
            "c:\\Users\\HOME\\AppData\\Local\\Programs\\Python\\Python313\\Lib\\site-packages\\xgboost\\training.py:183: UserWarning: [13:23:39] WARNING: C:\\actions-runner\\_work\\xgboost\\xgboost\\src\\learner.cc:738: \n",
            "Parameters: { \"use_label_encoder\" } are not used.\n",
            "\n",
            "  bst.update(dtrain, iteration=i, fobj=obj)\n",
            "c:\\Users\\HOME\\AppData\\Local\\Programs\\Python\\Python313\\Lib\\site-packages\\xgboost\\training.py:183: UserWarning: [13:24:16] WARNING: C:\\actions-runner\\_work\\xgboost\\xgboost\\src\\learner.cc:738: \n",
            "Parameters: { \"use_label_encoder\" } are not used.\n",
            "\n",
            "  bst.update(dtrain, iteration=i, fobj=obj)\n",
            "c:\\Users\\HOME\\AppData\\Local\\Programs\\Python\\Python313\\Lib\\site-packages\\sklearn\\metrics\\_classification.py:1565: UndefinedMetricWarning: Precision is ill-defined and being set to 0.0 in labels with no predicted samples. Use `zero_division` parameter to control this behavior.\n",
            "  _warn_prf(average, modifier, f\"{metric.capitalize()} is\", len(result))\n",
            "c:\\Users\\HOME\\AppData\\Local\\Programs\\Python\\Python313\\Lib\\site-packages\\sklearn\\metrics\\_classification.py:1565: UndefinedMetricWarning: Precision is ill-defined and being set to 0.0 in samples with no predicted labels. Use `zero_division` parameter to control this behavior.\n",
            "  _warn_prf(average, modifier, f\"{metric.capitalize()} is\", len(result))\n",
            "c:\\Users\\HOME\\AppData\\Local\\Programs\\Python\\Python313\\Lib\\site-packages\\sklearn\\metrics\\_classification.py:1565: UndefinedMetricWarning: Recall is ill-defined and being set to 0.0 in samples with no true labels. Use `zero_division` parameter to control this behavior.\n",
            "  _warn_prf(average, modifier, f\"{metric.capitalize()} is\", len(result))\n",
            "c:\\Users\\HOME\\AppData\\Local\\Programs\\Python\\Python313\\Lib\\site-packages\\sklearn\\metrics\\_classification.py:1565: UndefinedMetricWarning: F-score is ill-defined and being set to 0.0 in samples with no true nor predicted labels. Use `zero_division` parameter to control this behavior.\n",
            "  _warn_prf(average, modifier, f\"{metric.capitalize()} is\", len(result))\n"
          ]
        }
      ],
      "source": [
        "# Train and evaluate each model\n",
        "results_multi_class = {}\n",
        "for model_name, model in multiclass_models.items():\n",
        "    print(f\"Training {model_name}...\")\n",
        "    model.fit(X_train_tfidf, y_train)\n",
        "    y_val_pred = model.predict(X_val_tfidf)\n",
        "\n",
        "    # Compute evaluation metrics\n",
        "    accuracy = accuracy_score(y_val, y_val_pred)\n",
        "    classification_rep = classification_report(y_val, y_val_pred, target_names=y.columns)\n",
        "\n",
        "    # Store results\n",
        "    results_multi_class[model_name] = {\n",
        "        \"accuracy\": accuracy,\n",
        "        \"classification_report\": classification_rep,\n",
        "    }\n",
        "\n",
        "    test_pred = model.predict(X_test_tfidf)\n",
        "    for i, col in enumerate(y.columns):\n",
        "        test_data_features[f\"predicted_multi-class_{col}_{model_name.replace(' ', '_')}\"] = test_pred[:, i]"
      ]
    },
    {
      "cell_type": "markdown",
      "source": [
        "### Results"
      ],
      "metadata": {
        "id": "ISlh-1tlMOmu"
      }
    },
    {
      "cell_type": "code",
      "execution_count": null,
      "metadata": {
        "id": "oYcIvfMd6qCP",
        "outputId": "fe4916fa-a8b0-4000-afc4-1a1f1e18f1e9"
      },
      "outputs": [
        {
          "name": "stdout",
          "output_type": "stream",
          "text": [
            "{'Logistic Regression': {'accuracy': 0.898355005483315, 'classification_report': '               precision    recall  f1-score   support\\n\\n        toxic       0.00      0.00      0.00      3056\\n severe_toxic       0.00      0.00      0.00       321\\n      obscene       0.00      0.00      0.00      1715\\n       threat       0.00      0.00      0.00        74\\n       insult       0.00      0.00      0.00      1614\\nidentity_hate       0.00      0.00      0.00       294\\n\\n    micro avg       0.00      0.00      0.00      7074\\n    macro avg       0.00      0.00      0.00      7074\\n weighted avg       0.00      0.00      0.00      7074\\n  samples avg       0.00      0.00      0.00      7074\\n'}, 'Naive Bayes': {'accuracy': 0.8982296725677581, 'classification_report': '               precision    recall  f1-score   support\\n\\n        toxic       0.00      0.00      0.00      3056\\n severe_toxic       0.00      0.00      0.00       321\\n      obscene       0.00      0.00      0.00      1715\\n       threat       0.00      0.00      0.00        74\\n       insult       0.00      0.00      0.00      1614\\nidentity_hate       0.00      0.00      0.00       294\\n\\n    micro avg       0.00      0.00      0.00      7074\\n    macro avg       0.00      0.00      0.00      7074\\n weighted avg       0.00      0.00      0.00      7074\\n  samples avg       0.00      0.00      0.00      7074\\n'}, 'Random Forest': {'accuracy': 0.898355005483315, 'classification_report': '               precision    recall  f1-score   support\\n\\n        toxic       0.00      0.00      0.00      3056\\n severe_toxic       0.00      0.00      0.00       321\\n      obscene       0.00      0.00      0.00      1715\\n       threat       0.00      0.00      0.00        74\\n       insult       0.00      0.00      0.00      1614\\nidentity_hate       0.00      0.00      0.00       294\\n\\n    micro avg       0.00      0.00      0.00      7074\\n    macro avg       0.00      0.00      0.00      7074\\n weighted avg       0.00      0.00      0.00      7074\\n  samples avg       0.00      0.00      0.00      7074\\n'}, 'XGBoost': {'accuracy': 0.8982296725677581, 'classification_report': '               precision    recall  f1-score   support\\n\\n        toxic       0.00      0.00      0.00      3056\\n severe_toxic       0.00      0.00      0.00       321\\n      obscene       0.00      0.00      0.00      1715\\n       threat       0.00      0.00      0.00        74\\n       insult       0.00      0.00      0.00      1614\\nidentity_hate       0.00      0.00      0.00       294\\n\\n    micro avg       0.00      0.00      0.00      7074\\n    macro avg       0.00      0.00      0.00      7074\\n weighted avg       0.00      0.00      0.00      7074\\n  samples avg       0.00      0.00      0.00      7074\\n'}}\n"
          ]
        }
      ],
      "source": [
        "print(results_multi_class)"
      ]
    },
    {
      "cell_type": "markdown",
      "source": [
        "### Applying the model to test dataset"
      ],
      "metadata": {
        "id": "f6xZ_MmnMcT8"
      }
    },
    {
      "cell_type": "code",
      "execution_count": null,
      "metadata": {
        "id": "KO5XD5Vn6qCQ",
        "outputId": "b3fc33c8-e48d-4a1e-872d-6aa597a8e247"
      },
      "outputs": [
        {
          "name": "stdout",
          "output_type": "stream",
          "text": [
            "                      id                                       comment_text  \\\n",
            "0       00001cee341fdb12  Yo bitch Ja Rule is more succesful then you'll...   \n",
            "1       0000247867823ef7  == From RfC == \\n\\n The title is fine as it is...   \n",
            "2       00013b17ad220c46  \" \\n\\n == Sources == \\n\\n * Zawe Ashton on Lap...   \n",
            "3       00017563c3f7919a  :If you have a look back at the source, the in...   \n",
            "4       00017695ad8997eb          I don't anonymously edit articles at all.   \n",
            "...                  ...                                                ...   \n",
            "153159  fffcd0960ee309b5  . \\n i totally agree, this stuff is nothing bu...   \n",
            "153160  fffd7a9a6eb32c16  == Throw from out field to home plate. == \\n\\n...   \n",
            "153161  fffda9e8d6fafa9e  \" \\n\\n == Okinotorishima categories == \\n\\n I ...   \n",
            "153162  fffe8f1340a79fc2  \" \\n\\n == \"\"One of the founding nations of the...   \n",
            "153163  ffffce3fb183ee80  \" \\n :::Stop already. Your bullshit is not wel...   \n",
            "\n",
            "        sentence_count  word_count  unique_word_count  letter_count  \\\n",
            "0                    1          72                 61           367   \n",
            "1                    3          12                 11            50   \n",
            "2                    5          12                 10            54   \n",
            "3                    1          38                 30           205   \n",
            "4                    1           7                  7            41   \n",
            "...                ...         ...                ...           ...   \n",
            "153159               2          10                 10            60   \n",
            "153160               5          38                 32           198   \n",
            "153161               9          64                 51           423   \n",
            "153162               5          89                 66           502   \n",
            "153163               2          26                 24           141   \n",
            "\n",
            "        punctuation_count  uppercase_word_count  titlecase_word_count  \\\n",
            "0                      12                     0                     4   \n",
            "1                       6                     1                     2   \n",
            "2                       8                     0                     4   \n",
            "3                       6                     3                     4   \n",
            "4                       2                     1                     1   \n",
            "...                   ...                   ...                   ...   \n",
            "153159                  4                     0                     0   \n",
            "153160                  7                     0                     5   \n",
            "153161                 36                     3                     7   \n",
            "153162                 32                     2                    14   \n",
            "153163                 11                     0                     2   \n",
            "\n",
            "        stopword_count  ...  predicted_multi-class_obscene_Random_Forest  \\\n",
            "0                   26  ...                                            0   \n",
            "1                    5  ...                                            0   \n",
            "2                    1  ...                                            0   \n",
            "3                   22  ...                                            0   \n",
            "4                    3  ...                                            0   \n",
            "...                ...  ...                                          ...   \n",
            "153159               4  ...                                            0   \n",
            "153160              18  ...                                            0   \n",
            "153161              26  ...                                            0   \n",
            "153162              35  ...                                            0   \n",
            "153163              11  ...                                            0   \n",
            "\n",
            "        predicted_multi-class_threat_Random_Forest  \\\n",
            "0                                                0   \n",
            "1                                                0   \n",
            "2                                                0   \n",
            "3                                                0   \n",
            "4                                                0   \n",
            "...                                            ...   \n",
            "153159                                           0   \n",
            "153160                                           0   \n",
            "153161                                           0   \n",
            "153162                                           0   \n",
            "153163                                           0   \n",
            "\n",
            "        predicted_multi-class_insult_Random_Forest  \\\n",
            "0                                                0   \n",
            "1                                                0   \n",
            "2                                                0   \n",
            "3                                                0   \n",
            "4                                                0   \n",
            "...                                            ...   \n",
            "153159                                           0   \n",
            "153160                                           0   \n",
            "153161                                           0   \n",
            "153162                                           0   \n",
            "153163                                           0   \n",
            "\n",
            "       predicted_multi-class_identity_hate_Random_Forest  \\\n",
            "0                                                      0   \n",
            "1                                                      0   \n",
            "2                                                      0   \n",
            "3                                                      0   \n",
            "4                                                      0   \n",
            "...                                                  ...   \n",
            "153159                                                 0   \n",
            "153160                                                 0   \n",
            "153161                                                 0   \n",
            "153162                                                 0   \n",
            "153163                                                 0   \n",
            "\n",
            "        predicted_multi-class_toxic_XGBoost  \\\n",
            "0                                         0   \n",
            "1                                         0   \n",
            "2                                         0   \n",
            "3                                         0   \n",
            "4                                         0   \n",
            "...                                     ...   \n",
            "153159                                    0   \n",
            "153160                                    0   \n",
            "153161                                    0   \n",
            "153162                                    0   \n",
            "153163                                    0   \n",
            "\n",
            "        predicted_multi-class_severe_toxic_XGBoost  \\\n",
            "0                                                0   \n",
            "1                                                0   \n",
            "2                                                0   \n",
            "3                                                0   \n",
            "4                                                0   \n",
            "...                                            ...   \n",
            "153159                                           0   \n",
            "153160                                           0   \n",
            "153161                                           0   \n",
            "153162                                           0   \n",
            "153163                                           0   \n",
            "\n",
            "        predicted_multi-class_obscene_XGBoost  \\\n",
            "0                                           0   \n",
            "1                                           0   \n",
            "2                                           0   \n",
            "3                                           0   \n",
            "4                                           0   \n",
            "...                                       ...   \n",
            "153159                                      0   \n",
            "153160                                      0   \n",
            "153161                                      0   \n",
            "153162                                      0   \n",
            "153163                                      0   \n",
            "\n",
            "        predicted_multi-class_threat_XGBoost  \\\n",
            "0                                          0   \n",
            "1                                          0   \n",
            "2                                          0   \n",
            "3                                          0   \n",
            "4                                          0   \n",
            "...                                      ...   \n",
            "153159                                     0   \n",
            "153160                                     0   \n",
            "153161                                     0   \n",
            "153162                                     0   \n",
            "153163                                     0   \n",
            "\n",
            "        predicted_multi-class_insult_XGBoost  \\\n",
            "0                                          0   \n",
            "1                                          0   \n",
            "2                                          0   \n",
            "3                                          0   \n",
            "4                                          0   \n",
            "...                                      ...   \n",
            "153159                                     0   \n",
            "153160                                     0   \n",
            "153161                                     0   \n",
            "153162                                     0   \n",
            "153163                                     0   \n",
            "\n",
            "        predicted_multi-class_identity_hate_XGBoost  \n",
            "0                                                 0  \n",
            "1                                                 0  \n",
            "2                                                 0  \n",
            "3                                                 0  \n",
            "4                                                 0  \n",
            "...                                             ...  \n",
            "153159                                            0  \n",
            "153160                                            0  \n",
            "153161                                            0  \n",
            "153162                                            0  \n",
            "153163                                            0  \n",
            "\n",
            "[153164 rows x 42 columns]\n"
          ]
        }
      ],
      "source": [
        "print(test_data_features)"
      ]
    },
    {
      "cell_type": "code",
      "execution_count": null,
      "metadata": {
        "id": "1u5E38Ar6qCQ"
      },
      "outputs": [],
      "source": [
        "# Function to create a \"Predicted Tags\" column for each model\n",
        "def generate_predicted_tags(df, model_names, label_columns):\n",
        "    for model in model_names:\n",
        "        model_cols = [f\"predicted_multi-class_{label}_{model}\" for label in label_columns]\n",
        "        df[f\"predicted_tags_{model}\"] = df[model_cols].apply(\n",
        "            lambda row: \", \".join([label for label, val in zip(label_columns, row) if val == 1]), axis=1\n",
        "        )\n",
        "        # If no labels are predicted, assign 'None'\n",
        "        df[f\"predicted_tags_{model}\"] = df[f\"predicted_tags_{model}\"].replace(\"\", \"None\")\n",
        "\n",
        "# Define model names and label categories\n",
        "model_names = [\"Logistic_Regression\", \"Naive_Bayes\", \"Random_Forest\", \"XGBoost\"]\n",
        "label_columns = [\"toxic\", \"severe_toxic\", \"obscene\", \"threat\", \"insult\", \"identity_hate\"]\n",
        "\n",
        "# Generate predicted tags for each model\n",
        "generate_predicted_tags(test_data_features, model_names, label_columns)"
      ]
    },
    {
      "cell_type": "code",
      "execution_count": null,
      "metadata": {
        "id": "gC_0HvaZ6qCQ",
        "outputId": "a4e096d4-2d02-4afe-9d4f-fcc80978dfaa"
      },
      "outputs": [
        {
          "name": "stdout",
          "output_type": "stream",
          "text": [
            "                      id                                       comment_text  \\\n",
            "0       00001cee341fdb12  Yo bitch Ja Rule is more succesful then you'll...   \n",
            "1       0000247867823ef7  == From RfC == \\n\\n The title is fine as it is...   \n",
            "2       00013b17ad220c46  \" \\n\\n == Sources == \\n\\n * Zawe Ashton on Lap...   \n",
            "3       00017563c3f7919a  :If you have a look back at the source, the in...   \n",
            "4       00017695ad8997eb          I don't anonymously edit articles at all.   \n",
            "...                  ...                                                ...   \n",
            "153159  fffcd0960ee309b5  . \\n i totally agree, this stuff is nothing bu...   \n",
            "153160  fffd7a9a6eb32c16  == Throw from out field to home plate. == \\n\\n...   \n",
            "153161  fffda9e8d6fafa9e  \" \\n\\n == Okinotorishima categories == \\n\\n I ...   \n",
            "153162  fffe8f1340a79fc2  \" \\n\\n == \"\"One of the founding nations of the...   \n",
            "153163  ffffce3fb183ee80  \" \\n :::Stop already. Your bullshit is not wel...   \n",
            "\n",
            "        sentence_count  word_count  unique_word_count  letter_count  \\\n",
            "0                    1          72                 61           367   \n",
            "1                    3          12                 11            50   \n",
            "2                    5          12                 10            54   \n",
            "3                    1          38                 30           205   \n",
            "4                    1           7                  7            41   \n",
            "...                ...         ...                ...           ...   \n",
            "153159               2          10                 10            60   \n",
            "153160               5          38                 32           198   \n",
            "153161               9          64                 51           423   \n",
            "153162               5          89                 66           502   \n",
            "153163               2          26                 24           141   \n",
            "\n",
            "        punctuation_count  uppercase_word_count  titlecase_word_count  \\\n",
            "0                      12                     0                     4   \n",
            "1                       6                     1                     2   \n",
            "2                       8                     0                     4   \n",
            "3                       6                     3                     4   \n",
            "4                       2                     1                     1   \n",
            "...                   ...                   ...                   ...   \n",
            "153159                  4                     0                     0   \n",
            "153160                  7                     0                     5   \n",
            "153161                 36                     3                     7   \n",
            "153162                 32                     2                    14   \n",
            "153163                 11                     0                     2   \n",
            "\n",
            "        stopword_count  ...  predicted_multi-class_toxic_XGBoost  \\\n",
            "0                   26  ...                                    0   \n",
            "1                    5  ...                                    0   \n",
            "2                    1  ...                                    0   \n",
            "3                   22  ...                                    0   \n",
            "4                    3  ...                                    0   \n",
            "...                ...  ...                                  ...   \n",
            "153159               4  ...                                    0   \n",
            "153160              18  ...                                    0   \n",
            "153161              26  ...                                    0   \n",
            "153162              35  ...                                    0   \n",
            "153163              11  ...                                    0   \n",
            "\n",
            "        predicted_multi-class_severe_toxic_XGBoost  \\\n",
            "0                                                0   \n",
            "1                                                0   \n",
            "2                                                0   \n",
            "3                                                0   \n",
            "4                                                0   \n",
            "...                                            ...   \n",
            "153159                                           0   \n",
            "153160                                           0   \n",
            "153161                                           0   \n",
            "153162                                           0   \n",
            "153163                                           0   \n",
            "\n",
            "        predicted_multi-class_obscene_XGBoost  \\\n",
            "0                                           0   \n",
            "1                                           0   \n",
            "2                                           0   \n",
            "3                                           0   \n",
            "4                                           0   \n",
            "...                                       ...   \n",
            "153159                                      0   \n",
            "153160                                      0   \n",
            "153161                                      0   \n",
            "153162                                      0   \n",
            "153163                                      0   \n",
            "\n",
            "       predicted_multi-class_threat_XGBoost  \\\n",
            "0                                         0   \n",
            "1                                         0   \n",
            "2                                         0   \n",
            "3                                         0   \n",
            "4                                         0   \n",
            "...                                     ...   \n",
            "153159                                    0   \n",
            "153160                                    0   \n",
            "153161                                    0   \n",
            "153162                                    0   \n",
            "153163                                    0   \n",
            "\n",
            "        predicted_multi-class_insult_XGBoost  \\\n",
            "0                                          0   \n",
            "1                                          0   \n",
            "2                                          0   \n",
            "3                                          0   \n",
            "4                                          0   \n",
            "...                                      ...   \n",
            "153159                                     0   \n",
            "153160                                     0   \n",
            "153161                                     0   \n",
            "153162                                     0   \n",
            "153163                                     0   \n",
            "\n",
            "        predicted_multi-class_identity_hate_XGBoost  \\\n",
            "0                                                 0   \n",
            "1                                                 0   \n",
            "2                                                 0   \n",
            "3                                                 0   \n",
            "4                                                 0   \n",
            "...                                             ...   \n",
            "153159                                            0   \n",
            "153160                                            0   \n",
            "153161                                            0   \n",
            "153162                                            0   \n",
            "153163                                            0   \n",
            "\n",
            "        predicted_tags_Logistic_Regression  predicted_tags_Naive_Bayes  \\\n",
            "0                                     None                        None   \n",
            "1                                     None                        None   \n",
            "2                                     None                        None   \n",
            "3                                     None                        None   \n",
            "4                                     None                        None   \n",
            "...                                    ...                         ...   \n",
            "153159                                None                        None   \n",
            "153160                                None                        None   \n",
            "153161                                None                        None   \n",
            "153162                                None                        None   \n",
            "153163                                None                        None   \n",
            "\n",
            "        predicted_tags_Random_Forest  predicted_tags_XGBoost  \n",
            "0                               None                    None  \n",
            "1                               None                    None  \n",
            "2                               None                    None  \n",
            "3                               None                    None  \n",
            "4                               None                    None  \n",
            "...                              ...                     ...  \n",
            "153159                          None                    None  \n",
            "153160                          None                    None  \n",
            "153161                          None                    None  \n",
            "153162                          None                    None  \n",
            "153163                          None                    None  \n",
            "\n",
            "[153164 rows x 46 columns]\n"
          ]
        }
      ],
      "source": [
        "print(test_data_features)"
      ]
    },
    {
      "cell_type": "markdown",
      "source": [
        "### Analysis of multi-label classification"
      ],
      "metadata": {
        "id": "w5AGg9WRNFVG"
      }
    },
    {
      "cell_type": "code",
      "execution_count": null,
      "metadata": {
        "id": "Eq49Ff4E6qCQ"
      },
      "outputs": [],
      "source": [
        "filtered_df = test_data_features[\n",
        "    (test_data_features[\"predicted_tags_Logistic_Regression\"] != \"None\") |\n",
        "    (test_data_features[\"predicted_tags_Naive_Bayes\"] != \"None\") |\n",
        "    (test_data_features[\"predicted_tags_Random_Forest\"] != \"None\") |\n",
        "    (test_data_features[\"predicted_tags_XGBoost\"] != \"None\")\n",
        "]"
      ]
    },
    {
      "cell_type": "code",
      "execution_count": null,
      "metadata": {
        "id": "zazyYoAH6qCQ",
        "outputId": "3a3cebf6-6f77-4c74-d055-cd829fb22952"
      },
      "outputs": [
        {
          "name": "stdout",
          "output_type": "stream",
          "text": [
            "Empty DataFrame\n",
            "Columns: [id, comment_text, sentence_count, word_count, unique_word_count, letter_count, punctuation_count, uppercase_word_count, titlecase_word_count, stopword_count, avg_word_length, unique_word_ratio, punctuation_ratio, clean_comment, predicted_Logistic_Regression, predicted_Naive_Bayes, predicted_Random_Forest, predicted_XGBoost, predicted_multi-class_toxic_Logistic_Regression, predicted_multi-class_severe_toxic_Logistic_Regression, predicted_multi-class_obscene_Logistic_Regression, predicted_multi-class_threat_Logistic_Regression, predicted_multi-class_insult_Logistic_Regression, predicted_multi-class_identity_hate_Logistic_Regression, predicted_multi-class_toxic_Naive_Bayes, predicted_multi-class_severe_toxic_Naive_Bayes, predicted_multi-class_obscene_Naive_Bayes, predicted_multi-class_threat_Naive_Bayes, predicted_multi-class_insult_Naive_Bayes, predicted_multi-class_identity_hate_Naive_Bayes, predicted_multi-class_toxic_Random_Forest, predicted_multi-class_severe_toxic_Random_Forest, predicted_multi-class_obscene_Random_Forest, predicted_multi-class_threat_Random_Forest, predicted_multi-class_insult_Random_Forest, predicted_multi-class_identity_hate_Random_Forest, predicted_multi-class_toxic_XGBoost, predicted_multi-class_severe_toxic_XGBoost, predicted_multi-class_obscene_XGBoost, predicted_multi-class_threat_XGBoost, predicted_multi-class_insult_XGBoost, predicted_multi-class_identity_hate_XGBoost, predicted_tags_Logistic_Regression, predicted_tags_Naive_Bayes, predicted_tags_Random_Forest, predicted_tags_XGBoost]\n",
            "Index: []\n",
            "\n",
            "[0 rows x 46 columns]\n"
          ]
        }
      ],
      "source": [
        "print(test_data_features[(test_data_features[\"predicted_tags_Logistic_Regression\"] != \"None\")])"
      ]
    },
    {
      "cell_type": "code",
      "execution_count": null,
      "metadata": {
        "id": "WvFREBig6qCQ",
        "outputId": "4e059ac1-f81f-4507-c897-c7825c3c9679"
      },
      "outputs": [
        {
          "name": "stdout",
          "output_type": "stream",
          "text": [
            "                      id                                       comment_text  \\\n",
            "44971   4a96dc388366302f  你好，依据你的要求，以下是南马福建话的翻译： \\n\\n 原文： \\n 真耶穌教會，是二十世紀...   \n",
            "72992   7996b5567996a60b  FFFFF UUUUUU CCCCCC  KKKKKK =====  YOU! F UU C...   \n",
            "74925   7ce7dd6c255bdaf7  == FFFFF UUUUUU CCCCCC KKKKKK ===== YOU! F UU ...   \n",
            "101681  a9af74aa6e6c3793  == Tang ina mo!! ako si Mcoy Fundales  == \\n\\n...   \n",
            "109701  b700c2af7d77a826  ==Characters in Roger Rabbit 2== \\n If a Roger...   \n",
            "115950  c189f044e62aad5b  SAFYHSAJXFDSH FEHF DFJ FJDHFJASDHFUE V VHEFDBF...   \n",
            "131775  dc3d26e894189ac6  Companies \\n 104 Films, Accentuate, Abnormally...   \n",
            "\n",
            "        sentence_count  word_count  unique_word_count  letter_count  \\\n",
            "44971               29         225                133          1270   \n",
            "72992               43         925                 12          4832   \n",
            "74925                3        1051                 13          4976   \n",
            "101681               3          34                 26           190   \n",
            "109701             125         658                454          4479   \n",
            "115950               2         628                419          3291   \n",
            "131775              27         330                291          2463   \n",
            "\n",
            "        punctuation_count  uppercase_word_count  titlecase_word_count  \\\n",
            "44971                  40                     0                     0   \n",
            "72992                 504                   841                   168   \n",
            "74925                 579                   953                   191   \n",
            "101681                 19                     0                     8   \n",
            "109701                155                     7                   480   \n",
            "115950                 54                   625                   149   \n",
            "131775                152                     0                   317   \n",
            "\n",
            "        stopword_count  ...  predicted_multi-class_toxic_XGBoost  \\\n",
            "44971                8  ...                                    0   \n",
            "72992               84  ...                                    0   \n",
            "74925               95  ...                                    0   \n",
            "101681               1  ...                                    0   \n",
            "109701             158  ...                                    0   \n",
            "115950              34  ...                                    0   \n",
            "131775               4  ...                                    0   \n",
            "\n",
            "        predicted_multi-class_severe_toxic_XGBoost  \\\n",
            "44971                                            0   \n",
            "72992                                            0   \n",
            "74925                                            0   \n",
            "101681                                           0   \n",
            "109701                                           0   \n",
            "115950                                           0   \n",
            "131775                                           0   \n",
            "\n",
            "        predicted_multi-class_obscene_XGBoost  \\\n",
            "44971                                       0   \n",
            "72992                                       0   \n",
            "74925                                       0   \n",
            "101681                                      0   \n",
            "109701                                      0   \n",
            "115950                                      0   \n",
            "131775                                      0   \n",
            "\n",
            "       predicted_multi-class_threat_XGBoost  \\\n",
            "44971                                     0   \n",
            "72992                                     0   \n",
            "74925                                     0   \n",
            "101681                                    0   \n",
            "109701                                    0   \n",
            "115950                                    0   \n",
            "131775                                    0   \n",
            "\n",
            "        predicted_multi-class_insult_XGBoost  \\\n",
            "44971                                      0   \n",
            "72992                                      0   \n",
            "74925                                      0   \n",
            "101681                                     0   \n",
            "109701                                     0   \n",
            "115950                                     0   \n",
            "131775                                     0   \n",
            "\n",
            "        predicted_multi-class_identity_hate_XGBoost  \\\n",
            "44971                                             0   \n",
            "72992                                             0   \n",
            "74925                                             0   \n",
            "101681                                            0   \n",
            "109701                                            0   \n",
            "115950                                            0   \n",
            "131775                                            0   \n",
            "\n",
            "        predicted_tags_Logistic_Regression  \\\n",
            "44971                                 None   \n",
            "72992                                 None   \n",
            "74925                                 None   \n",
            "101681                                None   \n",
            "109701                                None   \n",
            "115950                                None   \n",
            "131775                                None   \n",
            "\n",
            "                               predicted_tags_Naive_Bayes  \\\n",
            "44971                         severe_toxic, identity_hate   \n",
            "72992   toxic, severe_toxic, obscene, threat, insult, ...   \n",
            "74925   toxic, severe_toxic, obscene, threat, insult, ...   \n",
            "101681                             toxic, obscene, insult   \n",
            "109701  toxic, severe_toxic, obscene, insult, identity...   \n",
            "115950       severe_toxic, obscene, insult, identity_hate   \n",
            "131775                                       severe_toxic   \n",
            "\n",
            "        predicted_tags_Random_Forest  predicted_tags_XGBoost  \n",
            "44971                           None                    None  \n",
            "72992                           None                    None  \n",
            "74925                           None                    None  \n",
            "101681                          None                    None  \n",
            "109701                          None                    None  \n",
            "115950                          None                    None  \n",
            "131775                          None                    None  \n",
            "\n",
            "[7 rows x 46 columns]\n"
          ]
        }
      ],
      "source": [
        "print(test_data_features[(test_data_features[\"predicted_tags_Naive_Bayes\"] != \"None\")])"
      ]
    },
    {
      "cell_type": "code",
      "execution_count": null,
      "metadata": {
        "id": "s7pxrm9I6qCR",
        "outputId": "9447685f-e246-4cbb-8c80-9ed67c25249f"
      },
      "outputs": [
        {
          "name": "stdout",
          "output_type": "stream",
          "text": [
            "Empty DataFrame\n",
            "Columns: [id, comment_text, sentence_count, word_count, unique_word_count, letter_count, punctuation_count, uppercase_word_count, titlecase_word_count, stopword_count, avg_word_length, unique_word_ratio, punctuation_ratio, clean_comment, predicted_Logistic_Regression, predicted_Naive_Bayes, predicted_Random_Forest, predicted_XGBoost, predicted_multi-class_toxic_Logistic_Regression, predicted_multi-class_severe_toxic_Logistic_Regression, predicted_multi-class_obscene_Logistic_Regression, predicted_multi-class_threat_Logistic_Regression, predicted_multi-class_insult_Logistic_Regression, predicted_multi-class_identity_hate_Logistic_Regression, predicted_multi-class_toxic_Naive_Bayes, predicted_multi-class_severe_toxic_Naive_Bayes, predicted_multi-class_obscene_Naive_Bayes, predicted_multi-class_threat_Naive_Bayes, predicted_multi-class_insult_Naive_Bayes, predicted_multi-class_identity_hate_Naive_Bayes, predicted_multi-class_toxic_Random_Forest, predicted_multi-class_severe_toxic_Random_Forest, predicted_multi-class_obscene_Random_Forest, predicted_multi-class_threat_Random_Forest, predicted_multi-class_insult_Random_Forest, predicted_multi-class_identity_hate_Random_Forest, predicted_multi-class_toxic_XGBoost, predicted_multi-class_severe_toxic_XGBoost, predicted_multi-class_obscene_XGBoost, predicted_multi-class_threat_XGBoost, predicted_multi-class_insult_XGBoost, predicted_multi-class_identity_hate_XGBoost, predicted_tags_Logistic_Regression, predicted_tags_Naive_Bayes, predicted_tags_Random_Forest, predicted_tags_XGBoost]\n",
            "Index: []\n",
            "\n",
            "[0 rows x 46 columns]\n"
          ]
        }
      ],
      "source": [
        "print(test_data_features[(test_data_features[\"predicted_tags_Random_Forest\"] != \"None\")])"
      ]
    },
    {
      "cell_type": "code",
      "execution_count": null,
      "metadata": {
        "id": "yc710ioe6qCR",
        "outputId": "1a7ed583-1708-4c41-ee3d-db80c9330016"
      },
      "outputs": [
        {
          "name": "stdout",
          "output_type": "stream",
          "text": [
            "                      id                                       comment_text  \\\n",
            "24253   286d30f703ccbfcc  \" \\n\\n == why republicans are assholes == \\n\\n...   \n",
            "99764   a67f831782896a9f  \" \\n\\n == Hatchment update (source) == \\n\\n De...   \n",
            "128324  d6760aa40d9d07c1  \" \\n\\n == Concerning the report I've been targ...   \n",
            "134264  e069fb5d93b4f77f  \"== I have a suggestion == \\n\\n Why don't we s...   \n",
            "149899  fa8acb52f8028630  == Plot, tldr version  == \\n\\n As Prospero exp...   \n",
            "\n",
            "        sentence_count  word_count  unique_word_count  letter_count  \\\n",
            "24253               92         712                373          4604   \n",
            "99764                7          59                 53           342   \n",
            "128324               8         278                179          1550   \n",
            "134264              21         666                371          4108   \n",
            "149899              15         880                380          4916   \n",
            "\n",
            "        punctuation_count  uppercase_word_count  titlecase_word_count  \\\n",
            "24253                 214                    10                    68   \n",
            "99764                  28                     2                    21   \n",
            "128324                 65                    12                    19   \n",
            "134264                168                     9                    50   \n",
            "149899                126                     0                   136   \n",
            "\n",
            "        stopword_count  ...  predicted_multi-class_toxic_XGBoost  \\\n",
            "24253              328  ...                                    1   \n",
            "99764               14  ...                                    1   \n",
            "128324             136  ...                                    1   \n",
            "134264             306  ...                                    1   \n",
            "149899             393  ...                                    0   \n",
            "\n",
            "        predicted_multi-class_severe_toxic_XGBoost  \\\n",
            "24253                                            0   \n",
            "99764                                            0   \n",
            "128324                                           0   \n",
            "134264                                           0   \n",
            "149899                                           0   \n",
            "\n",
            "        predicted_multi-class_obscene_XGBoost  \\\n",
            "24253                                       0   \n",
            "99764                                       0   \n",
            "128324                                      0   \n",
            "134264                                      0   \n",
            "149899                                      0   \n",
            "\n",
            "       predicted_multi-class_threat_XGBoost  \\\n",
            "24253                                     0   \n",
            "99764                                     0   \n",
            "128324                                    0   \n",
            "134264                                    0   \n",
            "149899                                    0   \n",
            "\n",
            "        predicted_multi-class_insult_XGBoost  \\\n",
            "24253                                      0   \n",
            "99764                                      0   \n",
            "128324                                     0   \n",
            "134264                                     0   \n",
            "149899                                     1   \n",
            "\n",
            "        predicted_multi-class_identity_hate_XGBoost  \\\n",
            "24253                                             0   \n",
            "99764                                             0   \n",
            "128324                                            0   \n",
            "134264                                            0   \n",
            "149899                                            0   \n",
            "\n",
            "        predicted_tags_Logistic_Regression  predicted_tags_Naive_Bayes  \\\n",
            "24253                                 None                        None   \n",
            "99764                                 None                        None   \n",
            "128324                                None                        None   \n",
            "134264                                None                        None   \n",
            "149899                                None                        None   \n",
            "\n",
            "        predicted_tags_Random_Forest  predicted_tags_XGBoost  \n",
            "24253                           None                   toxic  \n",
            "99764                           None                   toxic  \n",
            "128324                          None                   toxic  \n",
            "134264                          None                   toxic  \n",
            "149899                          None                  insult  \n",
            "\n",
            "[5 rows x 46 columns]\n"
          ]
        }
      ],
      "source": [
        "print(test_data_features[(test_data_features[\"predicted_tags_XGBoost\"] != \"None\")])"
      ]
    },
    {
      "cell_type": "code",
      "execution_count": null,
      "metadata": {
        "id": "OoOtaZdF6qCR",
        "outputId": "fed8953f-9706-42b2-f1bf-67231242e060"
      },
      "outputs": [
        {
          "name": "stdout",
          "output_type": "stream",
          "text": [
            "                      id                                       comment_text  \\\n",
            "24253   286d30f703ccbfcc  \" \\n\\n == why republicans are assholes == \\n\\n...   \n",
            "44971   4a96dc388366302f  你好，依据你的要求，以下是南马福建话的翻译： \\n\\n 原文： \\n 真耶穌教會，是二十世紀...   \n",
            "72992   7996b5567996a60b  FFFFF UUUUUU CCCCCC  KKKKKK =====  YOU! F UU C...   \n",
            "74925   7ce7dd6c255bdaf7  == FFFFF UUUUUU CCCCCC KKKKKK ===== YOU! F UU ...   \n",
            "99764   a67f831782896a9f  \" \\n\\n == Hatchment update (source) == \\n\\n De...   \n",
            "101681  a9af74aa6e6c3793  == Tang ina mo!! ako si Mcoy Fundales  == \\n\\n...   \n",
            "109701  b700c2af7d77a826  ==Characters in Roger Rabbit 2== \\n If a Roger...   \n",
            "115950  c189f044e62aad5b  SAFYHSAJXFDSH FEHF DFJ FJDHFJASDHFUE V VHEFDBF...   \n",
            "128324  d6760aa40d9d07c1  \" \\n\\n == Concerning the report I've been targ...   \n",
            "131775  dc3d26e894189ac6  Companies \\n 104 Films, Accentuate, Abnormally...   \n",
            "134264  e069fb5d93b4f77f  \"== I have a suggestion == \\n\\n Why don't we s...   \n",
            "149899  fa8acb52f8028630  == Plot, tldr version  == \\n\\n As Prospero exp...   \n",
            "\n",
            "        sentence_count  word_count  unique_word_count  letter_count  \\\n",
            "24253               92         712                373          4604   \n",
            "44971               29         225                133          1270   \n",
            "72992               43         925                 12          4832   \n",
            "74925                3        1051                 13          4976   \n",
            "99764                7          59                 53           342   \n",
            "101681               3          34                 26           190   \n",
            "109701             125         658                454          4479   \n",
            "115950               2         628                419          3291   \n",
            "128324               8         278                179          1550   \n",
            "131775              27         330                291          2463   \n",
            "134264              21         666                371          4108   \n",
            "149899              15         880                380          4916   \n",
            "\n",
            "        punctuation_count  uppercase_word_count  titlecase_word_count  \\\n",
            "24253                 214                    10                    68   \n",
            "44971                  40                     0                     0   \n",
            "72992                 504                   841                   168   \n",
            "74925                 579                   953                   191   \n",
            "99764                  28                     2                    21   \n",
            "101681                 19                     0                     8   \n",
            "109701                155                     7                   480   \n",
            "115950                 54                   625                   149   \n",
            "128324                 65                    12                    19   \n",
            "131775                152                     0                   317   \n",
            "134264                168                     9                    50   \n",
            "149899                126                     0                   136   \n",
            "\n",
            "        stopword_count  ...  predicted_multi-class_toxic_XGBoost  \\\n",
            "24253              328  ...                                    1   \n",
            "44971                8  ...                                    0   \n",
            "72992               84  ...                                    0   \n",
            "74925               95  ...                                    0   \n",
            "99764               14  ...                                    1   \n",
            "101681               1  ...                                    0   \n",
            "109701             158  ...                                    0   \n",
            "115950              34  ...                                    0   \n",
            "128324             136  ...                                    1   \n",
            "131775               4  ...                                    0   \n",
            "134264             306  ...                                    1   \n",
            "149899             393  ...                                    0   \n",
            "\n",
            "        predicted_multi-class_severe_toxic_XGBoost  \\\n",
            "24253                                            0   \n",
            "44971                                            0   \n",
            "72992                                            0   \n",
            "74925                                            0   \n",
            "99764                                            0   \n",
            "101681                                           0   \n",
            "109701                                           0   \n",
            "115950                                           0   \n",
            "128324                                           0   \n",
            "131775                                           0   \n",
            "134264                                           0   \n",
            "149899                                           0   \n",
            "\n",
            "        predicted_multi-class_obscene_XGBoost  \\\n",
            "24253                                       0   \n",
            "44971                                       0   \n",
            "72992                                       0   \n",
            "74925                                       0   \n",
            "99764                                       0   \n",
            "101681                                      0   \n",
            "109701                                      0   \n",
            "115950                                      0   \n",
            "128324                                      0   \n",
            "131775                                      0   \n",
            "134264                                      0   \n",
            "149899                                      0   \n",
            "\n",
            "       predicted_multi-class_threat_XGBoost  \\\n",
            "24253                                     0   \n",
            "44971                                     0   \n",
            "72992                                     0   \n",
            "74925                                     0   \n",
            "99764                                     0   \n",
            "101681                                    0   \n",
            "109701                                    0   \n",
            "115950                                    0   \n",
            "128324                                    0   \n",
            "131775                                    0   \n",
            "134264                                    0   \n",
            "149899                                    0   \n",
            "\n",
            "        predicted_multi-class_insult_XGBoost  \\\n",
            "24253                                      0   \n",
            "44971                                      0   \n",
            "72992                                      0   \n",
            "74925                                      0   \n",
            "99764                                      0   \n",
            "101681                                     0   \n",
            "109701                                     0   \n",
            "115950                                     0   \n",
            "128324                                     0   \n",
            "131775                                     0   \n",
            "134264                                     0   \n",
            "149899                                     1   \n",
            "\n",
            "        predicted_multi-class_identity_hate_XGBoost  \\\n",
            "24253                                             0   \n",
            "44971                                             0   \n",
            "72992                                             0   \n",
            "74925                                             0   \n",
            "99764                                             0   \n",
            "101681                                            0   \n",
            "109701                                            0   \n",
            "115950                                            0   \n",
            "128324                                            0   \n",
            "131775                                            0   \n",
            "134264                                            0   \n",
            "149899                                            0   \n",
            "\n",
            "        predicted_tags_Logistic_Regression  \\\n",
            "24253                                 None   \n",
            "44971                                 None   \n",
            "72992                                 None   \n",
            "74925                                 None   \n",
            "99764                                 None   \n",
            "101681                                None   \n",
            "109701                                None   \n",
            "115950                                None   \n",
            "128324                                None   \n",
            "131775                                None   \n",
            "134264                                None   \n",
            "149899                                None   \n",
            "\n",
            "                               predicted_tags_Naive_Bayes  \\\n",
            "24253                                                None   \n",
            "44971                         severe_toxic, identity_hate   \n",
            "72992   toxic, severe_toxic, obscene, threat, insult, ...   \n",
            "74925   toxic, severe_toxic, obscene, threat, insult, ...   \n",
            "99764                                                None   \n",
            "101681                             toxic, obscene, insult   \n",
            "109701  toxic, severe_toxic, obscene, insult, identity...   \n",
            "115950       severe_toxic, obscene, insult, identity_hate   \n",
            "128324                                               None   \n",
            "131775                                       severe_toxic   \n",
            "134264                                               None   \n",
            "149899                                               None   \n",
            "\n",
            "        predicted_tags_Random_Forest  predicted_tags_XGBoost  \n",
            "24253                           None                   toxic  \n",
            "44971                           None                    None  \n",
            "72992                           None                    None  \n",
            "74925                           None                    None  \n",
            "99764                           None                   toxic  \n",
            "101681                          None                    None  \n",
            "109701                          None                    None  \n",
            "115950                          None                    None  \n",
            "128324                          None                   toxic  \n",
            "131775                          None                    None  \n",
            "134264                          None                   toxic  \n",
            "149899                          None                  insult  \n",
            "\n",
            "[12 rows x 46 columns]\n"
          ]
        }
      ],
      "source": [
        "print(filtered_df)"
      ]
    }
  ],
  "metadata": {
    "kernelspec": {
      "display_name": "Python 3",
      "language": "python",
      "name": "python3"
    },
    "language_info": {
      "codemirror_mode": {
        "name": "ipython",
        "version": 3
      },
      "file_extension": ".py",
      "mimetype": "text/x-python",
      "name": "python",
      "nbconvert_exporter": "python",
      "pygments_lexer": "ipython3",
      "version": "3.13.1"
    },
    "colab": {
      "provenance": []
    }
  },
  "nbformat": 4,
  "nbformat_minor": 0
}