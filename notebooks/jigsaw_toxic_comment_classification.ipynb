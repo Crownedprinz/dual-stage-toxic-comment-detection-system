{
 "cells": [
  {
   "cell_type": "code",
   "execution_count": 18,
   "metadata": {},
   "outputs": [
    {
     "name": "stderr",
     "output_type": "stream",
     "text": [
      "Matplotlib is building the font cache; this may take a moment.\n"
     ]
    }
   ],
   "source": [
    "import pandas as pd \n",
    "import numpy as np\n",
    "import matplotlib.pyplot as plt\n",
    "import seaborn as sns"
   ]
  },
  {
   "cell_type": "code",
   "execution_count": 33,
   "metadata": {},
   "outputs": [],
   "source": [
    "import nltk\n",
    "from nltk.corpus import stopwords"
   ]
  },
  {
   "cell_type": "code",
   "execution_count": 34,
   "metadata": {},
   "outputs": [
    {
     "name": "stderr",
     "output_type": "stream",
     "text": [
      "[nltk_data] Downloading package stopwords to\n",
      "[nltk_data]     C:\\Users\\HOME\\AppData\\Roaming\\nltk_data...\n",
      "[nltk_data]   Unzipping corpora\\stopwords.zip.\n"
     ]
    },
    {
     "data": {
      "text/plain": [
       "True"
      ]
     },
     "execution_count": 34,
     "metadata": {},
     "output_type": "execute_result"
    }
   ],
   "source": [
    "nltk.download('stopwords')"
   ]
  },
  {
   "cell_type": "code",
   "execution_count": 11,
   "metadata": {},
   "outputs": [],
   "source": [
    "train_df = pd.read_csv(r\"F:\\PFW_CS_Course\\Semester 2\\dual-stage-toxic-comment-detection-system\\raw_data\\jigsaw-toxic-comment-classification-challenge\\train\\train.csv\")\n",
    "test_df = pd.read_csv(r\"F:\\PFW_CS_Course\\Semester 2\\dual-stage-toxic-comment-detection-system\\raw_data\\jigsaw-toxic-comment-classification-challenge\\test\\test.csv\")"
   ]
  },
  {
   "cell_type": "code",
   "execution_count": 12,
   "metadata": {},
   "outputs": [
    {
     "data": {
      "text/html": [
       "<div>\n",
       "<style scoped>\n",
       "    .dataframe tbody tr th:only-of-type {\n",
       "        vertical-align: middle;\n",
       "    }\n",
       "\n",
       "    .dataframe tbody tr th {\n",
       "        vertical-align: top;\n",
       "    }\n",
       "\n",
       "    .dataframe thead th {\n",
       "        text-align: right;\n",
       "    }\n",
       "</style>\n",
       "<table border=\"1\" class=\"dataframe\">\n",
       "  <thead>\n",
       "    <tr style=\"text-align: right;\">\n",
       "      <th></th>\n",
       "      <th>id</th>\n",
       "      <th>comment_text</th>\n",
       "      <th>toxic</th>\n",
       "      <th>severe_toxic</th>\n",
       "      <th>obscene</th>\n",
       "      <th>threat</th>\n",
       "      <th>insult</th>\n",
       "      <th>identity_hate</th>\n",
       "    </tr>\n",
       "  </thead>\n",
       "  <tbody>\n",
       "    <tr>\n",
       "      <th>0</th>\n",
       "      <td>0000997932d777bf</td>\n",
       "      <td>Explanation\\nWhy the edits made under my usern...</td>\n",
       "      <td>0</td>\n",
       "      <td>0</td>\n",
       "      <td>0</td>\n",
       "      <td>0</td>\n",
       "      <td>0</td>\n",
       "      <td>0</td>\n",
       "    </tr>\n",
       "    <tr>\n",
       "      <th>1</th>\n",
       "      <td>000103f0d9cfb60f</td>\n",
       "      <td>D'aww! He matches this background colour I'm s...</td>\n",
       "      <td>0</td>\n",
       "      <td>0</td>\n",
       "      <td>0</td>\n",
       "      <td>0</td>\n",
       "      <td>0</td>\n",
       "      <td>0</td>\n",
       "    </tr>\n",
       "    <tr>\n",
       "      <th>2</th>\n",
       "      <td>000113f07ec002fd</td>\n",
       "      <td>Hey man, I'm really not trying to edit war. It...</td>\n",
       "      <td>0</td>\n",
       "      <td>0</td>\n",
       "      <td>0</td>\n",
       "      <td>0</td>\n",
       "      <td>0</td>\n",
       "      <td>0</td>\n",
       "    </tr>\n",
       "    <tr>\n",
       "      <th>3</th>\n",
       "      <td>0001b41b1c6bb37e</td>\n",
       "      <td>\"\\nMore\\nI can't make any real suggestions on ...</td>\n",
       "      <td>0</td>\n",
       "      <td>0</td>\n",
       "      <td>0</td>\n",
       "      <td>0</td>\n",
       "      <td>0</td>\n",
       "      <td>0</td>\n",
       "    </tr>\n",
       "    <tr>\n",
       "      <th>4</th>\n",
       "      <td>0001d958c54c6e35</td>\n",
       "      <td>You, sir, are my hero. Any chance you remember...</td>\n",
       "      <td>0</td>\n",
       "      <td>0</td>\n",
       "      <td>0</td>\n",
       "      <td>0</td>\n",
       "      <td>0</td>\n",
       "      <td>0</td>\n",
       "    </tr>\n",
       "  </tbody>\n",
       "</table>\n",
       "</div>"
      ],
      "text/plain": [
       "                 id                                       comment_text  toxic  \\\n",
       "0  0000997932d777bf  Explanation\\nWhy the edits made under my usern...      0   \n",
       "1  000103f0d9cfb60f  D'aww! He matches this background colour I'm s...      0   \n",
       "2  000113f07ec002fd  Hey man, I'm really not trying to edit war. It...      0   \n",
       "3  0001b41b1c6bb37e  \"\\nMore\\nI can't make any real suggestions on ...      0   \n",
       "4  0001d958c54c6e35  You, sir, are my hero. Any chance you remember...      0   \n",
       "\n",
       "   severe_toxic  obscene  threat  insult  identity_hate  \n",
       "0             0        0       0       0              0  \n",
       "1             0        0       0       0              0  \n",
       "2             0        0       0       0              0  \n",
       "3             0        0       0       0              0  \n",
       "4             0        0       0       0              0  "
      ]
     },
     "execution_count": 12,
     "metadata": {},
     "output_type": "execute_result"
    }
   ],
   "source": [
    "train_df.head()"
   ]
  },
  {
   "cell_type": "code",
   "execution_count": 20,
   "metadata": {},
   "outputs": [
    {
     "name": "stdout",
     "output_type": "stream",
     "text": [
      "toxic             15294\n",
      "severe_toxic       1595\n",
      "obscene            8449\n",
      "threat              478\n",
      "insult             7877\n",
      "identity_hate      1405\n",
      "Label            143346\n",
      "dtype: int64\n"
     ]
    }
   ],
   "source": [
    "sum_labels=train_df.iloc[:,2:].sum()\n",
    "print(sum_labels)"
   ]
  },
  {
   "cell_type": "code",
   "execution_count": 14,
   "metadata": {},
   "outputs": [],
   "source": [
    "row_sum=train_df.iloc[:,2:].sum(axis=1)\n",
    "train_df['Label']=(row_sum==0)"
   ]
  },
  {
   "cell_type": "code",
   "execution_count": 15,
   "metadata": {},
   "outputs": [
    {
     "name": "stdout",
     "output_type": "stream",
     "text": [
      "id               0\n",
      "comment_text     0\n",
      "toxic            0\n",
      "severe_toxic     0\n",
      "obscene          0\n",
      "threat           0\n",
      "insult           0\n",
      "identity_hate    0\n",
      "Label            0\n",
      "dtype: int64\n"
     ]
    }
   ],
   "source": [
    "print(train_df.isnull().sum())"
   ]
  },
  {
   "cell_type": "code",
   "execution_count": 16,
   "metadata": {},
   "outputs": [
    {
     "name": "stdout",
     "output_type": "stream",
     "text": [
      "id              0\n",
      "comment_text    0\n",
      "dtype: int64\n"
     ]
    }
   ],
   "source": [
    "print(test_df.isnull().sum())"
   ]
  },
  {
   "cell_type": "code",
   "execution_count": 23,
   "metadata": {},
   "outputs": [
    {
     "data": {
      "image/png": "[encoded data removed]",
      "text/plain": [
       "<Figure size 800x400 with 1 Axes>"
      ]
     },
     "metadata": {},
     "output_type": "display_data"
    }
   ],
   "source": [
    "#plot\n",
    "plt.figure(figsize=(8,4))\n",
    "ax = sns.barplot(x=sum_labels.index, y=sum_labels.values, alpha=0.8)\n",
    "plt.title(\"# per class\")\n",
    "plt.ylabel('# of Occurrences', fontsize=12)\n",
    "plt.xlabel('Type ', fontsize=12)\n",
    "#adding the text labels\n",
    "rects = ax.patches\n",
    "labels = sum_labels.values\n",
    "for rect, label in zip(rects, labels):\n",
    "    height = rect.get_height()\n",
    "    ax.text(rect.get_x() + rect.get_width()/2, height + 5, label, ha='center', va='bottom')\n",
    "\n",
    "plt.show()"
   ]
  },
  {
   "cell_type": "code",
   "execution_count": 26,
   "metadata": {},
   "outputs": [
    {
     "data": {
      "image/png": "[encoded data removed]",
      "text/plain": [
       "<Figure size 800x400 with 1 Axes>"
      ]
     },
     "metadata": {},
     "output_type": "display_data"
    }
   ],
   "source": [
    "color = sns.color_palette()\n",
    "\n",
    "x=row_sum.value_counts()\n",
    "\n",
    "#plot\n",
    "plt.figure(figsize=(8,4))\n",
    "ax = sns.barplot(x=x.index, y=x.values, alpha=0.8,color=color[2])\n",
    "plt.title(\"Multiple tags per comment\")\n",
    "plt.ylabel('# of Occurrences', fontsize=12)\n",
    "plt.xlabel('# of tags ', fontsize=12)\n",
    "\n",
    "#adding the text labels\n",
    "rects = ax.patches\n",
    "labels = x.values\n",
    "for rect, label in zip(rects, labels):\n",
    "    height = rect.get_height()\n",
    "    ax.text(rect.get_x() + rect.get_width()/2, height + 5, label, ha='center', va='bottom')\n",
    "\n",
    "plt.show()"
   ]
  },
  {
   "cell_type": "code",
   "execution_count": 29,
   "metadata": {},
   "outputs": [
    {
     "data": {
      "text/html": [
       "<style type=\"text/css\">\n",
       "#T_ae713_row0_col1, #T_ae713_row0_col3, #T_ae713_row0_col5, #T_ae713_row0_col7, #T_ae713_row0_col9, #T_ae713_row1_col0, #T_ae713_row1_col2, #T_ae713_row1_col4, #T_ae713_row1_col6, #T_ae713_row1_col8 {\n",
       "  background-color: yellow;\n",
       "}\n",
       "</style>\n",
       "<table id=\"T_ae713\">\n",
       "  <thead>\n",
       "    <tr>\n",
       "      <th class=\"blank level0\" >&nbsp;</th>\n",
       "      <th id=\"T_ae713_level0_col0\" class=\"col_heading level0 col0\" colspan=\"2\">severe_toxic</th>\n",
       "      <th id=\"T_ae713_level0_col2\" class=\"col_heading level0 col2\" colspan=\"2\">obscene</th>\n",
       "      <th id=\"T_ae713_level0_col4\" class=\"col_heading level0 col4\" colspan=\"2\">threat</th>\n",
       "      <th id=\"T_ae713_level0_col6\" class=\"col_heading level0 col6\" colspan=\"2\">insult</th>\n",
       "      <th id=\"T_ae713_level0_col8\" class=\"col_heading level0 col8\" colspan=\"2\">identity_hate</th>\n",
       "    </tr>\n",
       "    <tr>\n",
       "      <th class=\"index_name level1\" >severe_toxic</th>\n",
       "      <th id=\"T_ae713_level1_col0\" class=\"col_heading level1 col0\" >0</th>\n",
       "      <th id=\"T_ae713_level1_col1\" class=\"col_heading level1 col1\" >1</th>\n",
       "      <th id=\"T_ae713_level1_col2\" class=\"col_heading level1 col2\" >0</th>\n",
       "      <th id=\"T_ae713_level1_col3\" class=\"col_heading level1 col3\" >1</th>\n",
       "      <th id=\"T_ae713_level1_col4\" class=\"col_heading level1 col4\" >0</th>\n",
       "      <th id=\"T_ae713_level1_col5\" class=\"col_heading level1 col5\" >1</th>\n",
       "      <th id=\"T_ae713_level1_col6\" class=\"col_heading level1 col6\" >0</th>\n",
       "      <th id=\"T_ae713_level1_col7\" class=\"col_heading level1 col7\" >1</th>\n",
       "      <th id=\"T_ae713_level1_col8\" class=\"col_heading level1 col8\" >0</th>\n",
       "      <th id=\"T_ae713_level1_col9\" class=\"col_heading level1 col9\" >1</th>\n",
       "    </tr>\n",
       "    <tr>\n",
       "      <th class=\"index_name level0\" >toxic</th>\n",
       "      <th class=\"blank col0\" >&nbsp;</th>\n",
       "      <th class=\"blank col1\" >&nbsp;</th>\n",
       "      <th class=\"blank col2\" >&nbsp;</th>\n",
       "      <th class=\"blank col3\" >&nbsp;</th>\n",
       "      <th class=\"blank col4\" >&nbsp;</th>\n",
       "      <th class=\"blank col5\" >&nbsp;</th>\n",
       "      <th class=\"blank col6\" >&nbsp;</th>\n",
       "      <th class=\"blank col7\" >&nbsp;</th>\n",
       "      <th class=\"blank col8\" >&nbsp;</th>\n",
       "      <th class=\"blank col9\" >&nbsp;</th>\n",
       "    </tr>\n",
       "  </thead>\n",
       "  <tbody>\n",
       "    <tr>\n",
       "      <th id=\"T_ae713_level0_row0\" class=\"row_heading level0 row0\" >0</th>\n",
       "      <td id=\"T_ae713_row0_col0\" class=\"data row0 col0\" >144277</td>\n",
       "      <td id=\"T_ae713_row0_col1\" class=\"data row0 col1\" >0</td>\n",
       "      <td id=\"T_ae713_row0_col2\" class=\"data row0 col2\" >143754</td>\n",
       "      <td id=\"T_ae713_row0_col3\" class=\"data row0 col3\" >523</td>\n",
       "      <td id=\"T_ae713_row0_col4\" class=\"data row0 col4\" >144248</td>\n",
       "      <td id=\"T_ae713_row0_col5\" class=\"data row0 col5\" >29</td>\n",
       "      <td id=\"T_ae713_row0_col6\" class=\"data row0 col6\" >143744</td>\n",
       "      <td id=\"T_ae713_row0_col7\" class=\"data row0 col7\" >533</td>\n",
       "      <td id=\"T_ae713_row0_col8\" class=\"data row0 col8\" >144174</td>\n",
       "      <td id=\"T_ae713_row0_col9\" class=\"data row0 col9\" >103</td>\n",
       "    </tr>\n",
       "    <tr>\n",
       "      <th id=\"T_ae713_level0_row1\" class=\"row_heading level0 row1\" >1</th>\n",
       "      <td id=\"T_ae713_row1_col0\" class=\"data row1 col0\" >13699</td>\n",
       "      <td id=\"T_ae713_row1_col1\" class=\"data row1 col1\" >1595</td>\n",
       "      <td id=\"T_ae713_row1_col2\" class=\"data row1 col2\" >7368</td>\n",
       "      <td id=\"T_ae713_row1_col3\" class=\"data row1 col3\" >7926</td>\n",
       "      <td id=\"T_ae713_row1_col4\" class=\"data row1 col4\" >14845</td>\n",
       "      <td id=\"T_ae713_row1_col5\" class=\"data row1 col5\" >449</td>\n",
       "      <td id=\"T_ae713_row1_col6\" class=\"data row1 col6\" >7950</td>\n",
       "      <td id=\"T_ae713_row1_col7\" class=\"data row1 col7\" >7344</td>\n",
       "      <td id=\"T_ae713_row1_col8\" class=\"data row1 col8\" >13992</td>\n",
       "      <td id=\"T_ae713_row1_col9\" class=\"data row1 col9\" >1302</td>\n",
       "    </tr>\n",
       "  </tbody>\n",
       "</table>\n"
      ],
      "text/plain": [
       "<pandas.io.formats.style.Styler at 0x1e10d058d70>"
      ]
     },
     "execution_count": 29,
     "metadata": {},
     "output_type": "execute_result"
    }
   ],
   "source": [
    "temp_df=train_df.iloc[:,2:-1]\n",
    "\n",
    "# https://pandas.pydata.org/pandas-docs/stable/style.html\n",
    "def highlight_min(data, color='yellow'):\n",
    "    '''\n",
    "    highlight the maximum in a Series or DataFrame\n",
    "    '''\n",
    "    attr = 'background-color: {}'.format(color)\n",
    "    if data.ndim == 1:  # Series from .apply(axis=0) or axis=1\n",
    "        is_min = data == data.min()\n",
    "        return [attr if v else '' for v in is_min]\n",
    "    else:  # from .apply(axis=None)\n",
    "        is_max = data == data.min().min()\n",
    "        return pd.DataFrame(np.where(is_min, attr, ''),\n",
    "                            index=data.index, columns=data.columns)\n",
    "        \n",
    "#Crosstab\n",
    "# Since technically a crosstab between all 6 classes is impossible to vizualize, lets take a \n",
    "# look at toxic with other tags\n",
    "main_col=\"toxic\"\n",
    "corr_mats=[]\n",
    "for other_col in temp_df.columns[1:]:\n",
    "    confusion_matrix = pd.crosstab(temp_df[main_col], temp_df[other_col])\n",
    "    corr_mats.append(confusion_matrix)\n",
    "out = pd.concat(corr_mats,axis=1,keys=temp_df.columns[1:])\n",
    "\n",
    "#cell highlighting\n",
    "out = out.style.apply(highlight_min,axis=0)\n",
    "out"
   ]
  },
  {
   "cell_type": "code",
   "execution_count": 43,
   "metadata": {},
   "outputs": [],
   "source": [
    "stopwords = set(stopwords.words('english'))"
   ]
  },
  {
   "cell_type": "code",
   "execution_count": 38,
   "metadata": {},
   "outputs": [],
   "source": [
    "combined_df = pd.concat([train_df.iloc[:, :2], test_df.iloc[:, :2]], axis=0)\n",
    "df = combined_df.reset_index(drop=True)"
   ]
  },
  {
   "cell_type": "code",
   "execution_count": 41,
   "metadata": {},
   "outputs": [],
   "source": [
    "import string"
   ]
  },
  {
   "cell_type": "code",
   "execution_count": 44,
   "metadata": {},
   "outputs": [
    {
     "name": "stderr",
     "output_type": "stream",
     "text": [
      "c:\\Users\\HOME\\AppData\\Local\\Programs\\Python\\Python313\\Lib\\site-packages\\numpy\\_core\\fromnumeric.py:3860: RuntimeWarning: Mean of empty slice.\n",
      "  return _methods._mean(a, axis=axis, dtype=dtype,\n",
      "c:\\Users\\HOME\\AppData\\Local\\Programs\\Python\\Python313\\Lib\\site-packages\\numpy\\_core\\_methods.py:145: RuntimeWarning: invalid value encountered in scalar divide\n",
      "  ret = ret.dtype.type(ret / rcount)\n"
     ]
    }
   ],
   "source": [
    "# Indirect Textual Features\n",
    "\n",
    "# Count sentences based on newline characters in each comment\n",
    "df['sentence_count'] = df['comment_text'].apply(lambda text: str(text).count('\\n') + 1)\n",
    "\n",
    "# Count total words in each comment\n",
    "df['word_count'] = df['comment_text'].apply(lambda text: len(str(text).split()))\n",
    "\n",
    "# Count unique words in each comment\n",
    "df['unique_word_count'] = df['comment_text'].apply(lambda text: len(set(str(text).split())))\n",
    "\n",
    "# Count total letters (characters) in each comment\n",
    "df['letter_count'] = df['comment_text'].apply(lambda text: len(str(text)))\n",
    "\n",
    "# Count punctuation marks in each comment\n",
    "df['punctuation_count'] = df['comment_text'].apply(\n",
    "    lambda text: sum(1 for char in str(text) if char in string.punctuation)\n",
    ")\n",
    "\n",
    "# Count uppercase words in each comment\n",
    "df['uppercase_word_count'] = df['comment_text'].apply(\n",
    "    lambda text: sum(1 for word in str(text).split() if word.isupper())\n",
    ")\n",
    "\n",
    "# Count title-case words in each comment\n",
    "df['titlecase_word_count'] = df['comment_text'].apply(\n",
    "    lambda text: sum(1 for word in str(text).split() if word.istitle())\n",
    ")\n",
    "\n",
    "# Count stopwords in each comment\n",
    "df['stopword_count'] = df['comment_text'].apply(\n",
    "    lambda text: sum(1 for word in str(text).lower().split() if word in stopwords)\n",
    ")\n",
    "\n",
    "# Calculate average word length in each comment\n",
    "df['avg_word_length'] = df['comment_text'].apply(\n",
    "    lambda text: np.mean([len(word) for word in str(text).split()]) if text else 0\n",
    ")"
   ]
  },
  {
   "cell_type": "code",
   "execution_count": 45,
   "metadata": {},
   "outputs": [
    {
     "name": "stdout",
     "output_type": "stream",
     "text": [
      "                      id                                       comment_text  \\\n",
      "0       0000997932d777bf  Explanation\\nWhy the edits made under my usern...   \n",
      "1       000103f0d9cfb60f  D'aww! He matches this background colour I'm s...   \n",
      "2       000113f07ec002fd  Hey man, I'm really not trying to edit war. It...   \n",
      "3       0001b41b1c6bb37e  \"\\nMore\\nI can't make any real suggestions on ...   \n",
      "4       0001d958c54c6e35  You, sir, are my hero. Any chance you remember...   \n",
      "...                  ...                                                ...   \n",
      "312730  fffcd0960ee309b5  . \\n i totally agree, this stuff is nothing bu...   \n",
      "312731  fffd7a9a6eb32c16  == Throw from out field to home plate. == \\n\\n...   \n",
      "312732  fffda9e8d6fafa9e  \" \\n\\n == Okinotorishima categories == \\n\\n I ...   \n",
      "312733  fffe8f1340a79fc2  \" \\n\\n == \"\"One of the founding nations of the...   \n",
      "312734  ffffce3fb183ee80  \" \\n :::Stop already. Your bullshit is not wel...   \n",
      "\n",
      "        sentence_count  word_count  unique_word_count  letter_count  \\\n",
      "0                    2          43                 41           264   \n",
      "1                    1          17                 17           112   \n",
      "2                    1          42                 39           233   \n",
      "3                    5         113                 82           622   \n",
      "4                    1          13                 13            67   \n",
      "...                ...         ...                ...           ...   \n",
      "312730               2          10                 10            60   \n",
      "312731               5          38                 32           198   \n",
      "312732               9          64                 51           423   \n",
      "312733               5          89                 66           502   \n",
      "312734               2          26                 24           141   \n",
      "\n",
      "        punctuation_count  uppercase_word_count  titlecase_word_count  \\\n",
      "0                      10                     2                    11   \n",
      "1                      12                     1                     3   \n",
      "2                       6                     0                     2   \n",
      "3                      21                     5                     7   \n",
      "4                       5                     0                     2   \n",
      "...                   ...                   ...                   ...   \n",
      "312730                  4                     0                     0   \n",
      "312731                  7                     0                     5   \n",
      "312732                 36                     3                     7   \n",
      "312733                 32                     2                    14   \n",
      "312734                 11                     0                     2   \n",
      "\n",
      "        stopword_count  avg_word_length  \n",
      "0                   19         5.162791  \n",
      "1                    3         5.588235  \n",
      "2                   21         4.571429  \n",
      "3                   56         4.486726  \n",
      "4                    5         4.230769  \n",
      "...                ...              ...  \n",
      "312730               4         4.900000  \n",
      "312731              18         4.052632  \n",
      "312732              26         5.343750  \n",
      "312733              35         4.584270  \n",
      "312734              11         4.269231  \n",
      "\n",
      "[312735 rows x 11 columns]\n"
     ]
    }
   ],
   "source": [
    "print(df)"
   ]
  },
  {
   "cell_type": "code",
   "execution_count": 48,
   "metadata": {},
   "outputs": [],
   "source": [
    "# Calculating the percentage of unique words per comment\n",
    "df['unique_word_ratio'] = (df['unique_word_count'] / df['word_count']) * 100\n",
    "\n",
    "# Calculating the percentage of punctuation marks per comment\n",
    "df['punctuation_ratio'] = (df['punctuation_count'] / df['word_count']) * 100\n"
   ]
  },
  {
   "cell_type": "code",
   "execution_count": null,
   "metadata": {},
   "outputs": [],
   "source": [
    "# Splitting dataset into training and testing feature sets\n",
    "train_data_features = df[:train_df.shape[0]].reset_index(drop=True)\n",
    "test_data_features = df[train_df.shape[0]:].reset_index(drop=True)\n",
    "\n",
    "\n",
    "# Extracting labels from the training data\n",
    "label_columns = train_df.iloc[:, 2:].reset_index(drop=True)\n",
    "\n",
    "# Combining training features and labels into a single DataFrame\n",
    "combined_training_data = pd.concat([train_data_features, label_columns], axis=1)\n",
    "combined_testing_data = \n"
   ]
  },
  {
   "cell_type": "code",
   "execution_count": 59,
   "metadata": {},
   "outputs": [
    {
     "name": "stdout",
     "output_type": "stream",
     "text": [
      "                      id                                       comment_text  \\\n",
      "0       0000997932d777bf  Explanation\\nWhy the edits made under my usern...   \n",
      "1       000103f0d9cfb60f  D'aww! He matches this background colour I'm s...   \n",
      "2       000113f07ec002fd  Hey man, I'm really not trying to edit war. It...   \n",
      "3       0001b41b1c6bb37e  \"\\nMore\\nI can't make any real suggestions on ...   \n",
      "4       0001d958c54c6e35  You, sir, are my hero. Any chance you remember...   \n",
      "...                  ...                                                ...   \n",
      "159566  ffe987279560d7ff  \":::::And for the second time of asking, when ...   \n",
      "159567  ffea4adeee384e90  You should be ashamed of yourself \\n\\nThat is ...   \n",
      "159568  ffee36eab5c267c9  Spitzer \\n\\nUmm, theres no actual article for ...   \n",
      "159569  fff125370e4aaaf3  And it looks like it was actually you who put ...   \n",
      "159570  fff46fc426af1f9a  \"\\nAnd ... I really don't think you understand...   \n",
      "\n",
      "        sentence_count  word_count  unique_word_count  letter_count  \\\n",
      "0                    2          43                 41           264   \n",
      "1                    1          17                 17           112   \n",
      "2                    1          42                 39           233   \n",
      "3                    5         113                 82           622   \n",
      "4                    1          13                 13            67   \n",
      "...                ...         ...                ...           ...   \n",
      "159566               3          47                 44           295   \n",
      "159567               3          18                 18            99   \n",
      "159568               3          12                 12            81   \n",
      "159569               1          25                 23           116   \n",
      "159570               2          36                 32           189   \n",
      "\n",
      "        punctuation_count  uppercase_word_count  titlecase_word_count  \\\n",
      "0                      10                     2                    11   \n",
      "1                      12                     1                     3   \n",
      "2                       6                     0                     2   \n",
      "3                      21                     5                     7   \n",
      "4                       5                     0                     2   \n",
      "...                   ...                   ...                   ...   \n",
      "159566                 18                     0                     2   \n",
      "159567                  4                     0                     2   \n",
      "159568                  4                     0                     4   \n",
      "159569                  1                     1                     2   \n",
      "159570                 14                     2                     4   \n",
      "\n",
      "        stopword_count  avg_word_length  unique_word_ratio  punctuation_ratio  \n",
      "0                   19         5.162791          95.348837          23.255814  \n",
      "1                    3         5.588235         100.000000          70.588235  \n",
      "2                   21         4.571429          92.857143          14.285714  \n",
      "3                   56         4.486726          72.566372          18.584071  \n",
      "4                    5         4.230769         100.000000          38.461538  \n",
      "...                ...              ...                ...                ...  \n",
      "159566              19         5.212766          93.617021          38.297872  \n",
      "159567              11         4.388889         100.000000          22.222222  \n",
      "159568               2         5.583333         100.000000          33.333333  \n",
      "159569              15         3.680000          92.000000           4.000000  \n",
      "159570              13         4.166667          88.888889          38.888889  \n",
      "\n",
      "[159571 rows x 13 columns]\n"
     ]
    }
   ],
   "source": [
    "\n",
    "print(train_data_features)"
   ]
  },
  {
   "cell_type": "code",
   "execution_count": 61,
   "metadata": {},
   "outputs": [
    {
     "name": "stdout",
     "output_type": "stream",
     "text": [
      "                 id                                       comment_text  \\\n",
      "0  00001cee341fdb12  Yo bitch Ja Rule is more succesful then you'll...   \n",
      "1  0000247867823ef7  == From RfC == \\n\\n The title is fine as it is...   \n",
      "2  00013b17ad220c46  \" \\n\\n == Sources == \\n\\n * Zawe Ashton on Lap...   \n",
      "3  00017563c3f7919a  :If you have a look back at the source, the in...   \n",
      "4  00017695ad8997eb          I don't anonymously edit articles at all.   \n",
      "\n",
      "   sentence_count  word_count  unique_word_count  letter_count  \\\n",
      "0               1          72                 61           367   \n",
      "1               3          12                 11            50   \n",
      "2               5          12                 10            54   \n",
      "3               1          38                 30           205   \n",
      "4               1           7                  7            41   \n",
      "\n",
      "   punctuation_count  uppercase_word_count  titlecase_word_count  \\\n",
      "0                 12                     0                     4   \n",
      "1                  6                     1                     2   \n",
      "2                  8                     0                     4   \n",
      "3                  6                     3                     4   \n",
      "4                  2                     1                     1   \n",
      "\n",
      "   stopword_count  avg_word_length  unique_word_ratio  punctuation_ratio  \n",
      "0              26         4.111111          84.722222          16.666667  \n",
      "1               5         3.000000          91.666667          50.000000  \n",
      "2               1         2.916667          83.333333          66.666667  \n",
      "3              22         4.421053          78.947368          15.789474  \n",
      "4               3         5.000000         100.000000          28.571429  \n"
     ]
    }
   ],
   "source": [
    "\n",
    "print(test_data_features.head())"
   ]
  },
  {
   "cell_type": "code",
   "execution_count": 62,
   "metadata": {},
   "outputs": [
    {
     "name": "stdout",
     "output_type": "stream",
     "text": [
      "                 id                                       comment_text  \\\n",
      "0  0000997932d777bf  Explanation\\nWhy the edits made under my usern...   \n",
      "1  000103f0d9cfb60f  D'aww! He matches this background colour I'm s...   \n",
      "2  000113f07ec002fd  Hey man, I'm really not trying to edit war. It...   \n",
      "3  0001b41b1c6bb37e  \"\\nMore\\nI can't make any real suggestions on ...   \n",
      "4  0001d958c54c6e35  You, sir, are my hero. Any chance you remember...   \n",
      "\n",
      "   sentence_count  word_count  unique_word_count  letter_count  \\\n",
      "0               2          43                 41           264   \n",
      "1               1          17                 17           112   \n",
      "2               1          42                 39           233   \n",
      "3               5         113                 82           622   \n",
      "4               1          13                 13            67   \n",
      "\n",
      "   punctuation_count  uppercase_word_count  titlecase_word_count  \\\n",
      "0                 10                     2                    11   \n",
      "1                 12                     1                     3   \n",
      "2                  6                     0                     2   \n",
      "3                 21                     5                     7   \n",
      "4                  5                     0                     2   \n",
      "\n",
      "   stopword_count  ...  unique_word_ratio  punctuation_ratio  toxic  \\\n",
      "0              19  ...          95.348837          23.255814      0   \n",
      "1               3  ...         100.000000          70.588235      0   \n",
      "2              21  ...          92.857143          14.285714      0   \n",
      "3              56  ...          72.566372          18.584071      0   \n",
      "4               5  ...         100.000000          38.461538      0   \n",
      "\n",
      "   severe_toxic  obscene  threat  insult  identity_hate  Label  \\\n",
      "0             0        0       0       0              0   True   \n",
      "1             0        0       0       0              0   True   \n",
      "2             0        0       0       0              0   True   \n",
      "3             0        0       0       0              0   True   \n",
      "4             0        0       0       0              0   True   \n",
      "\n",
      "                                       clean_comment  \n",
      "0  explanation edits made username hardcore metal...  \n",
      "1  daww matches background colour im seemingly st...  \n",
      "2  hey man im really trying edit war guy constant...  \n",
      "3  cant make real suggestions improvement wondere...  \n",
      "4                sir hero chance remember page thats  \n",
      "\n",
      "[5 rows x 21 columns]\n"
     ]
    }
   ],
   "source": [
    "print(combined_training_data.head())"
   ]
  },
  {
   "cell_type": "code",
   "execution_count": 54,
   "metadata": {},
   "outputs": [],
   "source": [
    "import re\n",
    "\n",
    "def preprocess_text(text):\n",
    "    # Lowercase\n",
    "    text = text.lower()\n",
    "    # Remove punctuation and numbers\n",
    "    text = re.sub(r'[^a-z\\s]', '', text)\n",
    "    # Remove extra spaces\n",
    "    text = re.sub(r'\\s+', ' ', text).strip()\n",
    "    # Remove stopwords\n",
    "    text = ' '.join([word for word in text.split() if word not in stopwords])\n",
    "    return text\n",
    "\n",
    "# Apply preprocessing\n",
    "train_df['clean_comment'] = train_df['comment_text'].apply(preprocess_text)\n",
    "test_df['clean_comment'] = test_df['comment_text'].apply(preprocess_text)"
   ]
  },
  {
   "cell_type": "code",
   "execution_count": null,
   "metadata": {},
   "outputs": [],
   "source": [
    "from sklearn.feature_extraction.text import TfidfVectorizer\n",
    "\n",
    "\n",
    "tfidf = TfidfVectorizer(max_features=15000, stop_words='english')\n",
    "\n",
    "X_train_tfidf = tfidf.fit_transform(train_df['clean_comment'])\n",
    "X_test_tfidf = tfidf.transform(test_df['clean_comment'])"
   ]
  }
 ],
 "metadata": {
  "kernelspec": {
   "display_name": "Python 3",
   "language": "python",
   "name": "python3"
  },
  "language_info": {
   "codemirror_mode": {
    "name": "ipython",
    "version": 3
   },
   "file_extension": ".py",
   "mimetype": "text/x-python",
   "name": "python",
   "nbconvert_exporter": "python",
   "pygments_lexer": "ipython3",
   "version": "3.13.1"
  }
 },
 "nbformat": 4,
 "nbformat_minor": 2
}
